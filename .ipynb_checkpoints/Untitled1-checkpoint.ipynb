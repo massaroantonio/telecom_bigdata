{
 "cells": [
  {
   "cell_type": "code",
   "execution_count": 4,
   "metadata": {
    "collapsed": true
   },
   "outputs": [],
   "source": [
    "from datetime import datetime, timedelta\n",
    "import numpy as np\n",
    "import matplotlib.pyplot as plt\n",
    "import os\n",
    "from sklearn.ensemble import RandomForestClassifier,AdaBoostClassifier,BaggingClassifier,GradientBoostingClassifier\n",
    "from sklearn.metrics import classification_report,accuracy_score,confusion_matrix\n",
    "from sklearn.cross_validation import train_test_split\n",
    "from sklearn import tree\n",
    "import getfeat\n",
    "%matplotlib inline"
   ]
  },
  {
   "cell_type": "code",
   "execution_count": 2,
   "metadata": {
    "collapsed": false
   },
   "outputs": [],
   "source": [
    "f=open('report_acc_2','r')\n",
    "r=[]\n",
    "for l in f:\n",
    "    l=l.split(';')\n",
    "    r.append(l[3])"
   ]
  },
  {
   "cell_type": "code",
   "execution_count": 3,
   "metadata": {
    "collapsed": false
   },
   "outputs": [
    {
     "data": {
      "text/plain": [
       "{'[[0, 1, 2, 3, 4, 5, 6, 7, 8, 9], [10, 11, 12, 13, 14, 15, 16, 17, 18, 19, 20]]',\n",
       " '[[0, 1, 2, 3, 4, 5, 6, 7], [8, 9, 10, 11, 12, 13, 14], [15, 16, 17, 18, 19, 20, 21, 22, 23]]',\n",
       " '[[0, 1, 2, 3, 4, 5, 6], [7, 8, 9, 10, 11, 12, 13, 14, 15, 16, 17]]',\n",
       " '[[0, 1, 2, 3, 4, 5], [6, 7, 8, 9, 10, 11, 12, 13, 14]]',\n",
       " '[[0, 1, 2, 3, 4, 5], [6, 7, 8, 9, 10, 11, 12], [13, 14, 15, 16, 17, 18, 19, 20]]',\n",
       " '[[0, 1, 2, 3, 4, 5], [6, 7, 8, 9, 10, 11], [12, 13, 14, 15, 16, 17, 18], [19, 20, 21, 22, 23, 24, 25, 26, 27]]',\n",
       " '[[0, 1, 2, 3, 4], [5, 6, 7, 8, 9], [10, 11, 12, 13, 14, 15, 16, 17]]',\n",
       " '[[0, 1, 2, 3, 4], [5, 6, 7, 8], [9, 10, 11, 12, 13, 14, 15], [16, 17, 18, 19, 20, 21]]',\n",
       " '[[0, 1, 2, 3], [4, 5, 6, 7, 8, 9]]',\n",
       " '[[0, 1, 2, 3], [4, 5, 6, 7, 8], [9, 10, 11, 12, 13, 14]]',\n",
       " '[[0, 1, 2, 3], [4, 5, 6], [7, 8, 9, 10, 11], [12, 13, 14, 15, 16, 17]]',\n",
       " '[[0, 1, 2], [3, 4, 5, 6]]',\n",
       " '[[0, 1, 2], [3, 4, 5], [6, 7, 8, 9, 10]]',\n",
       " '[[0, 1, 2], [3, 4, 5], [6, 7, 8, 9], [10, 11, 12, 13, 14]]',\n",
       " '[[0, 1], [2, 3], [4, 5, 6], [7, 8, 9, 10]]',\n",
       " '[[0, 1], [2, 3]]',\n",
       " '[[0], [1, 2], [3, 4]]',\n",
       " '[[0], [1], [2, 3], [4, 5]]',\n",
       " 'risk_bands'}"
      ]
     },
     "execution_count": 3,
     "metadata": {},
     "output_type": "execute_result"
    }
   ],
   "source": [
    "set(r)"
   ]
  },
  {
   "cell_type": "code",
   "execution_count": 126,
   "metadata": {
    "collapsed": false
   },
   "outputs": [
    {
     "data": {
      "text/plain": [
       "233"
      ]
     },
     "execution_count": 126,
     "metadata": {},
     "output_type": "execute_result"
    }
   ],
   "source": [
    "len(r)"
   ]
  },
  {
   "cell_type": "code",
   "execution_count": 127,
   "metadata": {
    "collapsed": false
   },
   "outputs": [
    {
     "name": "stdout",
     "output_type": "stream",
     "text": [
      "n_classf;name_classf;h_aggregation;risk_bands;features;avg_distance_from_true;std_distance_from_true;accuracy;recalls;precisions\n",
      "\n"
     ]
    }
   ],
   "source": [
    "f=open('report_acc_2','r')\n",
    "for l in f:\n",
    "    print(l)\n",
    "    break"
   ]
  },
  {
   "cell_type": "code",
   "execution_count": 180,
   "metadata": {
    "collapsed": true
   },
   "outputs": [],
   "source": [
    "f=open('report_acc_2','r')\n",
    "r=[]\n",
    "for l in f:\n",
    "    l=l.split(';')\n",
    "    r.append(l[7])"
   ]
  },
  {
   "cell_type": "code",
   "execution_count": 181,
   "metadata": {
    "collapsed": false
   },
   "outputs": [],
   "source": [
    "S=[]\n",
    "for x in r[1:]:\n",
    "        x=x[1:-1].split(',')\n",
    "        s=0\n",
    "        for xx in x:\n",
    "            s+=float(xx)\n",
    "        S.append(s/float(len(x)))\n",
    "\n",
    "            "
   ]
  },
  {
   "cell_type": "code",
   "execution_count": 182,
   "metadata": {
    "collapsed": false
   },
   "outputs": [
    {
     "data": {
      "text/plain": [
       "648"
      ]
     },
     "execution_count": 182,
     "metadata": {},
     "output_type": "execute_result"
    }
   ],
   "source": [
    "len(S)"
   ]
  },
  {
   "cell_type": "code",
   "execution_count": 186,
   "metadata": {
    "collapsed": false
   },
   "outputs": [
    {
     "data": {
      "image/png": "[encoded data removed]",
      "text/plain": [
       "<matplotlib.figure.Figure at 0x7fd7afc3e1d0>"
      ]
     },
     "metadata": {},
     "output_type": "display_data"
    }
   ],
   "source": [
    "plt.plot(S,'o')\n",
    "plt.gcf().set_size_inches(18, 10)\n",
    "plt.grid()\n",
    "plt.show()"
   ]
  },
  {
   "cell_type": "code",
   "execution_count": 52,
   "metadata": {
    "collapsed": true
   },
   "outputs": [],
   "source": [
    "n_feat_selection=[5]+[i*20 for i in range(1,5)]+[100+i*40 for i in range(200/40)]+[300+i*60 for i in range(300/60)]+[600+250*i for i in range(500/250)]+[1321]\n"
   ]
  },
  {
   "cell_type": "code",
   "execution_count": 53,
   "metadata": {
    "collapsed": false
   },
   "outputs": [
    {
     "data": {
      "text/plain": [
       "[5,\n",
       " 20,\n",
       " 40,\n",
       " 60,\n",
       " 80,\n",
       " 100,\n",
       " 140,\n",
       " 180,\n",
       " 220,\n",
       " 260,\n",
       " 300,\n",
       " 360,\n",
       " 420,\n",
       " 480,\n",
       " 540,\n",
       " 600,\n",
       " 850,\n",
       " 1321]"
      ]
     },
     "execution_count": 53,
     "metadata": {},
     "output_type": "execute_result"
    }
   ],
   "source": [
    "n_feat_selection"
   ]
  },
  {
   "cell_type": "code",
   "execution_count": 154,
   "metadata": {
    "collapsed": true
   },
   "outputs": [],
   "source": [
    "n_feat_selection=[5]+[i*40 for i in range(1,2)]+[100+i*50 for i in range(200/50)]+[300+i*100 for i in range(300/100)]+[600+250*i for i in range(500/250)]+[1321]"
   ]
  },
  {
   "cell_type": "code",
   "execution_count": 155,
   "metadata": {
    "collapsed": false
   },
   "outputs": [
    {
     "data": {
      "text/plain": [
       "[5, 40, 100, 150, 200, 250, 300, 400, 500, 600, 850, 1321]"
      ]
     },
     "execution_count": 155,
     "metadata": {},
     "output_type": "execute_result"
    }
   ],
   "source": [
    "n_feat_selection"
   ]
  },
  {
   "cell_type": "code",
   "execution_count": null,
   "metadata": {
    "collapsed": true
   },
   "outputs": [],
   "source": []
  },
  {
   "cell_type": "code",
   "execution_count": 24,
   "metadata": {
    "collapsed": true
   },
   "outputs": [],
   "source": [
    "partitions1=[[[0],[1],[2,3],[4,5]],\n",
    "             [[0],[1,2],[3,4]],\n",
    "             [[0,1],[2,3]]\n",
    "            ]\n",
    "Partitions=[partitions1]\n",
    "for j in [2,3,4,5,6]:\n",
    "    Q=getfeat.get_composed_feat_h(j)\n",
    "    Y=Q[1]\n",
    "    H=np.histogram(Y,list(range(int(max(Y))+1)))\n",
    "    partitions=[] \n",
    "    for D in [5,4,3]:\n",
    "        start=0\n",
    "        partition=[]\n",
    "        for c in range(D-1):\n",
    "            s=0\n",
    "            for i in range(start,len(H[0])):\n",
    "                s+=H[0][i]\n",
    "                if s>len(Y)/float(D):\n",
    "                    break\n",
    "            partition.append(list(range(start,i+1)))\n",
    "            start=i+1\n",
    "        partitions.append(partition)\n",
    "    Partitions.append(partitions)"
   ]
  },
  {
   "cell_type": "code",
   "execution_count": 25,
   "metadata": {
    "collapsed": false
   },
   "outputs": [
    {
     "name": "stdout",
     "output_type": "stream",
     "text": [
      "[[0], [1], [2, 3], [4, 5]]\n",
      "-------------------\n",
      "[[0], [1, 2], [3, 4]]\n",
      "-------------------\n",
      "[[0, 1], [2, 3]]\n",
      "-------------------\n",
      "*************\n",
      "[[0, 1], [2, 3], [4, 5, 6], [7, 8, 9, 10]]\n",
      "-------------------\n",
      "[[0, 1, 2], [3, 4, 5], [6, 7, 8, 9, 10]]\n",
      "-------------------\n",
      "[[0, 1, 2], [3, 4, 5, 6]]\n",
      "-------------------\n",
      "*************\n",
      "[[0, 1, 2], [3, 4, 5], [6, 7, 8, 9], [10, 11, 12, 13, 14]]\n",
      "-------------------\n",
      "[[0, 1, 2, 3], [4, 5, 6, 7, 8], [9, 10, 11, 12, 13, 14]]\n",
      "-------------------\n",
      "[[0, 1, 2, 3], [4, 5, 6, 7, 8, 9]]\n",
      "-------------------\n",
      "*************\n",
      "[[0, 1, 2, 3], [4, 5, 6], [7, 8, 9, 10, 11], [12, 13, 14, 15, 16, 17]]\n",
      "-------------------\n",
      "[[0, 1, 2, 3, 4], [5, 6, 7, 8, 9], [10, 11, 12, 13, 14, 15, 16, 17]]\n",
      "-------------------\n",
      "[[0, 1, 2, 3, 4, 5], [6, 7, 8, 9, 10, 11, 12, 13, 14]]\n",
      "-------------------\n",
      "*************\n",
      "[[0, 1, 2, 3, 4], [5, 6, 7, 8], [9, 10, 11, 12, 13, 14, 15], [16, 17, 18, 19, 20, 21]]\n",
      "-------------------\n",
      "[[0, 1, 2, 3, 4, 5], [6, 7, 8, 9, 10, 11, 12], [13, 14, 15, 16, 17, 18, 19, 20]]\n",
      "-------------------\n",
      "[[0, 1, 2, 3, 4, 5, 6], [7, 8, 9, 10, 11, 12, 13, 14, 15, 16, 17]]\n",
      "-------------------\n",
      "*************\n",
      "[[0, 1, 2, 3, 4, 5], [6, 7, 8, 9, 10, 11], [12, 13, 14, 15, 16, 17, 18], [19, 20, 21, 22, 23, 24, 25, 26, 27]]\n",
      "-------------------\n",
      "[[0, 1, 2, 3, 4, 5, 6, 7], [8, 9, 10, 11, 12, 13, 14], [15, 16, 17, 18, 19, 20, 21, 22, 23]]\n",
      "-------------------\n",
      "[[0, 1, 2, 3, 4, 5, 6, 7, 8, 9], [10, 11, 12, 13, 14, 15, 16, 17, 18, 19, 20]]\n",
      "-------------------\n",
      "*************\n"
     ]
    }
   ],
   "source": [
    "for partition in Partitions:\n",
    "    for p in partition:\n",
    "        print (p)\n",
    "        print('-------------------')\n",
    "    print('*************')"
   ]
  },
  {
   "cell_type": "code",
   "execution_count": 92,
   "metadata": {
    "collapsed": false
   },
   "outputs": [
    {
     "name": "stdout",
     "output_type": "stream",
     "text": [
      "set(['[[0, 1, 2, 3, 4, 5, 6] [7, 8, 9, 10, 11, 12]]', '[[0, 1, 2] [3, 4, 5, 6, 7]]', '[[0, 1, 2, 3, 4, 5] [6, 7, 8, 9]]', '[[0, 1, 2] [3, 4, 5, 6]]', '[[0, 1] [2, 3, 4, 5, 6, 7, 8, 9, 10, 11, 12, 13]]', '[[0, 1] [2, 3, 4, 5, 6, 7]]', '[[0, 1, 2] [3, 4, 5, 6, 7, 8, 9]]', '[[0, 1, 2, 3] [4, 5, 6, 7, 8, 9, 10, 11, 12]]', '[[0, 1, 2, 3, 4, 5] [6, 7, 8, 9, 10]]', '[[0, 1] [2, 3, 4, 5]]', '[[0, 1, 2, 3] [4, 5, 6, 7]]', '[[0, 1, 2, 3, 4] [5, 6, 7, 8]]', '[[0, 1, 2, 3, 4, 5, 6, 7] [8, 9, 10, 11, 12, 13]]', '[[0, 1, 2, 3, 4] [5, 6, 7, 8, 9, 10, 11, 12]]', '[[0, 1, 2] [3, 4, 5, 6, 7, 8]]', '[[0, 1, 2, 3, 4, 5] [6, 7, 8, 9, 10, 11, 12, 13]]', '[[0, 1, 2, 3, 4, 5, 6, 7, 8] [9, 10, 11, 12]]', '[[0, 1, 2, 3] [4, 5, 6, 7, 8, 9]]', '[[0, 1, 2, 3, 4, 5, 6] [7, 8, 9, 10]]', '[[0, 1] [2, 3, 4, 5, 6, 7, 8, 9, 10, 11]]', '[[0, 1, 2, 3] [4, 5, 6, 7, 8, 9, 10, 11]]', '[[0, 1] [2, 3, 4, 5, 6, 7, 8, 9, 10, 11, 12]]', '[[0, 1, 2, 3, 4, 5] [6, 7, 8, 9, 10, 11, 12]]', '[[0, 1, 2] [3, 4, 5, 6, 7, 8, 9, 10]]', '[[0, 1, 2, 3, 4, 5, 6] [7, 8, 9, 10, 11, 12, 13]]', '[[0, 1, 2, 3] [4, 5, 6, 7, 8, 9, 10, 11, 12, 13]]', '[[0, 1] [2, 3, 4, 5, 6]]', '[[0, 1, 2] [3, 4, 5, 6, 7, 8, 9, 10, 11]]', '[[0, 1, 2, 3, 4] [5, 6, 7, 8, 9, 10, 11]]', '[[0, 1, 2, 3, 4, 5] [6, 7, 8, 9, 10, 11]]', '[[0, 1, 2, 3, 4] [5, 6, 7, 8, 9]]', '[[0, 1] [2, 3, 4, 5, 6, 7, 8]]', '[[0, 1, 2, 3] [4, 5, 6, 7, 8]]', '[[0, 1, 2] [3, 4, 5, 6, 7, 8, 9, 10, 11, 12, 13]]', '[[0, 1] [2, 3, 4, 5, 6, 7, 8, 9]]', '[[0, 1, 2, 3, 4, 5, 6, 7, 8] [9, 10, 11, 12, 13]]', '[[0, 1, 2] [3, 4, 5, 6, 7, 8, 9, 10, 11, 12]]', '[[0, 1, 2, 3, 4, 5, 6, 7] [8, 9, 10, 11]]', '[[0, 1, 2, 3, 4] [5, 6, 7, 8, 9, 10]]', '[[0, 1] [2, 3, 4, 5, 6, 7, 8, 9, 10]]', '[[0, 1, 2, 3] [4, 5, 6, 7, 8, 9, 10]]', '[[0, 1, 2, 3, 4] [5, 6, 7, 8, 9, 10, 11, 12, 13]]', '[[0, 1, 2, 3, 4, 5, 6] [7, 8, 9, 10, 11]]', '[[0, 1, 2, 3, 4, 5, 6, 7] [8, 9, 10, 11, 12]]'])\n"
     ]
    }
   ],
   "source": [
    "print set(P)"
   ]
  },
  {
   "cell_type": "code",
   "execution_count": 97,
   "metadata": {
    "collapsed": false
   },
   "outputs": [
    {
     "name": "stdout",
     "output_type": "stream",
     "text": [
      "44 [0.8, 0.67857143, 0.88714286] RandomForest_5_f [[0, 1] [2, 3, 4, 5]]\n",
      "\n",
      "***\n",
      "[[0, 1] [2, 3, 4, 5]] \n",
      "***\n",
      "\n",
      "1 [0.8, 0.72142857, 0.84142857] RandomForest_1_f [[0, 1] [2, 3, 4, 5, 6]]\n",
      "\n",
      "***\n",
      "[[0, 1] [2, 3, 4, 5, 6]] \n",
      "***\n",
      "\n"
     ]
    }
   ],
   "source": [
    "thresh=0.8\n",
    "f=open('res_experimenz_1','r')\n",
    "N=[]\n",
    "C=[]\n",
    "A=[]\n",
    "P=[]\n",
    "for l in f:\n",
    "    l=l.split(';')\n",
    "    N.append(l[0])\n",
    "    C.append(l[1])\n",
    "    P.append(l[2])\n",
    "C=[[float(x)  for x in c.replace('[','').replace(']','').split(' ') if len(x)>0] for c in C]\n",
    "#P=[[float(x)  for x in c.replace('[','').replace(']','').replace(' ','').split(',') if len(x)>0] for c in P.split('] [')]\n",
    "for pp in set(P):\n",
    "    t=0\n",
    "    for i in range(len(C)):\n",
    "        if (C[i][0]>=thresh  and C[i][2]>=thresh) and P[i]==pp:\n",
    "            print i, C[i],N[i],P[i]\n",
    "            t=1\n",
    "    if t:\n",
    "        print '\\n***\\n',pp, '\\n***\\n'\n",
    "    #plt.plot(C[i])\n",
    "    \n",
    "#plt.show()"
   ]
  },
  {
   "cell_type": "code",
   "execution_count": 6,
   "metadata": {
    "collapsed": true
   },
   "outputs": [],
   "source": [
    "def part(Y,partition):\n",
    "    \n",
    "    Y_q=np.zeros(len(Y))\n",
    "    i=0\n",
    "    for y in Y:\n",
    "        k=0\n",
    "        score=-1\n",
    "        for p in partition:\n",
    "            if y in p:\n",
    "                score=k\n",
    "                break\n",
    "            k+=1\n",
    "        if score==-1:\n",
    "            score=len(partition)\n",
    "        Y_q[i]=score\n",
    "        i+=1\n",
    "    return Y_q"
   ]
  },
  {
   "cell_type": "code",
   "execution_count": null,
   "metadata": {
    "collapsed": true
   },
   "outputs": [],
   "source": [
    "Q=getfeat.get_composed_feat_h(3)\n",
    "X=Q[0].T\n",
    "Y=Q[1]"
   ]
  },
  {
   "cell_type": "code",
   "execution_count": 52,
   "metadata": {
    "collapsed": false
   },
   "outputs": [
    {
     "data": {
      "image/png": "[encoded data removed]",
      "text/plain": [
       "<matplotlib.figure.Figure at 0x7f48e6938390>"
      ]
     },
     "metadata": {},
     "output_type": "display_data"
    },
    {
     "data": {
      "image/png": "[encoded data removed]",
      "text/plain": [
       "<matplotlib.figure.Figure at 0x7f48e8217350>"
      ]
     },
     "metadata": {},
     "output_type": "display_data"
    }
   ],
   "source": [
    "\n",
    "p=[[0,1],[2,3,4,5]]\n",
    "\n",
    "H=np.histogram(Y,list(range(40)))\n",
    "barlist=plt.bar(H[1][:-1],H[0],alpha=.3)\n",
    "plt.gcf().set_size_inches(18, 5)\n",
    "for i in range(p[0][-1]+1):\n",
    "    barlist[i].set_color('g')\n",
    "for i in range(p[0][-1]+1,p[1][-1]+1):\n",
    "    barlist[i].set_color('orange')\n",
    "for i in range(p[1][-1]+1,len(barlist)):\n",
    "    barlist[i].set_color('red')\n",
    "plt.xlabel('n_of accidents')\n",
    "plt.ylabel('frequency')\n",
    "plt.show()\n",
    "\n",
    "Y_q=part(Y,p)\n",
    "H=np.histogram(Y_q,list(range(4)))\n",
    "barlist=plt.bar(H[1][:-1],H[0],alpha=.3)\n",
    "plt.gcf().set_size_inches(18, 5)\n",
    "barlist[0].set_color('g')\n",
    "barlist[1].set_color('orange')\n",
    "barlist[2].set_color('red')\n",
    "plt.xlabel('risk category')\n",
    "plt.ylabel('frequency')\n",
    "plt.tick_params(axis='x',which='both',bottom='off',top='off',labelbottom='off')\n",
    "plt.show()"
   ]
  },
  {
   "cell_type": "code",
   "execution_count": null,
   "metadata": {
    "collapsed": true
   },
   "outputs": [],
   "source": []
  }
 ],
 "metadata": {
  "kernelspec": {
   "display_name": "Python 2",
   "language": "python",
   "name": "python2"
  },
  "language_info": {
   "codemirror_mode": {
    "name": "ipython",
    "version": 2
   },
   "file_extension": ".py",
   "mimetype": "text/x-python",
   "name": "python",
   "nbconvert_exporter": "python",
   "pygments_lexer": "ipython2",
   "version": "2.7.10"
  }
 },
 "nbformat": 4,
 "nbformat_minor": 0
}
