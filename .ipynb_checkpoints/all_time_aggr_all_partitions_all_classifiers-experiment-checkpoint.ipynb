{
 "cells": [
  {
   "cell_type": "code",
   "execution_count": 1,
   "metadata": {
    "collapsed": false
   },
   "outputs": [],
   "source": [
    "from datetime import datetime, timedelta\n",
    "import numpy as np\n",
    "import matplotlib.pyplot as plt\n",
    "import os\n",
    "from sklearn.ensemble import RandomForestClassifier,AdaBoostClassifier,BaggingClassifier,GradientBoostingClassifier\n",
    "from sklearn.metrics import classification_report,accuracy_score,confusion_matrix\n",
    "from sklearn.cross_validation import train_test_split\n",
    "from sklearn import tree\n",
    "import getfeat\n",
    "%matplotlib inline"
   ]
  },
  {
   "cell_type": "code",
   "execution_count": 2,
   "metadata": {
    "collapsed": true
   },
   "outputs": [],
   "source": [
    "def part(Y,partition):\n",
    "    \n",
    "    Y_q=np.zeros(len(Y))\n",
    "    i=0\n",
    "    for y in Y:\n",
    "        k=0\n",
    "        score=-1\n",
    "        for p in partition:\n",
    "            if y in p:\n",
    "                score=k\n",
    "                break\n",
    "            k+=1\n",
    "        if score==-1:\n",
    "            score=len(partition)\n",
    "        Y_q[i]=score\n",
    "        i+=1\n",
    "    return Y_q"
   ]
  },
  {
   "cell_type": "code",
   "execution_count": 18,
   "metadata": {
    "collapsed": false
   },
   "outputs": [
    {
     "name": "stdout",
     "output_type": "stream",
     "text": [
      "12 12\n"
     ]
    }
   ],
   "source": [
    "\n",
    "n_est=200\n",
    "clfs=[]\n",
    "klf=tree.DecisionTreeClassifier(max_depth=9)\n",
    "clfs+=[RandomForestClassifier(n_estimators=n_est, max_features=i,max_depth=9, n_jobs=-1) for i in [1,5,10,20,50,200]]\n",
    "clfs+=[BaggingClassifier(base_estimator=klf,max_features=i,n_estimators=n_est,n_jobs=-1) for i in [1,5,10,20,50,200]]\n",
    "\n",
    "names=[]\n",
    "names+=['RandomForest_'+str(i)+'_f' for i in  [1,5,10,20,50,200]]\n",
    "names+=['Bagging_'+str(i)+'_f' for i in  [1,5,10,20,50,200]]\n",
    "\n",
    "print len(clfs), len(names)"
   ]
  },
  {
   "cell_type": "code",
   "execution_count": 4,
   "metadata": {
    "collapsed": true
   },
   "outputs": [],
   "source": [
    "def evaluate_clf(clf,X,Y_q,features,test_size):\n",
    "    I=np.random.permutation(len(X))\n",
    "    #M=[]\n",
    "    #S=[]\n",
    "    #Acc=[]\n",
    "    #P=[]\n",
    "    #R=[]\n",
    "    Conf=[]\n",
    "    for i in range(len(X)/test_size-1):\n",
    "        I_te=list(range(test_size*i,test_size*(i+1)))\n",
    "        I_tr=list(range(0,test_size*i))+list(range(test_size*(i+1),len(I)))\n",
    "        train=I[I_tr]\n",
    "        test=I[I_te]\n",
    "\n",
    "        XX = np.array([d[features] for d in X[train]])\n",
    "        y=Y_q[train] \n",
    "        clf = clf.fit(XX, y)\n",
    "        true=np.array([int(Y_q[t]) for t in test])\n",
    "        pred=np.array([int(clf.predict([X[t][features]])[0]) for t in test])\n",
    "        conf=confusion_matrix(true,pred) \n",
    "        #recall=[0 if not conf[i,i] else float(conf[i,i])/sum(conf[i,:]) for i in range(len(conf[:,0]))]\n",
    "        #precision=[0 if not conf[i,i] else float(conf[i,i])/sum(conf[:,i]) for i in range(len(conf[:,0]))]\n",
    "        \n",
    "        Conf.append(conf)\n",
    "        #M.append(np.average(np.abs(true-pred)))\n",
    "        #S.append(np.std(true-pred))\n",
    "        #Acc.append(accuracy_score(true,pred))\n",
    "        #R.append(recall)\n",
    "        #P.append(precision)\n",
    "    #return[M,S,Acc,R,P,Conf]\n",
    "    return Conf"
   ]
  },
  {
   "cell_type": "code",
   "execution_count": 5,
   "metadata": {
    "collapsed": false
   },
   "outputs": [],
   "source": [
    "def evaluate_clf_1(clf,X,Y_q,features):\n",
    "    I=np.random.permutation(len(X))\n",
    "    nclasses=len(set(Y_q))\n",
    "    Conf=np.zeros((nclasses,nclasses))\n",
    "    for i in range(len(X)-1):\n",
    "        I_te=list(range(i,i+1))\n",
    "        I_tr=list(range(0,i))+list(range(i+1,len(I)))\n",
    "        train=I[I_tr]\n",
    "        test=I[I_te]\n",
    "        XX = np.array([d[features] for d in X[train]])\n",
    "        y=Y_q[train] \n",
    "        clf = clf.fit(XX, y)\n",
    "        true=np.array([int(Y_q[t]) for t in test])\n",
    "        pred=np.array([int(clf.predict([X[t][features]])[0]) for t in test])\n",
    "        Conf[true,pred]+=1 \n",
    "        #if i%200==0:\n",
    "            #print i\n",
    "    return [Conf,0]"
   ]
  },
  {
   "cell_type": "code",
   "execution_count": 26,
   "metadata": {
    "collapsed": true
   },
   "outputs": [],
   "source": [
    "def evaluate_clf_1_2(clf1,clf2,X,Y_q,features):\n",
    "    I=np.random.permutation(len(X))\n",
    "    nclasses=len(set(Y_q))\n",
    "    Conf=np.zeros((nclasses,nclasses))\n",
    "    for i in range(len(X)-1):\n",
    "        I_te=list(range(i,i+1))\n",
    "        I_tr=list(range(0,i))+list(range(i+1,len(I)))\n",
    "        train=I[I_tr]\n",
    "        test=I[I_te]\n",
    "        XX = np.array([d[features] for d in X[train]])\n",
    "        y=Y_q[train] \n",
    "        clf1 = clf1.fit(XX, y)\n",
    "        clf2 = clf2.fit(XX, y)\n",
    "        true=np.array([int(Y_q[t]) for t in test])\n",
    "        pred1=np.array([int(clf1.predict([X[t][features]])[0]) for t in test])\n",
    "        pred2=np.array([int(clf2.predict([X[t][features]])[0]) for t in test])\n",
    "        if pred1==0:\n",
    "            Conf[true,pred1]+=1\n",
    "        else:\n",
    "            Conf[true,pred2]+=1\n",
    "        #if i%200==0:\n",
    "            #print i\n",
    "    return [Conf,0]"
   ]
  },
  {
   "cell_type": "code",
   "execution_count": 5,
   "metadata": {
    "collapsed": true
   },
   "outputs": [],
   "source": [
    "Partitions=[]\n",
    "for i in range(2,6):\n",
    "    for j in range(i+4,13):\n",
    "        Partitions.append([list(range(i)),list(range(i,j))])\n",
    "Partitions=np.array(Partitions)"
   ]
  },
  {
   "cell_type": "code",
   "execution_count": 6,
   "metadata": {
    "collapsed": false
   },
   "outputs": [
    {
     "data": {
      "text/plain": [
       "22"
      ]
     },
     "execution_count": 6,
     "metadata": {},
     "output_type": "execute_result"
    }
   ],
   "source": [
    "len(Partitions)"
   ]
  },
  {
   "cell_type": "code",
   "execution_count": 7,
   "metadata": {
    "collapsed": false
   },
   "outputs": [
    {
     "data": {
      "text/plain": [
       "array([[[0, 1], [2, 3, 4, 5]],\n",
       "       [[0, 1], [2, 3, 4, 5, 6]],\n",
       "       [[0, 1], [2, 3, 4, 5, 6, 7]],\n",
       "       [[0, 1], [2, 3, 4, 5, 6, 7, 8]],\n",
       "       [[0, 1], [2, 3, 4, 5, 6, 7, 8, 9]],\n",
       "       [[0, 1], [2, 3, 4, 5, 6, 7, 8, 9, 10]],\n",
       "       [[0, 1], [2, 3, 4, 5, 6, 7, 8, 9, 10, 11]],\n",
       "       [[0, 1, 2], [3, 4, 5, 6]],\n",
       "       [[0, 1, 2], [3, 4, 5, 6, 7]],\n",
       "       [[0, 1, 2], [3, 4, 5, 6, 7, 8]],\n",
       "       [[0, 1, 2], [3, 4, 5, 6, 7, 8, 9]],\n",
       "       [[0, 1, 2], [3, 4, 5, 6, 7, 8, 9, 10]],\n",
       "       [[0, 1, 2], [3, 4, 5, 6, 7, 8, 9, 10, 11]],\n",
       "       [[0, 1, 2, 3], [4, 5, 6, 7]],\n",
       "       [[0, 1, 2, 3], [4, 5, 6, 7, 8]],\n",
       "       [[0, 1, 2, 3], [4, 5, 6, 7, 8, 9]],\n",
       "       [[0, 1, 2, 3], [4, 5, 6, 7, 8, 9, 10]],\n",
       "       [[0, 1, 2, 3], [4, 5, 6, 7, 8, 9, 10, 11]],\n",
       "       [[0, 1, 2, 3, 4], [5, 6, 7, 8]],\n",
       "       [[0, 1, 2, 3, 4], [5, 6, 7, 8, 9]],\n",
       "       [[0, 1, 2, 3, 4], [5, 6, 7, 8, 9, 10]],\n",
       "       [[0, 1, 2, 3, 4], [5, 6, 7, 8, 9, 10, 11]]], dtype=object)"
      ]
     },
     "execution_count": 7,
     "metadata": {},
     "output_type": "execute_result"
    }
   ],
   "source": [
    "Partitions"
   ]
  },
  {
   "cell_type": "code",
   "execution_count": 6,
   "metadata": {
    "collapsed": false
   },
   "outputs": [
    {
     "name": "stdout",
     "output_type": "stream",
     "text": [
      "488\n",
      "488\n"
     ]
    }
   ],
   "source": [
    "Q=getfeat.get_composed_feat_h(3)\n",
    "X=Q[0].T\n",
    "Y=Q[1]\n",
    "n_feat=1322\n",
    "features=list(range(n_feat))"
   ]
  },
  {
   "cell_type": "code",
   "execution_count": 9,
   "metadata": {
    "collapsed": false
   },
   "outputs": [
    {
     "data": {
      "text/plain": [
       "1322"
      ]
     },
     "execution_count": 9,
     "metadata": {},
     "output_type": "execute_result"
    }
   ],
   "source": [
    "names_features=np.array(Q[2])\n",
    "len(names_features)"
   ]
  },
  {
   "cell_type": "code",
   "execution_count": 313,
   "metadata": {
    "collapsed": true
   },
   "outputs": [],
   "source": [
    "HH=[]\n",
    "DD=[]\n",
    "CC=[]\n",
    "NN=[]"
   ]
  },
  {
   "cell_type": "code",
   "execution_count": 348,
   "metadata": {
    "collapsed": false,
    "scrolled": true
   },
   "outputs": [
    {
     "name": "stdout",
     "output_type": "stream",
     "text": [
      "20\n",
      "Bagging_5_f\n",
      "20\n",
      "Bagging_10_f\n",
      "20\n",
      "Bagging_20_f\n",
      "20\n",
      "Bagging_50_f\n",
      "20\n",
      "Bagging_200_f\n"
     ]
    }
   ],
   "source": [
    "for clf in clfs[7:]:\n",
    "    count=0\n",
    "    for partition in Partitions:\n",
    "        count+=1\n",
    "        Y_q=part(Y,partition)\n",
    "        res=evaluate_clf(clf,X,Y_q,features,60)\n",
    "        H=[]\n",
    "        D=[]\n",
    "        for m in res:\n",
    "            if len(m)==3:\n",
    "                H.append([round(m[i,i]/float(sum(m[:,i])),2) if sum(m[:,i])!=0 else 0 for i in range(3)])\n",
    "                D.append(sum(np.diag(m))/float(np.sum(m)))\n",
    "        NN.append(names[clfs.index(clf)])\n",
    "        HH.append(np.average(H,0))\n",
    "        DD.append(np.average(D))\n",
    "        CC.append(count-1)\n",
    "        if count%20==0:\n",
    "            print count\n",
    "        ff=open('res_experimenz_1','a')\n",
    "        ff.write(NN[-1]+';'+str(HH[-1])+';'+str(partition)+';\\n')\n",
    "    print (names[clfs.index(clf)]) "
   ]
  },
  {
   "cell_type": "code",
   "execution_count": 8,
   "metadata": {
    "collapsed": false
   },
   "outputs": [
    {
     "name": "stdout",
     "output_type": "stream",
     "text": [
      "RandomForest_1_f\n",
      "RandomForest_5_f\n",
      "RandomForest_10_f\n",
      "RandomForest_20_f\n",
      "RandomForest_50_f\n",
      "RandomForest_200_f\n"
     ]
    },
    {
     "ename": "KeyboardInterrupt",
     "evalue": "",
     "output_type": "error",
     "traceback": [
      "\u001b[1;31m---------------------------------------------------------------------------\u001b[0m",
      "\u001b[1;31mKeyboardInterrupt\u001b[0m                         Traceback (most recent call last)",
      "\u001b[1;32m<ipython-input-8-978cfa1eb3fb>\u001b[0m in \u001b[0;36m<module>\u001b[1;34m()\u001b[0m\n\u001b[0;32m      4\u001b[0m     \u001b[1;32mfor\u001b[0m \u001b[0mpartition\u001b[0m \u001b[1;32min\u001b[0m \u001b[0mpartitions\u001b[0m\u001b[1;33m:\u001b[0m\u001b[1;33m\u001b[0m\u001b[0m\n\u001b[0;32m      5\u001b[0m         \u001b[0mY_q\u001b[0m\u001b[1;33m=\u001b[0m\u001b[0mpart\u001b[0m\u001b[1;33m(\u001b[0m\u001b[0mY\u001b[0m\u001b[1;33m,\u001b[0m\u001b[0mpartition\u001b[0m\u001b[1;33m)\u001b[0m\u001b[1;33m\u001b[0m\u001b[0m\n\u001b[1;32m----> 6\u001b[1;33m         \u001b[0mres\u001b[0m\u001b[1;33m=\u001b[0m\u001b[0mevaluate_clf_1\u001b[0m\u001b[1;33m(\u001b[0m\u001b[0mclf\u001b[0m\u001b[1;33m,\u001b[0m\u001b[0mX\u001b[0m\u001b[1;33m,\u001b[0m\u001b[0mY_q\u001b[0m\u001b[1;33m,\u001b[0m\u001b[0mfeatures\u001b[0m\u001b[1;33m)\u001b[0m\u001b[1;33m\u001b[0m\u001b[0m\n\u001b[0m\u001b[0;32m      7\u001b[0m         \u001b[0mres\u001b[0m\u001b[1;33m=\u001b[0m\u001b[0mres\u001b[0m\u001b[1;33m[\u001b[0m\u001b[1;36m0\u001b[0m\u001b[1;33m]\u001b[0m\u001b[1;33m\u001b[0m\u001b[0m\n\u001b[0;32m      8\u001b[0m         \u001b[0mH\u001b[0m\u001b[1;33m=\u001b[0m\u001b[1;33m[\u001b[0m\u001b[0mres\u001b[0m\u001b[1;33m[\u001b[0m\u001b[0mi\u001b[0m\u001b[1;33m,\u001b[0m\u001b[0mi\u001b[0m\u001b[1;33m]\u001b[0m\u001b[1;33m/\u001b[0m\u001b[0msum\u001b[0m\u001b[1;33m(\u001b[0m\u001b[0mres\u001b[0m\u001b[1;33m[\u001b[0m\u001b[1;33m:\u001b[0m\u001b[1;33m,\u001b[0m\u001b[0mi\u001b[0m\u001b[1;33m]\u001b[0m\u001b[1;33m)\u001b[0m \u001b[1;32mfor\u001b[0m \u001b[0mi\u001b[0m \u001b[1;32min\u001b[0m \u001b[0mrange\u001b[0m\u001b[1;33m(\u001b[0m\u001b[1;36m3\u001b[0m\u001b[1;33m)\u001b[0m\u001b[1;33m]\u001b[0m\u001b[1;33m\u001b[0m\u001b[0m\n",
      "\u001b[1;32m<ipython-input-5-7d11a55754f1>\u001b[0m in \u001b[0;36mevaluate_clf_1\u001b[1;34m(clf, X, Y_q, features)\u001b[0m\n\u001b[0;32m     10\u001b[0m         \u001b[0mXX\u001b[0m \u001b[1;33m=\u001b[0m \u001b[0mnp\u001b[0m\u001b[1;33m.\u001b[0m\u001b[0marray\u001b[0m\u001b[1;33m(\u001b[0m\u001b[1;33m[\u001b[0m\u001b[0md\u001b[0m\u001b[1;33m[\u001b[0m\u001b[0mfeatures\u001b[0m\u001b[1;33m]\u001b[0m \u001b[1;32mfor\u001b[0m \u001b[0md\u001b[0m \u001b[1;32min\u001b[0m \u001b[0mX\u001b[0m\u001b[1;33m[\u001b[0m\u001b[0mtrain\u001b[0m\u001b[1;33m]\u001b[0m\u001b[1;33m]\u001b[0m\u001b[1;33m)\u001b[0m\u001b[1;33m\u001b[0m\u001b[0m\n\u001b[0;32m     11\u001b[0m         \u001b[0my\u001b[0m\u001b[1;33m=\u001b[0m\u001b[0mY_q\u001b[0m\u001b[1;33m[\u001b[0m\u001b[0mtrain\u001b[0m\u001b[1;33m]\u001b[0m\u001b[1;33m\u001b[0m\u001b[0m\n\u001b[1;32m---> 12\u001b[1;33m         \u001b[0mclf\u001b[0m \u001b[1;33m=\u001b[0m \u001b[0mclf\u001b[0m\u001b[1;33m.\u001b[0m\u001b[0mfit\u001b[0m\u001b[1;33m(\u001b[0m\u001b[0mXX\u001b[0m\u001b[1;33m,\u001b[0m \u001b[0my\u001b[0m\u001b[1;33m)\u001b[0m\u001b[1;33m\u001b[0m\u001b[0m\n\u001b[0m\u001b[0;32m     13\u001b[0m         \u001b[0mtrue\u001b[0m\u001b[1;33m=\u001b[0m\u001b[0mnp\u001b[0m\u001b[1;33m.\u001b[0m\u001b[0marray\u001b[0m\u001b[1;33m(\u001b[0m\u001b[1;33m[\u001b[0m\u001b[0mint\u001b[0m\u001b[1;33m(\u001b[0m\u001b[0mY_q\u001b[0m\u001b[1;33m[\u001b[0m\u001b[0mt\u001b[0m\u001b[1;33m]\u001b[0m\u001b[1;33m)\u001b[0m \u001b[1;32mfor\u001b[0m \u001b[0mt\u001b[0m \u001b[1;32min\u001b[0m \u001b[0mtest\u001b[0m\u001b[1;33m]\u001b[0m\u001b[1;33m)\u001b[0m\u001b[1;33m\u001b[0m\u001b[0m\n\u001b[0;32m     14\u001b[0m         \u001b[0mpred\u001b[0m\u001b[1;33m=\u001b[0m\u001b[0mnp\u001b[0m\u001b[1;33m.\u001b[0m\u001b[0marray\u001b[0m\u001b[1;33m(\u001b[0m\u001b[1;33m[\u001b[0m\u001b[0mint\u001b[0m\u001b[1;33m(\u001b[0m\u001b[0mclf\u001b[0m\u001b[1;33m.\u001b[0m\u001b[0mpredict\u001b[0m\u001b[1;33m(\u001b[0m\u001b[1;33m[\u001b[0m\u001b[0mX\u001b[0m\u001b[1;33m[\u001b[0m\u001b[0mt\u001b[0m\u001b[1;33m]\u001b[0m\u001b[1;33m[\u001b[0m\u001b[0mfeatures\u001b[0m\u001b[1;33m]\u001b[0m\u001b[1;33m]\u001b[0m\u001b[1;33m)\u001b[0m\u001b[1;33m[\u001b[0m\u001b[1;36m0\u001b[0m\u001b[1;33m]\u001b[0m\u001b[1;33m)\u001b[0m \u001b[1;32mfor\u001b[0m \u001b[0mt\u001b[0m \u001b[1;32min\u001b[0m \u001b[0mtest\u001b[0m\u001b[1;33m]\u001b[0m\u001b[1;33m)\u001b[0m\u001b[1;33m\u001b[0m\u001b[0m\n",
      "\u001b[1;32m/home/amassaro/anaconda/lib/python2.7/site-packages/sklearn/ensemble/bagging.pyc\u001b[0m in \u001b[0;36mfit\u001b[1;34m(self, X, y, sample_weight)\u001b[0m\n\u001b[0;32m    294\u001b[0m                 \u001b[0mseeds\u001b[0m\u001b[1;33m[\u001b[0m\u001b[0mstarts\u001b[0m\u001b[1;33m[\u001b[0m\u001b[0mi\u001b[0m\u001b[1;33m]\u001b[0m\u001b[1;33m:\u001b[0m\u001b[0mstarts\u001b[0m\u001b[1;33m[\u001b[0m\u001b[0mi\u001b[0m \u001b[1;33m+\u001b[0m \u001b[1;36m1\u001b[0m\u001b[1;33m]\u001b[0m\u001b[1;33m]\u001b[0m\u001b[1;33m,\u001b[0m\u001b[1;33m\u001b[0m\u001b[0m\n\u001b[0;32m    295\u001b[0m                 verbose=self.verbose)\n\u001b[1;32m--> 296\u001b[1;33m             for i in range(n_jobs))\n\u001b[0m\u001b[0;32m    297\u001b[0m \u001b[1;33m\u001b[0m\u001b[0m\n\u001b[0;32m    298\u001b[0m         \u001b[1;31m# Reduce\u001b[0m\u001b[1;33m\u001b[0m\u001b[1;33m\u001b[0m\u001b[0m\n",
      "\u001b[1;32m/home/amassaro/anaconda/lib/python2.7/site-packages/sklearn/externals/joblib/parallel.pyc\u001b[0m in \u001b[0;36m__call__\u001b[1;34m(self, iterable)\u001b[0m\n\u001b[0;32m    664\u001b[0m                 \u001b[1;31m# consumption.\u001b[0m\u001b[1;33m\u001b[0m\u001b[1;33m\u001b[0m\u001b[0m\n\u001b[0;32m    665\u001b[0m                 \u001b[0mself\u001b[0m\u001b[1;33m.\u001b[0m\u001b[0m_iterating\u001b[0m \u001b[1;33m=\u001b[0m \u001b[0mFalse\u001b[0m\u001b[1;33m\u001b[0m\u001b[0m\n\u001b[1;32m--> 666\u001b[1;33m             \u001b[0mself\u001b[0m\u001b[1;33m.\u001b[0m\u001b[0mretrieve\u001b[0m\u001b[1;33m(\u001b[0m\u001b[1;33m)\u001b[0m\u001b[1;33m\u001b[0m\u001b[0m\n\u001b[0m\u001b[0;32m    667\u001b[0m             \u001b[1;31m# Make sure that we get a last message telling us we are done\u001b[0m\u001b[1;33m\u001b[0m\u001b[1;33m\u001b[0m\u001b[0m\n\u001b[0;32m    668\u001b[0m             \u001b[0melapsed_time\u001b[0m \u001b[1;33m=\u001b[0m \u001b[0mtime\u001b[0m\u001b[1;33m.\u001b[0m\u001b[0mtime\u001b[0m\u001b[1;33m(\u001b[0m\u001b[1;33m)\u001b[0m \u001b[1;33m-\u001b[0m \u001b[0mself\u001b[0m\u001b[1;33m.\u001b[0m\u001b[0m_start_time\u001b[0m\u001b[1;33m\u001b[0m\u001b[0m\n",
      "\u001b[1;32m/home/amassaro/anaconda/lib/python2.7/site-packages/sklearn/externals/joblib/parallel.pyc\u001b[0m in \u001b[0;36mretrieve\u001b[1;34m(self)\u001b[0m\n\u001b[0;32m    530\u001b[0m                             \u001b[1;31m# We can now allow subprocesses again\u001b[0m\u001b[1;33m\u001b[0m\u001b[1;33m\u001b[0m\u001b[0m\n\u001b[0;32m    531\u001b[0m                             \u001b[0mos\u001b[0m\u001b[1;33m.\u001b[0m\u001b[0menviron\u001b[0m\u001b[1;33m.\u001b[0m\u001b[0mpop\u001b[0m\u001b[1;33m(\u001b[0m\u001b[1;34m'__JOBLIB_SPAWNED_PARALLEL__'\u001b[0m\u001b[1;33m,\u001b[0m \u001b[1;36m0\u001b[0m\u001b[1;33m)\u001b[0m\u001b[1;33m\u001b[0m\u001b[0m\n\u001b[1;32m--> 532\u001b[1;33m                         \u001b[1;32mraise\u001b[0m \u001b[0mexception\u001b[0m\u001b[1;33m\u001b[0m\u001b[0m\n\u001b[0m\u001b[0;32m    533\u001b[0m                     \u001b[1;32melif\u001b[0m \u001b[0misinstance\u001b[0m\u001b[1;33m(\u001b[0m\u001b[0mexception\u001b[0m\u001b[1;33m,\u001b[0m \u001b[0mTransportableException\u001b[0m\u001b[1;33m)\u001b[0m\u001b[1;33m:\u001b[0m\u001b[1;33m\u001b[0m\u001b[0m\n\u001b[0;32m    534\u001b[0m                         \u001b[1;31m# Capture exception to add information on the local\u001b[0m\u001b[1;33m\u001b[0m\u001b[1;33m\u001b[0m\u001b[0m\n",
      "\u001b[1;31mKeyboardInterrupt\u001b[0m: "
     ]
    }
   ],
   "source": [
    "partitions=[[[0,1],[2,3,4,5]],[[0,1,2,3,4],[5,6,7,8,9]],[[0,1,2,3,4,5],[6,7,8,9]]]\n",
    "for clf in clfs:\n",
    "    count=0\n",
    "    for partition in partitions:\n",
    "        Y_q=part(Y,partition)\n",
    "        res=evaluate_clf_1(clf,X,Y_q,features)\n",
    "        res=res[0]\n",
    "        H=[res[i,i]/sum(res[:,i]) for i in range(3)]\n",
    "        G=[res[i,i]/sum(res[i,:]) for i in range(3)]\n",
    "        T=sum(np.diag(res))/np.sum(res)\n",
    "        ff=open('recall_precision_accuracy','a')\n",
    "        ff.write(names[clfs.index(clf)]+';'+str(H)+';'+str(G)+';'+str(T)+';'+str(partition)+';\\n')\n",
    "        ff.close()\n",
    "    print (names[clfs.index(clf)]) "
   ]
  },
  {
   "cell_type": "code",
   "execution_count": 277,
   "metadata": {
    "collapsed": false
   },
   "outputs": [
    {
     "name": "stdout",
     "output_type": "stream",
     "text": [
      "258 [0.77428571, 0.34714286, 0.78285714] RandomForest_20_f [[0, 1, 2, 3, 4] [6, 7, 8]]\n",
      "588 [0.76285714, 0.50571429, 0.81142857] Bagging_10_f [[0, 1] [3, 4, 5]]\n"
     ]
    }
   ],
   "source": [
    "thresh=0.76\n",
    "f=open('res_experimenz','r')\n",
    "N=[]\n",
    "C=[]\n",
    "A=[]\n",
    "P=[]\n",
    "for l in f:\n",
    "    l=l.split(';')\n",
    "    N.append(l[0])\n",
    "    C.append(l[1])\n",
    "    A.append(l[2])\n",
    "    P.append(l[3])\n",
    "C=[[float(x)  for x in c.replace('[','').replace(']','').split(' ') if len(x)>0] for c in C]\n",
    "for i in range(len(C)):\n",
    "    if C[i][0]>thresh and C[i][2]>thresh-0.01:\n",
    "        print i, C[i],N[i],P[i]"
   ]
  },
  {
   "cell_type": "code",
   "execution_count": 292,
   "metadata": {
    "collapsed": false
   },
   "outputs": [],
   "source": [
    "thresh=0.76\n",
    "f=open('res_experimenz','r')\n",
    "N=[]\n",
    "C=[]\n",
    "A=[]\n",
    "P=[]\n",
    "for l in f:\n",
    "    l=l.split(';')\n",
    "    N.append(l[0])\n",
    "    C.append(l[1])\n",
    "    A.append(l[2])\n",
    "    P.append(l[3])\n",
    "C=[[float(x)  for x in c.replace('[','').replace(']','').split(' ') if len(x)>0] for c in C]\n",
    "for i in range(len(C)):\n",
    "    if P[i]=='[[0, 1, 2, 3, 4] [5 ,6 ,7 , 8, 9]]' :\n",
    "        print i, C[i],N[i],P[i]"
   ]
  },
  {
   "cell_type": "code",
   "execution_count": 293,
   "metadata": {
    "collapsed": false
   },
   "outputs": [
    {
     "data": {
      "text/plain": [
       "'[[0, 1, 2, 3] [5, 6, 7, 8, 9, 10, 11, 12, 13, 14]]'"
      ]
     },
     "execution_count": 293,
     "metadata": {},
     "output_type": "execute_result"
    }
   ],
   "source": [
    "P[40]"
   ]
  },
  {
   "cell_type": "raw",
   "metadata": {},
   "source": [
    "let's choose the best classifier and analyze it further.."
   ]
  },
  {
   "cell_type": "code",
   "execution_count": 254,
   "metadata": {
    "collapsed": true
   },
   "outputs": [],
   "source": [
    "clf=BaggingClassifier(base_estimator=klf,max_features=1,n_estimators=200,n_jobs=-1)"
   ]
  },
  {
   "cell_type": "code",
   "execution_count": 28,
   "metadata": {
    "collapsed": false
   },
   "outputs": [],
   "source": [
    "clf=RandomForestClassifier(n_estimators=200, max_features=1,max_depth=9, n_jobs=-1)\n",
    "R=[]\n",
    "Part=[[0,1],[2,3,4,5]]\n",
    "Y_q=part(Y,Part)\n",
    "for i in range(50):\n",
    "\n",
    "    res=evaluate_clf_1(clf,X,Y_q,features)\n",
    "    r=res[0]    \n",
    "    H=[r[i,i]/sum(r[:,i]) for i in range(3)]\n",
    "    G=[r[i,i]/sum(r[i,:]) for i in range(3)]\n",
    "    T=sum(np.diag(r))/np.sum(r)\n",
    "    ff=open('recall_precision_accuracies_forest1f_[01][2345]_200','a')\n",
    "    ff.write('forest_1f_200_estim;'+str(H)+';'+str(G)+';'+str(T)+';\\n')\n",
    "    ff.close()\n",
    "#for r in R9:\n",
    "    #print(r[0,0]/sum(r[:,0]),r[1,1]/sum(r[:,1]),r[2,2]/sum(r[:,2]))\n",
    "    #print ('***')"
   ]
  },
  {
   "cell_type": "code",
   "execution_count": 29,
   "metadata": {
    "collapsed": true
   },
   "outputs": [],
   "source": [
    "clf=RandomForestClassifier(n_estimators=200, max_features=20,max_depth=9, n_jobs=-1)\n",
    "Part=[[0, 1, 2, 3, 4], [5, 6, 7, 8, 9]]\n",
    "Y_q=part(Y,Part)\n",
    "for i in range(50):\n",
    "    res=evaluate_clf_1(clf,X,Y_q,features)\n",
    "    r=res[0]    \n",
    "    H=[r[i,i]/sum(r[:,i]) for i in range(3)]\n",
    "    G=[r[i,i]/sum(r[i,:]) for i in range(3)]\n",
    "    T=sum(np.diag(r))/np.sum(r)\n",
    "    ff=open('recall_precision_accuracies_forest20f_[01234][56789]_200','a')\n",
    "    ff.write('forest_1f_200_estim;'+str(H)+';'+str(G)+';'+str(T)+';\\n')\n",
    "    ff.close()"
   ]
  },
  {
   "cell_type": "code",
   "execution_count": 27,
   "metadata": {
    "collapsed": true
   },
   "outputs": [
    {
     "name": "stderr",
     "output_type": "stream",
     "text": [
      "Exception KeyboardInterrupt in <function remove at 0x7f62bd4c70c8> ignored\n"
     ]
    },
    {
     "ename": "KeyboardInterrupt",
     "evalue": "",
     "output_type": "error",
     "traceback": [
      "\u001b[1;31m---------------------------------------------------------------------------\u001b[0m",
      "\u001b[1;31mKeyboardInterrupt\u001b[0m                         Traceback (most recent call last)",
      "\u001b[1;32m<ipython-input-27-969ac45bf0b4>\u001b[0m in \u001b[0;36m<module>\u001b[1;34m()\u001b[0m\n\u001b[0;32m      7\u001b[0m \u001b[1;32mfor\u001b[0m \u001b[0mi\u001b[0m \u001b[1;32min\u001b[0m \u001b[0mrange\u001b[0m\u001b[1;33m(\u001b[0m\u001b[1;36m50\u001b[0m\u001b[1;33m)\u001b[0m\u001b[1;33m:\u001b[0m\u001b[1;33m\u001b[0m\u001b[0m\n\u001b[0;32m      8\u001b[0m \u001b[1;33m\u001b[0m\u001b[0m\n\u001b[1;32m----> 9\u001b[1;33m     \u001b[0mres\u001b[0m\u001b[1;33m=\u001b[0m\u001b[0mevaluate_clf_1_2\u001b[0m\u001b[1;33m(\u001b[0m\u001b[0mclf1\u001b[0m\u001b[1;33m,\u001b[0m\u001b[0mclf2\u001b[0m\u001b[1;33m,\u001b[0m\u001b[0mX\u001b[0m\u001b[1;33m,\u001b[0m\u001b[0mY_q\u001b[0m\u001b[1;33m,\u001b[0m\u001b[0mfeatures\u001b[0m\u001b[1;33m)\u001b[0m\u001b[1;33m\u001b[0m\u001b[0m\n\u001b[0m\u001b[0;32m     10\u001b[0m     \u001b[0mr\u001b[0m\u001b[1;33m=\u001b[0m\u001b[0mres\u001b[0m\u001b[1;33m[\u001b[0m\u001b[1;36m0\u001b[0m\u001b[1;33m]\u001b[0m\u001b[1;33m\u001b[0m\u001b[0m\n\u001b[0;32m     11\u001b[0m     \u001b[0mH\u001b[0m\u001b[1;33m=\u001b[0m\u001b[1;33m[\u001b[0m\u001b[0mr\u001b[0m\u001b[1;33m[\u001b[0m\u001b[0mi\u001b[0m\u001b[1;33m,\u001b[0m\u001b[0mi\u001b[0m\u001b[1;33m]\u001b[0m\u001b[1;33m/\u001b[0m\u001b[0msum\u001b[0m\u001b[1;33m(\u001b[0m\u001b[0mr\u001b[0m\u001b[1;33m[\u001b[0m\u001b[1;33m:\u001b[0m\u001b[1;33m,\u001b[0m\u001b[0mi\u001b[0m\u001b[1;33m]\u001b[0m\u001b[1;33m)\u001b[0m \u001b[1;32mfor\u001b[0m \u001b[0mi\u001b[0m \u001b[1;32min\u001b[0m \u001b[0mrange\u001b[0m\u001b[1;33m(\u001b[0m\u001b[1;36m3\u001b[0m\u001b[1;33m)\u001b[0m\u001b[1;33m]\u001b[0m\u001b[1;33m\u001b[0m\u001b[0m\n",
      "\u001b[1;32m<ipython-input-26-a5796019c12d>\u001b[0m in \u001b[0;36mevaluate_clf_1_2\u001b[1;34m(clf1, clf2, X, Y_q, features)\u001b[0m\n\u001b[0;32m     13\u001b[0m         \u001b[0mclf2\u001b[0m \u001b[1;33m=\u001b[0m \u001b[0mclf2\u001b[0m\u001b[1;33m.\u001b[0m\u001b[0mfit\u001b[0m\u001b[1;33m(\u001b[0m\u001b[0mXX\u001b[0m\u001b[1;33m,\u001b[0m \u001b[0my\u001b[0m\u001b[1;33m)\u001b[0m\u001b[1;33m\u001b[0m\u001b[0m\n\u001b[0;32m     14\u001b[0m         \u001b[0mtrue\u001b[0m\u001b[1;33m=\u001b[0m\u001b[0mnp\u001b[0m\u001b[1;33m.\u001b[0m\u001b[0marray\u001b[0m\u001b[1;33m(\u001b[0m\u001b[1;33m[\u001b[0m\u001b[0mint\u001b[0m\u001b[1;33m(\u001b[0m\u001b[0mY_q\u001b[0m\u001b[1;33m[\u001b[0m\u001b[0mt\u001b[0m\u001b[1;33m]\u001b[0m\u001b[1;33m)\u001b[0m \u001b[1;32mfor\u001b[0m \u001b[0mt\u001b[0m \u001b[1;32min\u001b[0m \u001b[0mtest\u001b[0m\u001b[1;33m]\u001b[0m\u001b[1;33m)\u001b[0m\u001b[1;33m\u001b[0m\u001b[0m\n\u001b[1;32m---> 15\u001b[1;33m         \u001b[0mpred1\u001b[0m\u001b[1;33m=\u001b[0m\u001b[0mnp\u001b[0m\u001b[1;33m.\u001b[0m\u001b[0marray\u001b[0m\u001b[1;33m(\u001b[0m\u001b[1;33m[\u001b[0m\u001b[0mint\u001b[0m\u001b[1;33m(\u001b[0m\u001b[0mclf1\u001b[0m\u001b[1;33m.\u001b[0m\u001b[0mpredict\u001b[0m\u001b[1;33m(\u001b[0m\u001b[1;33m[\u001b[0m\u001b[0mX\u001b[0m\u001b[1;33m[\u001b[0m\u001b[0mt\u001b[0m\u001b[1;33m]\u001b[0m\u001b[1;33m[\u001b[0m\u001b[0mfeatures\u001b[0m\u001b[1;33m]\u001b[0m\u001b[1;33m]\u001b[0m\u001b[1;33m)\u001b[0m\u001b[1;33m[\u001b[0m\u001b[1;36m0\u001b[0m\u001b[1;33m]\u001b[0m\u001b[1;33m)\u001b[0m \u001b[1;32mfor\u001b[0m \u001b[0mt\u001b[0m \u001b[1;32min\u001b[0m \u001b[0mtest\u001b[0m\u001b[1;33m]\u001b[0m\u001b[1;33m)\u001b[0m\u001b[1;33m\u001b[0m\u001b[0m\n\u001b[0m\u001b[0;32m     16\u001b[0m         \u001b[0mpred2\u001b[0m\u001b[1;33m=\u001b[0m\u001b[0mnp\u001b[0m\u001b[1;33m.\u001b[0m\u001b[0marray\u001b[0m\u001b[1;33m(\u001b[0m\u001b[1;33m[\u001b[0m\u001b[0mint\u001b[0m\u001b[1;33m(\u001b[0m\u001b[0mclf2\u001b[0m\u001b[1;33m.\u001b[0m\u001b[0mpredict\u001b[0m\u001b[1;33m(\u001b[0m\u001b[1;33m[\u001b[0m\u001b[0mX\u001b[0m\u001b[1;33m[\u001b[0m\u001b[0mt\u001b[0m\u001b[1;33m]\u001b[0m\u001b[1;33m[\u001b[0m\u001b[0mfeatures\u001b[0m\u001b[1;33m]\u001b[0m\u001b[1;33m]\u001b[0m\u001b[1;33m)\u001b[0m\u001b[1;33m[\u001b[0m\u001b[1;36m0\u001b[0m\u001b[1;33m]\u001b[0m\u001b[1;33m)\u001b[0m \u001b[1;32mfor\u001b[0m \u001b[0mt\u001b[0m \u001b[1;32min\u001b[0m \u001b[0mtest\u001b[0m\u001b[1;33m]\u001b[0m\u001b[1;33m)\u001b[0m\u001b[1;33m\u001b[0m\u001b[0m\n\u001b[0;32m     17\u001b[0m         \u001b[1;32mif\u001b[0m \u001b[0mpred1\u001b[0m\u001b[1;33m==\u001b[0m\u001b[1;36m0\u001b[0m\u001b[1;33m:\u001b[0m\u001b[1;33m\u001b[0m\u001b[0m\n",
      "\u001b[1;32m/home/amassaro/anaconda/lib/python2.7/site-packages/sklearn/ensemble/bagging.pyc\u001b[0m in \u001b[0;36mpredict\u001b[1;34m(self, X)\u001b[0m\n\u001b[0;32m    519\u001b[0m             \u001b[0mThe\u001b[0m \u001b[0mpredicted\u001b[0m \u001b[0mclasses\u001b[0m\u001b[1;33m.\u001b[0m\u001b[1;33m\u001b[0m\u001b[0m\n\u001b[0;32m    520\u001b[0m         \"\"\"\n\u001b[1;32m--> 521\u001b[1;33m         \u001b[0mpredicted_probabilitiy\u001b[0m \u001b[1;33m=\u001b[0m \u001b[0mself\u001b[0m\u001b[1;33m.\u001b[0m\u001b[0mpredict_proba\u001b[0m\u001b[1;33m(\u001b[0m\u001b[0mX\u001b[0m\u001b[1;33m)\u001b[0m\u001b[1;33m\u001b[0m\u001b[0m\n\u001b[0m\u001b[0;32m    522\u001b[0m         return self.classes_.take((np.argmax(predicted_probabilitiy, axis=1)),\n\u001b[0;32m    523\u001b[0m                                   axis=0)\n",
      "\u001b[1;32m/home/amassaro/anaconda/lib/python2.7/site-packages/sklearn/ensemble/bagging.pyc\u001b[0m in \u001b[0;36mpredict_proba\u001b[1;34m(self, X)\u001b[0m\n\u001b[0;32m    565\u001b[0m                 \u001b[0mX\u001b[0m\u001b[1;33m,\u001b[0m\u001b[1;33m\u001b[0m\u001b[0m\n\u001b[0;32m    566\u001b[0m                 self.n_classes_)\n\u001b[1;32m--> 567\u001b[1;33m             for i in range(n_jobs))\n\u001b[0m\u001b[0;32m    568\u001b[0m \u001b[1;33m\u001b[0m\u001b[0m\n\u001b[0;32m    569\u001b[0m         \u001b[1;31m# Reduce\u001b[0m\u001b[1;33m\u001b[0m\u001b[1;33m\u001b[0m\u001b[0m\n",
      "\u001b[1;32m/home/amassaro/anaconda/lib/python2.7/site-packages/sklearn/externals/joblib/parallel.pyc\u001b[0m in \u001b[0;36m__call__\u001b[1;34m(self, iterable)\u001b[0m\n\u001b[0;32m    664\u001b[0m                 \u001b[1;31m# consumption.\u001b[0m\u001b[1;33m\u001b[0m\u001b[1;33m\u001b[0m\u001b[0m\n\u001b[0;32m    665\u001b[0m                 \u001b[0mself\u001b[0m\u001b[1;33m.\u001b[0m\u001b[0m_iterating\u001b[0m \u001b[1;33m=\u001b[0m \u001b[0mFalse\u001b[0m\u001b[1;33m\u001b[0m\u001b[0m\n\u001b[1;32m--> 666\u001b[1;33m             \u001b[0mself\u001b[0m\u001b[1;33m.\u001b[0m\u001b[0mretrieve\u001b[0m\u001b[1;33m(\u001b[0m\u001b[1;33m)\u001b[0m\u001b[1;33m\u001b[0m\u001b[0m\n\u001b[0m\u001b[0;32m    667\u001b[0m             \u001b[1;31m# Make sure that we get a last message telling us we are done\u001b[0m\u001b[1;33m\u001b[0m\u001b[1;33m\u001b[0m\u001b[0m\n\u001b[0;32m    668\u001b[0m             \u001b[0melapsed_time\u001b[0m \u001b[1;33m=\u001b[0m \u001b[0mtime\u001b[0m\u001b[1;33m.\u001b[0m\u001b[0mtime\u001b[0m\u001b[1;33m(\u001b[0m\u001b[1;33m)\u001b[0m \u001b[1;33m-\u001b[0m \u001b[0mself\u001b[0m\u001b[1;33m.\u001b[0m\u001b[0m_start_time\u001b[0m\u001b[1;33m\u001b[0m\u001b[0m\n",
      "\u001b[1;32m/home/amassaro/anaconda/lib/python2.7/site-packages/sklearn/externals/joblib/parallel.pyc\u001b[0m in \u001b[0;36mretrieve\u001b[1;34m(self)\u001b[0m\n\u001b[0;32m    530\u001b[0m                             \u001b[1;31m# We can now allow subprocesses again\u001b[0m\u001b[1;33m\u001b[0m\u001b[1;33m\u001b[0m\u001b[0m\n\u001b[0;32m    531\u001b[0m                             \u001b[0mos\u001b[0m\u001b[1;33m.\u001b[0m\u001b[0menviron\u001b[0m\u001b[1;33m.\u001b[0m\u001b[0mpop\u001b[0m\u001b[1;33m(\u001b[0m\u001b[1;34m'__JOBLIB_SPAWNED_PARALLEL__'\u001b[0m\u001b[1;33m,\u001b[0m \u001b[1;36m0\u001b[0m\u001b[1;33m)\u001b[0m\u001b[1;33m\u001b[0m\u001b[0m\n\u001b[1;32m--> 532\u001b[1;33m                         \u001b[1;32mraise\u001b[0m \u001b[0mexception\u001b[0m\u001b[1;33m\u001b[0m\u001b[0m\n\u001b[0m\u001b[0;32m    533\u001b[0m                     \u001b[1;32melif\u001b[0m \u001b[0misinstance\u001b[0m\u001b[1;33m(\u001b[0m\u001b[0mexception\u001b[0m\u001b[1;33m,\u001b[0m \u001b[0mTransportableException\u001b[0m\u001b[1;33m)\u001b[0m\u001b[1;33m:\u001b[0m\u001b[1;33m\u001b[0m\u001b[0m\n\u001b[0;32m    534\u001b[0m                         \u001b[1;31m# Capture exception to add information on the local\u001b[0m\u001b[1;33m\u001b[0m\u001b[1;33m\u001b[0m\u001b[0m\n",
      "\u001b[1;31mKeyboardInterrupt\u001b[0m: "
     ]
    }
   ],
   "source": [
    "klf=tree.DecisionTreeClassifier(max_depth=9)\n",
    "clf1=BaggingClassifier(base_estimator=klf,max_features=1,n_estimators=200,n_jobs=-1)\n",
    "clf2=RandomForestClassifier(n_estimators=200, max_features=1,max_depth=9, n_jobs=-1)\n",
    "R=[]\n",
    "Part=[[0,1],[2,3,4,5]]\n",
    "Y_q=part(Y,Part)\n",
    "for i in range(50):\n",
    "\n",
    "    res=evaluate_clf_1_2(clf1,clf2,X,Y_q,features)\n",
    "    r=res[0]    \n",
    "    H=[r[i,i]/sum(r[:,i]) for i in range(3)]\n",
    "    G=[r[i,i]/sum(r[i,:]) for i in range(3)]\n",
    "    T=sum(np.diag(r))/np.sum(r)\n",
    "    ff=open('recall_precision_accuracies_bagging_1f+forest1f_[01][2345]_200','a')\n",
    "    ff.write('forest_1f_200_estim;'+str(H)+';'+str(G)+';'+str(T)+';\\n')\n",
    "    ff.close()\n",
    "#for r in R9:\n",
    "    #print(r[0,0]/sum(r[:,0]),r[1,1]/sum(r[:,1]),r[2,2]/sum(r[:,2]))\n",
    "    #print ('***')"
   ]
  },
  {
   "cell_type": "code",
   "execution_count": 7,
   "metadata": {
    "collapsed": false
   },
   "outputs": [
    {
     "name": "stdout",
     "output_type": "stream",
     "text": [
      "(0.84999999999999998, 0.62068965517241381, 0.85324232081911267)\n",
      "(0.24637681159420291, 0.72483221476510062, 0.92936802973977695)\n",
      "0.770020533881\n",
      "****\n",
      "(0.84999999999999998, 0.62643678160919536, 0.85324232081911267)\n",
      "(0.24637681159420291, 0.72666666666666668, 0.93283582089552242)\n",
      "0.772073921971\n",
      "****\n",
      "(0.82608695652173914, 0.625, 0.84797297297297303)\n",
      "(0.27536231884057971, 0.70469798657718119, 0.93308550185873607)\n",
      "0.770020533881\n",
      "****\n",
      "(0.86363636363636365, 0.62941176470588234, 0.84745762711864403)\n",
      "(0.27536231884057971, 0.71333333333333337, 0.93283582089552242)\n",
      "0.772073921971\n",
      "****\n",
      "(0.8571428571428571, 0.6257309941520468, 0.84745762711864403)\n",
      "(0.2608695652173913, 0.71333333333333337, 0.93283582089552242)\n",
      "0.770020533881\n",
      "****\n",
      "(0.8571428571428571, 0.6257309941520468, 0.84745762711864403)\n",
      "(0.2608695652173913, 0.71333333333333337, 0.93283582089552242)\n",
      "0.770020533881\n",
      "****\n",
      "(0.84999999999999998, 0.62790697674418605, 0.85084745762711866)\n",
      "(0.24637681159420291, 0.71999999999999997, 0.93656716417910446)\n",
      "0.772073921971\n",
      "****\n"
     ]
    },
    {
     "ename": "KeyboardInterrupt",
     "evalue": "",
     "output_type": "error",
     "traceback": [
      "\u001b[1;31m---------------------------------------------------------------------------\u001b[0m",
      "\u001b[1;31mKeyboardInterrupt\u001b[0m                         Traceback (most recent call last)",
      "\u001b[1;32m<ipython-input-7-9c6db7b94aaa>\u001b[0m in \u001b[0;36m<module>\u001b[1;34m()\u001b[0m\n\u001b[0;32m      5\u001b[0m \u001b[1;32mfor\u001b[0m \u001b[0mi\u001b[0m \u001b[1;32min\u001b[0m \u001b[0mrange\u001b[0m\u001b[1;33m(\u001b[0m\u001b[1;36m10\u001b[0m\u001b[1;33m)\u001b[0m\u001b[1;33m:\u001b[0m\u001b[1;33m\u001b[0m\u001b[0m\n\u001b[0;32m      6\u001b[0m \u001b[1;33m\u001b[0m\u001b[0m\n\u001b[1;32m----> 7\u001b[1;33m     \u001b[0mres\u001b[0m\u001b[1;33m=\u001b[0m\u001b[0mevaluate_clf_1\u001b[0m\u001b[1;33m(\u001b[0m\u001b[0mclf\u001b[0m\u001b[1;33m,\u001b[0m\u001b[0mX\u001b[0m\u001b[1;33m,\u001b[0m\u001b[0mY_q\u001b[0m\u001b[1;33m,\u001b[0m\u001b[0mfeatures\u001b[0m\u001b[1;33m)\u001b[0m\u001b[1;33m\u001b[0m\u001b[0m\n\u001b[0m\u001b[0;32m      8\u001b[0m     \u001b[0mr\u001b[0m\u001b[1;33m=\u001b[0m\u001b[0mres\u001b[0m\u001b[1;33m[\u001b[0m\u001b[1;36m0\u001b[0m\u001b[1;33m]\u001b[0m\u001b[1;33m\u001b[0m\u001b[0m\n\u001b[0;32m      9\u001b[0m     \u001b[0mf\u001b[0m\u001b[1;33m=\u001b[0m\u001b[0mopen\u001b[0m\u001b[1;33m(\u001b[0m\u001b[1;34m'recalls_bagging_1f_[01][2345]_400'\u001b[0m\u001b[1;33m,\u001b[0m\u001b[1;34m'a'\u001b[0m\u001b[1;33m)\u001b[0m\u001b[1;33m\u001b[0m\u001b[0m\n",
      "\u001b[1;32m<ipython-input-5-7d11a55754f1>\u001b[0m in \u001b[0;36mevaluate_clf_1\u001b[1;34m(clf, X, Y_q, features)\u001b[0m\n\u001b[0;32m     12\u001b[0m         \u001b[0mclf\u001b[0m \u001b[1;33m=\u001b[0m \u001b[0mclf\u001b[0m\u001b[1;33m.\u001b[0m\u001b[0mfit\u001b[0m\u001b[1;33m(\u001b[0m\u001b[0mXX\u001b[0m\u001b[1;33m,\u001b[0m \u001b[0my\u001b[0m\u001b[1;33m)\u001b[0m\u001b[1;33m\u001b[0m\u001b[0m\n\u001b[0;32m     13\u001b[0m         \u001b[0mtrue\u001b[0m\u001b[1;33m=\u001b[0m\u001b[0mnp\u001b[0m\u001b[1;33m.\u001b[0m\u001b[0marray\u001b[0m\u001b[1;33m(\u001b[0m\u001b[1;33m[\u001b[0m\u001b[0mint\u001b[0m\u001b[1;33m(\u001b[0m\u001b[0mY_q\u001b[0m\u001b[1;33m[\u001b[0m\u001b[0mt\u001b[0m\u001b[1;33m]\u001b[0m\u001b[1;33m)\u001b[0m \u001b[1;32mfor\u001b[0m \u001b[0mt\u001b[0m \u001b[1;32min\u001b[0m \u001b[0mtest\u001b[0m\u001b[1;33m]\u001b[0m\u001b[1;33m)\u001b[0m\u001b[1;33m\u001b[0m\u001b[0m\n\u001b[1;32m---> 14\u001b[1;33m         \u001b[0mpred\u001b[0m\u001b[1;33m=\u001b[0m\u001b[0mnp\u001b[0m\u001b[1;33m.\u001b[0m\u001b[0marray\u001b[0m\u001b[1;33m(\u001b[0m\u001b[1;33m[\u001b[0m\u001b[0mint\u001b[0m\u001b[1;33m(\u001b[0m\u001b[0mclf\u001b[0m\u001b[1;33m.\u001b[0m\u001b[0mpredict\u001b[0m\u001b[1;33m(\u001b[0m\u001b[1;33m[\u001b[0m\u001b[0mX\u001b[0m\u001b[1;33m[\u001b[0m\u001b[0mt\u001b[0m\u001b[1;33m]\u001b[0m\u001b[1;33m[\u001b[0m\u001b[0mfeatures\u001b[0m\u001b[1;33m]\u001b[0m\u001b[1;33m]\u001b[0m\u001b[1;33m)\u001b[0m\u001b[1;33m[\u001b[0m\u001b[1;36m0\u001b[0m\u001b[1;33m]\u001b[0m\u001b[1;33m)\u001b[0m \u001b[1;32mfor\u001b[0m \u001b[0mt\u001b[0m \u001b[1;32min\u001b[0m \u001b[0mtest\u001b[0m\u001b[1;33m]\u001b[0m\u001b[1;33m)\u001b[0m\u001b[1;33m\u001b[0m\u001b[0m\n\u001b[0m\u001b[0;32m     15\u001b[0m         \u001b[0mConf\u001b[0m\u001b[1;33m[\u001b[0m\u001b[0mtrue\u001b[0m\u001b[1;33m,\u001b[0m\u001b[0mpred\u001b[0m\u001b[1;33m]\u001b[0m\u001b[1;33m+=\u001b[0m\u001b[1;36m1\u001b[0m\u001b[1;33m\u001b[0m\u001b[0m\n\u001b[0;32m     16\u001b[0m         \u001b[1;31m#if i%200==0:\u001b[0m\u001b[1;33m\u001b[0m\u001b[1;33m\u001b[0m\u001b[0m\n",
      "\u001b[1;32m/home/amassaro/anaconda/lib/python2.7/site-packages/sklearn/ensemble/bagging.pyc\u001b[0m in \u001b[0;36mpredict\u001b[1;34m(self, X)\u001b[0m\n\u001b[0;32m    519\u001b[0m             \u001b[0mThe\u001b[0m \u001b[0mpredicted\u001b[0m \u001b[0mclasses\u001b[0m\u001b[1;33m.\u001b[0m\u001b[1;33m\u001b[0m\u001b[0m\n\u001b[0;32m    520\u001b[0m         \"\"\"\n\u001b[1;32m--> 521\u001b[1;33m         \u001b[0mpredicted_probabilitiy\u001b[0m \u001b[1;33m=\u001b[0m \u001b[0mself\u001b[0m\u001b[1;33m.\u001b[0m\u001b[0mpredict_proba\u001b[0m\u001b[1;33m(\u001b[0m\u001b[0mX\u001b[0m\u001b[1;33m)\u001b[0m\u001b[1;33m\u001b[0m\u001b[0m\n\u001b[0m\u001b[0;32m    522\u001b[0m         return self.classes_.take((np.argmax(predicted_probabilitiy, axis=1)),\n\u001b[0;32m    523\u001b[0m                                   axis=0)\n",
      "\u001b[1;32m/home/amassaro/anaconda/lib/python2.7/site-packages/sklearn/ensemble/bagging.pyc\u001b[0m in \u001b[0;36mpredict_proba\u001b[1;34m(self, X)\u001b[0m\n\u001b[0;32m    565\u001b[0m                 \u001b[0mX\u001b[0m\u001b[1;33m,\u001b[0m\u001b[1;33m\u001b[0m\u001b[0m\n\u001b[0;32m    566\u001b[0m                 self.n_classes_)\n\u001b[1;32m--> 567\u001b[1;33m             for i in range(n_jobs))\n\u001b[0m\u001b[0;32m    568\u001b[0m \u001b[1;33m\u001b[0m\u001b[0m\n\u001b[0;32m    569\u001b[0m         \u001b[1;31m# Reduce\u001b[0m\u001b[1;33m\u001b[0m\u001b[1;33m\u001b[0m\u001b[0m\n",
      "\u001b[1;32m/home/amassaro/anaconda/lib/python2.7/site-packages/sklearn/externals/joblib/parallel.pyc\u001b[0m in \u001b[0;36m__call__\u001b[1;34m(self, iterable)\u001b[0m\n\u001b[0;32m    664\u001b[0m                 \u001b[1;31m# consumption.\u001b[0m\u001b[1;33m\u001b[0m\u001b[1;33m\u001b[0m\u001b[0m\n\u001b[0;32m    665\u001b[0m                 \u001b[0mself\u001b[0m\u001b[1;33m.\u001b[0m\u001b[0m_iterating\u001b[0m \u001b[1;33m=\u001b[0m \u001b[0mFalse\u001b[0m\u001b[1;33m\u001b[0m\u001b[0m\n\u001b[1;32m--> 666\u001b[1;33m             \u001b[0mself\u001b[0m\u001b[1;33m.\u001b[0m\u001b[0mretrieve\u001b[0m\u001b[1;33m(\u001b[0m\u001b[1;33m)\u001b[0m\u001b[1;33m\u001b[0m\u001b[0m\n\u001b[0m\u001b[0;32m    667\u001b[0m             \u001b[1;31m# Make sure that we get a last message telling us we are done\u001b[0m\u001b[1;33m\u001b[0m\u001b[1;33m\u001b[0m\u001b[0m\n\u001b[0;32m    668\u001b[0m             \u001b[0melapsed_time\u001b[0m \u001b[1;33m=\u001b[0m \u001b[0mtime\u001b[0m\u001b[1;33m.\u001b[0m\u001b[0mtime\u001b[0m\u001b[1;33m(\u001b[0m\u001b[1;33m)\u001b[0m \u001b[1;33m-\u001b[0m \u001b[0mself\u001b[0m\u001b[1;33m.\u001b[0m\u001b[0m_start_time\u001b[0m\u001b[1;33m\u001b[0m\u001b[0m\n",
      "\u001b[1;32m/home/amassaro/anaconda/lib/python2.7/site-packages/sklearn/externals/joblib/parallel.pyc\u001b[0m in \u001b[0;36mretrieve\u001b[1;34m(self)\u001b[0m\n\u001b[0;32m    530\u001b[0m                             \u001b[1;31m# We can now allow subprocesses again\u001b[0m\u001b[1;33m\u001b[0m\u001b[1;33m\u001b[0m\u001b[0m\n\u001b[0;32m    531\u001b[0m                             \u001b[0mos\u001b[0m\u001b[1;33m.\u001b[0m\u001b[0menviron\u001b[0m\u001b[1;33m.\u001b[0m\u001b[0mpop\u001b[0m\u001b[1;33m(\u001b[0m\u001b[1;34m'__JOBLIB_SPAWNED_PARALLEL__'\u001b[0m\u001b[1;33m,\u001b[0m \u001b[1;36m0\u001b[0m\u001b[1;33m)\u001b[0m\u001b[1;33m\u001b[0m\u001b[0m\n\u001b[1;32m--> 532\u001b[1;33m                         \u001b[1;32mraise\u001b[0m \u001b[0mexception\u001b[0m\u001b[1;33m\u001b[0m\u001b[0m\n\u001b[0m\u001b[0;32m    533\u001b[0m                     \u001b[1;32melif\u001b[0m \u001b[0misinstance\u001b[0m\u001b[1;33m(\u001b[0m\u001b[0mexception\u001b[0m\u001b[1;33m,\u001b[0m \u001b[0mTransportableException\u001b[0m\u001b[1;33m)\u001b[0m\u001b[1;33m:\u001b[0m\u001b[1;33m\u001b[0m\u001b[0m\n\u001b[0;32m    534\u001b[0m                         \u001b[1;31m# Capture exception to add information on the local\u001b[0m\u001b[1;33m\u001b[0m\u001b[1;33m\u001b[0m\u001b[0m\n",
      "\u001b[1;31mKeyboardInterrupt\u001b[0m: "
     ]
    }
   ],
   "source": [
    "clf=BaggingClassifier(base_estimator=klf,max_features=1,n_estimators=400,n_jobs=-1)\n",
    "R=[]\n",
    "Part=[[0,1],[2,3,4,5]]\n",
    "Y_q=part(Y,Part)\n",
    "for i in range(10):\n",
    "\n",
    "    res=evaluate_clf_1(clf,X,Y_q,features)\n",
    "    r=res[0]\n",
    "    f=open('recalls_bagging_1f_[01][2345]_400','a')\n",
    "    g=open('accuracies_bagging_1f_[01][2345]_400','a')\n",
    "    h=open('confusions_bagging_1f_[01][2345]_400','a')\n",
    "    print(r[0,0]/sum(r[:,0]),r[1,1]/sum(r[:,1]),r[2,2]/sum(r[:,2]))\n",
    "    print(r[0,0]/sum(r[0,:]),r[1,1]/sum(r[1,:]),r[2,2]/sum(r[2,:]))\n",
    "    print((r[0,0]+r[1,1]+r[2,2])/np.sum(r))\n",
    "    print('****')\n",
    "    f.write(str(r[0,0]/sum(r[:,0]))+','+str(r[1,1]/sum(r[:,1]))+','+str(r[2,2]/sum(r[:,2]))+'\\n')\n",
    "    g.write(str(r[0,0]/sum(r[0,:]))+','+str(r[1,1]/sum(r[1,:]))+','+str(r[2,2]/sum(r[2,:]))+'\\n')\n",
    "    h.write(str([list(a) for a in r])+'\\n')\n",
    "    h.close()\n",
    "    f.close()\n",
    "    g.close()"
   ]
  },
  {
   "cell_type": "code",
   "execution_count": 19,
   "metadata": {
    "collapsed": false
   },
   "outputs": [
    {
     "name": "stdout",
     "output_type": "stream",
     "text": [
      "(0.72413793103448276, 0.69078947368421051, 0.87003610108303253)\n"
     ]
    },
    {
     "ename": "KeyboardInterrupt",
     "evalue": "",
     "output_type": "error",
     "traceback": [
      "\u001b[1;31m---------------------------------------------------------------------------\u001b[0m",
      "\u001b[1;31mKeyboardInterrupt\u001b[0m                         Traceback (most recent call last)",
      "\u001b[1;32m<ipython-input-19-6f091123b795>\u001b[0m in \u001b[0;36m<module>\u001b[1;34m()\u001b[0m\n\u001b[0;32m      5\u001b[0m \u001b[1;32mfor\u001b[0m \u001b[0mi\u001b[0m \u001b[1;32min\u001b[0m \u001b[0mrange\u001b[0m\u001b[1;33m(\u001b[0m\u001b[1;36m5\u001b[0m\u001b[1;33m)\u001b[0m\u001b[1;33m:\u001b[0m\u001b[1;33m\u001b[0m\u001b[0m\n\u001b[0;32m      6\u001b[0m \u001b[1;33m\u001b[0m\u001b[0m\n\u001b[1;32m----> 7\u001b[1;33m     \u001b[0mres\u001b[0m\u001b[1;33m=\u001b[0m\u001b[0mevaluate_clf_1\u001b[0m\u001b[1;33m(\u001b[0m\u001b[0mclf\u001b[0m\u001b[1;33m,\u001b[0m\u001b[0mX\u001b[0m\u001b[1;33m,\u001b[0m\u001b[0mY_q\u001b[0m\u001b[1;33m,\u001b[0m\u001b[0mfeatures\u001b[0m\u001b[1;33m)\u001b[0m\u001b[1;33m\u001b[0m\u001b[0m\n\u001b[0m\u001b[0;32m      8\u001b[0m     \u001b[0mr\u001b[0m\u001b[1;33m=\u001b[0m\u001b[0mres\u001b[0m\u001b[1;33m[\u001b[0m\u001b[1;36m0\u001b[0m\u001b[1;33m]\u001b[0m\u001b[1;33m\u001b[0m\u001b[0m\n\u001b[0;32m      9\u001b[0m     \u001b[0mR\u001b[0m\u001b[1;33m.\u001b[0m\u001b[0mappend\u001b[0m\u001b[1;33m(\u001b[0m\u001b[0mres\u001b[0m\u001b[1;33m[\u001b[0m\u001b[1;36m0\u001b[0m\u001b[1;33m]\u001b[0m\u001b[1;33m)\u001b[0m\u001b[1;33m\u001b[0m\u001b[0m\n",
      "\u001b[1;32m<ipython-input-4-725c5ece2a4f>\u001b[0m in \u001b[0;36mevaluate_clf_1\u001b[1;34m(clf, X, Y_q, features)\u001b[0m\n\u001b[0;32m     11\u001b[0m         \u001b[0mclf\u001b[0m \u001b[1;33m=\u001b[0m \u001b[0mclf\u001b[0m\u001b[1;33m.\u001b[0m\u001b[0mfit\u001b[0m\u001b[1;33m(\u001b[0m\u001b[0mXX\u001b[0m\u001b[1;33m,\u001b[0m \u001b[0my\u001b[0m\u001b[1;33m)\u001b[0m\u001b[1;33m\u001b[0m\u001b[0m\n\u001b[0;32m     12\u001b[0m         \u001b[0mtrue\u001b[0m\u001b[1;33m=\u001b[0m\u001b[0mnp\u001b[0m\u001b[1;33m.\u001b[0m\u001b[0marray\u001b[0m\u001b[1;33m(\u001b[0m\u001b[1;33m[\u001b[0m\u001b[0mint\u001b[0m\u001b[1;33m(\u001b[0m\u001b[0mY_q\u001b[0m\u001b[1;33m[\u001b[0m\u001b[0mt\u001b[0m\u001b[1;33m]\u001b[0m\u001b[1;33m)\u001b[0m \u001b[1;32mfor\u001b[0m \u001b[0mt\u001b[0m \u001b[1;32min\u001b[0m \u001b[0mtest\u001b[0m\u001b[1;33m]\u001b[0m\u001b[1;33m)\u001b[0m\u001b[1;33m\u001b[0m\u001b[0m\n\u001b[1;32m---> 13\u001b[1;33m         \u001b[0mpred\u001b[0m\u001b[1;33m=\u001b[0m\u001b[0mnp\u001b[0m\u001b[1;33m.\u001b[0m\u001b[0marray\u001b[0m\u001b[1;33m(\u001b[0m\u001b[1;33m[\u001b[0m\u001b[0mint\u001b[0m\u001b[1;33m(\u001b[0m\u001b[0mclf\u001b[0m\u001b[1;33m.\u001b[0m\u001b[0mpredict\u001b[0m\u001b[1;33m(\u001b[0m\u001b[1;33m[\u001b[0m\u001b[0mX\u001b[0m\u001b[1;33m[\u001b[0m\u001b[0mt\u001b[0m\u001b[1;33m]\u001b[0m\u001b[1;33m[\u001b[0m\u001b[0mfeatures\u001b[0m\u001b[1;33m]\u001b[0m\u001b[1;33m]\u001b[0m\u001b[1;33m)\u001b[0m\u001b[1;33m[\u001b[0m\u001b[1;36m0\u001b[0m\u001b[1;33m]\u001b[0m\u001b[1;33m)\u001b[0m \u001b[1;32mfor\u001b[0m \u001b[0mt\u001b[0m \u001b[1;32min\u001b[0m \u001b[0mtest\u001b[0m\u001b[1;33m]\u001b[0m\u001b[1;33m)\u001b[0m\u001b[1;33m\u001b[0m\u001b[0m\n\u001b[0m\u001b[0;32m     14\u001b[0m         \u001b[0mConf\u001b[0m\u001b[1;33m[\u001b[0m\u001b[0mtrue\u001b[0m\u001b[1;33m,\u001b[0m\u001b[0mpred\u001b[0m\u001b[1;33m]\u001b[0m\u001b[1;33m+=\u001b[0m\u001b[1;36m1\u001b[0m\u001b[1;33m\u001b[0m\u001b[0m\n\u001b[0;32m     15\u001b[0m         \u001b[1;31m#if i%200==0:\u001b[0m\u001b[1;33m\u001b[0m\u001b[1;33m\u001b[0m\u001b[0m\n",
      "\u001b[1;32m/home/amassaro/anaconda/lib/python2.7/site-packages/sklearn/ensemble/forest.pyc\u001b[0m in \u001b[0;36mpredict\u001b[1;34m(self, X)\u001b[0m\n\u001b[0;32m    460\u001b[0m         \u001b[1;31m# for 1d.\u001b[0m\u001b[1;33m\u001b[0m\u001b[1;33m\u001b[0m\u001b[0m\n\u001b[0;32m    461\u001b[0m         \u001b[0mX\u001b[0m \u001b[1;33m=\u001b[0m \u001b[0mcheck_array\u001b[0m\u001b[1;33m(\u001b[0m\u001b[0mX\u001b[0m\u001b[1;33m,\u001b[0m \u001b[0mensure_2d\u001b[0m\u001b[1;33m=\u001b[0m\u001b[0mFalse\u001b[0m\u001b[1;33m,\u001b[0m \u001b[0maccept_sparse\u001b[0m\u001b[1;33m=\u001b[0m\u001b[1;34m\"csr\"\u001b[0m\u001b[1;33m)\u001b[0m\u001b[1;33m\u001b[0m\u001b[0m\n\u001b[1;32m--> 462\u001b[1;33m         \u001b[0mproba\u001b[0m \u001b[1;33m=\u001b[0m \u001b[0mself\u001b[0m\u001b[1;33m.\u001b[0m\u001b[0mpredict_proba\u001b[0m\u001b[1;33m(\u001b[0m\u001b[0mX\u001b[0m\u001b[1;33m)\u001b[0m\u001b[1;33m\u001b[0m\u001b[0m\n\u001b[0m\u001b[0;32m    463\u001b[0m \u001b[1;33m\u001b[0m\u001b[0m\n\u001b[0;32m    464\u001b[0m         \u001b[1;32mif\u001b[0m \u001b[0mself\u001b[0m\u001b[1;33m.\u001b[0m\u001b[0mn_outputs_\u001b[0m \u001b[1;33m==\u001b[0m \u001b[1;36m1\u001b[0m\u001b[1;33m:\u001b[0m\u001b[1;33m\u001b[0m\u001b[0m\n",
      "\u001b[1;32m/home/amassaro/anaconda/lib/python2.7/site-packages/sklearn/ensemble/forest.pyc\u001b[0m in \u001b[0;36mpredict_proba\u001b[1;34m(self, X)\u001b[0m\n\u001b[0;32m    511\u001b[0m                              \u001b[0mbackend\u001b[0m\u001b[1;33m=\u001b[0m\u001b[1;34m\"threading\"\u001b[0m\u001b[1;33m)\u001b[0m\u001b[1;33m(\u001b[0m\u001b[1;33m\u001b[0m\u001b[0m\n\u001b[0;32m    512\u001b[0m             \u001b[0mdelayed\u001b[0m\u001b[1;33m(\u001b[0m\u001b[0m_parallel_helper\u001b[0m\u001b[1;33m)\u001b[0m\u001b[1;33m(\u001b[0m\u001b[0me\u001b[0m\u001b[1;33m,\u001b[0m \u001b[1;34m'predict_proba'\u001b[0m\u001b[1;33m,\u001b[0m \u001b[0mX\u001b[0m\u001b[1;33m,\u001b[0m \u001b[0mcheck_input\u001b[0m\u001b[1;33m=\u001b[0m\u001b[0mFalse\u001b[0m\u001b[1;33m)\u001b[0m\u001b[1;33m\u001b[0m\u001b[0m\n\u001b[1;32m--> 513\u001b[1;33m             for e in self.estimators_)\n\u001b[0m\u001b[0;32m    514\u001b[0m \u001b[1;33m\u001b[0m\u001b[0m\n\u001b[0;32m    515\u001b[0m         \u001b[1;31m# Reduce\u001b[0m\u001b[1;33m\u001b[0m\u001b[1;33m\u001b[0m\u001b[0m\n",
      "\u001b[1;32m/home/amassaro/anaconda/lib/python2.7/site-packages/sklearn/externals/joblib/parallel.pyc\u001b[0m in \u001b[0;36m__call__\u001b[1;34m(self, iterable)\u001b[0m\n\u001b[0;32m    676\u001b[0m             \u001b[1;32mif\u001b[0m \u001b[0mn_jobs\u001b[0m \u001b[1;33m>\u001b[0m \u001b[1;36m1\u001b[0m\u001b[1;33m:\u001b[0m\u001b[1;33m\u001b[0m\u001b[0m\n\u001b[0;32m    677\u001b[0m                 \u001b[0mself\u001b[0m\u001b[1;33m.\u001b[0m\u001b[0m_pool\u001b[0m\u001b[1;33m.\u001b[0m\u001b[0mclose\u001b[0m\u001b[1;33m(\u001b[0m\u001b[1;33m)\u001b[0m\u001b[1;33m\u001b[0m\u001b[0m\n\u001b[1;32m--> 678\u001b[1;33m                 \u001b[0mself\u001b[0m\u001b[1;33m.\u001b[0m\u001b[0m_pool\u001b[0m\u001b[1;33m.\u001b[0m\u001b[0mterminate\u001b[0m\u001b[1;33m(\u001b[0m\u001b[1;33m)\u001b[0m  \u001b[1;31m# terminate does a join()\u001b[0m\u001b[1;33m\u001b[0m\u001b[0m\n\u001b[0m\u001b[0;32m    679\u001b[0m                 \u001b[1;32mif\u001b[0m \u001b[0mself\u001b[0m\u001b[1;33m.\u001b[0m\u001b[0mbackend\u001b[0m \u001b[1;33m==\u001b[0m \u001b[1;34m'multiprocessing'\u001b[0m\u001b[1;33m:\u001b[0m\u001b[1;33m\u001b[0m\u001b[0m\n\u001b[0;32m    680\u001b[0m                     \u001b[0mos\u001b[0m\u001b[1;33m.\u001b[0m\u001b[0menviron\u001b[0m\u001b[1;33m.\u001b[0m\u001b[0mpop\u001b[0m\u001b[1;33m(\u001b[0m\u001b[0mJOBLIB_SPAWNED_PROCESS\u001b[0m\u001b[1;33m,\u001b[0m \u001b[1;36m0\u001b[0m\u001b[1;33m)\u001b[0m\u001b[1;33m\u001b[0m\u001b[0m\n",
      "\u001b[1;32m/home/amassaro/anaconda/lib/python2.7/multiprocessing/pool.pyc\u001b[0m in \u001b[0;36mterminate\u001b[1;34m(self)\u001b[0m\n\u001b[0;32m    463\u001b[0m         \u001b[0mself\u001b[0m\u001b[1;33m.\u001b[0m\u001b[0m_state\u001b[0m \u001b[1;33m=\u001b[0m \u001b[0mTERMINATE\u001b[0m\u001b[1;33m\u001b[0m\u001b[0m\n\u001b[0;32m    464\u001b[0m         \u001b[0mself\u001b[0m\u001b[1;33m.\u001b[0m\u001b[0m_worker_handler\u001b[0m\u001b[1;33m.\u001b[0m\u001b[0m_state\u001b[0m \u001b[1;33m=\u001b[0m \u001b[0mTERMINATE\u001b[0m\u001b[1;33m\u001b[0m\u001b[0m\n\u001b[1;32m--> 465\u001b[1;33m         \u001b[0mself\u001b[0m\u001b[1;33m.\u001b[0m\u001b[0m_terminate\u001b[0m\u001b[1;33m(\u001b[0m\u001b[1;33m)\u001b[0m\u001b[1;33m\u001b[0m\u001b[0m\n\u001b[0m\u001b[0;32m    466\u001b[0m \u001b[1;33m\u001b[0m\u001b[0m\n\u001b[0;32m    467\u001b[0m     \u001b[1;32mdef\u001b[0m \u001b[0mjoin\u001b[0m\u001b[1;33m(\u001b[0m\u001b[0mself\u001b[0m\u001b[1;33m)\u001b[0m\u001b[1;33m:\u001b[0m\u001b[1;33m\u001b[0m\u001b[0m\n",
      "\u001b[1;32m/home/amassaro/anaconda/lib/python2.7/multiprocessing/util.pyc\u001b[0m in \u001b[0;36m__call__\u001b[1;34m(self, wr)\u001b[0m\n\u001b[0;32m    205\u001b[0m                 sub_debug('finalizer calling %s with args %s and kwargs %s',\n\u001b[0;32m    206\u001b[0m                           self._callback, self._args, self._kwargs)\n\u001b[1;32m--> 207\u001b[1;33m                 \u001b[0mres\u001b[0m \u001b[1;33m=\u001b[0m \u001b[0mself\u001b[0m\u001b[1;33m.\u001b[0m\u001b[0m_callback\u001b[0m\u001b[1;33m(\u001b[0m\u001b[1;33m*\u001b[0m\u001b[0mself\u001b[0m\u001b[1;33m.\u001b[0m\u001b[0m_args\u001b[0m\u001b[1;33m,\u001b[0m \u001b[1;33m**\u001b[0m\u001b[0mself\u001b[0m\u001b[1;33m.\u001b[0m\u001b[0m_kwargs\u001b[0m\u001b[1;33m)\u001b[0m\u001b[1;33m\u001b[0m\u001b[0m\n\u001b[0m\u001b[0;32m    208\u001b[0m             \u001b[0mself\u001b[0m\u001b[1;33m.\u001b[0m\u001b[0m_weakref\u001b[0m \u001b[1;33m=\u001b[0m \u001b[0mself\u001b[0m\u001b[1;33m.\u001b[0m\u001b[0m_callback\u001b[0m \u001b[1;33m=\u001b[0m \u001b[0mself\u001b[0m\u001b[1;33m.\u001b[0m\u001b[0m_args\u001b[0m \u001b[1;33m=\u001b[0m\u001b[0;31m \u001b[0m\u001b[0;31m\\\u001b[0m\u001b[1;33m\u001b[0m\u001b[0m\n\u001b[0;32m    209\u001b[0m                             \u001b[0mself\u001b[0m\u001b[1;33m.\u001b[0m\u001b[0m_kwargs\u001b[0m \u001b[1;33m=\u001b[0m \u001b[0mself\u001b[0m\u001b[1;33m.\u001b[0m\u001b[0m_key\u001b[0m \u001b[1;33m=\u001b[0m \u001b[0mNone\u001b[0m\u001b[1;33m\u001b[0m\u001b[0m\n",
      "\u001b[1;32m/home/amassaro/anaconda/lib/python2.7/multiprocessing/pool.pyc\u001b[0m in \u001b[0;36m_terminate_pool\u001b[1;34m(cls, taskqueue, inqueue, outqueue, pool, worker_handler, task_handler, result_handler, cache)\u001b[0m\n\u001b[0;32m    504\u001b[0m         \u001b[0mdebug\u001b[0m\u001b[1;33m(\u001b[0m\u001b[1;34m'joining worker handler'\u001b[0m\u001b[1;33m)\u001b[0m\u001b[1;33m\u001b[0m\u001b[0m\n\u001b[0;32m    505\u001b[0m         \u001b[1;32mif\u001b[0m \u001b[0mthreading\u001b[0m\u001b[1;33m.\u001b[0m\u001b[0mcurrent_thread\u001b[0m\u001b[1;33m(\u001b[0m\u001b[1;33m)\u001b[0m \u001b[1;32mis\u001b[0m \u001b[1;32mnot\u001b[0m \u001b[0mworker_handler\u001b[0m\u001b[1;33m:\u001b[0m\u001b[1;33m\u001b[0m\u001b[0m\n\u001b[1;32m--> 506\u001b[1;33m             \u001b[0mworker_handler\u001b[0m\u001b[1;33m.\u001b[0m\u001b[0mjoin\u001b[0m\u001b[1;33m(\u001b[0m\u001b[1;36m1e100\u001b[0m\u001b[1;33m)\u001b[0m\u001b[1;33m\u001b[0m\u001b[0m\n\u001b[0m\u001b[0;32m    507\u001b[0m \u001b[1;33m\u001b[0m\u001b[0m\n\u001b[0;32m    508\u001b[0m         \u001b[1;31m# Terminate workers which haven't already finished.\u001b[0m\u001b[1;33m\u001b[0m\u001b[1;33m\u001b[0m\u001b[0m\n",
      "\u001b[1;32m/home/amassaro/anaconda/lib/python2.7/threading.pyc\u001b[0m in \u001b[0;36mjoin\u001b[1;34m(self, timeout)\u001b[0m\n\u001b[0;32m    958\u001b[0m                             \u001b[0mself\u001b[0m\u001b[1;33m.\u001b[0m\u001b[0m_note\u001b[0m\u001b[1;33m(\u001b[0m\u001b[1;34m\"%s.join(): timed out\"\u001b[0m\u001b[1;33m,\u001b[0m \u001b[0mself\u001b[0m\u001b[1;33m)\u001b[0m\u001b[1;33m\u001b[0m\u001b[0m\n\u001b[0;32m    959\u001b[0m                         \u001b[1;32mbreak\u001b[0m\u001b[1;33m\u001b[0m\u001b[0m\n\u001b[1;32m--> 960\u001b[1;33m                     \u001b[0mself\u001b[0m\u001b[1;33m.\u001b[0m\u001b[0m__block\u001b[0m\u001b[1;33m.\u001b[0m\u001b[0mwait\u001b[0m\u001b[1;33m(\u001b[0m\u001b[0mdelay\u001b[0m\u001b[1;33m)\u001b[0m\u001b[1;33m\u001b[0m\u001b[0m\n\u001b[0m\u001b[0;32m    961\u001b[0m                 \u001b[1;32melse\u001b[0m\u001b[1;33m:\u001b[0m\u001b[1;33m\u001b[0m\u001b[0m\n\u001b[0;32m    962\u001b[0m                     \u001b[1;32mif\u001b[0m \u001b[0m__debug__\u001b[0m\u001b[1;33m:\u001b[0m\u001b[1;33m\u001b[0m\u001b[0m\n",
      "\u001b[1;32m/home/amassaro/anaconda/lib/python2.7/threading.pyc\u001b[0m in \u001b[0;36mwait\u001b[1;34m(self, timeout)\u001b[0m\n\u001b[0;32m    357\u001b[0m                         \u001b[1;32mbreak\u001b[0m\u001b[1;33m\u001b[0m\u001b[0m\n\u001b[0;32m    358\u001b[0m                     \u001b[0mdelay\u001b[0m \u001b[1;33m=\u001b[0m \u001b[0mmin\u001b[0m\u001b[1;33m(\u001b[0m\u001b[0mdelay\u001b[0m \u001b[1;33m*\u001b[0m \u001b[1;36m2\u001b[0m\u001b[1;33m,\u001b[0m \u001b[0mremaining\u001b[0m\u001b[1;33m,\u001b[0m \u001b[1;36m.05\u001b[0m\u001b[1;33m)\u001b[0m\u001b[1;33m\u001b[0m\u001b[0m\n\u001b[1;32m--> 359\u001b[1;33m                     \u001b[0m_sleep\u001b[0m\u001b[1;33m(\u001b[0m\u001b[0mdelay\u001b[0m\u001b[1;33m)\u001b[0m\u001b[1;33m\u001b[0m\u001b[0m\n\u001b[0m\u001b[0;32m    360\u001b[0m                 \u001b[1;32mif\u001b[0m \u001b[1;32mnot\u001b[0m \u001b[0mgotit\u001b[0m\u001b[1;33m:\u001b[0m\u001b[1;33m\u001b[0m\u001b[0m\n\u001b[0;32m    361\u001b[0m                     \u001b[1;32mif\u001b[0m \u001b[0m__debug__\u001b[0m\u001b[1;33m:\u001b[0m\u001b[1;33m\u001b[0m\u001b[0m\n",
      "\u001b[1;31mKeyboardInterrupt\u001b[0m: "
     ]
    }
   ],
   "source": [
    "clf=RandomForestClassifier(n_estimators=400, max_features=1,max_depth=9, n_jobs=-1)\n",
    "R=[]\n",
    "Part=[[0,1],[2,3,4,5]]\n",
    "Y_q=part(Y,Part)\n",
    "for i in range(5):\n",
    "\n",
    "    res=evaluate_clf_1(clf,X,Y_q,features)\n",
    "    r=res[0]\n",
    "    R.append(res[0])\n",
    "    f=open('accuracies_tree_1f_[01][2345]_400','a')\n",
    "    print(r[0,0]/sum(r[:,0]),r[1,1]/sum(r[:,1]),r[2,2]/sum(r[:,2]))\n",
    "    f.write(str(r[0,0]/sum(r[:,0]))+','+str(r[1,1]/sum(r[:,1]))+','+str(r[2,2]/sum(r[:,2]))+'\\n')\n",
    "    f.close()"
   ]
  },
  {
   "cell_type": "code",
   "execution_count": 257,
   "metadata": {
    "collapsed": false
   },
   "outputs": [
    {
     "name": "stdout",
     "output_type": "stream",
     "text": [
      "(0.79629629629629628, 0.33333333333333331, 0.74042553191489358)\n",
      "(0.80000000000000004, 0.34375, 0.73750000000000004)\n",
      "(0.78538812785388123, 0.3235294117647059, 0.73931623931623935)\n",
      "(0.78899082568807344, 0.33333333333333331, 0.75217391304347825)\n",
      "(0.78703703703703709, 0.36363636363636365, 0.74369747899159666)\n"
     ]
    }
   ],
   "source": [
    "R8=[]\n",
    "F8=[]\n",
    "Part=[[0, 1, 2, 3, 4], [6, 7, 8]]\n",
    "Y_q=part(Y,Part)\n",
    "for i in range(5):\n",
    "    res=evaluate_clf_1(clf,X,Y_q,features)\n",
    "    R8.append(res[0])\n",
    "    F8.append(res[1])\n",
    "    r=res[0]\n",
    "    print(r[0,0]/sum(r[:,0]),r[1,1]/sum(r[:,1]),r[2,2]/sum(r[:,2]))"
   ]
  },
  {
   "cell_type": "code",
   "execution_count": 272,
   "metadata": {
    "collapsed": false
   },
   "outputs": [
    {
     "name": "stdout",
     "output_type": "stream",
     "text": [
      "0\n",
      "1\n",
      "2\n",
      "3\n",
      "4\n",
      "5\n",
      "6\n",
      "7\n",
      "8\n",
      "9\n",
      "10\n",
      "11\n",
      "12\n",
      "13\n",
      "14\n"
     ]
    }
   ],
   "source": [
    "R=[]\n",
    "for i in range(15):\n",
    "    res=evaluate_clf(clf,X,Y_q,features,60)\n",
    "    R.append(res)\n",
    "    print i"
   ]
  },
  {
   "cell_type": "code",
   "execution_count": 275,
   "metadata": {
    "collapsed": false
   },
   "outputs": [
    {
     "name": "stdout",
     "output_type": "stream",
     "text": [
      "[ 0.80571429  0.41714286  0.76428571]\n",
      "[ 0.76857143  0.39        0.71571429]\n",
      "[ 0.78285714  0.23142857  0.71857143]\n",
      "[ 0.8         0.27        0.74857143]\n",
      "[ 0.76857143  0.22571429  0.74285714]\n",
      "[ 0.78714286  0.26571429  0.73142857]\n",
      "[ 0.76142857  0.22857143  0.74285714]\n",
      "[ 0.76        0.35714286  0.74285714]\n",
      "[ 0.79285714  0.33285714  0.73      ]\n",
      "[ 0.81        0.45571429  0.73714286]\n",
      "[ 0.81        0.35857143  0.76285714]\n",
      "[ 0.81857143  0.46142857  0.73857143]\n",
      "[ 0.80571429  0.28571429  0.74      ]\n",
      "[ 0.77428571  0.41857143  0.75285714]\n",
      "[ 0.82857143  0.32571429  0.74428571]\n"
     ]
    }
   ],
   "source": [
    "for i in range(15):\n",
    "    H=np.array([[round(m[i,i]/float(sum(m[:,i])),2) if sum(m[:,i])!=0 else 0 for i in range(3)] for m in R[i]])\n",
    "    print np.average(H,0)"
   ]
  },
  {
   "cell_type": "code",
   "execution_count": 239,
   "metadata": {
    "collapsed": false,
    "scrolled": true
   },
   "outputs": [
    {
     "name": "stdout",
     "output_type": "stream",
     "text": [
      "0\n",
      "200\n",
      "400\n"
     ]
    },
    {
     "data": {
      "image/png": "[encoded data removed]",
      "text/plain": [
       "<matplotlib.figure.Figure at 0x7f7f500f4dd0>"
      ]
     },
     "metadata": {},
     "output_type": "display_data"
    },
    {
     "data": {
      "text/plain": [
       "array(['traffic_unique_10_q5', 'traffic_unique_10_q10',\n",
       "       'traffic_unique_10_q20', 'traffic_unique_10_q100',\n",
       "       'traffic_unique_10', 'traffic_unique_10_q', '[2, 4, 5]_q5',\n",
       "       '[1, 4, 5]_q5', '[2, 5, 9]_q5', '[0, 4, 5]_q5', '[2, 7, 9]_q5',\n",
       "       '[3, 7, 9]_q5', '[1, 7, 9]_q5', '[2, 7, 8]_q5', '[1, 5, 7]_q5',\n",
       "       '[4, 8, 9]_q5', '[3, 4, 7]_q5', '[7, 8]+_q5', '[3, 5]+_q5',\n",
       "       '[4, 5, 6]_q5'], \n",
       "      dtype='|S22')"
      ]
     },
     "execution_count": 239,
     "metadata": {},
     "output_type": "execute_result"
    }
   ],
   "source": [
    "I=np.random.permutation(len(X))\n",
    "Imps=[]\n",
    "Part=[[0, 1, 2, 3, 4], [6, 7, 8,9]]\n",
    "Y_q=part(Y,Part)\n",
    "for i in range(len(X)-1):\n",
    "    I_te=list(range(i,i+1))\n",
    "    I_tr=list(range(0,i))+list(range(i+1,len(I)))\n",
    "    train=I[I_tr]\n",
    "    test=I[I_te]\n",
    "    XX = np.array([d[features] for d in X[train]])\n",
    "    y=Y_q[train] \n",
    "    clf = clf.fit(XX, y)\n",
    "    Imps.append(clf.feature_importances_)\n",
    "    if i%200==0:\n",
    "        print i\n",
    "II=(Imps[0]-min(Imps[0]))/(max(Imps[0])-min(Imps[0]))\n",
    "for i in range(1, len(Imps)):\n",
    "    II+=(Imps[i]-min(Imps[i]))/(max(Imps[0])-min(Imps[0]))\n",
    "plt.plot(II)\n",
    "plt.show()\n",
    "\n",
    "I=np.argsort(II)\n",
    "names_features[I[:20]]\n"
   ]
  },
  {
   "cell_type": "code",
   "execution_count": 240,
   "metadata": {
    "collapsed": false
   },
   "outputs": [
    {
     "name": "stdout",
     "output_type": "stream",
     "text": [
      "0\n",
      "200\n",
      "400\n"
     ]
    },
    {
     "data": {
      "image/png": "[encoded data removed]",
      "text/plain": [
       "<matplotlib.figure.Figure at 0x7f7f2f23ea10>"
      ]
     },
     "metadata": {},
     "output_type": "display_data"
    },
    {
     "data": {
      "text/plain": [
       "array(['traffic_unique_10_q10', 'traffic_unique_10_q5',\n",
       "       'traffic_unique_10_q20', 'traffic_unique_10_q100',\n",
       "       'traffic_unique_10', 'traffic_unique_10_q', '[2, 5, 9]_q5',\n",
       "       '[1, 7, 9]_q5', '[2, 5, 6]_q5', '[1, 5, 9]_q5', '[2, 7, 8]_q5',\n",
       "       '[3, 7, 9]_q5', '[1, 5, 7]_q5', '[2, 7, 9]_q5', '[0, 5, 9]_q5',\n",
       "       '[4, 5]+_q5', '[0, 1, 7]_q5', '[3, 5]+_q5', '[3, 5, 9]_q5',\n",
       "       '[5, 6]+_q5'], \n",
       "      dtype='|S22')"
      ]
     },
     "execution_count": 240,
     "metadata": {},
     "output_type": "execute_result"
    }
   ],
   "source": [
    "I=np.random.permutation(len(X))\n",
    "Imps=[]\n",
    "Part=[[0, 1, 2, 3, 4], [6, 7, 8]]\n",
    "Y_q=part(Y,Part)\n",
    "for i in range(len(X)-1):\n",
    "    I_te=list(range(i,i+1))\n",
    "    I_tr=list(range(0,i))+list(range(i+1,len(I)))\n",
    "    train=I[I_tr]\n",
    "    test=I[I_te]\n",
    "    XX = np.array([d[features] for d in X[train]])\n",
    "    y=Y_q[train] \n",
    "    clf = clf.fit(XX, y)\n",
    "    Imps.append(clf.feature_importances_)\n",
    "    if i%200==0:\n",
    "        print i\n",
    "II=(Imps[0]-min(Imps[0]))/(max(Imps[0])-min(Imps[0]))\n",
    "for i in range(1, len(Imps)):\n",
    "    II+=(Imps[i]-min(Imps[i]))/(max(Imps[0])-min(Imps[0]))\n",
    "plt.plot(II)\n",
    "plt.show()\n",
    "\n",
    "I=np.argsort(II)\n",
    "names_features[I[:20]]\n"
   ]
  },
  {
   "cell_type": "code",
   "execution_count": 223,
   "metadata": {
    "collapsed": false
   },
   "outputs": [
    {
     "data": {
      "image/png": "[encoded data removed]",
      "text/plain": [
       "<matplotlib.figure.Figure at 0x7f7f274088d0>"
      ]
     },
     "metadata": {},
     "output_type": "display_data"
    },
    {
     "data": {
      "image/png": "[encoded data removed]",
      "text/plain": [
       "<matplotlib.figure.Figure at 0x7f7f2b276510>"
      ]
     },
     "metadata": {},
     "output_type": "display_data"
    }
   ],
   "source": [
    "p=[[0, 1, 2, 3, 4], [6, 7, 8,9]]\n",
    "#p=[[0, 1], [3, 4, 5]]\n",
    "\n",
    "H=np.histogram(Y,list(range(40)))\n",
    "barlist=plt.bar(H[1][:-1],H[0],alpha=.3)\n",
    "plt.gcf().set_size_inches(18, 5)\n",
    "for i in range(p[0][-1]+1):\n",
    "    barlist[i].set_color('g')\n",
    "for i in range(p[0][-1]+1,p[1][-1]+1):\n",
    "    barlist[i].set_color('orange')\n",
    "for i in range(p[1][-1]+1,len(barlist)):\n",
    "    barlist[i].set_color('red')\n",
    "plt.xlabel('n_of accidents')\n",
    "plt.ylabel('frequency')\n",
    "plt.show()\n",
    "\n",
    "Y_q=part(Y,p)\n",
    "H=np.histogram(Y_q,list(range(4)))\n",
    "barlist=plt.bar(H[1][:-1],H[0],alpha=.3)\n",
    "plt.gcf().set_size_inches(18, 5)\n",
    "barlist[0].set_color('g')\n",
    "barlist[1].set_color('orange')\n",
    "barlist[2].set_color('red')\n",
    "plt.xlabel('risk category')\n",
    "plt.ylabel('frequency')\n",
    "plt.tick_params(axis='x',which='both',bottom='off',top='off',labelbottom='off')\n",
    "plt.show()"
   ]
  },
  {
   "cell_type": "code",
   "execution_count": 228,
   "metadata": {
    "collapsed": false
   },
   "outputs": [
    {
     "data": {
      "image/png": "[encoded data removed]",
      "text/plain": [
       "<matplotlib.figure.Figure at 0x7f7f29dc4a50>"
      ]
     },
     "metadata": {},
     "output_type": "display_data"
    },
    {
     "data": {
      "image/png": "[encoded data removed]",
      "text/plain": [
       "<matplotlib.figure.Figure at 0x7f7f273747d0>"
      ]
     },
     "metadata": {},
     "output_type": "display_data"
    }
   ],
   "source": [
    "p=[[0, 1, 2, 3, 4], [6, 7, 8]]\n",
    "#p=[[0, 1], [3, 4, 5]]\n",
    "\n",
    "H=np.histogram(Y,list(range(40)))\n",
    "barlist=plt.bar(H[1][:-1],H[0],alpha=.3)\n",
    "plt.gcf().set_size_inches(18, 5)\n",
    "for i in range(p[0][-1]+1):\n",
    "    barlist[i].set_color('g')\n",
    "for i in range(p[0][-1]+1,p[1][-1]+1):\n",
    "    barlist[i].set_color('orange')\n",
    "for i in range(p[1][-1]+1,len(barlist)):\n",
    "    barlist[i].set_color('red')\n",
    "plt.xlabel('n_of accidents')\n",
    "plt.ylabel('frequency')\n",
    "plt.show()\n",
    "\n",
    "Y_q=part(Y,p)\n",
    "H=np.histogram(Y_q,list(range(4)))\n",
    "barlist=plt.bar(H[1][:-1],H[0],alpha=.3)\n",
    "plt.gcf().set_size_inches(18, 5)\n",
    "barlist[0].set_color('g')\n",
    "barlist[1].set_color('orange')\n",
    "barlist[2].set_color('red')\n",
    "plt.xlabel('risk category')\n",
    "plt.ylabel('frequency')\n",
    "plt.tick_params(axis='x',which='both',bottom='off',top='off',labelbottom='off')\n",
    "plt.show()"
   ]
  },
  {
   "cell_type": "code",
   "execution_count": 229,
   "metadata": {
    "collapsed": true
   },
   "outputs": [],
   "source": [
    "klf=tree.DecisionTreeClassifier(max_depth=9)\n",
    "clf=BaggingClassifier(base_estimator=klf,max_features=10,n_estimators=200,n_jobs=-1)\n",
    "p=[[0, 1], [3, 4, 5]]\n",
    "Y_q=part(Y,p)"
   ]
  },
  {
   "cell_type": "code",
   "execution_count": 230,
   "metadata": {
    "collapsed": false,
    "scrolled": true
   },
   "outputs": [
    {
     "name": "stdout",
     "output_type": "stream",
     "text": [
      "0\n",
      "400\n",
      "0\n",
      "400\n",
      "0\n",
      "400\n",
      "0\n",
      "400\n",
      "0\n",
      "400\n",
      "(0.70769230769230773, 0.49532710280373832, 0.82222222222222219)\n",
      "***\n",
      "(0.7142857142857143, 0.48484848484848486, 0.80615384615384611)\n",
      "***\n",
      "(0.69230769230769229, 0.48999999999999999, 0.81366459627329191)\n",
      "***\n",
      "(0.69841269841269837, 0.5, 0.81562500000000004)\n",
      "***\n",
      "(0.703125, 0.50980392156862742, 0.81619937694704048)\n",
      "***\n"
     ]
    }
   ],
   "source": [
    "R_B=[]\n",
    "\n",
    "for i in range(5):\n",
    "    res=evaluate_clf_1(clf,X,Y_q,features)\n",
    "    R_B.append(res[0])\n",
    "for r in R_B:\n",
    "    print(r[0,0]/sum(r[:,0]),r[1,1]/sum(r[:,1]),r[2,2]/sum(r[:,2]))\n",
    "    print ('***')"
   ]
  },
  {
   "cell_type": "code",
   "execution_count": 231,
   "metadata": {
    "collapsed": false
   },
   "outputs": [
    {
     "data": {
      "image/png": "[encoded data removed]",
      "text/plain": [
       "<matplotlib.figure.Figure at 0x7f7f29dc4b10>"
      ]
     },
     "metadata": {},
     "output_type": "display_data"
    },
    {
     "data": {
      "image/png": "[encoded data removed]",
      "text/plain": [
       "<matplotlib.figure.Figure at 0x7f7f2c743450>"
      ]
     },
     "metadata": {},
     "output_type": "display_data"
    }
   ],
   "source": [
    "p=[[0, 1], [3, 4, 5]]\n",
    "\n",
    "H=np.histogram(Y,list(range(40)))\n",
    "barlist=plt.bar(H[1][:-1],H[0],alpha=.3)\n",
    "plt.gcf().set_size_inches(18, 5)\n",
    "for i in range(p[0][-1]+1):\n",
    "    barlist[i].set_color('g')\n",
    "for i in range(p[0][-1]+1,p[1][-1]+1):\n",
    "    barlist[i].set_color('orange')\n",
    "for i in range(p[1][-1]+1,len(barlist)):\n",
    "    barlist[i].set_color('red')\n",
    "plt.xlabel('n_of accidents')\n",
    "plt.ylabel('frequency')\n",
    "plt.show()\n",
    "Y_q=part(Y,p)\n",
    "H=np.histogram(Y_q,list(range(4)))\n",
    "barlist=plt.bar(H[1][:-1],H[0],alpha=.3)\n",
    "plt.gcf().set_size_inches(18, 5)\n",
    "barlist[0].set_color('g')\n",
    "barlist[1].set_color('orange')\n",
    "barlist[2].set_color('red')\n",
    "plt.xlabel('risk category')\n",
    "plt.ylabel('frequency')\n",
    "plt.tick_params(axis='x',which='both',bottom='off',top='off',labelbottom='off')\n",
    "plt.show()"
   ]
  },
  {
   "cell_type": "code",
   "execution_count": 349,
   "metadata": {
    "collapsed": true
   },
   "outputs": [],
   "source": [
    "klf=tree.DecisionTreeClassifier(max_depth=9)\n",
    "clf=BaggingClassifier(base_estimator=klf,max_features=10,n_estimators=200,n_jobs=-1)"
   ]
  },
  {
   "cell_type": "code",
   "execution_count": 350,
   "metadata": {
    "collapsed": false
   },
   "outputs": [
    {
     "name": "stdout",
     "output_type": "stream",
     "text": [
      "0\n",
      "50\n",
      "100\n",
      "150\n",
      "200\n",
      "250\n",
      "300\n",
      "350\n",
      "400\n",
      "450\n"
     ]
    }
   ],
   "source": [
    "p=[[0,1], [2,3,4,5]]\n",
    "Y_q=part(Y,p)\n",
    "res=evaluate_clf_1(clf,X,Y_q,features)"
   ]
  },
  {
   "cell_type": "code",
   "execution_count": 351,
   "metadata": {
    "collapsed": false
   },
   "outputs": [
    {
     "data": {
      "text/plain": [
       "[array([[  39.,   26.,    4.],\n",
       "        [  13.,  110.,   27.],\n",
       "        [   2.,   26.,  240.]]), 0]"
      ]
     },
     "execution_count": 351,
     "metadata": {},
     "output_type": "execute_result"
    }
   ],
   "source": [
    "res"
   ]
  },
  {
   "cell_type": "code",
   "execution_count": 352,
   "metadata": {
    "collapsed": false
   },
   "outputs": [
    {
     "data": {
      "text/plain": [
       "[0.72222222222222221, 0.67901234567901236, 0.88560885608856088]"
      ]
     },
     "execution_count": 352,
     "metadata": {},
     "output_type": "execute_result"
    }
   ],
   "source": [
    "[res[0][i,i]/sum(res[0][:,i]) for i in range(3)]"
   ]
  },
  {
   "cell_type": "code",
   "execution_count": 353,
   "metadata": {
    "collapsed": false
   },
   "outputs": [
    {
     "name": "stdout",
     "output_type": "stream",
     "text": [
      "0\n",
      "50\n",
      "100\n",
      "150\n",
      "200\n",
      "250\n",
      "300\n",
      "350\n",
      "400\n",
      "450\n"
     ]
    },
    {
     "data": {
      "text/plain": [
       "[0.63235294117647056, 0.64743589743589747, 0.87072243346007605]"
      ]
     },
     "execution_count": 353,
     "metadata": {},
     "output_type": "execute_result"
    }
   ],
   "source": [
    "clf=RandomForestClassifier(n_estimators=5, max_features=20,max_depth=9, n_jobs=-1)\n",
    "p=[[0,1], [2,3,4,5]]\n",
    "Y_q=part(Y,p)\n",
    "res=evaluate_clf_1(clf,X,Y_q,features)\n",
    "[res[0][i,i]/sum(res[0][:,i]) for i in range(3)]"
   ]
  },
  {
   "cell_type": "code",
   "execution_count": 359,
   "metadata": {
    "collapsed": true
   },
   "outputs": [
    {
     "name": "stderr",
     "output_type": "stream",
     "text": [
      "/home/amassaro/anaconda/lib/python2.7/site-packages/IPython/kernel/__main__.py:1: RuntimeWarning: invalid value encountered in divide\n",
      "  if __name__ == '__main__':\n"
     ]
    },
    {
     "data": {
      "text/plain": [
       "[[nan, 0.75, 1.0],\n",
       " [0.0, 0.0, 0.80000000000000004],\n",
       " [nan, 0.5, 0.75],\n",
       " [0.5, 0.33333333333333331, 0.66666666666666663],\n",
       " [0.5, 0.0, 1.0],\n",
       " [0.5, 1.0, 1.0],\n",
       " [1.0, 1.0, 1.0],\n",
       " [nan, 0.0, 0.83333333333333337],\n",
       " [1.0, 0.33333333333333331, 0.66666666666666663],\n",
       " [0.5, 0.75, 1.0],\n",
       " [1.0, 0.5, 0.75],\n",
       " [1.0, 1.0, 1.0],\n",
       " [0.0, 1.0, 1.0],\n",
       " [0.33333333333333331, 0.0, 1.0],\n",
       " [0.0, nan, 0.8571428571428571],\n",
       " [0.0, 0.5, 0.40000000000000002],\n",
       " [0.66666666666666663, 0.0, 0.75],\n",
       " [1.0, 0.66666666666666663, 0.75],\n",
       " [0.5, 1.0, 0.0],\n",
       " [nan, 0.25, 1.0],\n",
       " [1.0, 0.33333333333333331, 1.0],\n",
       " [0.0, 1.0, 0.80000000000000004],\n",
       " [1.0, 0.5, 1.0],\n",
       " [0.5, 1.0, 1.0],\n",
       " [1.0, 1.0, 0.66666666666666663],\n",
       " [0.5, 0.0, 1.0],\n",
       " [0.5, 0.75, 1.0],\n",
       " [nan, 0.5, 0.83333333333333337],\n",
       " [0.0, 0.5, 1.0],\n",
       " [0.5, 1.0, 0.80000000000000004],\n",
       " [0.5, 0.0, 0.75],\n",
       " [1.0, 1.0, 1.0],\n",
       " [0.0, 0.5, 1.0],\n",
       " [0.0, 1.0, 0.5],\n",
       " [1.0, 0.59999999999999998, 1.0],\n",
       " [nan, 0.66666666666666663, 0.80000000000000004],\n",
       " [0.0, 0.33333333333333331, 1.0],\n",
       " [1.0, 0.5, 0.80000000000000004],\n",
       " [nan, 0.40000000000000002, 1.0],\n",
       " [nan, 0.5, 0.66666666666666663],\n",
       " [0.5, 0.66666666666666663, 1.0],\n",
       " [0.5, 0.5, 0.5],\n",
       " [nan, 0.75, 0.75],\n",
       " [nan, 0.66666666666666663, 1.0],\n",
       " [1.0, 0.5, 0.80000000000000004],\n",
       " [nan, 0.7142857142857143, 1.0],\n",
       " [1.0, nan, 0.7142857142857143]]"
      ]
     },
     "execution_count": 359,
     "metadata": {},
     "output_type": "execute_result"
    }
   ],
   "source": [
    "[[r[i,i]/float(sum(r[:,i])) for i in range(3)] for r in res if len(r)==3]"
   ]
  },
  {
   "cell_type": "code",
   "execution_count": 357,
   "metadata": {
    "collapsed": true
   },
   "outputs": [],
   "source": [
    "res=evaluate_clf(clf,X,Y_q,features,8)"
   ]
  },
  {
   "cell_type": "code",
   "execution_count": 358,
   "metadata": {
    "collapsed": false
   },
   "outputs": [
    {
     "data": {
      "text/plain": [
       "[array([[2, 1],\n",
       "        [1, 4]]), array([[0, 1, 0],\n",
       "        [0, 3, 0],\n",
       "        [0, 0, 4]]), array([[0, 0, 0],\n",
       "        [0, 0, 1],\n",
       "        [1, 2, 4]]), array([[0, 1, 0],\n",
       "        [0, 2, 1],\n",
       "        [0, 1, 3]]), array([[1, 1, 0],\n",
       "        [1, 1, 1],\n",
       "        [0, 1, 2]]), array([[1, 0, 0],\n",
       "        [1, 0, 0],\n",
       "        [0, 3, 3]]), array([[1, 0, 0],\n",
       "        [0, 4, 0],\n",
       "        [1, 0, 2]]), array([[1, 0, 0],\n",
       "        [0, 2, 0],\n",
       "        [0, 0, 5]]), array([[0, 1],\n",
       "        [0, 7]]), array([[0, 1, 0],\n",
       "        [0, 0, 1],\n",
       "        [0, 1, 5]]), array([[2, 1, 0],\n",
       "        [0, 1, 1],\n",
       "        [0, 1, 2]]), array([[1, 0, 0],\n",
       "        [0, 3, 0],\n",
       "        [1, 1, 2]]), array([[2, 0, 0],\n",
       "        [0, 1, 1],\n",
       "        [0, 1, 3]]), array([[2, 0, 0],\n",
       "        [0, 4, 0],\n",
       "        [0, 0, 2]]), array([[0, 0, 0],\n",
       "        [1, 2, 0],\n",
       "        [0, 0, 5]]), array([[1, 1],\n",
       "        [0, 6]]), array([[1, 1, 0],\n",
       "        [2, 0, 0],\n",
       "        [0, 1, 3]]), array([[3, 0],\n",
       "        [1, 4]]), array([[0, 0, 0],\n",
       "        [1, 0, 1],\n",
       "        [0, 0, 6]]), array([[0, 1, 0],\n",
       "        [1, 1, 3],\n",
       "        [0, 0, 2]]), array([[1, 0],\n",
       "        [0, 7]]), array([[1, 0],\n",
       "        [1, 6]]), array([[2, 1, 0],\n",
       "        [1, 0, 1],\n",
       "        [0, 0, 3]]), array([[1, 1, 0],\n",
       "        [0, 2, 1],\n",
       "        [0, 0, 3]]), array([[2, 0],\n",
       "        [0, 6]]), array([[2, 0, 0],\n",
       "        [2, 3, 1],\n",
       "        [0, 0, 0]]), array([[0, 1, 0],\n",
       "        [0, 1, 0],\n",
       "        [0, 2, 4]]), array([[1, 1, 0],\n",
       "        [0, 1, 0],\n",
       "        [0, 1, 4]]), array([[0, 0, 1],\n",
       "        [1, 2, 0],\n",
       "        [0, 0, 4]]), array([[2, 0, 0],\n",
       "        [0, 1, 0],\n",
       "        [0, 1, 4]]), array([[2, 0],\n",
       "        [1, 5]]), array([[1, 0, 0],\n",
       "        [1, 1, 0],\n",
       "        [0, 0, 5]]), array([[3, 0, 1],\n",
       "        [0, 2, 0],\n",
       "        [0, 0, 2]]), array([[1, 1],\n",
       "        [2, 4]]), array([[1, 1, 0],\n",
       "        [1, 0, 0],\n",
       "        [0, 1, 4]]), array([[1, 1, 0],\n",
       "        [1, 3, 0],\n",
       "        [0, 0, 2]]), array([[2, 0],\n",
       "        [1, 5]]), array([[0, 1, 0],\n",
       "        [0, 1, 1],\n",
       "        [0, 0, 5]]), array([[1, 0],\n",
       "        [1, 6]]), array([[0, 1, 0],\n",
       "        [0, 2, 0],\n",
       "        [1, 1, 3]]), array([[1, 0, 0],\n",
       "        [1, 1, 1],\n",
       "        [0, 0, 4]]), array([[1, 0, 0],\n",
       "        [0, 0, 1],\n",
       "        [1, 2, 3]]), array([[1, 1],\n",
       "        [0, 6]]), array([[1, 0, 0],\n",
       "        [0, 4, 0],\n",
       "        [0, 0, 3]]), array([[0, 0, 0],\n",
       "        [1, 1, 0],\n",
       "        [0, 1, 5]]), array([[0, 0, 0],\n",
       "        [1, 5, 1],\n",
       "        [0, 0, 1]]), array([[1, 2, 0],\n",
       "        [0, 3, 0],\n",
       "        [0, 0, 2]]), array([[0, 1, 1],\n",
       "        [0, 2, 0],\n",
       "        [0, 0, 4]]), array([[0, 2, 0],\n",
       "        [1, 1, 0],\n",
       "        [0, 0, 4]]), array([[1, 1, 0],\n",
       "        [0, 1, 1],\n",
       "        [0, 0, 4]]), array([[0, 1, 0],\n",
       "        [0, 2, 0],\n",
       "        [0, 2, 3]]), array([[0, 1, 1],\n",
       "        [0, 1, 1],\n",
       "        [0, 0, 4]]), array([[4, 0],\n",
       "        [1, 3]]), array([[1, 1, 0],\n",
       "        [1, 2, 0],\n",
       "        [0, 0, 3]]), array([[1, 0, 0],\n",
       "        [1, 1, 2],\n",
       "        [0, 1, 2]]), array([[0, 1, 0],\n",
       "        [0, 3, 1],\n",
       "        [0, 0, 3]]), array([[0, 1, 0],\n",
       "        [0, 2, 0],\n",
       "        [0, 0, 5]]), array([[1, 0, 0],\n",
       "        [0, 1, 1],\n",
       "        [0, 1, 4]]), array([[0, 1, 0],\n",
       "        [0, 5, 0],\n",
       "        [0, 1, 1]]), array([[1, 0, 0],\n",
       "        [0, 0, 2],\n",
       "        [0, 0, 5]])]"
      ]
     },
     "execution_count": 358,
     "metadata": {},
     "output_type": "execute_result"
    }
   ],
   "source": [
    "res"
   ]
  },
  {
   "cell_type": "code",
   "execution_count": null,
   "metadata": {
    "collapsed": true
   },
   "outputs": [],
   "source": []
  }
 ],
 "metadata": {
  "kernelspec": {
   "display_name": "Python 2",
   "language": "python",
   "name": "python2"
  },
  "language_info": {
   "codemirror_mode": {
    "name": "ipython",
    "version": 2
   },
   "file_extension": ".py",
   "mimetype": "text/x-python",
   "name": "python",
   "nbconvert_exporter": "python",
   "pygments_lexer": "ipython2",
   "version": "2.7.10"
  }
 },
 "nbformat": 4,
 "nbformat_minor": 0
}
