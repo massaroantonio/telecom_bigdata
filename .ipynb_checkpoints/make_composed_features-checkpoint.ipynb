{
 "cells": [
  {
   "cell_type": "code",
   "execution_count": 3,
   "metadata": {
    "collapsed": false
   },
   "outputs": [],
   "source": [
    "from datetime import datetime, timedelta\n",
    "import numpy as np\n",
    "import matplotlib.pyplot as plt\n",
    "import os\n",
    "from sklearn.ensemble import RandomForestClassifier,AdaBoostClassifier,BaggingClassifier,GradientBoostingClassifier\n",
    "from sklearn.metrics import classification_report,accuracy_score,confusion_matrix\n",
    "from sklearn.cross_validation import train_test_split\n",
    "from sklearn import tree\n",
    "import getfeat\n",
    "from itertools import combinations as combo\n",
    "%matplotlib inline"
   ]
  },
  {
   "cell_type": "code",
   "execution_count": 4,
   "metadata": {
    "collapsed": true
   },
   "outputs": [],
   "source": [
    "start=datetime(2015,3,1,0)\n",
    "end=datetime(2015,5,1,0)\n",
    "timestep=3600\n",
    "n_timeslots=int((end-start).total_seconds()/timestep+1)"
   ]
  },
  {
   "cell_type": "code",
   "execution_count": 66,
   "metadata": {
    "collapsed": false
   },
   "outputs": [],
   "source": [
    "def percentilize(X):\n",
    "    X_s=np.sort(X)\n",
    "    a=[np.where(x==X_s)[0][-1]/float(len(X_s)) for x in X]\n",
    "    return np.array(a)"
   ]
  },
  {
   "cell_type": "code",
   "execution_count": 5,
   "metadata": {
    "collapsed": false
   },
   "outputs": [],
   "source": [
    "Q=getfeat.getfeat()\n",
    "X=Q[0][:,:5].T"
   ]
  },
  {
   "cell_type": "code",
   "execution_count": 172,
   "metadata": {
    "collapsed": false
   },
   "outputs": [],
   "source": [
    "couples=[list(y) for y in combo(list(range(len(X))), 2)]\n",
    "triples=[list(y) for y in combo(list(range(len(X))), 3)]"
   ]
  },
  {
   "cell_type": "code",
   "execution_count": 195,
   "metadata": {
    "collapsed": false
   },
   "outputs": [],
   "source": [
    "for c in couples:\n",
    "    X=np.vstack((X,np.sum(X[c],0),np.diff(X[c].T)[:,0]))\n",
    "for t in triples:\n",
    "    X=np.vstack((X,np.sum(X[t],0)))"
   ]
  },
  {
   "cell_type": "code",
   "execution_count": 196,
   "metadata": {
    "collapsed": false
   },
   "outputs": [
    {
     "data": {
      "text/plain": [
       "(35, 1465)"
      ]
     },
     "execution_count": 196,
     "metadata": {},
     "output_type": "execute_result"
    }
   ],
   "source": [
    "n=len(X)\n",
    "for i in range(n):\n",
    "    f=X[i]\n",
    "    f_p=percentilize(f)\n",
    "    f_p_100=np.round(f_p*100)\n",
    "    f_p_20=np.round(f_p*20)\n",
    "    f_p_10=np.round(f_p*10)\n",
    "    f_p_5=np.round(f_p*5)\n",
    "    X=np.vstack([X,f_p,f_p_100,f_p_20,f_p_10,f_p_5])"
   ]
  },
  {
   "cell_type": "code",
   "execution_count": 200,
   "metadata": {
    "collapsed": true
   },
   "outputs": [],
   "source": [
    "X=np.vstack((X,Q[0][:,-1]))"
   ]
  }
 ],
 "metadata": {
  "kernelspec": {
   "display_name": "Python 2",
   "language": "python",
   "name": "python2"
  },
  "language_info": {
   "codemirror_mode": {
    "name": "ipython",
    "version": 2
   },
   "file_extension": ".py",
   "mimetype": "text/x-python",
   "name": "python",
   "nbconvert_exporter": "python",
   "pygments_lexer": "ipython2",
   "version": "2.7.10"
  }
 },
 "nbformat": 4,
 "nbformat_minor": 0
}
