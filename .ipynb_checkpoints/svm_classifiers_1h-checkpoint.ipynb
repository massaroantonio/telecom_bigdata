{
 "cells": [
  {
   "cell_type": "code",
   "execution_count": 1,
   "metadata": {
    "collapsed": true
   },
   "outputs": [],
   "source": [
    "from datetime import datetime\n",
    "from datetime import timedelta\n",
    "import shapefile\n",
    "import xml.etree.ElementTree as ET\n",
    "import numpy as np\n",
    "from shapely.geometry import Point\n",
    "from shapely.geometry.polygon import Polygon\n",
    "import matplotlib.pyplot as plt\n",
    "from pyproj import Proj, transform\n",
    "from pymongo import MongoClient\n",
    "from sklearn import tree\n",
    "from sklearn.ensemble import RandomForestClassifier,AdaBoostClassifier,BaggingClassifier\n",
    "from sklearn.metrics import classification_report,accuracy_score,confusion_matrix\n",
    "%matplotlib inline"
   ]
  },
  {
   "cell_type": "code",
   "execution_count": 2,
   "metadata": {
    "collapsed": false
   },
   "outputs": [],
   "source": [
    "Data=[]\n",
    "count=[]\n",
    "inf=open('accidents_by_cell_1hour_day','r')\n",
    "for line in inf:\n",
    "    line=line.split(',')\n",
    "    line[-1]=line[-1][:-1]\n",
    "    if line[-1]!='accidents':\n",
    "        Data.append([line[1],int(line[2]),int(line[3]),float(line[4])])\n",
    "Data=np.array(Data)"
   ]
  },
  {
   "cell_type": "code",
   "execution_count": 3,
   "metadata": {
    "collapsed": false
   },
   "outputs": [
    {
     "data": {
      "text/plain": [
       "array([['2015-03-01 00:00:00', '0', '6', '0.0'],\n",
       "       ['2015-03-01 01:00:00', '1', '6', '0.0'],\n",
       "       ['2015-03-01 02:00:00', '2', '6', '0.0'],\n",
       "       ..., \n",
       "       ['2015-04-30 21:00:00', '21', '3', '0.0'],\n",
       "       ['2015-04-30 22:00:00', '22', '3', '0.0'],\n",
       "       ['2015-04-30 23:00:00', '23', '3', '0.0']], \n",
       "      dtype='|S19')"
      ]
     },
     "execution_count": 3,
     "metadata": {},
     "output_type": "execute_result"
    }
   ],
   "source": [
    "Data"
   ]
  },
  {
   "cell_type": "code",
   "execution_count": 4,
   "metadata": {
    "collapsed": false
   },
   "outputs": [],
   "source": [
    "dates=list(set(Data[:,0]))\n",
    "datetime_dates=[datetime.strptime( D,'%Y-%m-%d %H:%M:%S') for D in dates]\n",
    "datetime_dates=np.sort(datetime_dates)\n",
    "dates=[str(d) for d in datetime_dates]"
   ]
  },
  {
   "cell_type": "code",
   "execution_count": 5,
   "metadata": {
    "collapsed": false
   },
   "outputs": [],
   "source": [
    "data=np.array([[datetime_dates[i].weekday(),datetime_dates[i].hour,sum(map(float,Data[Data[:,0]==dates[i],3])) ]for i in range(len(dates))])"
   ]
  },
  {
   "cell_type": "code",
   "execution_count": 6,
   "metadata": {
    "collapsed": false
   },
   "outputs": [
    {
     "name": "stdout",
     "output_type": "stream",
     "text": [
      "distribution of n-accidents within an hour\n"
     ]
    },
    {
     "data": {
      "image/png": "[encoded data removed]",
      "text/plain": [
       "<matplotlib.figure.Figure at 0x7fa4a991a250>"
      ]
     },
     "metadata": {},
     "output_type": "display_data"
    },
    {
     "name": "stdout",
     "output_type": "stream",
     "text": [
      "n_accidents  frequency    probability  cumprob     \n",
      "0            347          23.7         23.7        \n",
      "1            298          20.36        44.06       \n",
      "2            228          15.57        59.63       \n",
      "3            167          11.41        71.04       \n",
      "4            152          10.38        81.42       \n",
      "5            93           6.35         87.77       \n",
      "6            67           4.58         92.35       \n",
      "7            46           3.14         95.49       \n",
      "8            34           2.32         97.81       \n",
      "9            14           0.96         98.77       \n",
      "10           9            0.61         99.39       \n",
      "11           4            0.27         99.66       \n",
      "12           2            0.14         99.8        \n",
      "13           0            0.0          99.8        \n",
      "14           1            0.07         99.86       \n",
      "15           0            0.0          99.86       \n",
      "16           1            0.07         99.93       \n",
      "17           1            0.07         100.0       \n",
      "18           0            0.0          100.0       \n"
     ]
    }
   ],
   "source": [
    "print('distribution of n-accidents within an hour')\n",
    "plt.hist(data[:,-1],50)\n",
    "plt.show()\n",
    "H=np.histogram(data[:,-1],list(range(20)))\n",
    "print 'n_accidents'.ljust(12),'frequency'.ljust(12),'probability'.ljust(12),'cumprob'.ljust(12)\n",
    "for i in range(len(H[1])-1):\n",
    "    print str(H[1][i]).ljust(12), str(H[0][i]).ljust(12), str(round(100*H[0][i]/float(sum(H[0])),2)).ljust(12),str(round(100*(sum(H[0][:i])+H[0][i])/float(sum(H[0])),2)).ljust(12) "
   ]
  },
  {
   "cell_type": "code",
   "execution_count": 7,
   "metadata": {
    "collapsed": false
   },
   "outputs": [
    {
     "name": "stdout",
     "output_type": "stream",
     "text": [
      "fascia  probability\n",
      "0       23.7   \n",
      "1       20.36  \n",
      "2-3     26.98  \n",
      "4-5     16.73  \n",
      "6-7-8   10.04  \n",
      ">8      2.19   \n"
     ]
    }
   ],
   "source": [
    "print 'fascia'.ljust(7),'probability'.ljust(7)\n",
    "print '0'.ljust(7), str(round(100*H[0][0]/float(sum(H[0])),2)).ljust(7)\n",
    "print '1'.ljust(7), str(round(100*H[0][1]/float(sum(H[0])),2)).ljust(7)\n",
    "print '2-3'.ljust(7), str(round(100*sum(H[0][2:4])/float(sum(H[0])),2)).ljust(7)\n",
    "print '4-5'.ljust(7), str(round(100*sum(H[0][4:6])/float(sum(H[0])),2)).ljust(7)\n",
    "print '6-7-8'.ljust(7), str(round(100*sum(H[0][6:9])/float(sum(H[0])),2)).ljust(7)\n",
    "print '>8'.ljust(7), str(round(100*sum(H[0][9:])/float(sum(H[0])),2)).ljust(7)\n"
   ]
  },
  {
   "cell_type": "code",
   "execution_count": 8,
   "metadata": {
    "collapsed": true
   },
   "outputs": [],
   "source": [
    "Scores=np.zeros(len(data))\n",
    "i=0\n",
    "for d in data:\n",
    "    if d[-1]==0:\n",
    "        score=0\n",
    "    elif d[-1]==1:\n",
    "        score =1\n",
    "    elif d[-1] in [2,3]:\n",
    "        score =2\n",
    "    elif d[-1] in [4,5]:\n",
    "        score =3\n",
    "    elif d[-1] in [6,7,8]:\n",
    "        score =4\n",
    "    else:\n",
    "        score =5\n",
    "    Scores[i]=score\n",
    "    i+=1\n",
    "    "
   ]
  },
  {
   "cell_type": "code",
   "execution_count": 9,
   "metadata": {
    "collapsed": false
   },
   "outputs": [
    {
     "data": {
      "image/png": "[encoded data removed]",
      "text/plain": [
       "<matplotlib.figure.Figure at 0x7fa4a9ba0f90>"
      ]
     },
     "metadata": {},
     "output_type": "display_data"
    }
   ],
   "source": [
    "plt.hist(Scores)\n",
    "plt.show()"
   ]
  },
  {
   "cell_type": "code",
   "execution_count": 128,
   "metadata": {
    "collapsed": false
   },
   "outputs": [
    {
     "data": {
      "text/plain": [
       "array([ 0.47685763,  0.26532465,  0.3092543 ,  0.28326992,  0.13171551,\n",
       "        0.08333333])"
      ]
     },
     "execution_count": 128,
     "metadata": {},
     "output_type": "execute_result"
    }
   ],
   "source": [
    "np.average(P,0)"
   ]
  },
  {
   "cell_type": "code",
   "execution_count": 130,
   "metadata": {
    "collapsed": false
   },
   "outputs": [
    {
     "data": {
      "text/plain": [
       "0.47685763494587025"
      ]
     },
     "execution_count": 130,
     "metadata": {},
     "output_type": "execute_result"
    }
   ],
   "source": [
    "np.average(P[:,0])"
   ]
  },
  {
   "cell_type": "code",
   "execution_count": 156,
   "metadata": {
    "collapsed": false
   },
   "outputs": [
    {
     "name": "stdout",
     "output_type": "stream",
     "text": [
      "***************\n",
      "features:  [0] \n",
      "average values on crossvalidation run\n",
      "\n",
      "distance from true:       1.41\n",
      "std from true:            1.73\n",
      "accuracy:                 0.24\n",
      "\n",
      "class precision  recall         \n",
      "0      0.22       0.31           \n",
      "1      0.07       0.06           \n",
      "2      0.27       0.61           \n",
      "3      0.0        0.0            \n",
      "4      0.0        0.0            \n",
      "5      0.0        0.0            \n",
      "avg    0.09       0.16           \n",
      "***************\n",
      "features:  [1] \n",
      "average values on crossvalidation run\n",
      "\n",
      "distance from true:       0.93\n",
      "std from true:            1.28\n",
      "accuracy:                 0.36\n",
      "\n",
      "class precision  recall         \n",
      "0      0.55       0.63           \n",
      "1      0.39       0.19           \n",
      "2      0.31       0.47           \n",
      "3      0.33       0.2            \n",
      "4      0.21       0.23           \n",
      "5      0.0        0.0            \n",
      "avg    0.3        0.29           \n",
      "***************\n",
      "features:  [0, 1] \n",
      "average values on crossvalidation run\n",
      "\n",
      "distance from true:       0.97\n",
      "std from true:            1.3\n",
      "accuracy:                 0.35\n",
      "\n",
      "class precision  recall         \n",
      "0      0.51       0.66           \n",
      "1      0.23       0.2            \n",
      "2      0.31       0.36           \n",
      "3      0.31       0.25           \n",
      "4      0.2        0.13           \n",
      "5      0.0        0.0            \n",
      "avg    0.26       0.27           \n"
     ]
    }
   ],
   "source": [
    "I=np.random.permutation(len(data))\n",
    "\n",
    "choose=0\n",
    "for choose in [[0],[1],[0,1]]:\n",
    "    m=[]\n",
    "    s=[]\n",
    "    acc=[]\n",
    "    P=[]\n",
    "    R=[]\n",
    "    for i in range(3):\n",
    "        I_te=list(range(400*i,400*(i+1)))\n",
    "        I_tr=list(range(0,400*i))+list(range(400*(i+1),len(I)))\n",
    "        train=I[I_tr]\n",
    "        test=I[I_te]\n",
    "\n",
    "        X = np.array([d[choose] for d in data[train]])\n",
    "        y=Scores[train] \n",
    "        clf = tree.DecisionTreeClassifier()\n",
    "        clf = clf.fit(X, y)\n",
    "        true=np.array([int(Scores[t]) for t in test])\n",
    "        pred=np.array([int(clf.predict([data[t][choose]])[0]) for t in test])\n",
    "        m.append(np.average(np.abs(true-pred)))\n",
    "        s.append(np.std(true-pred))\n",
    "        acc.append(accuracy_score(true,pred))\n",
    "        conf=confusion_matrix(true,pred) \n",
    "        recall=[0 if not conf[i,i] else float(conf[i,i])/sum(conf[i,:]) for i in range(len(conf[:,0]))]\n",
    "        precision=[0 if not conf[i,i] else float(conf[i,i])/sum(conf[:,i]) for i in range(len(conf[:,0]))]\n",
    "        R.append(recall)\n",
    "        P.append(precision)\n",
    "    R=np.array(R)\n",
    "    P=np.array(P)\n",
    "    print '***************\\n','features: ',choose,'\\naverage values on crossvalidation run\\n'\n",
    "    print 'distance from true: '.ljust(25),round(np.average(m),2)\n",
    "    print 'std from true: '.ljust(25),round(np.average(s),2)\n",
    "    print 'accuracy: '.ljust(25),round(np.average(acc),2)\n",
    "    PP=np.average(P,0)\n",
    "    RR=np.average(R,0)\n",
    "    print '\\nclass'.ljust(6),'precision'.ljust(10),'recall'.ljust(15)\n",
    "    for i in range(len(PP) ):\n",
    "        print str(i).ljust(6),str(round(PP[i],2)).ljust(10),str(round(RR[i],2)).ljust(15)\n",
    "    print 'avg'.ljust(6),str(round(np.average(PP),2)).ljust(10),str(round(np.average(RR),2)).ljust(15)"
   ]
  },
  {
   "cell_type": "code",
   "execution_count": 219,
   "metadata": {
    "collapsed": false
   },
   "outputs": [
    {
     "name": "stdout",
     "output_type": "stream",
     "text": [
      "***************\n",
      "\n",
      "average values on crossvalidation run\n",
      "\n",
      "distance from true:       0.93\n",
      "std from true:            1.26\n",
      "accuracy:                 0.35\n",
      "\n",
      "class precision  recall         \n",
      "0      0.55       0.56           \n",
      "1      0.29       0.28           \n",
      "2      0.32       0.33           \n",
      "3      0.26       0.27           \n",
      "4      0.22       0.2            \n",
      "5      0.0        0.0            \n",
      "avg    0.27       0.27           \n"
     ]
    }
   ],
   "source": [
    "I=np.random.permutation(len(data))\n",
    "\n",
    "m=[]\n",
    "s=[]\n",
    "acc=[]\n",
    "P=[]\n",
    "R=[]\n",
    "for i in range(3):\n",
    "    I_te=list(range(400*i,400*(i+1)))\n",
    "    I_tr=list(range(0,400*i))+list(range(400*(i+1),len(I)))\n",
    "    train=I[I_tr]\n",
    "    test=I[I_te]\n",
    "\n",
    "    X = np.array([d[:2] for d in data[train]])\n",
    "    y=Scores[train] \n",
    "    clf = RandomForestClassifier(n_estimators=100, max_features=1)\n",
    "    clf = clf.fit(X, y)\n",
    "    true=np.array([int(Scores[t]) for t in test])\n",
    "    pred=np.array([int(clf.predict([data[t][:2]])[0]) for t in test])\n",
    "    m.append(np.average(np.abs(true-pred)))\n",
    "    s.append(np.std(true-pred))\n",
    "    acc.append(accuracy_score(true,pred))\n",
    "    conf=confusion_matrix(true,pred) \n",
    "    recall=[0 if not conf[i,i] else float(conf[i,i])/sum(conf[i,:]) for i in range(len(conf[:,0]))]\n",
    "    precision=[0 if not conf[i,i] else float(conf[i,i])/sum(conf[:,i]) for i in range(len(conf[:,0]))]\n",
    "    R.append(recall)\n",
    "    P.append(precision)\n",
    "R=np.array(R)\n",
    "P=np.array(P)\n",
    "print '***************\\n''\\naverage values on crossvalidation run\\n'\n",
    "print 'distance from true: '.ljust(25),round(np.average(m),2)\n",
    "print 'std from true: '.ljust(25),round(np.average(s),2)\n",
    "print 'accuracy: '.ljust(25),round(np.average(acc),2)\n",
    "PP=np.average(P,0)\n",
    "RR=np.average(R,0)\n",
    "print '\\nclass'.ljust(6),'precision'.ljust(10),'recall'.ljust(15)\n",
    "for i in range(len(PP) ):\n",
    "    print str(i).ljust(6),str(round(PP[i],2)).ljust(10),str(round(RR[i],2)).ljust(15)\n",
    "print 'avg'.ljust(6),str(round(np.average(PP),2)).ljust(10),str(round(np.average(RR),2)).ljust(15)"
   ]
  },
  {
   "cell_type": "code",
   "execution_count": 163,
   "metadata": {
    "collapsed": false
   },
   "outputs": [
    {
     "name": "stdout",
     "output_type": "stream",
     "text": [
      "***************\n",
      "\n",
      "average values on crossvalidation run\n",
      "\n",
      "distance from true:       0.93\n",
      "std from true:            1.21\n",
      "accuracy:                 0.37\n",
      "\n",
      "class precision  recall         \n",
      "0      0.43       0.74           \n",
      "1      0.16       0.13           \n",
      "2      0.37       0.31           \n",
      "3      0.35       0.36           \n",
      "4      0.3        0.23           \n",
      "5      0.0        0.0            \n",
      "avg    0.27       0.3            \n"
     ]
    }
   ],
   "source": [
    "I=np.random.permutation(len(data))\n",
    "\n",
    "m=[]\n",
    "s=[]\n",
    "acc=[]\n",
    "P=[]\n",
    "R=[]\n",
    "for i in range(3):\n",
    "    I_te=list(range(400*i,400*(i+1)))\n",
    "    I_tr=list(range(0,400*i))+list(range(400*(i+1),len(I)))\n",
    "    train=I[I_tr]\n",
    "    test=I[I_te]\n",
    "\n",
    "    X = np.array([d[:2] for d in data[train]])\n",
    "    y=Scores[train] \n",
    "    clf = AdaBoostClassifier()\n",
    "    clf = clf.fit(X, y)\n",
    "    true=np.array([int(Scores[t]) for t in test])\n",
    "    pred=np.array([int(clf.predict([data[t][:2]])[0]) for t in test])\n",
    "    m.append(np.average(np.abs(true-pred)))\n",
    "    s.append(np.std(true-pred))\n",
    "    acc.append(accuracy_score(true,pred))\n",
    "    conf=confusion_matrix(true,pred) \n",
    "    recall=[0 if not conf[i,i] else float(conf[i,i])/sum(conf[i,:]) for i in range(len(conf[:,0]))]\n",
    "    precision=[0 if not conf[i,i] else float(conf[i,i])/sum(conf[:,i]) for i in range(len(conf[:,0]))]\n",
    "    R.append(recall)\n",
    "    P.append(precision)\n",
    "R=np.array(R)\n",
    "P=np.array(P)\n",
    "print '***************\\n''\\naverage values on crossvalidation run\\n'\n",
    "print 'distance from true: '.ljust(25),round(np.average(m),2)\n",
    "print 'std from true: '.ljust(25),round(np.average(s),2)\n",
    "print 'accuracy: '.ljust(25),round(np.average(acc),2)\n",
    "PP=np.average(P,0)\n",
    "RR=np.average(R,0)\n",
    "print '\\nclass'.ljust(6),'precision'.ljust(10),'recall'.ljust(15)\n",
    "for i in range(len(PP) ):\n",
    "    print str(i).ljust(6),str(round(PP[i],2)).ljust(10),str(round(RR[i],2)).ljust(15)\n",
    "print 'avg'.ljust(6),str(round(np.average(PP),2)).ljust(10),str(round(np.average(RR),2)).ljust(15)"
   ]
  },
  {
   "cell_type": "code",
   "execution_count": null,
   "metadata": {
    "collapsed": true
   },
   "outputs": [],
   "source": [
    "BaggingClassifier(max_features=1,n_estimators=20)"
   ]
  },
  {
   "cell_type": "code",
   "execution_count": 164,
   "metadata": {
    "collapsed": false
   },
   "outputs": [
    {
     "name": "stdout",
     "output_type": "stream",
     "text": [
      "***************\n",
      "\n",
      "average values on crossvalidation run\n",
      "\n",
      "distance from true:       0.86\n",
      "std from true:            1.15\n",
      "accuracy:                 0.38\n",
      "\n",
      "class precision  recall         \n",
      "0      0.56       0.58           \n",
      "1      0.36       0.2            \n",
      "2      0.32       0.65           \n",
      "3      0.29       0.12           \n",
      "4      0.22       0.06           \n",
      "5      0.0        0.0            \n",
      "avg    0.29       0.27           \n"
     ]
    }
   ],
   "source": [
    "I=np.random.permutation(len(data))\n",
    "\n",
    "m=[]\n",
    "s=[]\n",
    "acc=[]\n",
    "P=[]\n",
    "R=[]\n",
    "for i in range(3):\n",
    "    I_te=list(range(400*i,400*(i+1)))\n",
    "    I_tr=list(range(0,400*i))+list(range(400*(i+1),len(I)))\n",
    "    train=I[I_tr]\n",
    "    test=I[I_te]\n",
    "\n",
    "    X = np.array([d[:2] for d in data[train]])\n",
    "    y=Scores[train] \n",
    "    clf = BaggingClassifier(max_features=1,n_estimators=20)\n",
    "    clf = clf.fit(X, y)\n",
    "    true=np.array([int(Scores[t]) for t in test])\n",
    "    pred=np.array([int(clf.predict([data[t][:2]])[0]) for t in test])\n",
    "    m.append(np.average(np.abs(true-pred)))\n",
    "    s.append(np.std(true-pred))\n",
    "    acc.append(accuracy_score(true,pred))\n",
    "    conf=confusion_matrix(true,pred) \n",
    "    recall=[0 if not conf[i,i] else float(conf[i,i])/sum(conf[i,:]) for i in range(len(conf[:,0]))]\n",
    "    precision=[0 if not conf[i,i] else float(conf[i,i])/sum(conf[:,i]) for i in range(len(conf[:,0]))]\n",
    "    R.append(recall)\n",
    "    P.append(precision)\n",
    "R=np.array(R)\n",
    "P=np.array(P)\n",
    "print '***************\\n''\\naverage values on crossvalidation run\\n'\n",
    "print 'distance from true: '.ljust(25),round(np.average(m),2)\n",
    "print 'std from true: '.ljust(25),round(np.average(s),2)\n",
    "print 'accuracy: '.ljust(25),round(np.average(acc),2)\n",
    "PP=np.average(P,0)\n",
    "RR=np.average(R,0)\n",
    "print '\\nclass'.ljust(6),'precision'.ljust(10),'recall'.ljust(15)\n",
    "for i in range(len(PP) ):\n",
    "    print str(i).ljust(6),str(round(PP[i],2)).ljust(10),str(round(RR[i],2)).ljust(15)\n",
    "print 'avg'.ljust(6),str(round(np.average(PP),2)).ljust(10),str(round(np.average(RR),2)).ljust(15)"
   ]
  },
  {
   "cell_type": "code",
   "execution_count": 270,
   "metadata": {
    "collapsed": false,
    "scrolled": false
   },
   "outputs": [
    {
     "name": "stdout",
     "output_type": "stream",
     "text": [
      "hour:  0 weekdays\n"
     ]
    },
    {
     "data": {
      "image/png": "[encoded data removed]",
      "text/plain": [
       "<matplotlib.figure.Figure at 0x7fecdc559310>"
      ]
     },
     "metadata": {},
     "output_type": "display_data"
    },
    {
     "name": "stdout",
     "output_type": "stream",
     "text": [
      "hour:  1 weekdays\n"
     ]
    },
    {
     "data": {
      "image/png": "[encoded data removed]",
      "text/plain": [
       "<matplotlib.figure.Figure at 0x7fecaa770c90>"
      ]
     },
     "metadata": {},
     "output_type": "display_data"
    },
    {
     "name": "stdout",
     "output_type": "stream",
     "text": [
      "hour:  2 weekdays\n"
     ]
    },
    {
     "data": {
      "image/png": "[encoded data removed]",
      "text/plain": [
       "<matplotlib.figure.Figure at 0x7feca9e6ef50>"
      ]
     },
     "metadata": {},
     "output_type": "display_data"
    },
    {
     "name": "stdout",
     "output_type": "stream",
     "text": [
      "hour:  3 weekdays\n"
     ]
    },
    {
     "data": {
      "image/png": "[encoded data removed]",
      "text/plain": [
       "<matplotlib.figure.Figure at 0x7feca9ea2d50>"
      ]
     },
     "metadata": {},
     "output_type": "display_data"
    },
    {
     "name": "stdout",
     "output_type": "stream",
     "text": [
      "hour:  4 weekdays\n"
     ]
    },
    {
     "data": {
      "image/png": "[encoded data removed]",
      "text/plain": [
       "<matplotlib.figure.Figure at 0x7fecaa7d0810>"
      ]
     },
     "metadata": {},
     "output_type": "display_data"
    },
    {
     "name": "stdout",
     "output_type": "stream",
     "text": [
      "hour:  5 weekdays\n"
     ]
    },
    {
     "data": {
      "image/png": "[encoded data removed]",
      "text/plain": [
       "<matplotlib.figure.Figure at 0x7fecaa1fa750>"
      ]
     },
     "metadata": {},
     "output_type": "display_data"
    },
    {
     "name": "stdout",
     "output_type": "stream",
     "text": [
      "hour:  6 weekdays\n"
     ]
    },
    {
     "data": {
      "image/png": "[encoded data removed]",
      "text/plain": [
       "<matplotlib.figure.Figure at 0x7fecaa8b2050>"
      ]
     },
     "metadata": {},
     "output_type": "display_data"
    },
    {
     "name": "stdout",
     "output_type": "stream",
     "text": [
      "hour:  7 weekdays\n"
     ]
    },
    {
     "data": {
      "image/png": "[encoded data removed]",
      "text/plain": [
       "<matplotlib.figure.Figure at 0x7fecaa02bd10>"
      ]
     },
     "metadata": {},
     "output_type": "display_data"
    },
    {
     "name": "stdout",
     "output_type": "stream",
     "text": [
      "hour:  8 weekdays\n"
     ]
    },
    {
     "data": {
      "image/png": "[encoded data removed]",
      "text/plain": [
       "<matplotlib.figure.Figure at 0x7fecaac3b9d0>"
      ]
     },
     "metadata": {},
     "output_type": "display_data"
    },
    {
     "name": "stdout",
     "output_type": "stream",
     "text": [
      "hour:  9 weekdays\n"
     ]
    },
    {
     "data": {
      "image/png": "[encoded data removed]",
      "text/plain": [
       "<matplotlib.figure.Figure at 0x7feca9d30690>"
      ]
     },
     "metadata": {},
     "output_type": "display_data"
    },
    {
     "name": "stdout",
     "output_type": "stream",
     "text": [
      "hour:  10 weekdays\n"
     ]
    },
    {
     "data": {
      "image/png": "[encoded data removed]",
      "text/plain": [
       "<matplotlib.figure.Figure at 0x7fecaa99e350>"
      ]
     },
     "metadata": {},
     "output_type": "display_data"
    },
    {
     "name": "stdout",
     "output_type": "stream",
     "text": [
      "hour:  11 weekdays\n"
     ]
    },
    {
     "data": {
      "image/png": "[encoded data removed]",
      "text/plain": [
       "<matplotlib.figure.Figure at 0x7feca9cd6490>"
      ]
     },
     "metadata": {},
     "output_type": "display_data"
    },
    {
     "name": "stdout",
     "output_type": "stream",
     "text": [
      "hour:  12 weekdays\n"
     ]
    },
    {
     "data": {
      "image/png": "[encoded data removed]",
      "text/plain": [
       "<matplotlib.figure.Figure at 0x7fecaa02b990>"
      ]
     },
     "metadata": {},
     "output_type": "display_data"
    },
    {
     "name": "stdout",
     "output_type": "stream",
     "text": [
      "hour:  13 weekdays\n"
     ]
    },
    {
     "data": {
      "image/png": "[encoded data removed]",
      "text/plain": [
       "<matplotlib.figure.Figure at 0x7fecaa7a8a10>"
      ]
     },
     "metadata": {},
     "output_type": "display_data"
    },
    {
     "name": "stdout",
     "output_type": "stream",
     "text": [
      "hour:  14 weekdays\n"
     ]
    },
    {
     "data": {
      "image/png": "[encoded data removed]",
      "text/plain": [
       "<matplotlib.figure.Figure at 0x7fecaab41950>"
      ]
     },
     "metadata": {},
     "output_type": "display_data"
    },
    {
     "name": "stdout",
     "output_type": "stream",
     "text": [
      "hour:  15 weekdays\n"
     ]
    },
    {
     "data": {
      "image/png": "[encoded data removed]",
      "text/plain": [
       "<matplotlib.figure.Figure at 0x7feca9bcfd10>"
      ]
     },
     "metadata": {},
     "output_type": "display_data"
    },
    {
     "name": "stdout",
     "output_type": "stream",
     "text": [
      "hour:  16 weekdays\n"
     ]
    },
    {
     "data": {
      "image/png": "[encoded data removed]",
      "text/plain": [
       "<matplotlib.figure.Figure at 0x7feca9f56590>"
      ]
     },
     "metadata": {},
     "output_type": "display_data"
    },
    {
     "name": "stdout",
     "output_type": "stream",
     "text": [
      "hour:  17 weekdays\n"
     ]
    },
    {
     "data": {
      "image/png": "[encoded data removed]",
      "text/plain": [
       "<matplotlib.figure.Figure at 0x7feca9f53a90>"
      ]
     },
     "metadata": {},
     "output_type": "display_data"
    },
    {
     "name": "stdout",
     "output_type": "stream",
     "text": [
      "hour:  18 weekdays\n"
     ]
    },
    {
     "data": {
      "image/png": "[encoded data removed]",
      "text/plain": [
       "<matplotlib.figure.Figure at 0x7fecaaaeb050>"
      ]
     },
     "metadata": {},
     "output_type": "display_data"
    },
    {
     "name": "stdout",
     "output_type": "stream",
     "text": [
      "hour:  19 weekdays\n"
     ]
    },
    {
     "data": {
      "image/png": "[encoded data removed]",
      "text/plain": [
       "<matplotlib.figure.Figure at 0x7fecaa0dc8d0>"
      ]
     },
     "metadata": {},
     "output_type": "display_data"
    },
    {
     "name": "stdout",
     "output_type": "stream",
     "text": [
      "hour:  20 weekdays\n"
     ]
    },
    {
     "data": {
      "image/png": "[encoded data removed]",
      "text/plain": [
       "<matplotlib.figure.Figure at 0x7fecaa89a050>"
      ]
     },
     "metadata": {},
     "output_type": "display_data"
    },
    {
     "name": "stdout",
     "output_type": "stream",
     "text": [
      "hour:  21 weekdays\n"
     ]
    },
    {
     "data": {
      "image/png": "[encoded data removed]",
      "text/plain": [
       "<matplotlib.figure.Figure at 0x7fecaa4e1910>"
      ]
     },
     "metadata": {},
     "output_type": "display_data"
    },
    {
     "name": "stdout",
     "output_type": "stream",
     "text": [
      "hour:  22 weekdays\n"
     ]
    },
    {
     "data": {
      "image/png": "[encoded data removed]",
      "text/plain": [
       "<matplotlib.figure.Figure at 0x7fecaa883d50>"
      ]
     },
     "metadata": {},
     "output_type": "display_data"
    },
    {
     "name": "stdout",
     "output_type": "stream",
     "text": [
      "hour:  23 weekdays\n"
     ]
    },
    {
     "data": {
      "image/png": "[encoded data removed]",
      "text/plain": [
       "<matplotlib.figure.Figure at 0x7fecaa046150>"
      ]
     },
     "metadata": {},
     "output_type": "display_data"
    }
   ],
   "source": [
    "for i in range(24):\n",
    "    print 'hour: ',i, 'weekdays'\n",
    "    plt.hist(data[(data[:,1]==i)&(data[:,0] !=5)&(data[:,0] !=6)][:,-1],range(20))\n",
    "    plt.show()"
   ]
  },
  {
   "cell_type": "code",
   "execution_count": 167,
   "metadata": {
    "collapsed": false
   },
   "outputs": [
    {
     "data": {
      "image/png": "[encoded data removed]",
      "text/plain": [
       "<matplotlib.figure.Figure at 0x7fa4a9403090>"
      ]
     },
     "metadata": {},
     "output_type": "display_data"
    }
   ],
   "source": [
    "plt.hist(data[:,-1],list(range(20)))\n",
    "plt.show()"
   ]
  },
  {
   "cell_type": "code",
   "execution_count": 174,
   "metadata": {
    "collapsed": false,
    "scrolled": true
   },
   "outputs": [
    {
     "data": {
      "image/png": "[encoded data removed]",
      "text/plain": [
       "<matplotlib.figure.Figure at 0x7fa4a90f1f50>"
      ]
     },
     "metadata": {},
     "output_type": "display_data"
    }
   ],
   "source": [
    "plt.hist(data[data[:,-1]==0,1],list(range(25)))\n",
    "plt.show()"
   ]
  },
  {
   "cell_type": "code",
   "execution_count": 196,
   "metadata": {
    "collapsed": false
   },
   "outputs": [
    {
     "data": {
      "image/png": "[encoded data removed]",
      "text/plain": [
       "<matplotlib.figure.Figure at 0x7fa4a8c50410>"
      ]
     },
     "metadata": {},
     "output_type": "display_data"
    }
   ],
   "source": [
    "plt.hist(data[data[:,1] <7,2])\n",
    "plt.show()"
   ]
  },
  {
   "cell_type": "code",
   "execution_count": 213,
   "metadata": {
    "collapsed": false
   },
   "outputs": [
    {
     "name": "stdout",
     "output_type": "stream",
     "text": [
      "0.607142857143\n",
      "0.25\n",
      "0.0941558441558\n",
      "0.0292207792208\n",
      "0.012987012987\n",
      "0.00324675324675\n",
      "0.00324675324675\n"
     ]
    }
   ],
   "source": [
    "H=np.histogram(data[(data[:,1]<7)&(data[:,0]!=5)&(data[:,0]!=6),-1],list(range(8)))\n",
    "for h in H[0]:\n",
    "    print float(h)/sum(H[0])"
   ]
  },
  {
   "cell_type": "code",
   "execution_count": 217,
   "metadata": {
    "collapsed": false
   },
   "outputs": [
    {
     "name": "stdout",
     "output_type": "stream",
     "text": [
      "0.336134453782\n",
      "0.394957983193\n",
      "0.151260504202\n",
      "0.100840336134\n",
      "0.0168067226891\n",
      "0.0\n",
      "0.0\n"
     ]
    }
   ],
   "source": [
    "H=np.histogram(data[(data[:,1]<7)&((data[:,0]==5) | (data[:,0]==6)),-1],list(range(8)))\n",
    "for h in H[0]:\n",
    "    print float(h)/sum(H[0])"
   ]
  },
  {
   "cell_type": "code",
   "execution_count": 216,
   "metadata": {
    "collapsed": false
   },
   "outputs": [
    {
     "name": "stdout",
     "output_type": "stream",
     "text": [
      "0.531615925059\n",
      "0.290398126464\n",
      "0.110070257611\n",
      "0.0491803278689\n",
      "0.0140515222482\n",
      "0.00234192037471\n",
      "0.00234192037471\n"
     ]
    }
   ],
   "source": [
    "H=np.histogram(data[(data[:,1]<7),-1],list(range(8)))\n",
    "for h in H[0]:\n",
    "    print float(h)/sum(H[0])"
   ]
  },
  {
   "cell_type": "code",
   "execution_count": null,
   "metadata": {
    "collapsed": true
   },
   "outputs": [],
   "source": []
  }
 ],
 "metadata": {
  "kernelspec": {
   "display_name": "Python 2",
   "language": "python",
   "name": "python2"
  },
  "language_info": {
   "codemirror_mode": {
    "name": "ipython",
    "version": 2
   },
   "file_extension": ".py",
   "mimetype": "text/x-python",
   "name": "python",
   "nbconvert_exporter": "python",
   "pygments_lexer": "ipython2",
   "version": "2.7.10"
  }
 },
 "nbformat": 4,
 "nbformat_minor": 0
}
