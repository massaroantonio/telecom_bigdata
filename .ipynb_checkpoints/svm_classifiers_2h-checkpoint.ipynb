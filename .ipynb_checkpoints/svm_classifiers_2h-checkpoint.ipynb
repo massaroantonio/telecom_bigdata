{
 "cells": [
  {
   "cell_type": "code",
   "execution_count": 1,
   "metadata": {
    "collapsed": true
   },
   "outputs": [],
   "source": [
    "from datetime import datetime\n",
    "from datetime import timedelta\n",
    "import shapefile\n",
    "import xml.etree.ElementTree as ET\n",
    "import numpy as np\n",
    "from shapely.geometry import Point\n",
    "from shapely.geometry.polygon import Polygon\n",
    "import matplotlib.pyplot as plt\n",
    "from pyproj import Proj, transform\n",
    "from pymongo import MongoClient\n",
    "from sklearn import svm\n",
    "from sklearn.ensemble import RandomForestClassifier,AdaBoostClassifier,BaggingClassifier\n",
    "from sklearn.metrics import classification_report,accuracy_score,confusion_matrix\n",
    "%matplotlib inline"
   ]
  },
  {
   "cell_type": "code",
   "execution_count": 2,
   "metadata": {
    "collapsed": false
   },
   "outputs": [],
   "source": [
    "Data=[]\n",
    "count=[]\n",
    "inf=open('accidents_by_cell_1hour_day','r')\n",
    "for line in inf:\n",
    "    line=line.split(',')\n",
    "    line[-1]=line[-1][:-1]\n",
    "    if line[-1]!='accidents':\n",
    "        Data.append([line[1],int(line[2]),int(line[3]),float(line[4])])\n",
    "Data=np.array(Data)"
   ]
  },
  {
   "cell_type": "code",
   "execution_count": 3,
   "metadata": {
    "collapsed": false
   },
   "outputs": [
    {
     "data": {
      "text/plain": [
       "array([['2015-03-01 00:00:00', '0', '6', '0.0'],\n",
       "       ['2015-03-01 01:00:00', '1', '6', '0.0'],\n",
       "       ['2015-03-01 02:00:00', '2', '6', '0.0'],\n",
       "       ..., \n",
       "       ['2015-04-30 21:00:00', '21', '3', '0.0'],\n",
       "       ['2015-04-30 22:00:00', '22', '3', '0.0'],\n",
       "       ['2015-04-30 23:00:00', '23', '3', '0.0']], \n",
       "      dtype='|S19')"
      ]
     },
     "execution_count": 3,
     "metadata": {},
     "output_type": "execute_result"
    }
   ],
   "source": [
    "Data"
   ]
  },
  {
   "cell_type": "code",
   "execution_count": 4,
   "metadata": {
    "collapsed": false
   },
   "outputs": [],
   "source": [
    "dates=list(set(Data[:,0]))\n",
    "datetime_dates=[datetime.strptime( D,'%Y-%m-%d %H:%M:%S') for D in dates]\n",
    "datetime_dates=np.sort(datetime_dates)\n",
    "dates=[str(d) for d in datetime_dates]"
   ]
  },
  {
   "cell_type": "code",
   "execution_count": 5,
   "metadata": {
    "collapsed": false
   },
   "outputs": [],
   "source": [
    "data=np.array([[datetime_dates[i].weekday(),datetime_dates[i].hour,sum(map(float,Data[Data[:,0]==dates[i],3])) ]for i in range(len(dates))])"
   ]
  },
  {
   "cell_type": "code",
   "execution_count": 6,
   "metadata": {
    "collapsed": false
   },
   "outputs": [
    {
     "name": "stdout",
     "output_type": "stream",
     "text": [
      "distribution of n-accidents within an hour\n"
     ]
    },
    {
     "data": {
      "image/png": "[encoded data removed]",
      "text/plain": [
       "<matplotlib.figure.Figure at 0x7fd4ada1ec10>"
      ]
     },
     "metadata": {},
     "output_type": "display_data"
    },
    {
     "name": "stdout",
     "output_type": "stream",
     "text": [
      "n_accidents  frequency    probability  cumprob     \n",
      "0            347          23.7         23.7        \n",
      "1            298          20.36        44.06       \n",
      "2            228          15.57        59.63       \n",
      "3            167          11.41        71.04       \n",
      "4            152          10.38        81.42       \n",
      "5            93           6.35         87.77       \n",
      "6            67           4.58         92.35       \n",
      "7            46           3.14         95.49       \n",
      "8            34           2.32         97.81       \n",
      "9            14           0.96         98.77       \n",
      "10           9            0.61         99.39       \n",
      "11           4            0.27         99.66       \n",
      "12           2            0.14         99.8        \n",
      "13           0            0.0          99.8        \n",
      "14           1            0.07         99.86       \n",
      "15           0            0.0          99.86       \n",
      "16           1            0.07         99.93       \n",
      "17           1            0.07         100.0       \n",
      "18           0            0.0          100.0       \n"
     ]
    }
   ],
   "source": [
    "print('distribution of n-accidents within an hour')\n",
    "plt.hist(data[:,-1],50)\n",
    "plt.show()\n",
    "H=np.histogram(data[:,-1],list(range(20)))\n",
    "print 'n_accidents'.ljust(12),'frequency'.ljust(12),'probability'.ljust(12),'cumprob'.ljust(12)\n",
    "for i in range(len(H[1])-1):\n",
    "    print str(H[1][i]).ljust(12), str(H[0][i]).ljust(12), str(round(100*H[0][i]/float(sum(H[0])),2)).ljust(12),str(round(100*(sum(H[0][:i])+H[0][i])/float(sum(H[0])),2)).ljust(12) "
   ]
  },
  {
   "cell_type": "code",
   "execution_count": 7,
   "metadata": {
    "collapsed": false
   },
   "outputs": [
    {
     "name": "stdout",
     "output_type": "stream",
     "text": [
      "fascia  probability\n",
      "0       23.7   \n",
      "1       20.36  \n",
      "2-3     26.98  \n",
      "4-5     16.73  \n",
      "6-7-8   10.04  \n",
      ">8      2.19   \n"
     ]
    }
   ],
   "source": [
    "print 'fascia'.ljust(7),'probability'.ljust(7)\n",
    "print '0'.ljust(7), str(round(100*H[0][0]/float(sum(H[0])),2)).ljust(7)\n",
    "print '1'.ljust(7), str(round(100*H[0][1]/float(sum(H[0])),2)).ljust(7)\n",
    "print '2-3'.ljust(7), str(round(100*sum(H[0][2:4])/float(sum(H[0])),2)).ljust(7)\n",
    "print '4-5'.ljust(7), str(round(100*sum(H[0][4:6])/float(sum(H[0])),2)).ljust(7)\n",
    "print '6-7-8'.ljust(7), str(round(100*sum(H[0][6:9])/float(sum(H[0])),2)).ljust(7)\n",
    "print '>8'.ljust(7), str(round(100*sum(H[0][9:])/float(sum(H[0])),2)).ljust(7)\n"
   ]
  },
  {
   "cell_type": "code",
   "execution_count": 16,
   "metadata": {
    "collapsed": true
   },
   "outputs": [],
   "source": [
    "Scores=np.zeros(len(data))\n",
    "i=0\n",
    "for d in data:\n",
    "    if d[-1]==0:\n",
    "        score=0\n",
    "    elif d[-1]==1:\n",
    "        score =1\n",
    "    elif d[-1] in [2,3]:\n",
    "        score =2\n",
    "    elif d[-1] in [4,5]:\n",
    "        score =3\n",
    "    else:\n",
    "        score =4\n",
    "    Scores[i]=score\n",
    "    i+=1"
   ]
  },
  {
   "cell_type": "code",
   "execution_count": 17,
   "metadata": {
    "collapsed": false
   },
   "outputs": [
    {
     "data": {
      "image/png": "[encoded data removed]",
      "text/plain": [
       "<matplotlib.figure.Figure at 0x7fd4b8bc3d90>"
      ]
     },
     "metadata": {},
     "output_type": "display_data"
    }
   ],
   "source": [
    "plt.hist(Scores)\n",
    "plt.show()"
   ]
  },
  {
   "cell_type": "code",
   "execution_count": 18,
   "metadata": {
    "collapsed": false
   },
   "outputs": [
    {
     "name": "stdout",
     "output_type": "stream",
     "text": [
      "***************\n",
      "features:  [0] \n",
      "average values on crossvalidation run\n",
      "\n",
      "distance from true:       1.31\n",
      "std from true:            1.54\n",
      "accuracy:                 0.25\n",
      "\n",
      "class precision  recall         \n",
      "0      0.15       0.27           \n",
      "1      0.07       0.06           \n",
      "2      0.26       0.6            \n",
      "3      0.06       0.06           \n",
      "4      0.0        0.0            \n",
      "avg    0.11       0.2            \n",
      "***************\n",
      "features:  [1] \n",
      "average values on crossvalidation run\n",
      "\n",
      "distance from true:       0.9\n",
      "std from true:            1.22\n",
      "accuracy:                 0.37\n",
      "\n",
      "class precision  recall         \n",
      "0      0.54       0.58           \n",
      "1      0.31       0.19           \n",
      "2      0.32       0.49           \n",
      "3      0.29       0.2            \n",
      "4      0.29       0.2            \n",
      "avg    0.35       0.33           \n",
      "***************\n",
      "features:  [0, 1] \n",
      "average values on crossvalidation run\n",
      "\n",
      "distance from true:       0.85\n",
      "std from true:            1.17\n",
      "accuracy:                 0.39\n",
      "\n",
      "class precision  recall         \n",
      "0      0.58       0.61           \n",
      "1      0.33       0.28           \n",
      "2      0.32       0.4            \n",
      "3      0.35       0.26           \n",
      "4      0.33       0.29           \n",
      "avg    0.38       0.37           \n"
     ]
    }
   ],
   "source": [
    "I=np.random.permutation(len(data))\n",
    "\n",
    "choose=0\n",
    "for choose in [[0],[1],[0,1]]:\n",
    "    m=[]\n",
    "    s=[]\n",
    "    acc=[]\n",
    "    P=[]\n",
    "    R=[]\n",
    "    for i in range(3):\n",
    "        I_te=list(range(400*i,400*(i+1)))\n",
    "        I_tr=list(range(0,400*i))+list(range(400*(i+1),len(I)))\n",
    "        train=I[I_tr]\n",
    "        test=I[I_te]\n",
    "\n",
    "        X = np.array([d[choose] for d in data[train]])\n",
    "        y=Scores[train] \n",
    "        clf = svm.SVC()\n",
    "        clf = clf.fit(X, y)\n",
    "        true=np.array([int(Scores[t]) for t in test])\n",
    "        pred=np.array([int(clf.predict([data[t][choose]])[0]) for t in test])\n",
    "        m.append(np.average(np.abs(true-pred)))\n",
    "        s.append(np.std(true-pred))\n",
    "        acc.append(accuracy_score(true,pred))\n",
    "        conf=confusion_matrix(true,pred) \n",
    "        recall=[0 if not conf[i,i] else float(conf[i,i])/sum(conf[i,:]) for i in range(len(conf[:,0]))]\n",
    "        precision=[0 if not conf[i,i] else float(conf[i,i])/sum(conf[:,i]) for i in range(len(conf[:,0]))]\n",
    "        R.append(recall)\n",
    "        P.append(precision)\n",
    "    R=np.array(R)\n",
    "    P=np.array(P)\n",
    "    print '***************\\n','features: ',choose,'\\naverage values on crossvalidation run\\n'\n",
    "    print 'distance from true: '.ljust(25),round(np.average(m),2)\n",
    "    print 'std from true: '.ljust(25),round(np.average(s),2)\n",
    "    print 'accuracy: '.ljust(25),round(np.average(acc),2)\n",
    "    PP=np.average(P,0)\n",
    "    RR=np.average(R,0)\n",
    "    print '\\nclass'.ljust(6),'precision'.ljust(10),'recall'.ljust(15)\n",
    "    for i in range(len(PP) ):\n",
    "        print str(i).ljust(6),str(round(PP[i],2)).ljust(10),str(round(RR[i],2)).ljust(15)\n",
    "    print 'avg'.ljust(6),str(round(np.average(PP),2)).ljust(10),str(round(np.average(RR),2)).ljust(15)"
   ]
  },
  {
   "cell_type": "code",
   "execution_count": 19,
   "metadata": {
    "collapsed": false
   },
   "outputs": [
    {
     "name": "stdout",
     "output_type": "stream",
     "text": [
      "***************\n",
      "features:  [0] \n",
      "average values on crossvalidation run\n",
      "\n",
      "distance from true:       1.34\n",
      "std from true:            1.6\n",
      "accuracy:                 0.2\n",
      "\n",
      "class precision  recall         \n",
      "0      0.0        0.0            \n",
      "1      0.21       0.26           \n",
      "2      0.26       0.4            \n",
      "3      0.13       0.21           \n",
      "4      0.05       0.05           \n",
      "avg    0.13       0.19           \n",
      "***************\n",
      "features:  [1] \n",
      "average values on crossvalidation run\n",
      "\n",
      "distance from true:       0.96\n",
      "std from true:            1.28\n",
      "accuracy:                 0.32\n",
      "\n",
      "class precision  recall         \n",
      "0      0.44       0.39           \n",
      "1      0.28       0.43           \n",
      "2      0.25       0.14           \n",
      "3      0.31       0.47           \n",
      "4      0.35       0.19           \n",
      "avg    0.33       0.32           \n",
      "***************\n",
      "features:  [0, 1] \n",
      "average values on crossvalidation run\n",
      "\n",
      "distance from true:       0.89\n",
      "std from true:            1.22\n",
      "accuracy:                 0.37\n",
      "\n",
      "class precision  recall         \n",
      "0      0.55       0.57           \n",
      "1      0.33       0.29           \n",
      "2      0.31       0.36           \n",
      "3      0.28       0.27           \n",
      "4      0.31       0.26           \n",
      "avg    0.36       0.35           \n"
     ]
    }
   ],
   "source": [
    "I=np.random.permutation(len(data))\n",
    "\n",
    "choose=0\n",
    "for choose in [[0],[1],[0,1]]:\n",
    "    m=[]\n",
    "    s=[]\n",
    "    acc=[]\n",
    "    P=[]\n",
    "    R=[]\n",
    "    for i in range(3):\n",
    "        I_te=list(range(400*i,400*(i+1)))\n",
    "        I_tr=list(range(0,400*i))+list(range(400*(i+1),len(I)))\n",
    "        train=I[I_tr]\n",
    "        test=I[I_te]\n",
    "\n",
    "        X = np.array([d[choose] for d in data[train]])\n",
    "        y=Scores[train] \n",
    "        clf = svm.NuSVC()\n",
    "        clf = clf.fit(X, y)\n",
    "        true=np.array([int(Scores[t]) for t in test])\n",
    "        pred=np.array([int(clf.predict([data[t][choose]])[0]) for t in test])\n",
    "        m.append(np.average(np.abs(true-pred)))\n",
    "        s.append(np.std(true-pred))\n",
    "        acc.append(accuracy_score(true,pred))\n",
    "        conf=confusion_matrix(true,pred) \n",
    "        recall=[0 if not conf[i,i] else float(conf[i,i])/sum(conf[i,:]) for i in range(len(conf[:,0]))]\n",
    "        precision=[0 if not conf[i,i] else float(conf[i,i])/sum(conf[:,i]) for i in range(len(conf[:,0]))]\n",
    "        R.append(recall)\n",
    "        P.append(precision)\n",
    "    R=np.array(R)\n",
    "    P=np.array(P)\n",
    "    print '***************\\n','features: ',choose,'\\naverage values on crossvalidation run\\n'\n",
    "    print 'distance from true: '.ljust(25),round(np.average(m),2)\n",
    "    print 'std from true: '.ljust(25),round(np.average(s),2)\n",
    "    print 'accuracy: '.ljust(25),round(np.average(acc),2)\n",
    "    PP=np.average(P,0)\n",
    "    RR=np.average(R,0)\n",
    "    print '\\nclass'.ljust(6),'precision'.ljust(10),'recall'.ljust(15)\n",
    "    for i in range(len(PP) ):\n",
    "        print str(i).ljust(6),str(round(PP[i],2)).ljust(10),str(round(RR[i],2)).ljust(15)\n",
    "    print 'avg'.ljust(6),str(round(np.average(PP),2)).ljust(10),str(round(np.average(RR),2)).ljust(15)"
   ]
  },
  {
   "cell_type": "code",
   "execution_count": 20,
   "metadata": {
    "collapsed": false
   },
   "outputs": [
    {
     "name": "stdout",
     "output_type": "stream",
     "text": [
      "***************\n",
      "features:  [0] \n",
      "average values on crossvalidation run\n",
      "\n",
      "distance from true:       1.29\n",
      "std from true:            1.6\n",
      "accuracy:                 0.26\n",
      "\n",
      "class precision  recall         \n",
      "0      0.23       0.24           \n",
      "1      0.0        0.0            \n",
      "2      0.28       0.78           \n",
      "3      0.0        0.0            \n",
      "4      0.0        0.0            \n",
      "avg    0.1        0.2            \n",
      "***************\n",
      "features:  [1] \n",
      "average values on crossvalidation run\n",
      "\n",
      "distance from true:       1.09\n",
      "std from true:            1.37\n",
      "accuracy:                 0.35\n",
      "\n",
      "class precision  recall         \n",
      "0      0.38       0.72           \n",
      "1      0.0        0.0            \n",
      "2      0.33       0.67           \n",
      "3      0.0        0.0            \n",
      "4      0.0        0.0            \n",
      "avg    0.14       0.28           \n",
      "***************\n",
      "features:  [0, 1] \n",
      "average values on crossvalidation run\n",
      "\n",
      "distance from true:       1.16\n",
      "std from true:            1.52\n",
      "accuracy:                 0.34\n",
      "\n",
      "class precision  recall         \n",
      "0      0.38       0.68           \n",
      "1      0.13       0.02           \n",
      "2      0.35       0.59           \n",
      "3      0.09       0.04           \n",
      "4      0.11       0.07           \n",
      "avg    0.21       0.28           \n"
     ]
    }
   ],
   "source": [
    "I=np.random.permutation(len(data))\n",
    "\n",
    "choose=0\n",
    "for choose in [[0],[1],[0,1]]:\n",
    "    m=[]\n",
    "    s=[]\n",
    "    acc=[]\n",
    "    P=[]\n",
    "    R=[]\n",
    "    for i in range(3):\n",
    "        I_te=list(range(400*i,400*(i+1)))\n",
    "        I_tr=list(range(0,400*i))+list(range(400*(i+1),len(I)))\n",
    "        train=I[I_tr]\n",
    "        test=I[I_te]\n",
    "\n",
    "        X = np.array([d[choose] for d in data[train]])\n",
    "        y=Scores[train] \n",
    "        clf = svm.LinearSVC()\n",
    "        clf = clf.fit(X, y)\n",
    "        true=np.array([int(Scores[t]) for t in test])\n",
    "        pred=np.array([int(clf.predict([data[t][choose]])[0]) for t in test])\n",
    "        m.append(np.average(np.abs(true-pred)))\n",
    "        s.append(np.std(true-pred))\n",
    "        acc.append(accuracy_score(true,pred))\n",
    "        conf=confusion_matrix(true,pred) \n",
    "        recall=[0 if not conf[i,i] else float(conf[i,i])/sum(conf[i,:]) for i in range(len(conf[:,0]))]\n",
    "        precision=[0 if not conf[i,i] else float(conf[i,i])/sum(conf[:,i]) for i in range(len(conf[:,0]))]\n",
    "        R.append(recall)\n",
    "        P.append(precision)\n",
    "    R=np.array(R)\n",
    "    P=np.array(P)\n",
    "    print '***************\\n','features: ',choose,'\\naverage values on crossvalidation run\\n'\n",
    "    print 'distance from true: '.ljust(25),round(np.average(m),2)\n",
    "    print 'std from true: '.ljust(25),round(np.average(s),2)\n",
    "    print 'accuracy: '.ljust(25),round(np.average(acc),2)\n",
    "    PP=np.average(P,0)\n",
    "    RR=np.average(R,0)\n",
    "    print '\\nclass'.ljust(6),'precision'.ljust(10),'recall'.ljust(15)\n",
    "    for i in range(len(PP) ):\n",
    "        print str(i).ljust(6),str(round(PP[i],2)).ljust(10),str(round(RR[i],2)).ljust(15)\n",
    "    print 'avg'.ljust(6),str(round(np.average(PP),2)).ljust(10),str(round(np.average(RR),2)).ljust(15)"
   ]
  },
  {
   "cell_type": "code",
   "execution_count": null,
   "metadata": {
    "collapsed": true
   },
   "outputs": [],
   "source": [
    "bagging = "
   ]
  },
  {
   "cell_type": "code",
   "execution_count": 24,
   "metadata": {
    "collapsed": false
   },
   "outputs": [
    {
     "name": "stdout",
     "output_type": "stream",
     "text": [
      "***************\n",
      "features:  [0] \n",
      "average values on crossvalidation run\n",
      "\n",
      "distance from true:       1.46\n",
      "std from true:            1.73\n",
      "accuracy:                 0.24\n",
      "\n",
      "class precision  recall         \n",
      "0      0.21       0.41           \n",
      "1      0.0        0.0            \n",
      "2      0.27       0.56           \n",
      "3      0.0        0.0            \n",
      "4      0.0        0.0            \n",
      "avg    0.1        0.19           \n",
      "***************\n",
      "features:  [1] \n",
      "average values on crossvalidation run\n",
      "\n",
      "distance from true:       0.92\n",
      "std from true:            1.26\n",
      "accuracy:                 0.38\n",
      "\n",
      "class precision  recall         \n",
      "0      0.52       0.62           \n",
      "1      0.42       0.23           \n",
      "2      0.33       0.53           \n",
      "3      0.28       0.11           \n",
      "4      0.27       0.25           \n",
      "avg    0.36       0.35           \n",
      "***************\n",
      "features:  [0, 1] \n",
      "average values on crossvalidation run\n",
      "\n",
      "distance from true:       1.07\n",
      "std from true:            1.38\n",
      "accuracy:                 0.34\n",
      "\n",
      "class precision  recall         \n",
      "0      0.42       0.61           \n",
      "1      0.28       0.11           \n",
      "2      0.3        0.6            \n",
      "3      0.23       0.06           \n",
      "4      0.19       0.11           \n",
      "avg    0.29       0.3            \n"
     ]
    }
   ],
   "source": [
    "I=np.random.permutation(len(data))\n",
    "\n",
    "choose=0\n",
    "for choose in [[0],[1],[0,1]]:\n",
    "    m=[]\n",
    "    s=[]\n",
    "    acc=[]\n",
    "    P=[]\n",
    "    R=[]\n",
    "    for i in range(3):\n",
    "        I_te=list(range(400*i,400*(i+1)))\n",
    "        I_tr=list(range(0,400*i))+list(range(400*(i+1),len(I)))\n",
    "        train=I[I_tr]\n",
    "        test=I[I_te]\n",
    "\n",
    "        X = np.array([d[choose] for d in data[train]])\n",
    "        y=Scores[train] \n",
    "        clf = BaggingClassifier(svm.SVC(), max_features=1)\n",
    "        clf = clf.fit(X, y)\n",
    "        true=np.array([int(Scores[t]) for t in test])\n",
    "        pred=np.array([int(clf.predict([data[t][choose]])[0]) for t in test])\n",
    "        m.append(np.average(np.abs(true-pred)))\n",
    "        s.append(np.std(true-pred))\n",
    "        acc.append(accuracy_score(true,pred))\n",
    "        conf=confusion_matrix(true,pred) \n",
    "        recall=[0 if not conf[i,i] else float(conf[i,i])/sum(conf[i,:]) for i in range(len(conf[:,0]))]\n",
    "        precision=[0 if not conf[i,i] else float(conf[i,i])/sum(conf[:,i]) for i in range(len(conf[:,0]))]\n",
    "        R.append(recall)\n",
    "        P.append(precision)\n",
    "    R=np.array(R)\n",
    "    P=np.array(P)\n",
    "    print '***************\\n','features: ',choose,'\\naverage values on crossvalidation run\\n'\n",
    "    print 'distance from true: '.ljust(25),round(np.average(m),2)\n",
    "    print 'std from true: '.ljust(25),round(np.average(s),2)\n",
    "    print 'accuracy: '.ljust(25),round(np.average(acc),2)\n",
    "    PP=np.average(P,0)\n",
    "    RR=np.average(R,0)\n",
    "    print '\\nclass'.ljust(6),'precision'.ljust(10),'recall'.ljust(15)\n",
    "    for i in range(len(PP) ):\n",
    "        print str(i).ljust(6),str(round(PP[i],2)).ljust(10),str(round(RR[i],2)).ljust(15)\n",
    "    print 'avg'.ljust(6),str(round(np.average(PP),2)).ljust(10),str(round(np.average(RR),2)).ljust(15)"
   ]
  },
  {
   "cell_type": "code",
   "execution_count": null,
   "metadata": {
    "collapsed": true
   },
   "outputs": [],
   "source": []
  }
 ],
 "metadata": {
  "kernelspec": {
   "display_name": "Python 2",
   "language": "python",
   "name": "python2"
  },
  "language_info": {
   "codemirror_mode": {
    "name": "ipython",
    "version": 2
   },
   "file_extension": ".py",
   "mimetype": "text/x-python",
   "name": "python",
   "nbconvert_exporter": "python",
   "pygments_lexer": "ipython2",
   "version": "2.7.10"
  }
 },
 "nbformat": 4,
 "nbformat_minor": 0
}
