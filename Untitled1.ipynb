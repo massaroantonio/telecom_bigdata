{
 "cells": [
  {
   "cell_type": "code",
   "execution_count": 1,
   "metadata": {
    "collapsed": true
   },
   "outputs": [],
   "source": [
    "from datetime import datetime, timedelta\n",
    "import numpy as np\n",
    "import matplotlib.pyplot as plt\n",
    "import os\n",
    "from sklearn.ensemble import RandomForestClassifier,AdaBoostClassifier,BaggingClassifier,GradientBoostingClassifier\n",
    "from sklearn.metrics import classification_report,accuracy_score,confusion_matrix,mutual_info_score\n",
    "from sklearn.cross_validation import train_test_split\n",
    "from sklearn import tree\n",
    "import getfeat\n",
    "import xml.etree.ElementTree as ET\n",
    "%matplotlib inline"
   ]
  },
  {
   "cell_type": "code",
   "execution_count": 2,
   "metadata": {
    "collapsed": false
   },
   "outputs": [],
   "source": [
    "f=open('report_acc_2','r')\n",
    "r=[]\n",
    "for l in f:\n",
    "    l=l.split(';')\n",
    "    r.append(l[3])"
   ]
  },
  {
   "cell_type": "code",
   "execution_count": 3,
   "metadata": {
    "collapsed": false
   },
   "outputs": [
    {
     "data": {
      "text/plain": [
       "{'[[0, 1, 2, 3, 4, 5, 6, 7, 8, 9], [10, 11, 12, 13, 14, 15, 16, 17, 18, 19, 20]]',\n",
       " '[[0, 1, 2, 3, 4, 5, 6, 7], [8, 9, 10, 11, 12, 13, 14], [15, 16, 17, 18, 19, 20, 21, 22, 23]]',\n",
       " '[[0, 1, 2, 3, 4, 5, 6], [7, 8, 9, 10, 11, 12, 13, 14, 15, 16, 17]]',\n",
       " '[[0, 1, 2, 3, 4, 5], [6, 7, 8, 9, 10, 11, 12, 13, 14]]',\n",
       " '[[0, 1, 2, 3, 4, 5], [6, 7, 8, 9, 10, 11, 12], [13, 14, 15, 16, 17, 18, 19, 20]]',\n",
       " '[[0, 1, 2, 3, 4, 5], [6, 7, 8, 9, 10, 11], [12, 13, 14, 15, 16, 17, 18], [19, 20, 21, 22, 23, 24, 25, 26, 27]]',\n",
       " '[[0, 1, 2, 3, 4], [5, 6, 7, 8, 9], [10, 11, 12, 13, 14, 15, 16, 17]]',\n",
       " '[[0, 1, 2, 3, 4], [5, 6, 7, 8], [9, 10, 11, 12, 13, 14, 15], [16, 17, 18, 19, 20, 21]]',\n",
       " '[[0, 1, 2, 3], [4, 5, 6, 7, 8, 9]]',\n",
       " '[[0, 1, 2, 3], [4, 5, 6, 7, 8], [9, 10, 11, 12, 13, 14]]',\n",
       " '[[0, 1, 2, 3], [4, 5, 6], [7, 8, 9, 10, 11], [12, 13, 14, 15, 16, 17]]',\n",
       " '[[0, 1, 2], [3, 4, 5, 6]]',\n",
       " '[[0, 1, 2], [3, 4, 5], [6, 7, 8, 9, 10]]',\n",
       " '[[0, 1, 2], [3, 4, 5], [6, 7, 8, 9], [10, 11, 12, 13, 14]]',\n",
       " '[[0, 1], [2, 3], [4, 5, 6], [7, 8, 9, 10]]',\n",
       " '[[0, 1], [2, 3]]',\n",
       " '[[0], [1, 2], [3, 4]]',\n",
       " '[[0], [1], [2, 3], [4, 5]]',\n",
       " 'risk_bands'}"
      ]
     },
     "execution_count": 3,
     "metadata": {},
     "output_type": "execute_result"
    }
   ],
   "source": [
    "set(r)"
   ]
  },
  {
   "cell_type": "code",
   "execution_count": 126,
   "metadata": {
    "collapsed": false
   },
   "outputs": [
    {
     "data": {
      "text/plain": [
       "233"
      ]
     },
     "execution_count": 126,
     "metadata": {},
     "output_type": "execute_result"
    }
   ],
   "source": [
    "len(r)"
   ]
  },
  {
   "cell_type": "code",
   "execution_count": 127,
   "metadata": {
    "collapsed": false
   },
   "outputs": [
    {
     "name": "stdout",
     "output_type": "stream",
     "text": [
      "n_classf;name_classf;h_aggregation;risk_bands;features;avg_distance_from_true;std_distance_from_true;accuracy;recalls;precisions\n",
      "\n"
     ]
    }
   ],
   "source": [
    "f=open('report_acc_2','r')\n",
    "for l in f:\n",
    "    print(l)\n",
    "    break"
   ]
  },
  {
   "cell_type": "code",
   "execution_count": 180,
   "metadata": {
    "collapsed": true
   },
   "outputs": [],
   "source": [
    "f=open('report_acc_2','r')\n",
    "r=[]\n",
    "for l in f:\n",
    "    l=l.split(';')\n",
    "    r.append(l[7])"
   ]
  },
  {
   "cell_type": "code",
   "execution_count": 181,
   "metadata": {
    "collapsed": false
   },
   "outputs": [],
   "source": [
    "S=[]\n",
    "for x in r[1:]:\n",
    "        x=x[1:-1].split(',')\n",
    "        s=0\n",
    "        for xx in x:\n",
    "            s+=float(xx)\n",
    "        S.append(s/float(len(x)))\n",
    "\n",
    "            "
   ]
  },
  {
   "cell_type": "code",
   "execution_count": 182,
   "metadata": {
    "collapsed": false
   },
   "outputs": [
    {
     "data": {
      "text/plain": [
       "648"
      ]
     },
     "execution_count": 182,
     "metadata": {},
     "output_type": "execute_result"
    }
   ],
   "source": [
    "len(S)"
   ]
  },
  {
   "cell_type": "code",
   "execution_count": 186,
   "metadata": {
    "collapsed": false
   },
   "outputs": [
    {
     "data": {
      "image/png": "[encoded data removed]",
      "text/plain": [
       "<matplotlib.figure.Figure at 0x7fd7afc3e1d0>"
      ]
     },
     "metadata": {},
     "output_type": "display_data"
    }
   ],
   "source": [
    "plt.plot(S,'o')\n",
    "plt.gcf().set_size_inches(18, 10)\n",
    "plt.grid()\n",
    "plt.show()"
   ]
  },
  {
   "cell_type": "code",
   "execution_count": 52,
   "metadata": {
    "collapsed": true
   },
   "outputs": [],
   "source": [
    "n_feat_selection=[5]+[i*20 for i in range(1,5)]+[100+i*40 for i in range(200/40)]+[300+i*60 for i in range(300/60)]+[600+250*i for i in range(500/250)]+[1321]\n"
   ]
  },
  {
   "cell_type": "code",
   "execution_count": 53,
   "metadata": {
    "collapsed": false
   },
   "outputs": [
    {
     "data": {
      "text/plain": [
       "[5,\n",
       " 20,\n",
       " 40,\n",
       " 60,\n",
       " 80,\n",
       " 100,\n",
       " 140,\n",
       " 180,\n",
       " 220,\n",
       " 260,\n",
       " 300,\n",
       " 360,\n",
       " 420,\n",
       " 480,\n",
       " 540,\n",
       " 600,\n",
       " 850,\n",
       " 1321]"
      ]
     },
     "execution_count": 53,
     "metadata": {},
     "output_type": "execute_result"
    }
   ],
   "source": [
    "n_feat_selection"
   ]
  },
  {
   "cell_type": "code",
   "execution_count": 154,
   "metadata": {
    "collapsed": true
   },
   "outputs": [],
   "source": [
    "n_feat_selection=[5]+[i*40 for i in range(1,2)]+[100+i*50 for i in range(200/50)]+[300+i*100 for i in range(300/100)]+[600+250*i for i in range(500/250)]+[1321]"
   ]
  },
  {
   "cell_type": "code",
   "execution_count": 155,
   "metadata": {
    "collapsed": false
   },
   "outputs": [
    {
     "data": {
      "text/plain": [
       "[5, 40, 100, 150, 200, 250, 300, 400, 500, 600, 850, 1321]"
      ]
     },
     "execution_count": 155,
     "metadata": {},
     "output_type": "execute_result"
    }
   ],
   "source": [
    "n_feat_selection"
   ]
  },
  {
   "cell_type": "code",
   "execution_count": null,
   "metadata": {
    "collapsed": true
   },
   "outputs": [],
   "source": []
  },
  {
   "cell_type": "code",
   "execution_count": 24,
   "metadata": {
    "collapsed": true
   },
   "outputs": [],
   "source": [
    "partitions1=[[[0],[1],[2,3],[4,5]],\n",
    "             [[0],[1,2],[3,4]],\n",
    "             [[0,1],[2,3]]\n",
    "            ]\n",
    "Partitions=[partitions1]\n",
    "for j in [2,3,4,5,6]:\n",
    "    Q=getfeat.get_composed_feat_h(j)\n",
    "    Y=Q[1]\n",
    "    H=np.histogram(Y,list(range(int(max(Y))+1)))\n",
    "    partitions=[] \n",
    "    for D in [5,4,3]:\n",
    "        start=0\n",
    "        partition=[]\n",
    "        for c in range(D-1):\n",
    "            s=0\n",
    "            for i in range(start,len(H[0])):\n",
    "                s+=H[0][i]\n",
    "                if s>len(Y)/float(D):\n",
    "                    break\n",
    "            partition.append(list(range(start,i+1)))\n",
    "            start=i+1\n",
    "        partitions.append(partition)\n",
    "    Partitions.append(partitions)"
   ]
  },
  {
   "cell_type": "code",
   "execution_count": 25,
   "metadata": {
    "collapsed": false
   },
   "outputs": [
    {
     "name": "stdout",
     "output_type": "stream",
     "text": [
      "[[0], [1], [2, 3], [4, 5]]\n",
      "-------------------\n",
      "[[0], [1, 2], [3, 4]]\n",
      "-------------------\n",
      "[[0, 1], [2, 3]]\n",
      "-------------------\n",
      "*************\n",
      "[[0, 1], [2, 3], [4, 5, 6], [7, 8, 9, 10]]\n",
      "-------------------\n",
      "[[0, 1, 2], [3, 4, 5], [6, 7, 8, 9, 10]]\n",
      "-------------------\n",
      "[[0, 1, 2], [3, 4, 5, 6]]\n",
      "-------------------\n",
      "*************\n",
      "[[0, 1, 2], [3, 4, 5], [6, 7, 8, 9], [10, 11, 12, 13, 14]]\n",
      "-------------------\n",
      "[[0, 1, 2, 3], [4, 5, 6, 7, 8], [9, 10, 11, 12, 13, 14]]\n",
      "-------------------\n",
      "[[0, 1, 2, 3], [4, 5, 6, 7, 8, 9]]\n",
      "-------------------\n",
      "*************\n",
      "[[0, 1, 2, 3], [4, 5, 6], [7, 8, 9, 10, 11], [12, 13, 14, 15, 16, 17]]\n",
      "-------------------\n",
      "[[0, 1, 2, 3, 4], [5, 6, 7, 8, 9], [10, 11, 12, 13, 14, 15, 16, 17]]\n",
      "-------------------\n",
      "[[0, 1, 2, 3, 4, 5], [6, 7, 8, 9, 10, 11, 12, 13, 14]]\n",
      "-------------------\n",
      "*************\n",
      "[[0, 1, 2, 3, 4], [5, 6, 7, 8], [9, 10, 11, 12, 13, 14, 15], [16, 17, 18, 19, 20, 21]]\n",
      "-------------------\n",
      "[[0, 1, 2, 3, 4, 5], [6, 7, 8, 9, 10, 11, 12], [13, 14, 15, 16, 17, 18, 19, 20]]\n",
      "-------------------\n",
      "[[0, 1, 2, 3, 4, 5, 6], [7, 8, 9, 10, 11, 12, 13, 14, 15, 16, 17]]\n",
      "-------------------\n",
      "*************\n",
      "[[0, 1, 2, 3, 4, 5], [6, 7, 8, 9, 10, 11], [12, 13, 14, 15, 16, 17, 18], [19, 20, 21, 22, 23, 24, 25, 26, 27]]\n",
      "-------------------\n",
      "[[0, 1, 2, 3, 4, 5, 6, 7], [8, 9, 10, 11, 12, 13, 14], [15, 16, 17, 18, 19, 20, 21, 22, 23]]\n",
      "-------------------\n",
      "[[0, 1, 2, 3, 4, 5, 6, 7, 8, 9], [10, 11, 12, 13, 14, 15, 16, 17, 18, 19, 20]]\n",
      "-------------------\n",
      "*************\n"
     ]
    }
   ],
   "source": [
    "for partition in Partitions:\n",
    "    for p in partition:\n",
    "        print (p)\n",
    "        print('-------------------')\n",
    "    print('*************')"
   ]
  },
  {
   "cell_type": "code",
   "execution_count": 113,
   "metadata": {
    "collapsed": false
   },
   "outputs": [
    {
     "data": {
      "text/plain": [
       "'[[0, 1]'"
      ]
     },
     "execution_count": 113,
     "metadata": {},
     "output_type": "execute_result"
    }
   ],
   "source": [
    "P[0][:7]"
   ]
  },
  {
   "cell_type": "code",
   "execution_count": 137,
   "metadata": {
    "collapsed": false
   },
   "outputs": [
    {
     "name": "stdout",
     "output_type": "stream",
     "text": [
      "2 [0.81142857, 0.72285714, 0.77857143] RandomForest_1_f [[0, 1] [2, 3, 4, 5, 6, 7]]\n",
      "270 [0.76571429, 0.72428571, 0.79428571] Bagging_5_f [[0, 1] [2, 3, 4, 5, 6, 7]]\n",
      "314 [0.75, 0.71571429, 0.78] Bagging_20_f [[0, 1] [2, 3, 4, 5, 6, 7]]\n",
      "336 [0.76, 0.68, 0.81] Bagging_50_f [[0, 1] [2, 3, 4, 5, 6, 7]]\n",
      "\n",
      "***\n",
      "[[0, 1] [2, 3, 4, 5, 6, 7]] \n",
      "***\n",
      "\n",
      "44 [0.8, 0.67857143, 0.88714286] RandomForest_5_f [[0, 1] [2, 3, 4, 5]]\n",
      "132 [0.75857143, 0.68428571, 0.87714286] RandomForest_20_f [[0, 1] [2, 3, 4, 5]]\n",
      "251 [0.87142857, 0.61714286, 0.85857143] Bagging_1_f [[0, 1] [2, 3, 4, 5]]\n",
      "290 [0.86571429, 0.68285714, 0.89714286] Bagging_10_f [[0, 1] [2, 3, 4, 5]]\n",
      "\n",
      "***\n",
      "[[0, 1] [2, 3, 4, 5]] \n",
      "***\n",
      "\n",
      "112 [0.79285714, 0.24285714, 0.75285714] RandomForest_10_f [[0, 1, 2, 3, 4] [5, 6, 7, 8]]\n",
      "156 [0.78571429, 0.35, 0.75] RandomForest_20_f [[0, 1, 2, 3, 4] [5, 6, 7, 8]]\n",
      "330 [0.80857143, 0.35857143, 0.75857143] Bagging_20_f [[0, 1, 2, 3, 4] [5, 6, 7, 8]]\n",
      "\n",
      "***\n",
      "[[0, 1, 2, 3, 4] [5, 6, 7, 8]] \n",
      "***\n",
      "\n",
      "1 [0.8, 0.72142857, 0.84142857] RandomForest_1_f [[0, 1] [2, 3, 4, 5, 6]]\n",
      "45 [0.77857143, 0.71, 0.83142857] RandomForest_5_f [[0, 1] [2, 3, 4, 5, 6]]\n",
      "89 [0.79, 0.73285714, 0.82142857] RandomForest_10_f [[0, 1] [2, 3, 4, 5, 6]]\n",
      "263 [0.76428571, 0.7, 0.81285714] Bagging_5_f [[0, 1] [2, 3, 4, 5, 6]]\n",
      "269 [0.78857143, 0.7, 0.85] Bagging_5_f [[0, 1] [2, 3, 4, 5, 6]]\n",
      "291 [0.75428571, 0.71428571, 0.84714286] Bagging_10_f [[0, 1] [2, 3, 4, 5, 6]]\n",
      "313 [0.85142857, 0.70714286, 0.81285714] Bagging_20_f [[0, 1] [2, 3, 4, 5, 6]]\n",
      "\n",
      "***\n",
      "[[0, 1] [2, 3, 4, 5, 6]] \n",
      "***\n",
      "\n",
      "113 [0.79, 0.48857143, 0.75857143] RandomForest_10_f [[0, 1, 2, 3, 4] [5, 6, 7, 8, 9]]\n",
      "\n",
      "***\n",
      "[[0, 1, 2, 3, 4] [5, 6, 7, 8, 9]] \n",
      "***\n",
      "\n",
      "3 [0.78285714, 0.71428571, 0.76714286] RandomForest_1_f [[0, 1] [2, 3, 4, 5, 6, 7, 8]]\n",
      "47 [0.78714286, 0.75428571, 0.79857143] RandomForest_5_f [[0, 1] [2, 3, 4, 5, 6, 7, 8]]\n",
      "91 [0.75285714, 0.74285714, 0.76428571] RandomForest_10_f [[0, 1] [2, 3, 4, 5, 6, 7, 8]]\n",
      "265 [0.86571429, 0.72714286, 0.75285714] Bagging_5_f [[0, 1] [2, 3, 4, 5, 6, 7, 8]]\n",
      "293 [0.78285714, 0.73714286, 0.76142857] Bagging_10_f [[0, 1] [2, 3, 4, 5, 6, 7, 8]]\n",
      "315 [0.75714286, 0.72, 0.77285714] Bagging_20_f [[0, 1] [2, 3, 4, 5, 6, 7, 8]]\n",
      "\n",
      "***\n",
      "[[0, 1] [2, 3, 4, 5, 6, 7, 8]] \n",
      "***\n",
      "\n",
      "136 [0.77142857, 0.75285714, 0.75142857] RandomForest_20_f [[0, 1] [2, 3, 4, 5, 6, 7, 8, 9]]\n",
      "180 [0.78285714, 0.74571429, 0.79] RandomForest_50_f [[0, 1] [2, 3, 4, 5, 6, 7, 8, 9]]\n",
      "266 [0.75857143, 0.74428571, 0.75428571] Bagging_5_f [[0, 1] [2, 3, 4, 5, 6, 7, 8, 9]]\n",
      "272 [0.78571429, 0.75142857, 0.76428571] Bagging_5_f [[0, 1] [2, 3, 4, 5, 6, 7, 8, 9]]\n",
      "\n",
      "***\n",
      "[[0, 1] [2, 3, 4, 5, 6, 7, 8, 9]] \n",
      "***\n",
      "\n"
     ]
    }
   ],
   "source": [
    "thresh=0.75\n",
    "f=open('res_experimenz_1','r')\n",
    "N=[]\n",
    "C=[]\n",
    "A=[]\n",
    "P=[]\n",
    "for l in f:\n",
    "    l=l.split(';')\n",
    "    N.append(l[0])\n",
    "    C.append(l[1])\n",
    "    P.append(l[2])\n",
    "C=[[float(x)  for x in c.replace('[','').replace(']','').split(' ') if len(x)>0] for c in C]\n",
    "#P=[[float(x)  for x in c.replace('[','').replace(']','').replace(' ','').split(',') if len(x)>0] for c in P.split('] [')]\n",
    "P_select=list(set(P))\n",
    "#P_select=[p for p in P_select if p[:8]=='[[0, 1] ']\n",
    "for pp in P_select:\n",
    "    t=0\n",
    "    for i in range(len(C)):\n",
    "        if (C[i][0]>=thresh  and C[i][2]>=thresh) and P[i]==pp:\n",
    "            print i, C[i],N[i],P[i]\n",
    "            t=1\n",
    "    if t:\n",
    "        print '\\n***\\n',pp, '\\n***\\n'\n",
    "    #plt.plot(C[i])\n",
    "    \n",
    "#plt.show()"
   ]
  },
  {
   "cell_type": "code",
   "execution_count": 84,
   "metadata": {
    "collapsed": true
   },
   "outputs": [],
   "source": [
    "def part(Y,partition):\n",
    "    \n",
    "    Y_q=np.zeros(len(Y))\n",
    "    i=0\n",
    "    for y in Y:\n",
    "        k=0\n",
    "        score=-1\n",
    "        for p in partition:\n",
    "            if y in p:\n",
    "                score=k\n",
    "                break\n",
    "            k+=1\n",
    "        if score==-1:\n",
    "            score=len(partition)\n",
    "        Y_q[i]=score\n",
    "        i+=1\n",
    "    return Y_q"
   ]
  },
  {
   "cell_type": "code",
   "execution_count": 85,
   "metadata": {
    "collapsed": false
   },
   "outputs": [
    {
     "name": "stdout",
     "output_type": "stream",
     "text": [
      "488\n",
      "488\n"
     ]
    }
   ],
   "source": [
    "Q=getfeat.get_composed_feat_h(3)\n",
    "X=Q[0].T\n",
    "Y=Q[1]"
   ]
  },
  {
   "cell_type": "code",
   "execution_count": 69,
   "metadata": {
    "collapsed": false
   },
   "outputs": [
    {
     "data": {
      "image/png": "[encoded data removed]",
      "text/plain": [
       "<matplotlib.figure.Figure at 0x7fedb3e24650>"
      ]
     },
     "metadata": {},
     "output_type": "display_data"
    },
    {
     "data": {
      "image/png": "[encoded data removed]",
      "text/plain": [
       "<matplotlib.figure.Figure at 0x7fedb3f75bd0>"
      ]
     },
     "metadata": {},
     "output_type": "display_data"
    }
   ],
   "source": [
    "\n",
    "p=[[0,1,2,3,4],[5,6,7,8,9]]\n",
    "\n",
    "H=np.histogram(Y,list(range(40)))\n",
    "barlist=plt.bar(H[1][:-1],H[0],alpha=.3)\n",
    "plt.gcf().set_size_inches(18, 5)\n",
    "for i in range(p[0][-1]+1):\n",
    "    barlist[i].set_color('g')\n",
    "for i in range(p[0][-1]+1,p[1][-1]+1):\n",
    "    barlist[i].set_color('orange')\n",
    "for i in range(p[1][-1]+1,len(barlist)):\n",
    "    barlist[i].set_color('red')\n",
    "plt.xlabel('n_of accidents')\n",
    "plt.ylabel('frequency')\n",
    "plt.show()\n",
    "\n",
    "Y_q=part(Y,p)\n",
    "H=np.histogram(Y_q,list(range(4)))\n",
    "barlist=plt.bar(H[1][:-1],H[0],alpha=.3)\n",
    "plt.gcf().set_size_inches(18, 5)\n",
    "barlist[0].set_color('g')\n",
    "barlist[1].set_color('orange')\n",
    "barlist[2].set_color('red')\n",
    "plt.xlabel('risk category')\n",
    "plt.ylabel('frequency')\n",
    "plt.tick_params(axis='x',which='both',bottom='off',top='off',labelbottom='off')\n",
    "plt.show()"
   ]
  },
  {
   "cell_type": "code",
   "execution_count": 109,
   "metadata": {
    "collapsed": false
   },
   "outputs": [
    {
     "name": "stdout",
     "output_type": "stream",
     "text": [
      "RandomForest_1_f 72 88 57 89 79 [[0, 1], [2, 3, 4, 5]]\n",
      "RandomForest_5_f 74 88 61 89 80 [[0, 1], [2, 3, 4, 5]]\n",
      "RandomForest_5_f 79 73 88 74 70 [[0, 1, 2, 3, 4], [5, 6, 7, 8, 9]]\n",
      "RandomForest_20_f 79 73 85 74 70 [[0, 1, 2, 3, 4], [5, 6, 7, 8, 9]]\n"
     ]
    }
   ],
   "source": [
    "f=open('recall_precision_accuracy_tw','r')\n",
    "for l in f:\n",
    "    s=l.split(';')\n",
    "    #if s[4]=='[[0, 1, 2, 3, 4], [5, 6, 7, 8, 9]]':\n",
    "    recall=s[1].replace('[','').replace(']','').replace(' ','').split(',')\n",
    "    recall=[float(r) for r in recall]\n",
    "    precision=s[2].replace('[','').replace(']','').replace(' ','').split(',')\n",
    "    precision=[float(r) for r in precision]\n",
    "    acc=float(s[3])\n",
    "    if recall[0]>=0.72 and recall[2]>=.72:\n",
    "        print s[0],int(round(100*recall[0])),int(round(100*recall[2])),int(round(100*precision[0])),int(round(100*precision[2])),int(round(100*acc)),s[-2]"
   ]
  },
  {
   "cell_type": "code",
   "execution_count": 82,
   "metadata": {
    "collapsed": false
   },
   "outputs": [
    {
     "name": "stdout",
     "output_type": "stream",
     "text": [
      "('recall-low-risk', 73.0)\n"
     ]
    },
    {
     "data": {
      "image/png": "[encoded data removed]",
      "text/plain": [
       "<matplotlib.figure.Figure at 0x7fedb3bd7190>"
      ]
     },
     "metadata": {},
     "output_type": "display_data"
    },
    {
     "name": "stdout",
     "output_type": "stream",
     "text": [
      "('recall-high-risk', 87.0)\n"
     ]
    },
    {
     "data": {
      "image/png": "[encoded data removed]",
      "text/plain": [
       "<matplotlib.figure.Figure at 0x7fedb3820e10>"
      ]
     },
     "metadata": {},
     "output_type": "display_data"
    },
    {
     "name": "stdout",
     "output_type": "stream",
     "text": [
      "('precision-low-risk', 61.0)\n"
     ]
    },
    {
     "data": {
      "image/png": "[encoded data removed]",
      "text/plain": [
       "<matplotlib.figure.Figure at 0x7fedb3946290>"
      ]
     },
     "metadata": {},
     "output_type": "display_data"
    },
    {
     "name": "stdout",
     "output_type": "stream",
     "text": [
      "('precision-high-risk', 90.0)\n"
     ]
    },
    {
     "data": {
      "image/png": "[encoded data removed]",
      "text/plain": [
       "<matplotlib.figure.Figure at 0x7fedb38e6610>"
      ]
     },
     "metadata": {},
     "output_type": "display_data"
    },
    {
     "name": "stdout",
     "output_type": "stream",
     "text": [
      "('accuracies', 80.0)\n"
     ]
    },
    {
     "data": {
      "image/png": "[encoded data removed]",
      "text/plain": [
       "<matplotlib.figure.Figure at 0x7fedb3ee0d90>"
      ]
     },
     "metadata": {},
     "output_type": "display_data"
    },
    {
     "data": {
      "image/png": "[encoded data removed]",
      "text/plain": [
       "<matplotlib.figure.Figure at 0x7fedb319a110>"
      ]
     },
     "metadata": {},
     "output_type": "display_data"
    },
    {
     "data": {
      "image/png": "[encoded data removed]",
      "text/plain": [
       "<matplotlib.figure.Figure at 0x7fedb37b0d90>"
      ]
     },
     "metadata": {},
     "output_type": "display_data"
    }
   ],
   "source": [
    "f=open('recall_precision_accuracies_forest1f_[01][2345]_200','r')\n",
    "A=[]\n",
    "P=[]\n",
    "R=[]\n",
    "for line in f:\n",
    "    s=line.split(';')\n",
    "    recall=s[1]\n",
    "    recall=recall.replace('[','').replace(']','').replace(' ','').split(',')\n",
    "    recall=[float(r) for r in recall]\n",
    "    precision=s[2]\n",
    "    precision=precision.replace('[','').replace(']','').replace(' ','').split(',')\n",
    "    precision=[float(r) for r in precision]\n",
    "    accuracy=float(s[3])\n",
    "    P.append(precision)\n",
    "    R.append(recall)\n",
    "    A.append(accuracy)\n",
    "P=np.array(P)\n",
    "R=np.array(R)\n",
    "A=np.array(A)\n",
    "print('recall-low-risk', round(100*np.average(R[:,0])))\n",
    "plt.hist(R[:,0])\n",
    "plt.show()\n",
    "print('recall-high-risk',round(100*np.average(R[:,2])))\n",
    "plt.hist(R[:,2])\n",
    "plt.show()\n",
    "print('precision-low-risk',round(100*np.average(P[:,0])))\n",
    "plt.hist(P[:,0])\n",
    "plt.show()\n",
    "print('precision-high-risk',round(100*np.average(P[:,2])))\n",
    "plt.hist(P[:,2])\n",
    "plt.show()\n",
    "print('accuracies',round(100*np.average(A)))\n",
    "plt.hist(A)\n",
    "plt.show()\n",
    "\n",
    "\n",
    "p=[[0,1],[2,3,4,5]]\n",
    "\n",
    "H=np.histogram(Y,list(range(40)))\n",
    "barlist=plt.bar(H[1][:-1],H[0],alpha=.3)\n",
    "plt.gcf().set_size_inches(18, 5)\n",
    "for i in range(p[0][-1]+1):\n",
    "    barlist[i].set_color('g')\n",
    "for i in range(p[0][-1]+1,p[1][-1]+1):\n",
    "    barlist[i].set_color('orange')\n",
    "for i in range(p[1][-1]+1,len(barlist)):\n",
    "    barlist[i].set_color('red')\n",
    "plt.xlabel('n_of accidents')\n",
    "plt.ylabel('frequency')\n",
    "plt.show()\n",
    "\n",
    "Y_q=part(Y,p)\n",
    "H=np.histogram(Y_q,list(range(4)))\n",
    "barlist=plt.bar(H[1][:-1],H[0],alpha=.3)\n",
    "plt.gcf().set_size_inches(18, 5)\n",
    "barlist[0].set_color('g')\n",
    "barlist[1].set_color('orange')\n",
    "barlist[2].set_color('red')\n",
    "plt.xlabel('risk category')\n",
    "plt.ylabel('frequency')\n",
    "plt.tick_params(axis='x',which='both',bottom='off',top='off',labelbottom='off')\n",
    "plt.show()"
   ]
  },
  {
   "cell_type": "code",
   "execution_count": 83,
   "metadata": {
    "collapsed": false
   },
   "outputs": [
    {
     "name": "stdout",
     "output_type": "stream",
     "text": [
      "('recall-low-risk', 79.0)\n"
     ]
    },
    {
     "data": {
      "image/png": "[encoded data removed]",
      "text/plain": [
       "<matplotlib.figure.Figure at 0x7fedb3d47e90>"
      ]
     },
     "metadata": {},
     "output_type": "display_data"
    },
    {
     "name": "stdout",
     "output_type": "stream",
     "text": [
      "('recall-high-risk', 72.0)\n"
     ]
    },
    {
     "data": {
      "image/png": "[encoded data removed]",
      "text/plain": [
       "<matplotlib.figure.Figure at 0x7fedb3200f90>"
      ]
     },
     "metadata": {},
     "output_type": "display_data"
    },
    {
     "name": "stdout",
     "output_type": "stream",
     "text": [
      "('precision-low-risk', 88.0)\n"
     ]
    },
    {
     "data": {
      "image/png": "[encoded data removed]",
      "text/plain": [
       "<matplotlib.figure.Figure at 0x7fedb3fe0850>"
      ]
     },
     "metadata": {},
     "output_type": "display_data"
    },
    {
     "name": "stdout",
     "output_type": "stream",
     "text": [
      "('precision-high-risk', 75.0)\n"
     ]
    },
    {
     "data": {
      "image/png": "[encoded data removed]",
      "text/plain": [
       "<matplotlib.figure.Figure at 0x7fedb31deb90>"
      ]
     },
     "metadata": {},
     "output_type": "display_data"
    },
    {
     "name": "stdout",
     "output_type": "stream",
     "text": [
      "('accuracies', 70.0)\n"
     ]
    },
    {
     "data": {
      "image/png": "[encoded data removed]",
      "text/plain": [
       "<matplotlib.figure.Figure at 0x7fedb3e3c650>"
      ]
     },
     "metadata": {},
     "output_type": "display_data"
    },
    {
     "data": {
      "image/png": "[encoded data removed]",
      "text/plain": [
       "<matplotlib.figure.Figure at 0x7fedb31a8ad0>"
      ]
     },
     "metadata": {},
     "output_type": "display_data"
    },
    {
     "data": {
      "image/png": "[encoded data removed]",
      "text/plain": [
       "<matplotlib.figure.Figure at 0x7fedb37db8d0>"
      ]
     },
     "metadata": {},
     "output_type": "display_data"
    }
   ],
   "source": [
    "f=open('recall_precision_accuracies_forest20f_[01234][56789]_200','r')\n",
    "A=[]\n",
    "P=[]\n",
    "R=[]\n",
    "for line in f:\n",
    "    s=line.split(';')\n",
    "    recall=s[1]\n",
    "    recall=recall.replace('[','').replace(']','').replace(' ','').split(',')\n",
    "    recall=[float(r) for r in recall]\n",
    "    precision=s[2]\n",
    "    precision=precision.replace('[','').replace(']','').replace(' ','').split(',')\n",
    "    precision=[float(r) for r in precision]\n",
    "    accuracy=float(s[3])\n",
    "    P.append(precision)\n",
    "    R.append(recall)\n",
    "    A.append(accuracy)\n",
    "P=np.array(P)\n",
    "R=np.array(R)\n",
    "A=np.array(A)\n",
    "print('recall-low-risk', round(100*np.average(R[:,0])))\n",
    "plt.hist(R[:,0])\n",
    "plt.show()\n",
    "print('recall-high-risk',round(100*np.average(R[:,2])))\n",
    "plt.hist(R[:,2])\n",
    "plt.show()\n",
    "print('precision-low-risk',round(100*np.average(P[:,0])))\n",
    "plt.hist(P[:,0])\n",
    "plt.show()\n",
    "print('precision-high-risk',round(100*np.average(P[:,2])))\n",
    "plt.hist(P[:,2])\n",
    "plt.show()\n",
    "print('accuracies',round(100*np.average(A)))\n",
    "plt.hist(A)\n",
    "plt.show()\n",
    "\n",
    "p=[[0,1,2,3,4],[5,6,7,8,9]]\n",
    "\n",
    "H=np.histogram(Y,list(range(40)))\n",
    "barlist=plt.bar(H[1][:-1],H[0],alpha=.3)\n",
    "plt.gcf().set_size_inches(18, 5)\n",
    "for i in range(p[0][-1]+1):\n",
    "    barlist[i].set_color('g')\n",
    "for i in range(p[0][-1]+1,p[1][-1]+1):\n",
    "    barlist[i].set_color('orange')\n",
    "for i in range(p[1][-1]+1,len(barlist)):\n",
    "    barlist[i].set_color('red')\n",
    "plt.xlabel('n_of accidents')\n",
    "plt.ylabel('frequency')\n",
    "plt.show()\n",
    "\n",
    "Y_q=part(Y,p)\n",
    "H=np.histogram(Y_q,list(range(4)))\n",
    "barlist=plt.bar(H[1][:-1],H[0],alpha=.3)\n",
    "plt.gcf().set_size_inches(18, 5)\n",
    "barlist[0].set_color('g')\n",
    "barlist[1].set_color('orange')\n",
    "barlist[2].set_color('red')\n",
    "plt.xlabel('risk category')\n",
    "plt.ylabel('frequency')\n",
    "plt.tick_params(axis='x',which='both',bottom='off',top='off',labelbottom='off')\n",
    "plt.show()"
   ]
  },
  {
   "cell_type": "code",
   "execution_count": 109,
   "metadata": {
    "collapsed": false
   },
   "outputs": [
    {
     "data": {
      "image/png": "[encoded data removed]",
      "text/plain": [
       "<matplotlib.figure.Figure at 0x7f06ed3034d0>"
      ]
     },
     "metadata": {},
     "output_type": "display_data"
    },
    {
     "data": {
      "image/png": "[encoded data removed]",
      "text/plain": [
       "<matplotlib.figure.Figure at 0x7f06ed4642d0>"
      ]
     },
     "metadata": {},
     "output_type": "display_data"
    }
   ],
   "source": [
    "f=open('recall_precision_accuracies_forest20f_[01234][56789]_200_tw','r')\n",
    "A=[]\n",
    "P=[]\n",
    "R=[]\n",
    "for line in f:\n",
    "    s=line.split(';')\n",
    "    recall=s[1]\n",
    "    recall=recall.replace('[','').replace(']','').replace(' ','').split(',')\n",
    "    recall=[float(r) for r in recall]\n",
    "    precision=s[2]\n",
    "    precision=precision.replace('[','').replace(']','').replace(' ','').split(',')\n",
    "    precision=[float(r) for r in precision]\n",
    "    accuracy=float(s[3])\n",
    "    P.append(precision)\n",
    "    R.append(recall)\n",
    "    A.append(accuracy)\n",
    "P=np.array(P)\n",
    "R=np.array(R)\n",
    "A=np.array(A)\n",
    "\n",
    "#print('recall-low-risk', round(100*np.average(R[:,0])))\n",
    "#plt.hist(R[:,0])\n",
    "#plt.show()\n",
    "#print('recall-high-risk',round(100*np.average(R[:,2])))\n",
    "#plt.hist(R[:,2])\n",
    "#lt.show()\n",
    "#print('precision-low-risk',round(100*np.average(P[:,0])))\n",
    "#plt.hist(P[:,0])\n",
    "#plt.show()\n",
    "#print('precision-high-risk',round(100*np.average(P[:,2])))\n",
    "#plt.hist(P[:,2])\n",
    "#plt.show()\n",
    "#print('accuracies',round(100*np.average(A)))\n",
    "#plt.hist(A)\n",
    "#plt.show()\n",
    "\n",
    "p=[[0,1,2,3,4],[5,6,7,8,9]]\n",
    "\n",
    "H=np.histogram(Y,list(range(40)))\n",
    "barlist=plt.bar(H[1][:-1],H[0],alpha=.3)\n",
    "plt.gcf().set_size_inches(18, 5)\n",
    "plt.title('Distribution of the number of accidents',size=20)\n",
    "for i in range(p[0][-1]+1):\n",
    "    barlist[i].set_color('g')\n",
    "for i in range(p[0][-1]+1,p[1][-1]+1):\n",
    "    barlist[i].set_color('orange')\n",
    "for i in range(p[1][-1]+1,len(barlist)):\n",
    "    barlist[i].set_color('red')\n",
    "plt.xlabel('n_of accidents',size=15)\n",
    "plt.ylabel('frequency',size=15)\n",
    "plt.show()\n",
    "\n",
    "Y_q=part(Y,p)\n",
    "H=np.histogram(Y_q,list(range(4)))\n",
    "h=H[0]/float(np.sum(H[0]))\n",
    "barlist=plt.bar(H[1][:-1],h,alpha=.3)\n",
    "plt.gcf().set_size_inches(18, 5)\n",
    "plt.text(0.45,h[0]+0.01,str(round(100*h[0]))+'%',ha='center')\n",
    "plt.text(1.45,h[1]+0.01,str(round(100*h[1]))+'%',ha='center')\n",
    "plt.text(2.45,h[2]+0.01,str(round(100*h[2]))+'%',ha='center')\n",
    "plt.ylim(0,0.42)\n",
    "barlist[0].set_color('g')\n",
    "barlist[1].set_color('orange')\n",
    "barlist[2].set_color('red')\n",
    "plt.title('Distribution of risk levels',size=20)\n",
    "plt.xlabel('risk levels',size=15)\n",
    "plt.ylabel('frequency',size=15)\n",
    "plt.tick_params(axis='x',which='both',bottom='off',top='off',labelbottom='off')\n",
    "plt.show()"
   ]
  },
  {
   "cell_type": "code",
   "execution_count": 89,
   "metadata": {
    "collapsed": false
   },
   "outputs": [
    {
     "data": {
      "text/plain": [
       "array([193, 135, 160])"
      ]
     },
     "execution_count": 89,
     "metadata": {},
     "output_type": "execute_result"
    }
   ],
   "source": [
    "H[0]"
   ]
  },
  {
   "cell_type": "code",
   "execution_count": 84,
   "metadata": {
    "collapsed": false
   },
   "outputs": [
    {
     "name": "stdout",
     "output_type": "stream",
     "text": [
      "488\n",
      "488\n"
     ]
    }
   ],
   "source": [
    "Q=getfeat.get_composed_feat_h(3)\n",
    "X=Q[0].T\n",
    "Y=Q[1]"
   ]
  },
  {
   "cell_type": "code",
   "execution_count": 3,
   "metadata": {
    "collapsed": false
   },
   "outputs": [
    {
     "data": {
      "text/plain": [
       "1718"
      ]
     },
     "execution_count": 3,
     "metadata": {},
     "output_type": "execute_result"
    }
   ],
   "source": [
    "len(X[0])"
   ]
  },
  {
   "cell_type": "code",
   "execution_count": 113,
   "metadata": {
    "collapsed": false
   },
   "outputs": [
    {
     "data": {
      "text/plain": [
       "488"
      ]
     },
     "execution_count": 113,
     "metadata": {},
     "output_type": "execute_result"
    }
   ],
   "source": [
    "Y_q=part(Y,p)"
   ]
  },
  {
   "cell_type": "code",
   "execution_count": 16,
   "metadata": {
    "collapsed": true
   },
   "outputs": [],
   "source": [
    "p=[[0,1,2,3,4],[5,6,7,8,9]]\n",
    "n_feat=1718\n",
    "features=list(range(n_feat))\n",
    "clf=RandomForestClassifier(n_estimators=200, max_features=20,max_depth=9, n_jobs=-1)"
   ]
  },
  {
   "cell_type": "code",
   "execution_count": 17,
   "metadata": {
    "collapsed": false
   },
   "outputs": [
    {
     "name": "stdout",
     "output_type": "stream",
     "text": [
      "43 [2] [2]\n"
     ]
    }
   ],
   "source": [
    "Y_q=part(Y,p)\n",
    "nclasses=len(set(Y_q))\n",
    "for i in range(len(X)-1):\n",
    "    train=np.array(list(range(0,i))+list(range(i+1,len(X))))\n",
    "    test=np.array([i])\n",
    "    XX = np.array([d[features] for d in X[train]])\n",
    "    y=Y_q[train] \n",
    "    clf = clf.fit(XX, y)\n",
    "    true=np.array([int(Y_q[t]) for t in test])\n",
    "    pred=np.array([int(clf.predict([X[t][features]])[0]) for t in test])\n",
    "    if true==pred and true==2 and Y[i]==20:\n",
    "        print i, true, pred\n",
    "        break\n"
   ]
  },
  {
   "cell_type": "code",
   "execution_count": 10,
   "metadata": {
    "collapsed": false
   },
   "outputs": [
    {
     "data": {
      "text/plain": [
       "(array([10]),)"
      ]
     },
     "execution_count": 10,
     "metadata": {},
     "output_type": "execute_result"
    }
   ],
   "source": [
    "np.where(np.array(Q[2])=='twitter')"
   ]
  },
  {
   "cell_type": "code",
   "execution_count": 44,
   "metadata": {
    "collapsed": false
   },
   "outputs": [],
   "source": [
    "X_n=np.zeros(X.shape)\n",
    "for i in range(1718):\n",
    "    if (max(X[:,i])-min(X[:,i]))!=0:\n",
    "        X_n[:,i]=(X[:,i]-min(X[:,i]))/(max(X[:,i])-min(X[:,i]))"
   ]
  },
  {
   "cell_type": "code",
   "execution_count": 41,
   "metadata": {
    "collapsed": false
   },
   "outputs": [
    {
     "data": {
      "text/plain": [
       "(488, 1718)"
      ]
     },
     "execution_count": 41,
     "metadata": {},
     "output_type": "execute_result"
    }
   ],
   "source": [
    "X.shape"
   ]
  },
  {
   "cell_type": "code",
   "execution_count": 147,
   "metadata": {
    "collapsed": true
   },
   "outputs": [],
   "source": [
    "tree = ET.parse('/media/amassaro/external_2T/telecom_bigdata_2015/data/external_data/xml_incidenti_mar-apr_2015.xml')\n",
    "root=tree.getroot()\n",
    "child=list(root)[1]\n",
    "acc_times=[]\n",
    "latlong_acc=[]\n",
    "for j in child:\n",
    "    if 'Latitudine' in j.attrib.keys() and 'Longitudine' in j.attrib.keys():\n",
    "        latlong_acc.append([float(j.attrib['Longitudine']),float(j.attrib['Latitudine'])])\n",
    "        acc_times.append(j.attrib['DataOraIncidente'])\n",
    "\n",
    "\n",
    "acc_times=np.array([datetime.strptime(t[:10]+' '+t[11:],'%Y-%m-%d %H:%M:%S') for t in acc_times])\n",
    "latlong_acc=np.array(latlong_acc)"
   ]
  },
  {
   "cell_type": "code",
   "execution_count": 173,
   "metadata": {
    "collapsed": false
   },
   "outputs": [
    {
     "name": "stdout",
     "output_type": "stream",
     "text": [
      "[[ 12.4402   41.85563]\n",
      " [ 12.47871  41.87236]]\n"
     ]
    }
   ],
   "source": [
    "\n",
    "print(latlong_acc[np.where(acc_times<datetime(2015,3,1,2))])\n",
    "L=latlong_acc[np.where(acc_times<datetime(2015,3,1,2))]"
   ]
  },
  {
   "cell_type": "code",
   "execution_count": 154,
   "metadata": {
    "collapsed": false
   },
   "outputs": [
    {
     "data": {
      "text/plain": [
       "9"
      ]
     },
     "execution_count": 154,
     "metadata": {},
     "output_type": "execute_result"
    }
   ],
   "source": [
    "43*3%24"
   ]
  },
  {
   "cell_type": "code",
   "execution_count": null,
   "metadata": {
    "collapsed": true
   },
   "outputs": [],
   "source": [
    "day=6"
   ]
  },
  {
   "cell_type": "code",
   "execution_count": 155,
   "metadata": {
    "collapsed": false
   },
   "outputs": [
    {
     "name": "stdout",
     "output_type": "stream",
     "text": [
      "[[ 12.41943  41.93102]\n",
      " [ 12.65216  41.86969]\n",
      " [ 12.56045  41.94859]\n",
      " [ 12.35742  41.73881]\n",
      " [ 12.58442  41.9408 ]\n",
      " [ 12.46764  41.95135]\n",
      " [ 12.47404  41.88388]\n",
      " [ 12.57437  41.85295]\n",
      " [ 12.29527  41.72579]\n",
      " [ 12.60247  41.93357]\n",
      " [ 12.46124  41.91123]\n",
      " [ 12.46298  41.94817]\n",
      " [ 12.57394  41.89061]\n",
      " [ 12.61933  41.87488]\n",
      " [ 12.5109   41.94287]\n",
      " [ 12.45959  41.90263]\n",
      " [ 12.60307  41.83592]\n",
      " [ 12.51178  41.89045]\n",
      " [ 12.47747  41.85067]\n",
      " [ 12.44981  41.91161]]\n"
     ]
    }
   ],
   "source": [
    "print(latlong_acc[np.where((acc_times>=datetime(2015,3,6,9)) &(acc_times<datetime(2015,3,6,12)))])"
   ]
  },
  {
   "cell_type": "code",
   "execution_count": 167,
   "metadata": {
    "collapsed": true
   },
   "outputs": [],
   "source": [
    "T=latlong_acc[np.where((acc_times>=datetime(2015,3,6,9)) &(acc_times<datetime(2015,3,6,12)))]"
   ]
  },
  {
   "cell_type": "code",
   "execution_count": 172,
   "metadata": {
    "collapsed": true
   },
   "outputs": [],
   "source": [
    "s='{\"crs\": {\"type\": \"name\", \"properties\": {\"name\": \"urn:ogc:def:crs:EPSG::4326\",\"time\":\"d\"}}, \"type\": \"FeatureCollection\", \"features\": ['\n",
    "for i in range(len(T)):\n",
    "        S='{\"geometry\":{\"type\": \"Point\", \"coordinates\":'+str(list(T[i])).replace('array','').replace('(','').replace(')','')+'}, \"type\": \"Feature\", \"id\":\"0\"}'\n",
    "        s=s+S+','            \n",
    "s=s[:-1]\n",
    "s=s+']}'\n",
    "out=open('../../geoviz/high_risk.geojson','w')\n",
    "out.write(s)\n",
    "out.close()"
   ]
  },
  {
   "cell_type": "code",
   "execution_count": 174,
   "metadata": {
    "collapsed": false
   },
   "outputs": [],
   "source": [
    "s='{\"crs\": {\"type\": \"name\", \"properties\": {\"name\": \"urn:ogc:def:crs:EPSG::4326\",\"time\":\"d\"}}, \"type\": \"FeatureCollection\", \"features\": ['\n",
    "for i in range(len(L)):\n",
    "        S='{\"geometry\":{\"type\": \"Point\", \"coordinates\":'+str(list(L[i])).replace('array','').replace('(','').replace(')','')+'}, \"type\": \"Feature\", \"id\":\"0\"}'\n",
    "        s=s+S+','            \n",
    "s=s[:-1]\n",
    "s=s+']}'\n",
    "out=open('../../geoviz/low_risk.geojson','w')\n",
    "out.write(s)\n",
    "out.close()"
   ]
  },
  {
   "cell_type": "code",
   "execution_count": 207,
   "metadata": {
    "collapsed": false
   },
   "outputs": [
    {
     "data": {
      "text/plain": [
       "array([[ 0.,  0.,  0.],\n",
       "       [ 0.,  0.,  0.],\n",
       "       [ 0.,  0.,  0.]])"
      ]
     },
     "execution_count": 207,
     "metadata": {},
     "output_type": "execute_result"
    }
   ],
   "source": [
    "np.zeros((3,3))"
   ]
  },
  {
   "cell_type": "code",
   "execution_count": 76,
   "metadata": {
    "collapsed": false
   },
   "outputs": [],
   "source": [
    "c=np.zeros((3,3))\n",
    "conf=open('confusion_forest20f_[01234][56789]_200_tw','r')\n",
    "for l in conf:\n",
    "    xx=l.replace('array','').split('), (')\n",
    "    cc=np.zeros((3,3))\n",
    "    for i in range(3):\n",
    "        x=xx[i].replace('[','').replace(']','').replace('(','').replace(')','').replace(' ','').split(',')\n",
    "        x=np.array([float(z) for z in x])\n",
    "        cc[i,:]=x\n",
    "        #print x\n",
    "    c+=cc"
   ]
  },
  {
   "cell_type": "code",
   "execution_count": 77,
   "metadata": {
    "collapsed": false
   },
   "outputs": [],
   "source": [
    "d=np.zeros((3,3))\n",
    "for i in range(3):\n",
    "    d[i,:]=c[i,:]/sum(c[i,:])\n",
    "    \n",
    "e=np.flipud(d)\n",
    "\n",
    "f=e\n",
    "f[0,0]=e[2,2]\n",
    "f[2,2]=e[0,0]\n",
    "f[0,1]=e[1,2]\n",
    "f[1,2]=e[0,1]\n",
    "f[2,1]=e[1,0]\n",
    "f[1,0]=e[2,1]"
   ]
  },
  {
   "cell_type": "code",
   "execution_count": 78,
   "metadata": {
    "collapsed": false
   },
   "outputs": [
    {
     "name": "stdout",
     "output_type": "stream",
     "text": [
      "precision\n"
     ]
    },
    {
     "data": {
      "image/png": "[encoded data removed]",
      "text/plain": [
       "<matplotlib.figure.Figure at 0x7f06ed0b6510>"
      ]
     },
     "metadata": {},
     "output_type": "display_data"
    }
   ],
   "source": [
    "print('precision')\n",
    "fig, ax = plt.subplots()\n",
    "im = ax.imshow(f, cmap=plt.cm.Greens, interpolation='nearest',\n",
    "               vmin=0, vmax=1)\n",
    "\n",
    "#im=ax.pcolor(c/100, cmap=plt.cm.Blues)\n",
    "plt.xticks([0,1,2],size=10)\n",
    "plt.ylabel('predicted',size=23)\n",
    "plt.xlabel('true',size=23)\n",
    "#ax.xaxis.tick_top()\n",
    "#ax.xaxis.set_label_position('top') \n",
    "fig.colorbar(im)\n",
    "plt.title('Precision', size=30)\n",
    "plt.gcf().set_size_inches(10, 10)\n",
    "ax.set_yticks([0,1,2])\n",
    "ax.set_yticklabels(['2','1','0'],size=13)\n",
    "ax.tick_params(axis='x', labelsize=15)\n",
    "ax.tick_params(axis='y', labelsize=15)\n",
    "plt.show()"
   ]
  },
  {
   "cell_type": "code",
   "execution_count": 80,
   "metadata": {
    "collapsed": false
   },
   "outputs": [
    {
     "name": "stdout",
     "output_type": "stream",
     "text": [
      "recall\n"
     ]
    },
    {
     "data": {
      "image/png": "[encoded data removed]",
      "text/plain": [
       "<matplotlib.figure.Figure at 0x7f06ed2d9f10>"
      ]
     },
     "metadata": {},
     "output_type": "display_data"
    }
   ],
   "source": [
    "\n",
    "\n",
    "print('recall')\n",
    "d=np.zeros((3,3))\n",
    "for i in range(3):\n",
    "    d[:,i]=c[:,i]/sum(c[:,i])\n",
    "    \n",
    "e=np.flipud(d)\n",
    "\n",
    "f=e\n",
    "f[0,0]=e[2,2]\n",
    "f[2,2]=e[0,0]\n",
    "f[0,1]=e[1,2]\n",
    "f[1,2]=e[0,1]\n",
    "f[2,1]=e[1,0]\n",
    "f[1,0]=e[2,1]\n",
    "fig, ax = plt.subplots()\n",
    "im = ax.imshow(f, cmap=plt.cm.Blues, interpolation='nearest',\n",
    "               vmin=0, vmax=1)\n",
    "\n",
    "#im=ax.pcolor(c/100, cmap=plt.cm.Blues)\n",
    "plt.xticks([0,1,2],size=10)\n",
    "plt.ylabel('predicted',size=23)\n",
    "plt.xlabel('true',size=23)\n",
    "#ax.xaxis.tick_top()\n",
    "#ax.xaxis.set_label_position('top') \n",
    "fig.colorbar(im)\n",
    "plt.title('Recall', size=30)\n",
    "plt.gcf().set_size_inches(10, 10)\n",
    "ax.set_yticks([0,1,2])\n",
    "ax.set_yticklabels(['2','1','0'],size=13)\n",
    "ax.tick_params(axis='x', labelsize=15)\n",
    "ax.tick_params(axis='y', labelsize=15)\n",
    "plt.show()"
   ]
  },
  {
   "cell_type": "code",
   "execution_count": 3,
   "metadata": {
    "collapsed": false
   },
   "outputs": [
    {
     "data": {
      "image/png": "[encoded data removed]",
      "text/plain": [
       "<matplotlib.figure.Figure at 0x7f06ed880350>"
      ]
     },
     "metadata": {},
     "output_type": "display_data"
    }
   ],
   "source": [
    "fig, ax = plt.subplots()\n",
    "im = ax.imshow(c/100, cmap=plt.cm.Greens, interpolation='nearest',\n",
    "               vmin=np.min(c/100), vmax=np.max(c/100))\n",
    "\n",
    "#im=ax.pcolor(c/100, cmap=plt.cm.Blues)\n",
    "plt.xticks([0,1,2],size=10)\n",
    "plt.xlabel('predicted',size=23)\n",
    "plt.ylabel('true',size=23)\n",
    "ax.xaxis.tick_top()\n",
    "ax.xaxis.set_label_position('top') \n",
    "fig.colorbar(im)\n",
    "plt.gcf().set_size_inches(10, 10)\n",
    "ax.set_yticks([0,1,2])\n",
    "ax.tick_params(axis='x', labelsize=15)\n",
    "ax.tick_params(axis='y', labelsize=15)\n",
    "plt.show()"
   ]
  },
  {
   "cell_type": "code",
   "execution_count": 76,
   "metadata": {
    "collapsed": false
   },
   "outputs": [
    {
     "data": {
      "image/png": "[encoded data removed]",
      "text/plain": [
       "<matplotlib.figure.Figure at 0x7f265c5a5990>"
      ]
     },
     "metadata": {},
     "output_type": "display_data"
    }
   ],
   "source": [
    "X[0][:5]\n",
    "fig, ax = plt.subplots()\n",
    "im=ax.plot(X_n[0][[0,1,2,3,4,10]],'o',markersize=10,label='Low-risk')\n",
    "plt.plot(X_n[43][[0,1,2,3,4,10]],'o',color='red',markersize=10,label='High-risk')\n",
    "plt.xticks(list(range(6)),np.array(Q[2])[[0,1,2,3,4,10]],size=13,rotation=90)\n",
    "\n",
    "plt.title(\"features' levels\",size=20)\n",
    "ax.set_yticks([0,0.25,0.5,0.75,1])\n",
    "ax.set_yticklabels(['min','','','','max'],size=13)\n",
    "plt.ylim(0,1)\n",
    "plt.grid()\n",
    "plt.legend()\n",
    "plt.gcf().set_size_inches(15, 6)\n",
    "plt.show()"
   ]
  },
  {
   "cell_type": "code",
   "execution_count": 259,
   "metadata": {
    "collapsed": false
   },
   "outputs": [
    {
     "data": {
      "image/png": "[encoded data removed]",
      "text/plain": [
       "<matplotlib.figure.Figure at 0x7fedab4e4690>"
      ]
     },
     "metadata": {},
     "output_type": "display_data"
    }
   ],
   "source": [
    "\n",
    "import pylab\n",
    "#fig, ax = plt.subplots()\n",
    "#im = ax.imshow(c, cmap=pylab.gray(), interpolation='nearest',vmin=np.min(c), vmax=np.max(c)+1000)\n",
    "#fig.colorbar(im)\n",
    "im=plt.imshow(c, cmap=pylab.gray(), interpolation='nearest',vmin=np.min(c), vmax=np.max(c)+1000)\n",
    "#plt.axis('off')\n",
    "plt.xlabel('true')\n",
    "plt.ylabel('predicted')\n",
    "plt.xticks([0,1,2],['0','1','2'])\n",
    "plt.tick_params(axis=\"y\", which='minor',left='off',labelleft='off')\n",
    "plt.gcf().set_size_inches(10, 10)\n",
    "fig.colorbar(im)\n",
    "plt.show()"
   ]
  },
  {
   "cell_type": "code",
   "execution_count": null,
   "metadata": {
    "collapsed": true
   },
   "outputs": [],
   "source": [
    "cmap=pylab.gray()"
   ]
  }
 ],
 "metadata": {
  "kernelspec": {
   "display_name": "Python 2",
   "language": "python",
   "name": "python2"
  },
  "language_info": {
   "codemirror_mode": {
    "name": "ipython",
    "version": 2
   },
   "file_extension": ".py",
   "mimetype": "text/x-python",
   "name": "python",
   "nbconvert_exporter": "python",
   "pygments_lexer": "ipython2",
   "version": "2.7.10"
  }
 },
 "nbformat": 4,
 "nbformat_minor": 0
}
