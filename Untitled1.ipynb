{
 "cells": [
  {
   "cell_type": "code",
   "execution_count": 1,
   "metadata": {
    "collapsed": true
   },
   "outputs": [],
   "source": [
    "from datetime import datetime, timedelta\n",
    "import numpy as np\n",
    "import matplotlib.pyplot as plt\n",
    "import os\n",
    "from sklearn.ensemble import RandomForestClassifier,AdaBoostClassifier,BaggingClassifier,GradientBoostingClassifier\n",
    "from sklearn.metrics import classification_report,accuracy_score,confusion_matrix\n",
    "from sklearn.cross_validation import train_test_split\n",
    "from sklearn import tree\n",
    "import getfeat\n",
    "%matplotlib inline"
   ]
  },
  {
   "cell_type": "code",
   "execution_count": 2,
   "metadata": {
    "collapsed": false
   },
   "outputs": [],
   "source": [
    "f=open('report_acc_2','r')\n",
    "r=[]\n",
    "for l in f:\n",
    "    l=l.split(';')\n",
    "    r.append(l[3])"
   ]
  },
  {
   "cell_type": "code",
   "execution_count": 3,
   "metadata": {
    "collapsed": false
   },
   "outputs": [
    {
     "data": {
      "text/plain": [
       "{'[[0, 1, 2, 3, 4, 5, 6, 7, 8, 9], [10, 11, 12, 13, 14, 15, 16, 17, 18, 19, 20]]',\n",
       " '[[0, 1, 2, 3, 4, 5, 6, 7], [8, 9, 10, 11, 12, 13, 14], [15, 16, 17, 18, 19, 20, 21, 22, 23]]',\n",
       " '[[0, 1, 2, 3, 4, 5, 6], [7, 8, 9, 10, 11, 12, 13, 14, 15, 16, 17]]',\n",
       " '[[0, 1, 2, 3, 4, 5], [6, 7, 8, 9, 10, 11, 12, 13, 14]]',\n",
       " '[[0, 1, 2, 3, 4, 5], [6, 7, 8, 9, 10, 11, 12], [13, 14, 15, 16, 17, 18, 19, 20]]',\n",
       " '[[0, 1, 2, 3, 4, 5], [6, 7, 8, 9, 10, 11], [12, 13, 14, 15, 16, 17, 18], [19, 20, 21, 22, 23, 24, 25, 26, 27]]',\n",
       " '[[0, 1, 2, 3, 4], [5, 6, 7, 8, 9], [10, 11, 12, 13, 14, 15, 16, 17]]',\n",
       " '[[0, 1, 2, 3, 4], [5, 6, 7, 8], [9, 10, 11, 12, 13, 14, 15], [16, 17, 18, 19, 20, 21]]',\n",
       " '[[0, 1, 2, 3], [4, 5, 6, 7, 8, 9]]',\n",
       " '[[0, 1, 2, 3], [4, 5, 6, 7, 8], [9, 10, 11, 12, 13, 14]]',\n",
       " '[[0, 1, 2, 3], [4, 5, 6], [7, 8, 9, 10, 11], [12, 13, 14, 15, 16, 17]]',\n",
       " '[[0, 1, 2], [3, 4, 5, 6]]',\n",
       " '[[0, 1, 2], [3, 4, 5], [6, 7, 8, 9, 10]]',\n",
       " '[[0, 1, 2], [3, 4, 5], [6, 7, 8, 9], [10, 11, 12, 13, 14]]',\n",
       " '[[0, 1], [2, 3], [4, 5, 6], [7, 8, 9, 10]]',\n",
       " '[[0, 1], [2, 3]]',\n",
       " '[[0], [1, 2], [3, 4]]',\n",
       " '[[0], [1], [2, 3], [4, 5]]',\n",
       " 'risk_bands'}"
      ]
     },
     "execution_count": 3,
     "metadata": {},
     "output_type": "execute_result"
    }
   ],
   "source": [
    "set(r)"
   ]
  },
  {
   "cell_type": "code",
   "execution_count": 126,
   "metadata": {
    "collapsed": false
   },
   "outputs": [
    {
     "data": {
      "text/plain": [
       "233"
      ]
     },
     "execution_count": 126,
     "metadata": {},
     "output_type": "execute_result"
    }
   ],
   "source": [
    "len(r)"
   ]
  },
  {
   "cell_type": "code",
   "execution_count": 127,
   "metadata": {
    "collapsed": false
   },
   "outputs": [
    {
     "name": "stdout",
     "output_type": "stream",
     "text": [
      "n_classf;name_classf;h_aggregation;risk_bands;features;avg_distance_from_true;std_distance_from_true;accuracy;recalls;precisions\n",
      "\n"
     ]
    }
   ],
   "source": [
    "f=open('report_acc_2','r')\n",
    "for l in f:\n",
    "    print(l)\n",
    "    break"
   ]
  },
  {
   "cell_type": "code",
   "execution_count": 180,
   "metadata": {
    "collapsed": true
   },
   "outputs": [],
   "source": [
    "f=open('report_acc_2','r')\n",
    "r=[]\n",
    "for l in f:\n",
    "    l=l.split(';')\n",
    "    r.append(l[7])"
   ]
  },
  {
   "cell_type": "code",
   "execution_count": 181,
   "metadata": {
    "collapsed": false
   },
   "outputs": [],
   "source": [
    "S=[]\n",
    "for x in r[1:]:\n",
    "        x=x[1:-1].split(',')\n",
    "        s=0\n",
    "        for xx in x:\n",
    "            s+=float(xx)\n",
    "        S.append(s/float(len(x)))\n",
    "\n",
    "            "
   ]
  },
  {
   "cell_type": "code",
   "execution_count": 182,
   "metadata": {
    "collapsed": false
   },
   "outputs": [
    {
     "data": {
      "text/plain": [
       "648"
      ]
     },
     "execution_count": 182,
     "metadata": {},
     "output_type": "execute_result"
    }
   ],
   "source": [
    "len(S)"
   ]
  },
  {
   "cell_type": "code",
   "execution_count": 186,
   "metadata": {
    "collapsed": false
   },
   "outputs": [
    {
     "data": {
      "image/png": "[encoded data removed]",
      "text/plain": [
       "<matplotlib.figure.Figure at 0x7fd7afc3e1d0>"
      ]
     },
     "metadata": {},
     "output_type": "display_data"
    }
   ],
   "source": [
    "plt.plot(S,'o')\n",
    "plt.gcf().set_size_inches(18, 10)\n",
    "plt.grid()\n",
    "plt.show()"
   ]
  },
  {
   "cell_type": "code",
   "execution_count": 52,
   "metadata": {
    "collapsed": true
   },
   "outputs": [],
   "source": [
    "n_feat_selection=[5]+[i*20 for i in range(1,5)]+[100+i*40 for i in range(200/40)]+[300+i*60 for i in range(300/60)]+[600+250*i for i in range(500/250)]+[1321]\n"
   ]
  },
  {
   "cell_type": "code",
   "execution_count": 53,
   "metadata": {
    "collapsed": false
   },
   "outputs": [
    {
     "data": {
      "text/plain": [
       "[5,\n",
       " 20,\n",
       " 40,\n",
       " 60,\n",
       " 80,\n",
       " 100,\n",
       " 140,\n",
       " 180,\n",
       " 220,\n",
       " 260,\n",
       " 300,\n",
       " 360,\n",
       " 420,\n",
       " 480,\n",
       " 540,\n",
       " 600,\n",
       " 850,\n",
       " 1321]"
      ]
     },
     "execution_count": 53,
     "metadata": {},
     "output_type": "execute_result"
    }
   ],
   "source": [
    "n_feat_selection"
   ]
  },
  {
   "cell_type": "code",
   "execution_count": 154,
   "metadata": {
    "collapsed": true
   },
   "outputs": [],
   "source": [
    "n_feat_selection=[5]+[i*40 for i in range(1,2)]+[100+i*50 for i in range(200/50)]+[300+i*100 for i in range(300/100)]+[600+250*i for i in range(500/250)]+[1321]"
   ]
  },
  {
   "cell_type": "code",
   "execution_count": 155,
   "metadata": {
    "collapsed": false
   },
   "outputs": [
    {
     "data": {
      "text/plain": [
       "[5, 40, 100, 150, 200, 250, 300, 400, 500, 600, 850, 1321]"
      ]
     },
     "execution_count": 155,
     "metadata": {},
     "output_type": "execute_result"
    }
   ],
   "source": [
    "n_feat_selection"
   ]
  },
  {
   "cell_type": "code",
   "execution_count": null,
   "metadata": {
    "collapsed": true
   },
   "outputs": [],
   "source": []
  },
  {
   "cell_type": "code",
   "execution_count": 24,
   "metadata": {
    "collapsed": true
   },
   "outputs": [],
   "source": [
    "partitions1=[[[0],[1],[2,3],[4,5]],\n",
    "             [[0],[1,2],[3,4]],\n",
    "             [[0,1],[2,3]]\n",
    "            ]\n",
    "Partitions=[partitions1]\n",
    "for j in [2,3,4,5,6]:\n",
    "    Q=getfeat.get_composed_feat_h(j)\n",
    "    Y=Q[1]\n",
    "    H=np.histogram(Y,list(range(int(max(Y))+1)))\n",
    "    partitions=[] \n",
    "    for D in [5,4,3]:\n",
    "        start=0\n",
    "        partition=[]\n",
    "        for c in range(D-1):\n",
    "            s=0\n",
    "            for i in range(start,len(H[0])):\n",
    "                s+=H[0][i]\n",
    "                if s>len(Y)/float(D):\n",
    "                    break\n",
    "            partition.append(list(range(start,i+1)))\n",
    "            start=i+1\n",
    "        partitions.append(partition)\n",
    "    Partitions.append(partitions)"
   ]
  },
  {
   "cell_type": "code",
   "execution_count": 25,
   "metadata": {
    "collapsed": false
   },
   "outputs": [
    {
     "name": "stdout",
     "output_type": "stream",
     "text": [
      "[[0], [1], [2, 3], [4, 5]]\n",
      "-------------------\n",
      "[[0], [1, 2], [3, 4]]\n",
      "-------------------\n",
      "[[0, 1], [2, 3]]\n",
      "-------------------\n",
      "*************\n",
      "[[0, 1], [2, 3], [4, 5, 6], [7, 8, 9, 10]]\n",
      "-------------------\n",
      "[[0, 1, 2], [3, 4, 5], [6, 7, 8, 9, 10]]\n",
      "-------------------\n",
      "[[0, 1, 2], [3, 4, 5, 6]]\n",
      "-------------------\n",
      "*************\n",
      "[[0, 1, 2], [3, 4, 5], [6, 7, 8, 9], [10, 11, 12, 13, 14]]\n",
      "-------------------\n",
      "[[0, 1, 2, 3], [4, 5, 6, 7, 8], [9, 10, 11, 12, 13, 14]]\n",
      "-------------------\n",
      "[[0, 1, 2, 3], [4, 5, 6, 7, 8, 9]]\n",
      "-------------------\n",
      "*************\n",
      "[[0, 1, 2, 3], [4, 5, 6], [7, 8, 9, 10, 11], [12, 13, 14, 15, 16, 17]]\n",
      "-------------------\n",
      "[[0, 1, 2, 3, 4], [5, 6, 7, 8, 9], [10, 11, 12, 13, 14, 15, 16, 17]]\n",
      "-------------------\n",
      "[[0, 1, 2, 3, 4, 5], [6, 7, 8, 9, 10, 11, 12, 13, 14]]\n",
      "-------------------\n",
      "*************\n",
      "[[0, 1, 2, 3, 4], [5, 6, 7, 8], [9, 10, 11, 12, 13, 14, 15], [16, 17, 18, 19, 20, 21]]\n",
      "-------------------\n",
      "[[0, 1, 2, 3, 4, 5], [6, 7, 8, 9, 10, 11, 12], [13, 14, 15, 16, 17, 18, 19, 20]]\n",
      "-------------------\n",
      "[[0, 1, 2, 3, 4, 5, 6], [7, 8, 9, 10, 11, 12, 13, 14, 15, 16, 17]]\n",
      "-------------------\n",
      "*************\n",
      "[[0, 1, 2, 3, 4, 5], [6, 7, 8, 9, 10, 11], [12, 13, 14, 15, 16, 17, 18], [19, 20, 21, 22, 23, 24, 25, 26, 27]]\n",
      "-------------------\n",
      "[[0, 1, 2, 3, 4, 5, 6, 7], [8, 9, 10, 11, 12, 13, 14], [15, 16, 17, 18, 19, 20, 21, 22, 23]]\n",
      "-------------------\n",
      "[[0, 1, 2, 3, 4, 5, 6, 7, 8, 9], [10, 11, 12, 13, 14, 15, 16, 17, 18, 19, 20]]\n",
      "-------------------\n",
      "*************\n"
     ]
    }
   ],
   "source": [
    "for partition in Partitions:\n",
    "    for p in partition:\n",
    "        print (p)\n",
    "        print('-------------------')\n",
    "    print('*************')"
   ]
  },
  {
   "cell_type": "code",
   "execution_count": 113,
   "metadata": {
    "collapsed": false
   },
   "outputs": [
    {
     "data": {
      "text/plain": [
       "'[[0, 1]'"
      ]
     },
     "execution_count": 113,
     "metadata": {},
     "output_type": "execute_result"
    }
   ],
   "source": [
    "P[0][:7]"
   ]
  },
  {
   "cell_type": "code",
   "execution_count": 137,
   "metadata": {
    "collapsed": false
   },
   "outputs": [
    {
     "name": "stdout",
     "output_type": "stream",
     "text": [
      "2 [0.81142857, 0.72285714, 0.77857143] RandomForest_1_f [[0, 1] [2, 3, 4, 5, 6, 7]]\n",
      "270 [0.76571429, 0.72428571, 0.79428571] Bagging_5_f [[0, 1] [2, 3, 4, 5, 6, 7]]\n",
      "314 [0.75, 0.71571429, 0.78] Bagging_20_f [[0, 1] [2, 3, 4, 5, 6, 7]]\n",
      "336 [0.76, 0.68, 0.81] Bagging_50_f [[0, 1] [2, 3, 4, 5, 6, 7]]\n",
      "\n",
      "***\n",
      "[[0, 1] [2, 3, 4, 5, 6, 7]] \n",
      "***\n",
      "\n",
      "44 [0.8, 0.67857143, 0.88714286] RandomForest_5_f [[0, 1] [2, 3, 4, 5]]\n",
      "132 [0.75857143, 0.68428571, 0.87714286] RandomForest_20_f [[0, 1] [2, 3, 4, 5]]\n",
      "251 [0.87142857, 0.61714286, 0.85857143] Bagging_1_f [[0, 1] [2, 3, 4, 5]]\n",
      "290 [0.86571429, 0.68285714, 0.89714286] Bagging_10_f [[0, 1] [2, 3, 4, 5]]\n",
      "\n",
      "***\n",
      "[[0, 1] [2, 3, 4, 5]] \n",
      "***\n",
      "\n",
      "112 [0.79285714, 0.24285714, 0.75285714] RandomForest_10_f [[0, 1, 2, 3, 4] [5, 6, 7, 8]]\n",
      "156 [0.78571429, 0.35, 0.75] RandomForest_20_f [[0, 1, 2, 3, 4] [5, 6, 7, 8]]\n",
      "330 [0.80857143, 0.35857143, 0.75857143] Bagging_20_f [[0, 1, 2, 3, 4] [5, 6, 7, 8]]\n",
      "\n",
      "***\n",
      "[[0, 1, 2, 3, 4] [5, 6, 7, 8]] \n",
      "***\n",
      "\n",
      "1 [0.8, 0.72142857, 0.84142857] RandomForest_1_f [[0, 1] [2, 3, 4, 5, 6]]\n",
      "45 [0.77857143, 0.71, 0.83142857] RandomForest_5_f [[0, 1] [2, 3, 4, 5, 6]]\n",
      "89 [0.79, 0.73285714, 0.82142857] RandomForest_10_f [[0, 1] [2, 3, 4, 5, 6]]\n",
      "263 [0.76428571, 0.7, 0.81285714] Bagging_5_f [[0, 1] [2, 3, 4, 5, 6]]\n",
      "269 [0.78857143, 0.7, 0.85] Bagging_5_f [[0, 1] [2, 3, 4, 5, 6]]\n",
      "291 [0.75428571, 0.71428571, 0.84714286] Bagging_10_f [[0, 1] [2, 3, 4, 5, 6]]\n",
      "313 [0.85142857, 0.70714286, 0.81285714] Bagging_20_f [[0, 1] [2, 3, 4, 5, 6]]\n",
      "\n",
      "***\n",
      "[[0, 1] [2, 3, 4, 5, 6]] \n",
      "***\n",
      "\n",
      "113 [0.79, 0.48857143, 0.75857143] RandomForest_10_f [[0, 1, 2, 3, 4] [5, 6, 7, 8, 9]]\n",
      "\n",
      "***\n",
      "[[0, 1, 2, 3, 4] [5, 6, 7, 8, 9]] \n",
      "***\n",
      "\n",
      "3 [0.78285714, 0.71428571, 0.76714286] RandomForest_1_f [[0, 1] [2, 3, 4, 5, 6, 7, 8]]\n",
      "47 [0.78714286, 0.75428571, 0.79857143] RandomForest_5_f [[0, 1] [2, 3, 4, 5, 6, 7, 8]]\n",
      "91 [0.75285714, 0.74285714, 0.76428571] RandomForest_10_f [[0, 1] [2, 3, 4, 5, 6, 7, 8]]\n",
      "265 [0.86571429, 0.72714286, 0.75285714] Bagging_5_f [[0, 1] [2, 3, 4, 5, 6, 7, 8]]\n",
      "293 [0.78285714, 0.73714286, 0.76142857] Bagging_10_f [[0, 1] [2, 3, 4, 5, 6, 7, 8]]\n",
      "315 [0.75714286, 0.72, 0.77285714] Bagging_20_f [[0, 1] [2, 3, 4, 5, 6, 7, 8]]\n",
      "\n",
      "***\n",
      "[[0, 1] [2, 3, 4, 5, 6, 7, 8]] \n",
      "***\n",
      "\n",
      "136 [0.77142857, 0.75285714, 0.75142857] RandomForest_20_f [[0, 1] [2, 3, 4, 5, 6, 7, 8, 9]]\n",
      "180 [0.78285714, 0.74571429, 0.79] RandomForest_50_f [[0, 1] [2, 3, 4, 5, 6, 7, 8, 9]]\n",
      "266 [0.75857143, 0.74428571, 0.75428571] Bagging_5_f [[0, 1] [2, 3, 4, 5, 6, 7, 8, 9]]\n",
      "272 [0.78571429, 0.75142857, 0.76428571] Bagging_5_f [[0, 1] [2, 3, 4, 5, 6, 7, 8, 9]]\n",
      "\n",
      "***\n",
      "[[0, 1] [2, 3, 4, 5, 6, 7, 8, 9]] \n",
      "***\n",
      "\n"
     ]
    }
   ],
   "source": [
    "thresh=0.75\n",
    "f=open('res_experimenz_1','r')\n",
    "N=[]\n",
    "C=[]\n",
    "A=[]\n",
    "P=[]\n",
    "for l in f:\n",
    "    l=l.split(';')\n",
    "    N.append(l[0])\n",
    "    C.append(l[1])\n",
    "    P.append(l[2])\n",
    "C=[[float(x)  for x in c.replace('[','').replace(']','').split(' ') if len(x)>0] for c in C]\n",
    "#P=[[float(x)  for x in c.replace('[','').replace(']','').replace(' ','').split(',') if len(x)>0] for c in P.split('] [')]\n",
    "P_select=list(set(P))\n",
    "#P_select=[p for p in P_select if p[:8]=='[[0, 1] ']\n",
    "for pp in P_select:\n",
    "    t=0\n",
    "    for i in range(len(C)):\n",
    "        if (C[i][0]>=thresh  and C[i][2]>=thresh) and P[i]==pp:\n",
    "            print i, C[i],N[i],P[i]\n",
    "            t=1\n",
    "    if t:\n",
    "        print '\\n***\\n',pp, '\\n***\\n'\n",
    "    #plt.plot(C[i])\n",
    "    \n",
    "#plt.show()"
   ]
  },
  {
   "cell_type": "code",
   "execution_count": 68,
   "metadata": {
    "collapsed": true
   },
   "outputs": [],
   "source": [
    "def part(Y,partition):\n",
    "    \n",
    "    Y_q=np.zeros(len(Y))\n",
    "    i=0\n",
    "    for y in Y:\n",
    "        k=0\n",
    "        score=-1\n",
    "        for p in partition:\n",
    "            if y in p:\n",
    "                score=k\n",
    "                break\n",
    "            k+=1\n",
    "        if score==-1:\n",
    "            score=len(partition)\n",
    "        Y_q[i]=score\n",
    "        i+=1\n",
    "    return Y_q"
   ]
  },
  {
   "cell_type": "code",
   "execution_count": 66,
   "metadata": {
    "collapsed": false
   },
   "outputs": [
    {
     "name": "stdout",
     "output_type": "stream",
     "text": [
      "488\n",
      "488\n"
     ]
    }
   ],
   "source": [
    "Q=getfeat.get_composed_feat_h(3)\n",
    "X=Q[0].T\n",
    "Y=Q[1]"
   ]
  },
  {
   "cell_type": "code",
   "execution_count": 69,
   "metadata": {
    "collapsed": false
   },
   "outputs": [
    {
     "data": {
      "image/png": "[encoded data removed]",
      "text/plain": [
       "<matplotlib.figure.Figure at 0x7fedb3e24650>"
      ]
     },
     "metadata": {},
     "output_type": "display_data"
    },
    {
     "data": {
      "image/png": "[encoded data removed]",
      "text/plain": [
       "<matplotlib.figure.Figure at 0x7fedb3f75bd0>"
      ]
     },
     "metadata": {},
     "output_type": "display_data"
    }
   ],
   "source": [
    "\n",
    "p=[[0,1,2,3,4],[5,6,7,8,9]]\n",
    "\n",
    "H=np.histogram(Y,list(range(40)))\n",
    "barlist=plt.bar(H[1][:-1],H[0],alpha=.3)\n",
    "plt.gcf().set_size_inches(18, 5)\n",
    "for i in range(p[0][-1]+1):\n",
    "    barlist[i].set_color('g')\n",
    "for i in range(p[0][-1]+1,p[1][-1]+1):\n",
    "    barlist[i].set_color('orange')\n",
    "for i in range(p[1][-1]+1,len(barlist)):\n",
    "    barlist[i].set_color('red')\n",
    "plt.xlabel('n_of accidents')\n",
    "plt.ylabel('frequency')\n",
    "plt.show()\n",
    "\n",
    "Y_q=part(Y,p)\n",
    "H=np.histogram(Y_q,list(range(4)))\n",
    "barlist=plt.bar(H[1][:-1],H[0],alpha=.3)\n",
    "plt.gcf().set_size_inches(18, 5)\n",
    "barlist[0].set_color('g')\n",
    "barlist[1].set_color('orange')\n",
    "barlist[2].set_color('red')\n",
    "plt.xlabel('risk category')\n",
    "plt.ylabel('frequency')\n",
    "plt.tick_params(axis='x',which='both',bottom='off',top='off',labelbottom='off')\n",
    "plt.show()"
   ]
  },
  {
   "cell_type": "code",
   "execution_count": 44,
   "metadata": {
    "collapsed": false
   },
   "outputs": [
    {
     "name": "stdout",
     "output_type": "stream",
     "text": [
      "RandomForest_1_f 75 89 65 90 81 [[0, 1], [2, 3, 4, 5]]\n",
      "RandomForest_5_f 74 89 62 89 81 [[0, 1], [2, 3, 4, 5]]\n",
      "RandomForest_10_f 74 89 61 88 80 [[0, 1], [2, 3, 4, 5]]\n",
      "RandomForest_20_f 80 73 89 74 70 [[0, 1, 2, 3, 4], [5, 6, 7, 8, 9]]\n",
      "RandomForest_50_f 79 73 87 76 71 [[0, 1, 2, 3, 4], [5, 6, 7, 8, 9]]\n",
      "Bagging_1_f 85 85 25 93 77 [[0, 1], [2, 3, 4, 5]]\n"
     ]
    }
   ],
   "source": [
    "f=open('recall_precision_accuracy','r')\n",
    "for l in f:\n",
    "    s=l.split(';')\n",
    "    #if s[4]=='[[0, 1, 2, 3, 4], [5, 6, 7, 8, 9]]':\n",
    "    recall=s[1].replace('[','').replace(']','').replace(' ','').split(',')\n",
    "    recall=[float(r) for r in recall]\n",
    "    precision=s[2].replace('[','').replace(']','').replace(' ','').split(',')\n",
    "    precision=[float(r) for r in precision]\n",
    "    acc=float(s[3])\n",
    "    if recall[0]>=0.72 and recall[2]>=.72:\n",
    "        print s[0],int(round(100*recall[0])),int(round(100*recall[2])),int(round(100*precision[0])),int(round(100*precision[2])),int(round(100*acc)),s[-2]"
   ]
  },
  {
   "cell_type": "code",
   "execution_count": 82,
   "metadata": {
    "collapsed": false
   },
   "outputs": [
    {
     "name": "stdout",
     "output_type": "stream",
     "text": [
      "('recall-low-risk', 73.0)\n"
     ]
    },
    {
     "data": {
      "image/png": "[encoded data removed]",
      "text/plain": [
       "<matplotlib.figure.Figure at 0x7fedb3bd7190>"
      ]
     },
     "metadata": {},
     "output_type": "display_data"
    },
    {
     "name": "stdout",
     "output_type": "stream",
     "text": [
      "('recall-high-risk', 87.0)\n"
     ]
    },
    {
     "data": {
      "image/png": "[encoded data removed]",
      "text/plain": [
       "<matplotlib.figure.Figure at 0x7fedb3820e10>"
      ]
     },
     "metadata": {},
     "output_type": "display_data"
    },
    {
     "name": "stdout",
     "output_type": "stream",
     "text": [
      "('precision-low-risk', 61.0)\n"
     ]
    },
    {
     "data": {
      "image/png": "[encoded data removed]",
      "text/plain": [
       "<matplotlib.figure.Figure at 0x7fedb3946290>"
      ]
     },
     "metadata": {},
     "output_type": "display_data"
    },
    {
     "name": "stdout",
     "output_type": "stream",
     "text": [
      "('precision-high-risk', 90.0)\n"
     ]
    },
    {
     "data": {
      "image/png": "[encoded data removed]",
      "text/plain": [
       "<matplotlib.figure.Figure at 0x7fedb38e6610>"
      ]
     },
     "metadata": {},
     "output_type": "display_data"
    },
    {
     "name": "stdout",
     "output_type": "stream",
     "text": [
      "('accuracies', 80.0)\n"
     ]
    },
    {
     "data": {
      "image/png": "[encoded data removed]",
      "text/plain": [
       "<matplotlib.figure.Figure at 0x7fedb3ee0d90>"
      ]
     },
     "metadata": {},
     "output_type": "display_data"
    },
    {
     "data": {
      "image/png": "[encoded data removed]",
      "text/plain": [
       "<matplotlib.figure.Figure at 0x7fedb319a110>"
      ]
     },
     "metadata": {},
     "output_type": "display_data"
    },
    {
     "data": {
      "image/png": "[encoded data removed]",
      "text/plain": [
       "<matplotlib.figure.Figure at 0x7fedb37b0d90>"
      ]
     },
     "metadata": {},
     "output_type": "display_data"
    }
   ],
   "source": [
    "f=open('recall_precision_accuracies_forest1f_[01][2345]_200','r')\n",
    "A=[]\n",
    "P=[]\n",
    "R=[]\n",
    "for line in f:\n",
    "    s=line.split(';')\n",
    "    recall=s[1]\n",
    "    recall=recall.replace('[','').replace(']','').replace(' ','').split(',')\n",
    "    recall=[float(r) for r in recall]\n",
    "    precision=s[2]\n",
    "    precision=precision.replace('[','').replace(']','').replace(' ','').split(',')\n",
    "    precision=[float(r) for r in precision]\n",
    "    accuracy=float(s[3])\n",
    "    P.append(precision)\n",
    "    R.append(recall)\n",
    "    A.append(accuracy)\n",
    "P=np.array(P)\n",
    "R=np.array(R)\n",
    "A=np.array(A)\n",
    "print('recall-low-risk', round(100*np.average(R[:,0])))\n",
    "plt.hist(R[:,0])\n",
    "plt.show()\n",
    "print('recall-high-risk',round(100*np.average(R[:,2])))\n",
    "plt.hist(R[:,2])\n",
    "plt.show()\n",
    "print('precision-low-risk',round(100*np.average(P[:,0])))\n",
    "plt.hist(P[:,0])\n",
    "plt.show()\n",
    "print('precision-high-risk',round(100*np.average(P[:,2])))\n",
    "plt.hist(P[:,2])\n",
    "plt.show()\n",
    "print('accuracies',round(100*np.average(A)))\n",
    "plt.hist(A)\n",
    "plt.show()\n",
    "\n",
    "\n",
    "p=[[0,1],[2,3,4,5]]\n",
    "\n",
    "H=np.histogram(Y,list(range(40)))\n",
    "barlist=plt.bar(H[1][:-1],H[0],alpha=.3)\n",
    "plt.gcf().set_size_inches(18, 5)\n",
    "for i in range(p[0][-1]+1):\n",
    "    barlist[i].set_color('g')\n",
    "for i in range(p[0][-1]+1,p[1][-1]+1):\n",
    "    barlist[i].set_color('orange')\n",
    "for i in range(p[1][-1]+1,len(barlist)):\n",
    "    barlist[i].set_color('red')\n",
    "plt.xlabel('n_of accidents')\n",
    "plt.ylabel('frequency')\n",
    "plt.show()\n",
    "\n",
    "Y_q=part(Y,p)\n",
    "H=np.histogram(Y_q,list(range(4)))\n",
    "barlist=plt.bar(H[1][:-1],H[0],alpha=.3)\n",
    "plt.gcf().set_size_inches(18, 5)\n",
    "barlist[0].set_color('g')\n",
    "barlist[1].set_color('orange')\n",
    "barlist[2].set_color('red')\n",
    "plt.xlabel('risk category')\n",
    "plt.ylabel('frequency')\n",
    "plt.tick_params(axis='x',which='both',bottom='off',top='off',labelbottom='off')\n",
    "plt.show()"
   ]
  },
  {
   "cell_type": "code",
   "execution_count": 83,
   "metadata": {
    "collapsed": false
   },
   "outputs": [
    {
     "name": "stdout",
     "output_type": "stream",
     "text": [
      "('recall-low-risk', 79.0)\n"
     ]
    },
    {
     "data": {
      "image/png": "[encoded data removed]",
      "text/plain": [
       "<matplotlib.figure.Figure at 0x7fedb3d47e90>"
      ]
     },
     "metadata": {},
     "output_type": "display_data"
    },
    {
     "name": "stdout",
     "output_type": "stream",
     "text": [
      "('recall-high-risk', 72.0)\n"
     ]
    },
    {
     "data": {
      "image/png": "[encoded data removed]",
      "text/plain": [
       "<matplotlib.figure.Figure at 0x7fedb3200f90>"
      ]
     },
     "metadata": {},
     "output_type": "display_data"
    },
    {
     "name": "stdout",
     "output_type": "stream",
     "text": [
      "('precision-low-risk', 88.0)\n"
     ]
    },
    {
     "data": {
      "image/png": "[encoded data removed]",
      "text/plain": [
       "<matplotlib.figure.Figure at 0x7fedb3fe0850>"
      ]
     },
     "metadata": {},
     "output_type": "display_data"
    },
    {
     "name": "stdout",
     "output_type": "stream",
     "text": [
      "('precision-high-risk', 75.0)\n"
     ]
    },
    {
     "data": {
      "image/png": "[encoded data removed]",
      "text/plain": [
       "<matplotlib.figure.Figure at 0x7fedb31deb90>"
      ]
     },
     "metadata": {},
     "output_type": "display_data"
    },
    {
     "name": "stdout",
     "output_type": "stream",
     "text": [
      "('accuracies', 70.0)\n"
     ]
    },
    {
     "data": {
      "image/png": "[encoded data removed]",
      "text/plain": [
       "<matplotlib.figure.Figure at 0x7fedb3e3c650>"
      ]
     },
     "metadata": {},
     "output_type": "display_data"
    },
    {
     "data": {
      "image/png": "[encoded data removed]",
      "text/plain": [
       "<matplotlib.figure.Figure at 0x7fedb31a8ad0>"
      ]
     },
     "metadata": {},
     "output_type": "display_data"
    },
    {
     "data": {
      "image/png": "[encoded data removed]",
      "text/plain": [
       "<matplotlib.figure.Figure at 0x7fedb37db8d0>"
      ]
     },
     "metadata": {},
     "output_type": "display_data"
    }
   ],
   "source": [
    "f=open('recall_precision_accuracies_forest20f_[01234][56789]_200','r')\n",
    "A=[]\n",
    "P=[]\n",
    "R=[]\n",
    "for line in f:\n",
    "    s=line.split(';')\n",
    "    recall=s[1]\n",
    "    recall=recall.replace('[','').replace(']','').replace(' ','').split(',')\n",
    "    recall=[float(r) for r in recall]\n",
    "    precision=s[2]\n",
    "    precision=precision.replace('[','').replace(']','').replace(' ','').split(',')\n",
    "    precision=[float(r) for r in precision]\n",
    "    accuracy=float(s[3])\n",
    "    P.append(precision)\n",
    "    R.append(recall)\n",
    "    A.append(accuracy)\n",
    "P=np.array(P)\n",
    "R=np.array(R)\n",
    "A=np.array(A)\n",
    "print('recall-low-risk', round(100*np.average(R[:,0])))\n",
    "plt.hist(R[:,0])\n",
    "plt.show()\n",
    "print('recall-high-risk',round(100*np.average(R[:,2])))\n",
    "plt.hist(R[:,2])\n",
    "plt.show()\n",
    "print('precision-low-risk',round(100*np.average(P[:,0])))\n",
    "plt.hist(P[:,0])\n",
    "plt.show()\n",
    "print('precision-high-risk',round(100*np.average(P[:,2])))\n",
    "plt.hist(P[:,2])\n",
    "plt.show()\n",
    "print('accuracies',round(100*np.average(A)))\n",
    "plt.hist(A)\n",
    "plt.show()\n",
    "\n",
    "p=[[0,1,2,3,4],[5,6,7,8,9]]\n",
    "\n",
    "H=np.histogram(Y,list(range(40)))\n",
    "barlist=plt.bar(H[1][:-1],H[0],alpha=.3)\n",
    "plt.gcf().set_size_inches(18, 5)\n",
    "for i in range(p[0][-1]+1):\n",
    "    barlist[i].set_color('g')\n",
    "for i in range(p[0][-1]+1,p[1][-1]+1):\n",
    "    barlist[i].set_color('orange')\n",
    "for i in range(p[1][-1]+1,len(barlist)):\n",
    "    barlist[i].set_color('red')\n",
    "plt.xlabel('n_of accidents')\n",
    "plt.ylabel('frequency')\n",
    "plt.show()\n",
    "\n",
    "Y_q=part(Y,p)\n",
    "H=np.histogram(Y_q,list(range(4)))\n",
    "barlist=plt.bar(H[1][:-1],H[0],alpha=.3)\n",
    "plt.gcf().set_size_inches(18, 5)\n",
    "barlist[0].set_color('g')\n",
    "barlist[1].set_color('orange')\n",
    "barlist[2].set_color('red')\n",
    "plt.xlabel('risk category')\n",
    "plt.ylabel('frequency')\n",
    "plt.tick_params(axis='x',which='both',bottom='off',top='off',labelbottom='off')\n",
    "plt.show()"
   ]
  },
  {
   "cell_type": "code",
   "execution_count": null,
   "metadata": {
    "collapsed": true
   },
   "outputs": [],
   "source": []
  }
 ],
 "metadata": {
  "kernelspec": {
   "display_name": "Python 2",
   "language": "python",
   "name": "python2"
  },
  "language_info": {
   "codemirror_mode": {
    "name": "ipython",
    "version": 2
   },
   "file_extension": ".py",
   "mimetype": "text/x-python",
   "name": "python",
   "nbconvert_exporter": "python",
   "pygments_lexer": "ipython2",
   "version": "2.7.10"
  }
 },
 "nbformat": 4,
 "nbformat_minor": 0
}
