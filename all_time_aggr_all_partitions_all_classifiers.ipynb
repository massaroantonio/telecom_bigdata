{
 "cells": [
  {
   "cell_type": "code",
   "execution_count": 1,
   "metadata": {
    "collapsed": false
   },
   "outputs": [],
   "source": [
    "from pybrain.tools.shortcuts import buildNetwork\n",
    "from pybrain.supervised.trainers import BackpropTrainer\n",
    "from pybrain.utilities           import percentError\n",
    "from pybrain.datasets import SupervisedDataSet\n",
    "from pybrain.datasets            import ClassificationDataSet\n",
    "from datetime import datetime, timedelta\n",
    "import numpy as np\n",
    "import matplotlib.pyplot as plt\n",
    "import os\n",
    "from sklearn.ensemble import RandomForestClassifier,AdaBoostClassifier,BaggingClassifier,GradientBoostingClassifier\n",
    "from sklearn.metrics import classification_report,accuracy_score,confusion_matrix\n",
    "from sklearn.cross_validation import train_test_split\n",
    "from sklearn import tree\n",
    "import getfeat\n",
    "%matplotlib inline"
   ]
  },
  {
   "cell_type": "code",
   "execution_count": 58,
   "metadata": {
    "collapsed": true
   },
   "outputs": [],
   "source": [
    "def part(Y,partition):\n",
    "    \n",
    "    Y_q=np.zeros(len(Y))\n",
    "    i=0\n",
    "    for y in Y:\n",
    "        k=0\n",
    "        score=-1\n",
    "        for p in partition:\n",
    "            if y in p:\n",
    "                score=k\n",
    "                break\n",
    "            k+=1\n",
    "        if score==-1:\n",
    "            score=len(partition)\n",
    "        Y_q[i]=score\n",
    "        i+=1\n",
    "    return Y_q"
   ]
  },
  {
   "cell_type": "code",
   "execution_count": 3,
   "metadata": {
    "collapsed": false
   },
   "outputs": [],
   "source": [
    "Q=getfeat.get_composed_feat_1h()"
   ]
  },
  {
   "cell_type": "code",
   "execution_count": 17,
   "metadata": {
    "collapsed": false
   },
   "outputs": [
    {
     "name": "stdout",
     "output_type": "stream",
     "text": [
      "[[0], [1], [2, 3], [4, 5]]\n"
     ]
    },
    {
     "data": {
      "image/png": "[encoded data removed]",
      "text/plain": [
       "<matplotlib.figure.Figure at 0x7f5a3c72a450>"
      ]
     },
     "metadata": {},
     "output_type": "display_data"
    },
    {
     "name": "stdout",
     "output_type": "stream",
     "text": [
      "[[0], [1, 2], [3, 4]]\n"
     ]
    },
    {
     "data": {
      "image/png": "[encoded data removed]",
      "text/plain": [
       "<matplotlib.figure.Figure at 0x7f5a0e2006d0>"
      ]
     },
     "metadata": {},
     "output_type": "display_data"
    },
    {
     "name": "stdout",
     "output_type": "stream",
     "text": [
      "[[0, 1], [2, 3]]\n"
     ]
    },
    {
     "data": {
      "image/png": "[encoded data removed]",
      "text/plain": [
       "<matplotlib.figure.Figure at 0x7f5a0e04b250>"
      ]
     },
     "metadata": {},
     "output_type": "display_data"
    }
   ],
   "source": [
    "partitions1=[[[0],[1],[2,3],[4,5]],\n",
    "             [[0],[1,2],[3,4]],\n",
    "             [[0,1],[2,3]]\n",
    "            ]\n",
    "Y=Q[1]\n",
    "for partition in partitions1:\n",
    "    print partition\n",
    "    Y_q=part(Y,partition)\n",
    "    plt.hist(Y_q)\n",
    "    plt.show()"
   ]
  },
  {
   "cell_type": "code",
   "execution_count": 18,
   "metadata": {
    "collapsed": false
   },
   "outputs": [
    {
     "name": "stdout",
     "output_type": "stream",
     "text": [
      "(10, 732)\n"
     ]
    }
   ],
   "source": [
    "Q=getfeat.get_composed_feat_h(2)"
   ]
  },
  {
   "cell_type": "code",
   "execution_count": 25,
   "metadata": {
    "collapsed": false
   },
   "outputs": [
    {
     "data": {
      "image/png": "[encoded data removed]",
      "text/plain": [
       "<matplotlib.figure.Figure at 0x7f5a0e1ea390>"
      ]
     },
     "metadata": {},
     "output_type": "display_data"
    }
   ],
   "source": [
    "plt.hist(Y, list(range(int(max(Y)+1))))\n",
    "plt.show()"
   ]
  },
  {
   "cell_type": "code",
   "execution_count": 146,
   "metadata": {
    "collapsed": false
   },
   "outputs": [
    {
     "name": "stdout",
     "output_type": "stream",
     "text": [
      "(10, 732)\n",
      "(10, 488)\n",
      "(10, 366)\n",
      "(10, 293)\n",
      "(10, 244)\n"
     ]
    }
   ],
   "source": [
    "partitions1=[[[0],[1],[2,3],[4,5]],\n",
    "             [[0],[1,2],[3,4]],\n",
    "             [[0,1],[2,3]]\n",
    "            ]\n",
    "Partitions=[partitions1]\n",
    "for j in [2,3,4,5,6]:\n",
    "    Q=getfeat.get_composed_feat_h(j)\n",
    "    Y=Q[1]\n",
    "    H=np.histogram(Y,list(range(int(max(Y))+1)))\n",
    "    partitions=[]\n",
    "    start=1\n",
    "    partition=[[0]]\n",
    "    for c in range(3):\n",
    "        s=0\n",
    "        for i in range(start,len(H[0])):\n",
    "            s+=H[0][i]\n",
    "            if s>len(Y)/5:\n",
    "                break\n",
    "        partition.append(list(range(start,i+1)))\n",
    "        start=i+1\n",
    "    partitions.append(partition)\n",
    "\n",
    "    for D in [5,4,3]:\n",
    "        start=0\n",
    "        partition=[]\n",
    "        for c in range(D-1):\n",
    "            s=0\n",
    "            for i in range(start,len(H[0])):\n",
    "                s+=H[0][i]\n",
    "                if s>len(Y)/float(D):\n",
    "                    break\n",
    "            partition.append(list(range(start,i+1)))\n",
    "            start=i+1\n",
    "        partitions.append(partition)\n",
    "    Partitions.append(partitions)"
   ]
  },
  {
   "cell_type": "code",
   "execution_count": 154,
   "metadata": {
    "collapsed": false
   },
   "outputs": [
    {
     "data": {
      "text/plain": [
       "1321"
      ]
     },
     "execution_count": 154,
     "metadata": {},
     "output_type": "execute_result"
    }
   ],
   "source": [
    "len(X[0])"
   ]
  },
  {
   "cell_type": "code",
   "execution_count": 151,
   "metadata": {
    "collapsed": false
   },
   "outputs": [],
   "source": [
    "n_feat=1321\n",
    "n_est=200\n",
    "klf=tree.DecisionTreeClassifier(max_depth=9)\n",
    "clfs=[tree.DecisionTreeClassifier(),tree.DecisionTreeClassifier(min_samples_split=16),tree.DecisionTreeClassifier(max_depth=6)]\n",
    "clfs+=[RandomForestClassifier(n_estimators=n_est, max_features=i,max_depth=9) for i in range(1,n_feat)]\n",
    "clfs+=[BaggingClassifier(base_estimator=klf,max_features=i,n_estimators=n_est) for i in range(1,n_feat)]\n",
    "clfs+=[GradientBoostingClassifier(n_estimators=n_est, learning_rate=1.0,max_depth=9, random_state=0)]\n",
    "clfs+=[AdaBoostClassifier(base_estimator=klf)]"
   ]
  },
  {
   "cell_type": "code",
   "execution_count": 152,
   "metadata": {
    "collapsed": true
   },
   "outputs": [],
   "source": [
    "names=['tree','tree_min_slit_16','tree_max_depth_6']\n",
    "names+=['RandomForest_'+str(i)+'_f' for i in range(1,n_feat)]\n",
    "names+=['Bagging_'+str(i)+'_f' for i in range(1,n_feat)]\n",
    "names+=['GradientBoosting']\n",
    "names+=['AdaBoost']"
   ]
  },
  {
   "cell_type": "code",
   "execution_count": 153,
   "metadata": {
    "collapsed": true
   },
   "outputs": [],
   "source": [
    "test_sizes=[120,70,50,35,30,25]"
   ]
  },
  {
   "cell_type": "code",
   "execution_count": null,
   "metadata": {
    "collapsed": false
   },
   "outputs": [],
   "source": [
    "filename='prova'\n",
    "filename_c='provac'\n",
    "f=open(filename,'a')\n",
    "f.write('n_classf;name_classf;h_aggregation;risk_bands;features;avg_distance_from_true;std_distance_from_true;accuracy;recalls;precisions\\n')\n",
    "f.close\n",
    "f=open(filename_c,'a')\n",
    "f.write('n_classf;name_classf;h_aggregation;risk_bands;features;confusion\\n')\n",
    "f.close\n",
    "for aggr in range(1,7):\n",
    "    test_size=test_sizes[aggr-1]\n",
    "    if aggr==1:\n",
    "        Q=getfeat.get_composed_feat_1h()\n",
    "    else:\n",
    "        Q=getfeat.get_composed_feat_h(aggr)\n",
    "    X=Q[0].T\n",
    "    Y=Q[1]\n",
    "    for partition in Partitions[aggr-1]:\n",
    "        Y_q=part(Y,partition)\n",
    "        features=list(range(n_feat))\n",
    "        #for i in range(len(clfs)):\n",
    "        for i in range(10):\n",
    "            if i in [0,1,2]:\n",
    "                for f in features:\n",
    "                    res=evaluate_clf(clfs[i],X,Y_q,[f],test_size)\n",
    "                    writeout(res,partition,aggr,[f],names,filename,i)\n",
    "                    writeout_c(res[-1],partition,aggr,[f],names,filename_c,i)\n",
    "            else:\n",
    "                res=evaluate_clf(clfs[i],X,Y_q,features,test_size)\n",
    "                writeout(res,partition,aggr,features,names,filename,i)\n",
    "                writeout_c(res[-1],partition,aggr,features,names,filename_c,i)"
   ]
  },
  {
   "cell_type": "code",
   "execution_count": 165,
   "metadata": {
    "collapsed": true
   },
   "outputs": [],
   "source": [
    "def evaluate_clf(clf,X,Y_q,features,test_size):\n",
    "    I=np.random.permutation(len(X))\n",
    "    M=[]\n",
    "    S=[]\n",
    "    Acc=[]\n",
    "    P=[]\n",
    "    R=[]\n",
    "    Conf=[]\n",
    "    for i in range(len(X)/test_size-1):\n",
    "        I_te=list(range(test_size*i,test_size*(i+1)))\n",
    "        I_tr=list(range(0,test_size*i))+list(range(test_size*(i+1),len(I)))\n",
    "        train=I[I_tr]\n",
    "        test=I[I_te]\n",
    "\n",
    "        XX = np.array([d[features] for d in X[train]])\n",
    "        y=Y_q[train] \n",
    "        clf = clf.fit(XX, y)\n",
    "        true=np.array([int(Y_q[t]) for t in test])\n",
    "        pred=np.array([int(clf.predict([X[t][features]])[0]) for t in test])\n",
    "        conf=confusion_matrix(true,pred) \n",
    "        recall=[0 if not conf[i,i] else float(conf[i,i])/sum(conf[i,:]) for i in range(len(conf[:,0]))]\n",
    "        precision=[0 if not conf[i,i] else float(conf[i,i])/sum(conf[:,i]) for i in range(len(conf[:,0]))]\n",
    "        \n",
    "        Conf.append(conf)\n",
    "        M.append(np.average(np.abs(true-pred)))\n",
    "        S.append(np.std(true-pred))\n",
    "        Acc.append(accuracy_score(true,pred))\n",
    "        R.append(recall)\n",
    "        P.append(precision)\n",
    "    return[M,S,Acc,R,P,Conf]"
   ]
  },
  {
   "cell_type": "code",
   "execution_count": 169,
   "metadata": {
    "collapsed": true
   },
   "outputs": [],
   "source": [
    "def writeout(res,partition,aggr,features,names,filename,i):\n",
    "    f=open(filename,'a')\n",
    "    f.write(str(i)+';'+names[i]+';'+str(aggr)+';'+str(partition)+';'+str(features)+';'+str(res[0])+';'+str(res[1])+';'+str(res[2])+';'+str(res[3])+';'+str(res[4])+';\\n')\n",
    "    f.close\n",
    "def writeout_c(conf,partition,aggr,features,names,filename,i):\n",
    "    f=open(filename,'a')\n",
    "    f.write(str(i)+';'+names[i]+';'+str(aggr)+';'+str(partition)+';'+str(features)+';\\n')\n",
    "    f.write(str(conf)+'\\n')\n",
    "    f.close"
   ]
  },
  {
   "cell_type": "code",
   "execution_count": null,
   "metadata": {
    "collapsed": true
   },
   "outputs": [],
   "source": [
    "'n_classf;name_classf;h_aggregation;risk_bands;features;avg_distance_from_true;std_distance_from_true;accuracy;recalls;precisions\\n'\n",
    "'n_classf;name_classf;h_aggregation;risk_bands;features;confusion\\n'"
   ]
  }
 ],
 "metadata": {
  "kernelspec": {
   "display_name": "Python 2",
   "language": "python",
   "name": "python2"
  },
  "language_info": {
   "codemirror_mode": {
    "name": "ipython",
    "version": 2
   },
   "file_extension": ".py",
   "mimetype": "text/x-python",
   "name": "python",
   "nbconvert_exporter": "python",
   "pygments_lexer": "ipython2",
   "version": "2.7.10"
  }
 },
 "nbformat": 4,
 "nbformat_minor": 0
}
