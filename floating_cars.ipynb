{
 "metadata": {
  "name": "",
  "signature": "sha256:f6ad541b7ffc9097721a7c952090031d01d5d9be7ad4810c31923d591839e42c"
 },
 "nbformat": 3,
 "nbformat_minor": 0,
 "worksheets": [
  {
   "cells": [
    {
     "cell_type": "code",
     "collapsed": false,
     "input": [
      "import datetime\n",
      "import webbrowser\n",
      "from pymongo import MongoClient\n",
      "import matplotlib.pyplot as plt\n",
      "from os import listdir\n",
      "import numpy as np\n",
      "%matplotlib inline"
     ],
     "language": "python",
     "metadata": {},
     "outputs": [],
     "prompt_number": 1
    },
    {
     "cell_type": "code",
     "collapsed": false,
     "input": [
      "fields=['travel_id','timestamp','lat','long','vehicle','speed']"
     ],
     "language": "python",
     "metadata": {},
     "outputs": [],
     "prompt_number": 4
    },
    {
     "cell_type": "code",
     "collapsed": false,
     "input": [
      "basedir='/media/amassaro/6E8B-C835/bigdata_telecom_15/'\n",
      "files=listdir(basedir)"
     ],
     "language": "python",
     "metadata": {},
     "outputs": [],
     "prompt_number": 5
    },
    {
     "cell_type": "code",
     "collapsed": false,
     "input": [
      "files[0]"
     ],
     "language": "python",
     "metadata": {},
     "outputs": [
      {
       "metadata": {},
       "output_type": "pyout",
       "prompt_number": 6,
       "text": [
        "'output_20150301_MILANO.txt'"
       ]
      }
     ],
     "prompt_number": 6
    },
    {
     "cell_type": "code",
     "collapsed": false,
     "input": [
      "print(basedir+files[0])"
     ],
     "language": "python",
     "metadata": {},
     "outputs": [
      {
       "output_type": "stream",
       "stream": "stdout",
       "text": [
        "/media/amassaro/6E8B-C835/bigdata_telecom_15/output_20150301_MILANO.txt\n"
       ]
      }
     ],
     "prompt_number": 7
    },
    {
     "cell_type": "code",
     "collapsed": false,
     "input": [
      "f=open(basedir+files[0])\n",
      "k=0\n",
      "for line in f:\n",
      "    k+=1\n",
      "print(k)"
     ],
     "language": "python",
     "metadata": {},
     "outputs": [
      {
       "output_type": "stream",
       "stream": "stdout",
       "text": [
        "1671773\n"
       ]
      }
     ],
     "prompt_number": 8
    },
    {
     "cell_type": "code",
     "collapsed": false,
     "input": [
      "84239/1671773."
     ],
     "language": "python",
     "metadata": {},
     "outputs": [
      {
       "metadata": {},
       "output_type": "pyout",
       "prompt_number": 36,
       "text": [
        "0.05038901812626475"
       ]
      }
     ],
     "prompt_number": 36
    },
    {
     "cell_type": "code",
     "collapsed": false,
     "input": [
      "tt=[]\n",
      "for line in f:\n",
      "    document={}\n",
      "    line=line.split(';')\n",
      "    if line[1][5:7]=='03' and line[1][8:10]!='01':\n",
      "        tt.append(line[1])\n",
      "        \n"
     ],
     "language": "python",
     "metadata": {},
     "outputs": [],
     "prompt_number": 41
    },
    {
     "cell_type": "code",
     "collapsed": false,
     "input": [
      "tt=[int(t[5:7]) for t in tt]"
     ],
     "language": "python",
     "metadata": {},
     "outputs": [],
     "prompt_number": 42
    },
    {
     "cell_type": "code",
     "collapsed": false,
     "input": [
      "H=np.histogram(tt,[i for i in range(30)])\n",
      "for i in range(len(H[0])):\n",
      "    print(H[1][i],H[0][i])"
     ],
     "language": "python",
     "metadata": {},
     "outputs": [
      {
       "output_type": "stream",
       "stream": "stdout",
       "text": [
        "(0, 0)\n",
        "(1, 0)\n",
        "(2, 0)\n",
        "(3, 0)\n",
        "(4, 0)\n",
        "(5, 0)\n",
        "(6, 0)\n",
        "(7, 0)\n",
        "(8, 0)\n",
        "(9, 0)\n",
        "(10, 0)\n",
        "(11, 0)\n",
        "(12, 0)\n",
        "(13, 0)\n",
        "(14, 0)\n",
        "(15, 0)\n",
        "(16, 0)\n",
        "(17, 0)\n",
        "(18, 0)\n",
        "(19, 0)\n",
        "(20, 0)\n",
        "(21, 0)\n",
        "(22, 0)\n",
        "(23, 0)\n",
        "(24, 0)\n",
        "(25, 0)\n",
        "(26, 0)\n",
        "(27, 0)\n",
        "(28, 0)\n"
       ]
      }
     ],
     "prompt_number": 43
    },
    {
     "cell_type": "code",
     "collapsed": false,
     "input": [
      "tt=[datetime.datetime.strptime(d,'%Y-%m-%d %H:%M:%S') for d in tt]"
     ],
     "language": "python",
     "metadata": {},
     "outputs": [],
     "prompt_number": 11
    },
    {
     "cell_type": "code",
     "collapsed": false,
     "input": [
      "\n",
      "tt[:10]"
     ],
     "language": "python",
     "metadata": {},
     "outputs": [
      {
       "metadata": {},
       "output_type": "pyout",
       "prompt_number": 22,
       "text": [
        "['28', '28', '28', '28', '28', '28', '28', '28', '28', '28']"
       ]
      }
     ],
     "prompt_number": 22
    },
    {
     "cell_type": "code",
     "collapsed": false,
     "input": [
      "d=datetime.datetime.strptime('2015-03-01 05:21:52','%Y-%m-%d %H:%M:%S')"
     ],
     "language": "python",
     "metadata": {},
     "outputs": [],
     "prompt_number": 175
    },
    {
     "cell_type": "code",
     "collapsed": false,
     "input": [
      "d.second"
     ],
     "language": "python",
     "metadata": {},
     "outputs": [
      {
       "metadata": {},
       "output_type": "pyout",
       "prompt_number": 181,
       "text": [
        "52"
       ]
      }
     ],
     "prompt_number": 181
    },
    {
     "cell_type": "code",
     "collapsed": false,
     "input": [
      "db=MongoClient()\n",
      "db=db['fl_cars']"
     ],
     "language": "python",
     "metadata": {},
     "outputs": [],
     "prompt_number": 10
    },
    {
     "cell_type": "code",
     "collapsed": false,
     "input": [
      "for line in f:\n",
      "    document={}\n",
      "    line=line.split(';')\n",
      "    line[-1]=line[-1][:-1]\n",
      "    if line[-1][-1]=='\\r':\n",
      "        line[-1]=line[-1][:-1]\n",
      "    document[fields[0]]=line[0]\n",
      "    document[fields[1]]=datetime.strptime(line[1],'%Y-%m-%d %H:%M:%S')\n",
      "    document[fields[2]]=float(line[2])\n",
      "    document[fields[3]]=float(line[3])\n",
      "    document[fields[4]]=int(line[4])\n",
      "    document[fields[5]]=float(line[5])\n",
      "    db['20150301'].insert(document)    "
     ],
     "language": "python",
     "metadata": {},
     "outputs": [],
     "prompt_number": 7
    },
    {
     "cell_type": "code",
     "collapsed": false,
     "input": [
      "ids=db['20150301'].distinct('travel_id')"
     ],
     "language": "python",
     "metadata": {},
     "outputs": [],
     "prompt_number": 11
    },
    {
     "cell_type": "code",
     "collapsed": false,
     "input": [
      "times=db['20150301'].distinct('timestamp')"
     ],
     "language": "python",
     "metadata": {},
     "outputs": [],
     "prompt_number": 12
    },
    {
     "cell_type": "code",
     "collapsed": false,
     "input": [
      "times[0]"
     ],
     "language": "python",
     "metadata": {},
     "outputs": [
      {
       "metadata": {},
       "output_type": "pyout",
       "prompt_number": 13,
       "text": [
        "datetime.datetime(2015, 3, 1, 5, 21, 52)"
       ]
      }
     ],
     "prompt_number": 13
    },
    {
     "cell_type": "code",
     "collapsed": false,
     "input": [
      "start=datetime.datetime.strptime('2015-03-01 00:00:00','%Y-%m-%d %H:%M:%S')"
     ],
     "language": "python",
     "metadata": {},
     "outputs": [],
     "prompt_number": 15
    },
    {
     "cell_type": "code",
     "collapsed": false,
     "input": [
      "print(start)"
     ],
     "language": "python",
     "metadata": {},
     "outputs": [
      {
       "output_type": "stream",
       "stream": "stdout",
       "text": [
        "2015-03-01 00:00:00\n"
       ]
      }
     ],
     "prompt_number": 16
    },
    {
     "cell_type": "code",
     "collapsed": false,
     "input": [
      "start.day"
     ],
     "language": "python",
     "metadata": {},
     "outputs": [
      {
       "metadata": {},
       "output_type": "pyout",
       "prompt_number": 19,
       "text": [
        "1"
       ]
      }
     ],
     "prompt_number": 19
    },
    {
     "cell_type": "code",
     "collapsed": false,
     "input": [
      "dt=datetime.timedelta(0,60*5)\n",
      "timeshift=datetime.timedelta(0,60*60*1)"
     ],
     "language": "python",
     "metadata": {},
     "outputs": [],
     "prompt_number": 33
    },
    {
     "cell_type": "code",
     "collapsed": false,
     "input": [
      "timeframes=[start+i*dt-timeshift for i in range(289)]"
     ],
     "language": "python",
     "metadata": {},
     "outputs": [],
     "prompt_number": 34
    },
    {
     "cell_type": "code",
     "collapsed": false,
     "input": [
      "timeframes[-1]"
     ],
     "language": "python",
     "metadata": {},
     "outputs": [
      {
       "metadata": {},
       "output_type": "pyout",
       "prompt_number": 35,
       "text": [
        "datetime.datetime(2015, 3, 1, 23, 0)"
       ]
      }
     ],
     "prompt_number": 35
    },
    {
     "cell_type": "code",
     "collapsed": false,
     "input": [
      "db['20150301'].find_one()"
     ],
     "language": "python",
     "metadata": {},
     "outputs": [
      {
       "metadata": {},
       "output_type": "pyout",
       "prompt_number": 36,
       "text": [
        "{u'_id': ObjectId('5587fe563c19e60e00860004'),\n",
        " u'lat': 45.631616,\n",
        " u'long': 9.2073,\n",
        " u'speed': 0.0,\n",
        " u'timestamp': datetime.datetime(2015, 3, 1, 5, 21, 52),\n",
        " u'travel_id': u'4d7cc82e33d042fdf13b9149bcdacee1',\n",
        " u'vehicle': 20}"
       ]
      }
     ],
     "prompt_number": 36
    },
    {
     "cell_type": "code",
     "collapsed": false,
     "input": [
      "print(start+timeshift)"
     ],
     "language": "python",
     "metadata": {},
     "outputs": [
      {
       "output_type": "stream",
       "stream": "stdout",
       "text": [
        "2015-03-01 02:00:00\n"
       ]
      }
     ],
     "prompt_number": 32
    },
    {
     "cell_type": "code",
     "collapsed": false,
     "input": [
      "n=[]\n",
      "DATA=[]\n",
      "for i in range(len(timeframes)-1):\n",
      "    cur=db['20150301'].find({\"$and\":[{\"timestamp\":{\"$gte\":timeframes[i]}},{\"timestamp\":{\"$lt\":timeframes[i+1]}}]})\n",
      "    n.append(cur.count())\n",
      "    data=[]\n",
      "    for r in cur:\n",
      "        data.append([r[\"long\"],r[\"lat\"],r[\"speed\"],r[\"vehicle\"]])\n",
      "    DATA.append(data)\n",
      "    if i%12==0:\n",
      "        print(str(timeframes[i]))\n",
      "    "
     ],
     "language": "python",
     "metadata": {},
     "outputs": [
      {
       "output_type": "stream",
       "stream": "stdout",
       "text": [
        "2015-02-28 23:00:00\n",
        "2015-03-01 00:00:00"
       ]
      },
      {
       "output_type": "stream",
       "stream": "stdout",
       "text": [
        "\n",
        "2015-03-01 01:00:00"
       ]
      },
      {
       "output_type": "stream",
       "stream": "stdout",
       "text": [
        "\n",
        "2015-03-01 02:00:00"
       ]
      },
      {
       "output_type": "stream",
       "stream": "stdout",
       "text": [
        "\n",
        "2015-03-01 03:00:00"
       ]
      },
      {
       "output_type": "stream",
       "stream": "stdout",
       "text": [
        "\n",
        "2015-03-01 04:00:00"
       ]
      },
      {
       "output_type": "stream",
       "stream": "stdout",
       "text": [
        "\n",
        "2015-03-01 05:00:00"
       ]
      },
      {
       "output_type": "stream",
       "stream": "stdout",
       "text": [
        "\n",
        "2015-03-01 06:00:00"
       ]
      },
      {
       "output_type": "stream",
       "stream": "stdout",
       "text": [
        "\n",
        "2015-03-01 07:00:00"
       ]
      },
      {
       "output_type": "stream",
       "stream": "stdout",
       "text": [
        "\n",
        "2015-03-01 08:00:00"
       ]
      },
      {
       "output_type": "stream",
       "stream": "stdout",
       "text": [
        "\n",
        "2015-03-01 09:00:00"
       ]
      },
      {
       "output_type": "stream",
       "stream": "stdout",
       "text": [
        "\n",
        "2015-03-01 10:00:00"
       ]
      },
      {
       "output_type": "stream",
       "stream": "stdout",
       "text": [
        "\n",
        "2015-03-01 11:00:00"
       ]
      },
      {
       "output_type": "stream",
       "stream": "stdout",
       "text": [
        "\n",
        "2015-03-01 12:00:00"
       ]
      },
      {
       "output_type": "stream",
       "stream": "stdout",
       "text": [
        "\n",
        "2015-03-01 13:00:00"
       ]
      },
      {
       "output_type": "stream",
       "stream": "stdout",
       "text": [
        "\n",
        "2015-03-01 14:00:00"
       ]
      },
      {
       "output_type": "stream",
       "stream": "stdout",
       "text": [
        "\n",
        "2015-03-01 15:00:00"
       ]
      },
      {
       "output_type": "stream",
       "stream": "stdout",
       "text": [
        "\n",
        "2015-03-01 16:00:00"
       ]
      },
      {
       "output_type": "stream",
       "stream": "stdout",
       "text": [
        "\n",
        "2015-03-01 17:00:00"
       ]
      },
      {
       "output_type": "stream",
       "stream": "stdout",
       "text": [
        "\n",
        "2015-03-01 18:00:00"
       ]
      },
      {
       "output_type": "stream",
       "stream": "stdout",
       "text": [
        "\n",
        "2015-03-01 19:00:00"
       ]
      },
      {
       "output_type": "stream",
       "stream": "stdout",
       "text": [
        "\n",
        "2015-03-01 20:00:00"
       ]
      },
      {
       "output_type": "stream",
       "stream": "stdout",
       "text": [
        "\n",
        "2015-03-01 21:00:00"
       ]
      },
      {
       "output_type": "stream",
       "stream": "stdout",
       "text": [
        "\n",
        "2015-03-01 22:00:00"
       ]
      },
      {
       "output_type": "stream",
       "stream": "stdout",
       "text": [
        "\n"
       ]
      }
     ],
     "prompt_number": 91
    },
    {
     "cell_type": "code",
     "collapsed": false,
     "input": [
      "for i in range(len(DATA)):\n",
      "        DATA[i]=np.array(DATA[i])"
     ],
     "language": "python",
     "metadata": {},
     "outputs": [],
     "prompt_number": 93
    },
    {
     "cell_type": "code",
     "collapsed": false,
     "input": [
      "DATA=np.array(DATA)"
     ],
     "language": "python",
     "metadata": {},
     "outputs": [],
     "prompt_number": 94
    },
    {
     "cell_type": "code",
     "collapsed": false,
     "input": [
      "str(list(DATA[0][1][:2]))"
     ],
     "language": "python",
     "metadata": {},
     "outputs": [
      {
       "metadata": {},
       "output_type": "pyout",
       "prompt_number": 101,
       "text": [
        "'[9.4629700000000003, 45.619689999999999]'"
       ]
      }
     ],
     "prompt_number": 101
    },
    {
     "cell_type": "code",
     "collapsed": false,
     "input": [
      "db['20150301'].find({\"$and\":[{\"timestamp\":{\"$gte\":timeframes[1]}},{\"timestamp\":{\"$lt\":timeframes[2]}}]}).count()"
     ],
     "language": "python",
     "metadata": {},
     "outputs": [
      {
       "metadata": {},
       "output_type": "pyout",
       "prompt_number": 64,
       "text": [
        "4792"
       ]
      }
     ],
     "prompt_number": 64
    },
    {
     "cell_type": "code",
     "collapsed": false,
     "input": [
      "plt.plot([len(D) for D in DATA])"
     ],
     "language": "python",
     "metadata": {},
     "outputs": [
      {
       "metadata": {},
       "output_type": "pyout",
       "prompt_number": 80,
       "text": [
        "[<matplotlib.lines.Line2D at 0x7fdee1931850>]"
       ]
      },
      {
       "metadata": {},
       "output_type": "display_data",
       "png": "[encoded data removed]",
       "text": [
        "<matplotlib.figure.Figure at 0x7fdee894f190>"
       ]
      }
     ],
     "prompt_number": 80
    },
    {
     "cell_type": "code",
     "collapsed": false,
     "input": [
      "plt.plot([np.average(D,0)[2] for D in DATA])"
     ],
     "language": "python",
     "metadata": {},
     "outputs": [
      {
       "metadata": {},
       "output_type": "pyout",
       "prompt_number": 89,
       "text": [
        "[<matplotlib.lines.Line2D at 0x7fdee8745b90>]"
       ]
      },
      {
       "metadata": {},
       "output_type": "display_data",
       "png": "[encoded data removed]",
       "text": [
        "<matplotlib.figure.Figure at 0x7fdee862f8d0>"
       ]
      }
     ],
     "prompt_number": 89
    },
    {
     "cell_type": "code",
     "collapsed": false,
     "input": [
      "DATA[0][1][]"
     ],
     "language": "python",
     "metadata": {},
     "outputs": [
      {
       "metadata": {},
       "output_type": "pyout",
       "prompt_number": 92,
       "text": [
        "[9.46297, 45.61969, 69.0, 20]"
       ]
      }
     ],
     "prompt_number": 92
    },
    {
     "cell_type": "code",
     "collapsed": false,
     "input": [
      "db['20150301'].find().count()"
     ],
     "language": "python",
     "metadata": {},
     "outputs": [
      {
       "metadata": {},
       "output_type": "pyout",
       "prompt_number": 67,
       "text": [
        "1671773"
       ]
      }
     ],
     "prompt_number": 67
    },
    {
     "cell_type": "code",
     "collapsed": false,
     "input": [
      "plt.plot(n)"
     ],
     "language": "python",
     "metadata": {},
     "outputs": [
      {
       "metadata": {},
       "output_type": "pyout",
       "prompt_number": 68,
       "text": [
        "[<matplotlib.lines.Line2D at 0x7fdee88f1390>]"
       ]
      },
      {
       "metadata": {},
       "output_type": "display_data",
       "png": "[encoded data removed]",
       "text": [
        "<matplotlib.figure.Figure at 0x7fdee96dbb90>"
       ]
      }
     ],
     "prompt_number": 68
    },
    {
     "cell_type": "code",
     "collapsed": false,
     "input": [
      "k=0\n",
      "for D in DATA:\n",
      "    s='{\"crs\": {\"type\": \"name\", \"properties\": {\"name\": \"urn:ogc:def:crs:EPSG::4326\",\"time\":\"d\"}}, \"type\": \"FeatureCollection\", \"features\": ['\n",
      "    for r in D:\n",
      "        #S='{\"geometry\": {\"type\": \"Point\", \"coordinates\": '+str(coords[i])+'}, \"type\": \"Feature\", \"id\": 0, \"properties\": {\"color\": \"rgba('+str(temp[i])+',0,'+str(255-temp[i])+',0.5)\"}}'\n",
      "        S='{\"geometry\": {\"type\": \"Point\", \"coordinates\": '+str(list(r[:2]))+'}, \"type\": \"Feature\", \"id\": 0}'\n",
      "        s=s+S+','\n",
      "    s=s[:-1]\n",
      "    s=s+']}'\n",
      "\n",
      "    out=open('../geo_visualization/speeds_'+str(k)+'.geojson','w')\n",
      "    out.write(s)\n",
      "    out.close()\n",
      "    k+=1"
     ],
     "language": "python",
     "metadata": {},
     "outputs": [],
     "prompt_number": 109
    },
    {
     "cell_type": "code",
     "collapsed": false,
     "input": [
      "L=['speeds_'+str(k)+'.geojson' for k in range(len(DATA))]\n",
      "print(L)"
     ],
     "language": "python",
     "metadata": {},
     "outputs": [
      {
       "output_type": "stream",
       "stream": "stdout",
       "text": [
        "['speeds_0.geojson', 'speeds_1.geojson', 'speeds_2.geojson', 'speeds_3.geojson', 'speeds_4.geojson', 'speeds_5.geojson', 'speeds_6.geojson', 'speeds_7.geojson', 'speeds_8.geojson', 'speeds_9.geojson', 'speeds_10.geojson', 'speeds_11.geojson', 'speeds_12.geojson', 'speeds_13.geojson', 'speeds_14.geojson', 'speeds_15.geojson', 'speeds_16.geojson', 'speeds_17.geojson', 'speeds_18.geojson', 'speeds_19.geojson', 'speeds_20.geojson', 'speeds_21.geojson', 'speeds_22.geojson', 'speeds_23.geojson', 'speeds_24.geojson', 'speeds_25.geojson', 'speeds_26.geojson', 'speeds_27.geojson', 'speeds_28.geojson', 'speeds_29.geojson', 'speeds_30.geojson', 'speeds_31.geojson', 'speeds_32.geojson', 'speeds_33.geojson', 'speeds_34.geojson', 'speeds_35.geojson', 'speeds_36.geojson', 'speeds_37.geojson', 'speeds_38.geojson', 'speeds_39.geojson', 'speeds_40.geojson', 'speeds_41.geojson', 'speeds_42.geojson', 'speeds_43.geojson', 'speeds_44.geojson', 'speeds_45.geojson', 'speeds_46.geojson', 'speeds_47.geojson', 'speeds_48.geojson', 'speeds_49.geojson', 'speeds_50.geojson', 'speeds_51.geojson', 'speeds_52.geojson', 'speeds_53.geojson', 'speeds_54.geojson', 'speeds_55.geojson', 'speeds_56.geojson', 'speeds_57.geojson', 'speeds_58.geojson', 'speeds_59.geojson', 'speeds_60.geojson', 'speeds_61.geojson', 'speeds_62.geojson', 'speeds_63.geojson', 'speeds_64.geojson', 'speeds_65.geojson', 'speeds_66.geojson', 'speeds_67.geojson', 'speeds_68.geojson', 'speeds_69.geojson', 'speeds_70.geojson', 'speeds_71.geojson', 'speeds_72.geojson', 'speeds_73.geojson', 'speeds_74.geojson', 'speeds_75.geojson', 'speeds_76.geojson', 'speeds_77.geojson', 'speeds_78.geojson', 'speeds_79.geojson', 'speeds_80.geojson', 'speeds_81.geojson', 'speeds_82.geojson', 'speeds_83.geojson', 'speeds_84.geojson', 'speeds_85.geojson', 'speeds_86.geojson', 'speeds_87.geojson', 'speeds_88.geojson', 'speeds_89.geojson', 'speeds_90.geojson', 'speeds_91.geojson', 'speeds_92.geojson', 'speeds_93.geojson', 'speeds_94.geojson', 'speeds_95.geojson', 'speeds_96.geojson', 'speeds_97.geojson', 'speeds_98.geojson', 'speeds_99.geojson', 'speeds_100.geojson', 'speeds_101.geojson', 'speeds_102.geojson', 'speeds_103.geojson', 'speeds_104.geojson', 'speeds_105.geojson', 'speeds_106.geojson', 'speeds_107.geojson', 'speeds_108.geojson', 'speeds_109.geojson', 'speeds_110.geojson', 'speeds_111.geojson', 'speeds_112.geojson', 'speeds_113.geojson', 'speeds_114.geojson', 'speeds_115.geojson', 'speeds_116.geojson', 'speeds_117.geojson', 'speeds_118.geojson', 'speeds_119.geojson', 'speeds_120.geojson', 'speeds_121.geojson', 'speeds_122.geojson', 'speeds_123.geojson', 'speeds_124.geojson', 'speeds_125.geojson', 'speeds_126.geojson', 'speeds_127.geojson', 'speeds_128.geojson', 'speeds_129.geojson', 'speeds_130.geojson', 'speeds_131.geojson', 'speeds_132.geojson', 'speeds_133.geojson', 'speeds_134.geojson', 'speeds_135.geojson', 'speeds_136.geojson', 'speeds_137.geojson', 'speeds_138.geojson', 'speeds_139.geojson', 'speeds_140.geojson', 'speeds_141.geojson', 'speeds_142.geojson', 'speeds_143.geojson', 'speeds_144.geojson', 'speeds_145.geojson', 'speeds_146.geojson', 'speeds_147.geojson', 'speeds_148.geojson', 'speeds_149.geojson', 'speeds_150.geojson', 'speeds_151.geojson', 'speeds_152.geojson', 'speeds_153.geojson', 'speeds_154.geojson', 'speeds_155.geojson', 'speeds_156.geojson', 'speeds_157.geojson', 'speeds_158.geojson', 'speeds_159.geojson', 'speeds_160.geojson', 'speeds_161.geojson', 'speeds_162.geojson', 'speeds_163.geojson', 'speeds_164.geojson', 'speeds_165.geojson', 'speeds_166.geojson', 'speeds_167.geojson', 'speeds_168.geojson', 'speeds_169.geojson', 'speeds_170.geojson', 'speeds_171.geojson', 'speeds_172.geojson', 'speeds_173.geojson', 'speeds_174.geojson', 'speeds_175.geojson', 'speeds_176.geojson', 'speeds_177.geojson', 'speeds_178.geojson', 'speeds_179.geojson', 'speeds_180.geojson', 'speeds_181.geojson', 'speeds_182.geojson', 'speeds_183.geojson', 'speeds_184.geojson', 'speeds_185.geojson', 'speeds_186.geojson', 'speeds_187.geojson', 'speeds_188.geojson', 'speeds_189.geojson', 'speeds_190.geojson', 'speeds_191.geojson', 'speeds_192.geojson', 'speeds_193.geojson', 'speeds_194.geojson', 'speeds_195.geojson', 'speeds_196.geojson', 'speeds_197.geojson', 'speeds_198.geojson', 'speeds_199.geojson', 'speeds_200.geojson', 'speeds_201.geojson', 'speeds_202.geojson', 'speeds_203.geojson', 'speeds_204.geojson', 'speeds_205.geojson', 'speeds_206.geojson', 'speeds_207.geojson', 'speeds_208.geojson', 'speeds_209.geojson', 'speeds_210.geojson', 'speeds_211.geojson', 'speeds_212.geojson', 'speeds_213.geojson', 'speeds_214.geojson', 'speeds_215.geojson', 'speeds_216.geojson', 'speeds_217.geojson', 'speeds_218.geojson', 'speeds_219.geojson', 'speeds_220.geojson', 'speeds_221.geojson', 'speeds_222.geojson', 'speeds_223.geojson', 'speeds_224.geojson', 'speeds_225.geojson', 'speeds_226.geojson', 'speeds_227.geojson', 'speeds_228.geojson', 'speeds_229.geojson', 'speeds_230.geojson', 'speeds_231.geojson', 'speeds_232.geojson', 'speeds_233.geojson', 'speeds_234.geojson', 'speeds_235.geojson', 'speeds_236.geojson', 'speeds_237.geojson', 'speeds_238.geojson', 'speeds_239.geojson', 'speeds_240.geojson', 'speeds_241.geojson', 'speeds_242.geojson', 'speeds_243.geojson', 'speeds_244.geojson', 'speeds_245.geojson', 'speeds_246.geojson', 'speeds_247.geojson', 'speeds_248.geojson', 'speeds_249.geojson', 'speeds_250.geojson', 'speeds_251.geojson', 'speeds_252.geojson', 'speeds_253.geojson', 'speeds_254.geojson', 'speeds_255.geojson', 'speeds_256.geojson', 'speeds_257.geojson', 'speeds_258.geojson', 'speeds_259.geojson', 'speeds_260.geojson', 'speeds_261.geojson', 'speeds_262.geojson', 'speeds_263.geojson', 'speeds_264.geojson', 'speeds_265.geojson', 'speeds_266.geojson', 'speeds_267.geojson', 'speeds_268.geojson', 'speeds_269.geojson', 'speeds_270.geojson', 'speeds_271.geojson', 'speeds_272.geojson', 'speeds_273.geojson', 'speeds_274.geojson', 'speeds_275.geojson', 'speeds_276.geojson', 'speeds_277.geojson', 'speeds_278.geojson', 'speeds_279.geojson', 'speeds_280.geojson', 'speeds_281.geojson', 'speeds_282.geojson', 'speeds_283.geojson', 'speeds_284.geojson', 'speeds_285.geojson', 'speeds_286.geojson', 'speeds_287.geojson']\n"
       ]
      }
     ],
     "prompt_number": 113
    },
    {
     "cell_type": "code",
     "collapsed": false,
     "input": [
      "webbrowser.open('../geo_visualization/untitled.html',new=1)"
     ],
     "language": "python",
     "metadata": {},
     "outputs": [
      {
       "metadata": {},
       "output_type": "pyout",
       "prompt_number": 7,
       "text": [
        "True"
       ]
      }
     ],
     "prompt_number": 7
    },
    {
     "cell_type": "code",
     "collapsed": false,
     "input": [],
     "language": "python",
     "metadata": {},
     "outputs": []
    }
   ],
   "metadata": {}
  }
 ]
}