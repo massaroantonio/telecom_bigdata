{
 "cells": [
  {
   "cell_type": "code",
   "execution_count": 2,
   "metadata": {
    "collapsed": true
   },
   "outputs": [],
   "source": [
    "from datetime import datetime\n",
    "from datetime import timedelta\n",
    "import shapefile\n",
    "import xml.etree.ElementTree as ET\n",
    "import numpy as np\n",
    "from shapely.geometry import Point\n",
    "from shapely.geometry.polygon import Polygon\n",
    "import matplotlib.pyplot as plt\n",
    "from pyproj import Proj, transform\n",
    "from pymongo import MongoClient\n",
    "from sklearn import tree\n",
    "import os\n",
    "%matplotlib inline"
   ]
  },
  {
   "cell_type": "code",
   "execution_count": 69,
   "metadata": {
    "collapsed": true
   },
   "outputs": [],
   "source": [
    "shp='/media/amassaro/external_2T/telecom_bigdata_2015/data/tim_grid/roma-grid/intersection_Roma_W_GRIDIT_NEW'\n",
    "crt=shapefile.Reader(shp)\n",
    "geomet=crt.shapeRecords()\n",
    "inProj = Proj(init='epsg:32632')\n",
    "outProj = Proj(init='epsg:4326')\n",
    "\n",
    "grid=[]\n",
    "for g in geomet:\n",
    "    item=[]\n",
    "    for c in g.shape.points:  \n",
    "        x2,y2 = transform(inProj,outProj,c[0],c[1])\n",
    "        item.append([x2,y2])\n",
    "    grid.append(item)\n",
    "    \n",
    "    \n",
    "grid=np.array(grid)\n",
    "\n",
    "grid_ids=np.array([g.record[0] for g in geomet])"
   ]
  },
  {
   "cell_type": "code",
   "execution_count": 78,
   "metadata": {
    "collapsed": true
   },
   "outputs": [],
   "source": [
    "tree = ET.parse('/media/amassaro/external_2T/telecom_bigdata_2015/data/external_data/xml_incidenti_mar-apr_2015.xml')\n",
    "root=tree.getroot()\n",
    "child=list(root)[1]\n",
    "acc_times=[]\n",
    "latlong_acc=[]\n",
    "for j in child:\n",
    "    if 'Latitudine' in j.attrib.keys() and 'Longitudine' in j.attrib.keys():\n",
    "        latlong_acc.append([float(j.attrib['Longitudine']),float(j.attrib['Latitudine'])])\n",
    "        acc_times.append(j.attrib['DataOraIncidente'])\n",
    "\n",
    "\n",
    "acc_times=np.array([datetime.strptime(t[:10]+' '+t[11:],'%Y-%m-%d %H:%M:%S') for t in acc_times])\n",
    "latlong_acc=np.array(latlong_acc)"
   ]
  },
  {
   "cell_type": "markdown",
   "metadata": {},
   "source": [
    "# accidents"
   ]
  },
  {
   "cell_type": "code",
   "execution_count": 79,
   "metadata": {
    "collapsed": false
   },
   "outputs": [],
   "source": [
    "start=datetime(2015,3,1)\n",
    "end=datetime(2015,5,1)\n",
    "for divide in [2,3,4,6]:    \n",
    "    n_timesteps=int(((end-start).total_seconds()/3600)/divide)\n",
    "    timesteps=[start+i*timedelta(0,3600*divide) for i in range(n_timesteps)]\n",
    "    data=np.zeros([len(grid),n_timesteps])\n",
    "    for i  in range(len(grid)):\n",
    "        for j in range(len(latlong_acc)):\n",
    "            if Polygon(grid[i]).contains(Point(latlong_acc[j])):\n",
    "                timestep=int((acc_times[j]-start).total_seconds()/(3600*divide))\n",
    "                data[i,timestep]+=1  \n",
    "                \n",
    "\n",
    "    out=open('accidents_by_cell_'+str(divide)+'hour_day','w')\n",
    "    out.write('grid_id,datetime,'+str(divide)+'hour,weekday,accidents\\n')\n",
    "    for i in range(len(grid)):\n",
    "        current_date=start\n",
    "        for t in range(n_timesteps):\n",
    "            out.write(str(grid_ids[i])+','+str(current_date)+','+str(current_date.hour/divide)+','+str(current_date.weekday())+','+str(data[i,t])+'\\n')\n",
    "            current_date+=timedelta(0,3600)*divide\n",
    "    out.close()\n"
   ]
  },
  {
   "cell_type": "markdown",
   "metadata": {},
   "source": [
    "# floating car"
   ]
  },
  {
   "cell_type": "code",
   "execution_count": null,
   "metadata": {
    "collapsed": true
   },
   "outputs": [],
   "source": [
    "start=datetime(2015,3,1,0)\n",
    "end=datetime(2015,5,1,0)\n",
    "timestep=3600\n",
    "n_timeslots=int((end-start).total_seconds()/timestep+1)\n",
    "dt=timedelta(0,timestep)\n",
    "traffic=np.zeros(n_timeslots)\n",
    "\n",
    "db=MongoClient()\n",
    "dbs=np.sort([x for x in db.database_names() if 'fl_car_roma' in x])\n",
    "\n",
    "for current_db in dbs:\n",
    "    cur=db[current_db]['floating_car_data'].find()\n",
    "    for c in cur:\n",
    "        t=c['timestamp']\n",
    "        if t>=start and t<=end:\n",
    "            traffic[int(((t-start).total_seconds())/timestep)]+=1\n",
    "    print current_db\n",
    "out=open('total_fl_car_traffic','w')\n",
    "dt=timedelta(0,timestep)\n",
    "for i in range(len(traffic)):\n",
    "    out.write(str(start+i*dt)+','+str(traffic[i])+',\\n')\n",
    "out.close()"
   ]
  },
  {
   "cell_type": "markdown",
   "metadata": {},
   "source": [
    "# weather"
   ]
  },
  {
   "cell_type": "code",
   "execution_count": 4,
   "metadata": {
    "collapsed": false
   },
   "outputs": [],
   "source": [
    "import json\n",
    "start=datetime(2015,3,1,0)\n",
    "end=datetime(2015,5,1,0)\n",
    "\n",
    "chosen=[]\n",
    "for x in os.listdir('/media/amassaro/external_2T/openweather/Roma/'):\n",
    "    y=x.split('_')\n",
    "    d1=datetime.fromtimestamp(int(y[2]))\n",
    "    d2=datetime.fromtimestamp(int(y[3]))\n",
    "    if d1.year==2015 and (d1.month==3 or d1.month==4 or d2.month==3 or d2.month==4):\n",
    "        chosen.append(x)\n",
    "\n",
    "\n",
    "t=[]\n",
    "ids=[]\n",
    "mains=[]\n",
    "des=[]\n",
    "for f in chosen:\n",
    "    with open('/media/amassaro/external_2T/openweather/Roma/'+f) as data_file:    \n",
    "        data = json.load(data_file)\n",
    "        for d in data['list']:\n",
    "            time=datetime.fromtimestamp(d['dt'])\n",
    "            if time>=start and time<end:\n",
    "                t.append(time)\n",
    "                ids.append(d['weather'][0]['id'])\n",
    "                mains.append(d['weather'][0]['main'])\n",
    "                des.append(d['weather'][0]['description'])\n",
    "t=np.array(t)  \n",
    "T=np.array([tt.replace(minute=0, second=0) if tt.minute<30 else (tt+timedelta(0,3600)).replace(minute=0,second=0) for tt in t])\n",
    "TT=np.sort(np.array(list(set(T))))\n",
    "\n",
    "iids=[-1 for i in range(len(TT))]\n",
    "mmains=[-1 for i in range(len(TT))]\n",
    "ddes=[-1 for i in range(len(TT))]\n",
    "k=0\n",
    "for tt in TT:\n",
    "    i=np.where(T==tt)[0][0]\n",
    "    iids[k]=ids[i]\n",
    "    mmains[k]=mains[i]\n",
    "    ddes[k]=des[i]\n",
    "    k+=1\n",
    "    \n",
    "out=open('weather','w')\n",
    "out.write('time,id,main,des,\\n')\n",
    "for i in range(len(TT)):\n",
    "    out.write(str(TT[i])+','+str(iids[i])+','+str(mmains[i])+','+str(ddes[i])+',\\n')\n",
    "out.close()\n"
   ]
  },
  {
   "cell_type": "markdown",
   "metadata": {},
   "source": [
    "# Telco"
   ]
  },
  {
   "cell_type": "code",
   "execution_count": 10,
   "metadata": {
    "collapsed": true
   },
   "outputs": [],
   "source": [
    "start=datetime(2015,3,1,0)\n",
    "end=datetime(2015,5,1,0)\n",
    "timestep=3600\n",
    "n_timeslots=int((end-start).total_seconds()/timestep+1)"
   ]
  },
  {
   "cell_type": "code",
   "execution_count": 9,
   "metadata": {
    "collapsed": false
   },
   "outputs": [
    {
     "name": "stdout",
     "output_type": "stream",
     "text": [
      "call_in_roma ok\n",
      "call_out_roma ok\n",
      "sms_in_roma ok\n",
      "sms_out_roma ok\n"
     ]
    }
   ],
   "source": [
    "telco=np.zeros((4,n_timeslots))\n",
    "dbs=['call_in_roma','call_out_roma','sms_in_roma','sms_out_roma']\n",
    "coll=['callIn','callOut','smsIn','smsOut']\n",
    "for i in range(len(dbs)):\n",
    "    cl=MongoClient()\n",
    "    db=cl[dbs[i]]\n",
    "    cur=db[coll[i]].find()\n",
    "    for c in cur:\n",
    "        t=datetime.fromtimestamp(c['time_interval'])\n",
    "        if i<2:\n",
    "            v=c['n_of_calls']\n",
    "        else:\n",
    "            v=c['n_of_sms']\n",
    "        telco[i,int(((t-start).total_seconds())/timestep)]+=v\n",
    "    print dbs[i], 'ok'\n",
    "    cl.close()\n",
    "for i in range(len(coll)):\n",
    "    out=open(coll[i],'w')\n",
    "    for j in range(len(telco[i])):\n",
    "        out.write(str(start+j*timedelta(0,timestep))+','+str(telco[i,j])+',\\n')\n",
    "    out.close()"
   ]
  },
  {
   "cell_type": "markdown",
   "metadata": {},
   "source": [
    "# Telco by cell_id"
   ]
  },
  {
   "cell_type": "code",
   "execution_count": null,
   "metadata": {
    "collapsed": true
   },
   "outputs": [],
   "source": [
    "dbs=['call_in_roma','call_out_roma','sms_in_roma','sms_out_roma']\n",
    "coll=['callIn','callOut','smsIn','smsOut']\n",
    "cells_list=[db[c].distinct('square_id') for c in coll]\n",
    "cells=[]\n",
    "cl=MongoClient()\n",
    "for i in range(len(dbs)):\n",
    "    cells+=cl[dbs[i]][coll[i]].distinct('square_id')\n",
    "cells=list(set(cells))\n",
    "cl.close()\n",
    "\n",
    "for cell in cells:\n",
    "    telco=np.zeros((len(coll),n_timeslots))\n",
    "    for i in range(len(dbs)):\n",
    "        cl=MongoClient()\n",
    "        cur=cl[dbs[i]][coll[i]].find({'quare_id':cell})\n",
    "        for c in cur:\n",
    "            t=datetime.fromtimestamp(c['time_interval'])\n",
    "            if i<2:\n",
    "                v=c['n_of_calls']\n",
    "            else:\n",
    "                v=c['n_of_sms']\n",
    "            telco[i,int(((t-start).total_seconds())/timestep)]+=v\n",
    "        cl.close()\n",
    "    for j in range(len(coll)):\n",
    "        out=open(coll[j]+'by_cell','a')\n",
    "        for k in range(len(telco[j])):\n",
    "            out.write(cell,str(start+k*timedelta(0,timestep))+','+str(telco[j,k])+',\\n')\n",
    "        out.close()"
   ]
  },
  {
   "cell_type": "markdown",
   "metadata": {},
   "source": [
    "# Distinct floating cars, broken down by type"
   ]
  },
  {
   "cell_type": "code",
   "execution_count": 90,
   "metadata": {
    "collapsed": false
   },
   "outputs": [
    {
     "name": "stdout",
     "output_type": "stream",
     "text": [
      "[40, 50, 20, 10]\n"
     ]
    }
   ],
   "source": [
    "cats=[]\n",
    "for current_db in dbs:\n",
    "    cats+=db[current_db]['floating_car_data'].distinct(\"vehicle_cat\")\n",
    "cats=list(set(cats))\n",
    "print cats"
   ]
  },
  {
   "cell_type": "code",
   "execution_count": 91,
   "metadata": {
    "collapsed": false
   },
   "outputs": [
    {
     "name": "stdout",
     "output_type": "stream",
     "text": [
      "40\n",
      "50\n",
      "20\n",
      "10\n",
      "all\n"
     ]
    }
   ],
   "source": [
    "end=datetime(2015,5,1,0)\n",
    "timestep=3600\n",
    "dt=timedelta(0,timestep)\n",
    "db=MongoClient()\n",
    "dbs=np.sort([x for x in db.database_names() if 'fl_car_roma' in x])\n",
    "\n",
    "for cat in cats:\n",
    "    start=datetime(2015,3,1,0)\n",
    "    H=np.zeros(24*len(dbs))\n",
    "    k=0\n",
    "    for current_db in dbs:\n",
    "        for i in range(24):\n",
    "            cur=db[current_db]['floating_car_data'].find({'$and':[{'timestamp':{\"$gte\":start+i*dt}},{'timestamp':{\"$lt\":start+(i+1)*dt}},{'vehicle_cat': cat}]})\n",
    "            H[k*24+i]=len(set([c['travel_id'] for c in cur]))\n",
    "        start+=timedelta(1,0)\n",
    "        k+=1\n",
    "    \n",
    "    out=open('features_dataset/unique_floating_car_'+str(cat),'w')\n",
    "    start=datetime(2015,3,1,0)\n",
    "    for i in range(len(H)):\n",
    "        out.write(str(start+i*dt)+','+str(H[i])+',\\n')\n",
    "    out.close()\n",
    "    print(cat)\n",
    "    \n",
    "H=np.zeros(24*len(dbs))\n",
    "k=0\n",
    "start=datetime(2015,3,1,0)\n",
    "for current_db in dbs:\n",
    "    for i in range(24):\n",
    "        cur=db[current_db]['floating_car_data'].find({'$and':[{'timestamp':{\"$gte\":start+i*dt}},{'timestamp':{\"$lt\":start+(i+1)*dt}}]})\n",
    "        H[k*24+i]=len(set([c['travel_id'] for c in cur]))\n",
    "    start+=timedelta(1,0)\n",
    "    k+=1\n",
    "\n",
    "out=open('features_dataset/unique_floating_car','w')\n",
    "start=datetime(2015,3,1,0)\n",
    "for i in range(len(H)):\n",
    "    out.write(str(start+i*dt)+','+str(H[i])+',\\n')\n",
    "out.close()\n",
    "print('all')\n"
   ]
  },
  {
   "cell_type": "markdown",
   "metadata": {},
   "source": [
    "# Distinct floating cars, broken down by type and cell id"
   ]
  },
  {
   "cell_type": "code",
   "execution_count": 68,
   "metadata": {
    "collapsed": true
   },
   "outputs": [],
   "source": [
    "shp='/media/amassaro/external_2T/telecom_bigdata_2015/data/tim_grid/roma-grid/intersection_Roma_W_GRIDIT_NEW'\n",
    "inProj = Proj(init='epsg:32632')\n",
    "outProj = Proj(init='epsg:4326')\n",
    "crt=shapefile.Reader(shp)\n",
    "geomet=crt.shapeRecords()\n",
    "ids=np.array([g.record[0] for g in geomet])\n",
    "grid=[]\n",
    "for g in geomet:\n",
    "    item=[]\n",
    "    for c in g.shape.points:  \n",
    "        x2,y2 = transform(inProj,outProj,c[0],c[1])\n",
    "        item.append([x2,y2])\n",
    "    grid.append(item)   \n",
    "grid=np.array(grid)"
   ]
  },
  {
   "cell_type": "code",
   "execution_count": 89,
   "metadata": {
    "collapsed": false
   },
   "outputs": [
    {
     "name": "stdout",
     "output_type": "stream",
     "text": [
      "40\n"
     ]
    },
    {
     "data": {
      "image/png": "[encoded data removed]",
      "text/plain": [
       "<matplotlib.figure.Figure at 0x7f4904869290>"
      ]
     },
     "metadata": {},
     "output_type": "display_data"
    },
    {
     "name": "stdout",
     "output_type": "stream",
     "text": [
      "50\n"
     ]
    },
    {
     "data": {
      "image/png": "[encoded data removed]",
      "text/plain": [
       "<matplotlib.figure.Figure at 0x7f490387c110>"
      ]
     },
     "metadata": {},
     "output_type": "display_data"
    },
    {
     "ename": "KeyboardInterrupt",
     "evalue": "",
     "output_type": "error",
     "traceback": [
      "\u001b[1;31m---------------------------------------------------------------------------\u001b[0m",
      "\u001b[1;31mKeyboardInterrupt\u001b[0m                         Traceback (most recent call last)",
      "\u001b[1;32m<ipython-input-89-612a863e1807>\u001b[0m in \u001b[0;36m<module>\u001b[1;34m()\u001b[0m\n\u001b[0;32m     26\u001b[0m             \u001b[1;32mfor\u001b[0m \u001b[0mjj\u001b[0m \u001b[1;32min\u001b[0m \u001b[0mrange\u001b[0m\u001b[1;33m(\u001b[0m\u001b[0mlen\u001b[0m\u001b[1;33m(\u001b[0m\u001b[0mpositions\u001b[0m\u001b[1;33m)\u001b[0m\u001b[1;33m)\u001b[0m\u001b[1;33m:\u001b[0m\u001b[1;33m\u001b[0m\u001b[0m\n\u001b[0;32m     27\u001b[0m                 \u001b[1;32mfor\u001b[0m \u001b[0mii\u001b[0m  \u001b[1;32min\u001b[0m \u001b[0mrange\u001b[0m\u001b[1;33m(\u001b[0m\u001b[0mlen\u001b[0m\u001b[1;33m(\u001b[0m\u001b[0mgrid\u001b[0m\u001b[1;33m)\u001b[0m\u001b[1;33m)\u001b[0m\u001b[1;33m:\u001b[0m\u001b[1;33m\u001b[0m\u001b[0m\n\u001b[1;32m---> 28\u001b[1;33m                     \u001b[1;32mif\u001b[0m \u001b[0mPolygon\u001b[0m\u001b[1;33m(\u001b[0m\u001b[0mgrid\u001b[0m\u001b[1;33m[\u001b[0m\u001b[0mii\u001b[0m\u001b[1;33m]\u001b[0m\u001b[1;33m)\u001b[0m\u001b[1;33m.\u001b[0m\u001b[0mcontains\u001b[0m\u001b[1;33m(\u001b[0m\u001b[0mPoint\u001b[0m\u001b[1;33m(\u001b[0m\u001b[0mpositions\u001b[0m\u001b[1;33m[\u001b[0m\u001b[0mjj\u001b[0m\u001b[1;33m]\u001b[0m\u001b[1;33m)\u001b[0m\u001b[1;33m)\u001b[0m\u001b[1;33m:\u001b[0m\u001b[1;33m\u001b[0m\u001b[0m\n\u001b[0m\u001b[0;32m     29\u001b[0m                         \u001b[0msquare_ids\u001b[0m\u001b[1;33m[\u001b[0m\u001b[0mjj\u001b[0m\u001b[1;33m]\u001b[0m\u001b[1;33m=\u001b[0m\u001b[0mids\u001b[0m\u001b[1;33m[\u001b[0m\u001b[0mii\u001b[0m\u001b[1;33m]\u001b[0m\u001b[1;33m\u001b[0m\u001b[0m\n\u001b[0;32m     30\u001b[0m                         \u001b[1;32mbreak\u001b[0m\u001b[1;33m\u001b[0m\u001b[0m\n",
      "\u001b[1;32m/home/amassaro/anaconda/lib/python2.7/site-packages/shapely/geometry/point.pyc\u001b[0m in \u001b[0;36m__init__\u001b[1;34m(self, *args)\u001b[0m\n\u001b[0;32m     47\u001b[0m         \u001b[0mBaseGeometry\u001b[0m\u001b[1;33m.\u001b[0m\u001b[0m__init__\u001b[0m\u001b[1;33m(\u001b[0m\u001b[0mself\u001b[0m\u001b[1;33m)\u001b[0m\u001b[1;33m\u001b[0m\u001b[0m\n\u001b[0;32m     48\u001b[0m         \u001b[1;32mif\u001b[0m \u001b[0mlen\u001b[0m\u001b[1;33m(\u001b[0m\u001b[0margs\u001b[0m\u001b[1;33m)\u001b[0m \u001b[1;33m>\u001b[0m \u001b[1;36m0\u001b[0m\u001b[1;33m:\u001b[0m\u001b[1;33m\u001b[0m\u001b[0m\n\u001b[1;32m---> 49\u001b[1;33m             \u001b[0mself\u001b[0m\u001b[1;33m.\u001b[0m\u001b[0m_set_coords\u001b[0m\u001b[1;33m(\u001b[0m\u001b[1;33m*\u001b[0m\u001b[0margs\u001b[0m\u001b[1;33m)\u001b[0m\u001b[1;33m\u001b[0m\u001b[0m\n\u001b[0m\u001b[0;32m     50\u001b[0m \u001b[1;33m\u001b[0m\u001b[0m\n\u001b[0;32m     51\u001b[0m     \u001b[1;31m# Coordinate getters and setters\u001b[0m\u001b[1;33m\u001b[0m\u001b[1;33m\u001b[0m\u001b[0m\n",
      "\u001b[1;32m/home/amassaro/anaconda/lib/python2.7/site-packages/shapely/geometry/point.pyc\u001b[0m in \u001b[0;36m_set_coords\u001b[1;34m(self, *args)\u001b[0m\n\u001b[0;32m    125\u001b[0m         \u001b[0mself\u001b[0m\u001b[1;33m.\u001b[0m\u001b[0mempty\u001b[0m\u001b[1;33m(\u001b[0m\u001b[1;33m)\u001b[0m\u001b[1;33m\u001b[0m\u001b[0m\n\u001b[0;32m    126\u001b[0m         \u001b[1;32mif\u001b[0m \u001b[0mlen\u001b[0m\u001b[1;33m(\u001b[0m\u001b[0margs\u001b[0m\u001b[1;33m)\u001b[0m \u001b[1;33m==\u001b[0m \u001b[1;36m1\u001b[0m\u001b[1;33m:\u001b[0m\u001b[1;33m\u001b[0m\u001b[0m\n\u001b[1;32m--> 127\u001b[1;33m             \u001b[0mself\u001b[0m\u001b[1;33m.\u001b[0m\u001b[0m_geom\u001b[0m\u001b[1;33m,\u001b[0m \u001b[0mself\u001b[0m\u001b[1;33m.\u001b[0m\u001b[0m_ndim\u001b[0m \u001b[1;33m=\u001b[0m \u001b[0mgeos_point_from_py\u001b[0m\u001b[1;33m(\u001b[0m\u001b[0margs\u001b[0m\u001b[1;33m[\u001b[0m\u001b[1;36m0\u001b[0m\u001b[1;33m]\u001b[0m\u001b[1;33m)\u001b[0m\u001b[1;33m\u001b[0m\u001b[0m\n\u001b[0m\u001b[0;32m    128\u001b[0m         \u001b[1;32melse\u001b[0m\u001b[1;33m:\u001b[0m\u001b[1;33m\u001b[0m\u001b[0m\n\u001b[0;32m    129\u001b[0m             \u001b[0mself\u001b[0m\u001b[1;33m.\u001b[0m\u001b[0m_geom\u001b[0m\u001b[1;33m,\u001b[0m \u001b[0mself\u001b[0m\u001b[1;33m.\u001b[0m\u001b[0m_ndim\u001b[0m \u001b[1;33m=\u001b[0m \u001b[0mgeos_point_from_py\u001b[0m\u001b[1;33m(\u001b[0m\u001b[0mtuple\u001b[0m\u001b[1;33m(\u001b[0m\u001b[0margs\u001b[0m\u001b[1;33m)\u001b[0m\u001b[1;33m)\u001b[0m\u001b[1;33m\u001b[0m\u001b[0m\n",
      "\u001b[1;32m/home/amassaro/anaconda/lib/python2.7/site-packages/shapely/geometry/point.pyc\u001b[0m in \u001b[0;36mgeos_point_from_py\u001b[1;34m(ob, update_geom, update_ndim)\u001b[0m\n\u001b[0;32m    197\u001b[0m     \u001b[1;31m# If numpy is present, we use numpy.require to ensure that we have a\u001b[0m\u001b[1;33m\u001b[0m\u001b[1;33m\u001b[0m\u001b[0m\n\u001b[0;32m    198\u001b[0m     \u001b[1;31m# C-continguous array that owns its data. View data will be copied.\u001b[0m\u001b[1;33m\u001b[0m\u001b[1;33m\u001b[0m\u001b[0m\n\u001b[1;32m--> 199\u001b[1;33m     \u001b[0mob\u001b[0m \u001b[1;33m=\u001b[0m \u001b[0mrequired\u001b[0m\u001b[1;33m(\u001b[0m\u001b[0mob\u001b[0m\u001b[1;33m)\u001b[0m\u001b[1;33m\u001b[0m\u001b[0m\n\u001b[0m\u001b[0;32m    200\u001b[0m     \u001b[1;32mtry\u001b[0m\u001b[1;33m:\u001b[0m\u001b[1;33m\u001b[0m\u001b[0m\n\u001b[0;32m    201\u001b[0m         \u001b[1;31m# From array protocol\u001b[0m\u001b[1;33m\u001b[0m\u001b[1;33m\u001b[0m\u001b[0m\n",
      "\u001b[1;32m/home/amassaro/anaconda/lib/python2.7/site-packages/shapely/coords.pyc\u001b[0m in \u001b[0;36mrequired\u001b[1;34m(ob)\u001b[0m\n\u001b[0;32m     22\u001b[0m     \u001b[0mC\u001b[0m\u001b[1;33m-\u001b[0m\u001b[0mcontinguous\u001b[0m \u001b[0mdata\u001b[0m\u001b[1;33m,\u001b[0m \u001b[0mcopying\u001b[0m \u001b[1;32mif\u001b[0m \u001b[0mnecessary\u001b[0m\u001b[1;33m,\u001b[0m \u001b[1;32mor\u001b[0m \u001b[0mjust\u001b[0m \u001b[1;32mreturn\u001b[0m \u001b[0mthe\u001b[0m \u001b[0moriginal\u001b[0m\u001b[1;33m\u001b[0m\u001b[0m\n\u001b[0;32m     23\u001b[0m     object.\"\"\"\n\u001b[1;32m---> 24\u001b[1;33m     \u001b[1;32mif\u001b[0m \u001b[0mhasattr\u001b[0m\u001b[1;33m(\u001b[0m\u001b[0mob\u001b[0m\u001b[1;33m,\u001b[0m \u001b[1;34m'__array_interface__'\u001b[0m\u001b[1;33m)\u001b[0m\u001b[1;33m:\u001b[0m\u001b[1;33m\u001b[0m\u001b[0m\n\u001b[0m\u001b[0;32m     25\u001b[0m         \u001b[1;32mif\u001b[0m \u001b[0mob\u001b[0m\u001b[1;33m.\u001b[0m\u001b[0m__array_interface__\u001b[0m\u001b[1;33m.\u001b[0m\u001b[0mget\u001b[0m\u001b[1;33m(\u001b[0m\u001b[1;34m'strides'\u001b[0m\u001b[1;33m)\u001b[0m \u001b[1;32mand\u001b[0m \u001b[1;32mnot\u001b[0m \u001b[0mhas_numpy\u001b[0m\u001b[1;33m:\u001b[0m\u001b[1;33m\u001b[0m\u001b[0m\n\u001b[0;32m     26\u001b[0m             \u001b[1;31m# raise an error if strided. See issue #52.\u001b[0m\u001b[1;33m\u001b[0m\u001b[1;33m\u001b[0m\u001b[0m\n",
      "\u001b[1;31mKeyboardInterrupt\u001b[0m: "
     ]
    }
   ],
   "source": [
    "end=datetime(2015,5,1,0)\n",
    "timestep=3600\n",
    "dt=timedelta(0,timestep)\n",
    "db=MongoClient()\n",
    "dbs=np.sort([x for x in db.database_names() if 'fl_car_roma' in x])\n",
    "\n",
    "\n",
    "for cat in cats:\n",
    "    start=datetime(2015,3,1,0)\n",
    "    H=np.zeros((len(grid),24*len(dbs)))\n",
    "    k=0\n",
    "    #for current_db in dbs:\n",
    "    for current_db in dbs[:2]:\n",
    "        #for i in range(24):\n",
    "        for i in range(2):\n",
    "            cur=db[current_db]['floating_car_data'].find({'$and':[{'timestamp':{\"$gte\":start+i*dt}},{'timestamp':{\"$lt\":start+(i+1)*dt}},{'vehicle_cat': cat}]})\n",
    "            curcount=cur.count()\n",
    "            positions=np.zeros((curcount,2))\n",
    "            travel_ids=np.empty(curcount,dtype='object')\n",
    "            square_ids=np.zeros(curcount,dtype='object')\n",
    "            h=0\n",
    "            for c in cur:\n",
    "                positions[h]=np.array([c['long'],c['lat']])\n",
    "                travel_ids[h]=c['travel_id']\n",
    "                h+=1\n",
    "            for jj in range(len(positions)):\n",
    "                for ii  in range(len(grid)):\n",
    "                    if Polygon(grid[ii]).contains(Point(positions[jj])):\n",
    "                        square_ids[jj]=ids[ii]\n",
    "                        break\n",
    "            unique_square_ids=list(set(square_ids))\n",
    "            for u in unique_square_ids:\n",
    "                I=np.where(ids==u)\n",
    "                II=np.where(square_ids==u)\n",
    "                H[I,k*24+i]=len(set(travel_ids[II]))\n",
    "            \n",
    "        start+=timedelta(1,0)\n",
    "        k+=1\n",
    "    \n",
    "    out=open('features_dataset/unique_fl_cars_by_cell/_'+str(cat),'w')\n",
    "    start=datetime(2015,3,1,0)\n",
    "    for i in range(len(grid)):\n",
    "        for j in range(len(H[i])):\n",
    "            out.write(str(start+j*dt)+','+str(ids[i])+','+str(H[i,j])+',\\n')\n",
    "    out.close()\n",
    "    print(cat)\n",
    "    plt.figure(figsize=(18,4))\n",
    "    plt.plot(H)\n",
    "    plt.show()\n",
    "'''    \n",
    "H=np.zeros(24*len(dbs))\n",
    "k=0\n",
    "start=datetime(2015,3,1,0)\n",
    "for current_db in dbs:\n",
    "    for i in range(24):\n",
    "        cur=db[current_db]['floating_car_data'].find({'$and':[{'timestamp':{\"$gte\":start+i*dt}},{'timestamp':{\"$lt\":start+(i+1)*dt}}]})\n",
    "        positions=np.zeros((cur.count,2))\n",
    "        travel_ids=np.empty(cur.count,dtype='object')\n",
    "        square_ids=np.zeros(cur.count,dtype='object')\n",
    "        h=0\n",
    "        for c in cur:\n",
    "            positions[h]=np.array([c['long'],c['lat']])\n",
    "            travel_ids[h]=c['travel_id']\n",
    "            h+=1\n",
    "        for jj in range(len(positions)):\n",
    "            for ii  in range(len(grid)):\n",
    "                if Polygon(grid[ii]).contains(Point(positions[jj])):\n",
    "                    square_ids[jj]=ids[ii]\n",
    "                    break\n",
    "        unique_square_ids=list(set(square_ids))\n",
    "        for u in unique_square_ids:\n",
    "            I=np.where(ids==u)\n",
    "            II=np.where(square_ids==u)\n",
    "            H[I,k*24+i]=len(set(travel_ids[II]))\n",
    "    start+=timedelta(1,0)\n",
    "    k+=1\n",
    "\n",
    "out=open('features_dataset/unique_floating_car_by_cell','w')\n",
    "start=datetime(2015,3,1,0)\n",
    "for i in range(len(grid)):\n",
    "    for j in range(len(H[i])):\n",
    "        out.write(str(start+j*dt)+','+str(ids[i])+','+str(H[i,j])+',\\n')\n",
    "out.close()'''"
   ]
  },
  {
   "cell_type": "code",
   "execution_count": 80,
   "metadata": {
    "collapsed": false
   },
   "outputs": [
    {
     "data": {
      "text/plain": [
       "753"
      ]
     },
     "execution_count": 80,
     "metadata": {},
     "output_type": "execute_result"
    }
   ],
   "source": [
    "len(travel_ids)"
   ]
  },
  {
   "cell_type": "code",
   "execution_count": 81,
   "metadata": {
    "collapsed": false
   },
   "outputs": [
    {
     "data": {
      "text/plain": [
       "(array([829]),)"
      ]
     },
     "execution_count": 81,
     "metadata": {},
     "output_type": "execute_result"
    }
   ],
   "source": [
    "I"
   ]
  },
  {
   "cell_type": "code",
   "execution_count": 84,
   "metadata": {
    "collapsed": false
   },
   "outputs": [
    {
     "data": {
      "text/plain": [
       "(array([829]),)"
      ]
     },
     "execution_count": 84,
     "metadata": {},
     "output_type": "execute_result"
    }
   ],
   "source": [
    "np.where(ids==u)"
   ]
  },
  {
   "cell_type": "code",
   "execution_count": 85,
   "metadata": {
    "collapsed": false
   },
   "outputs": [
    {
     "data": {
      "text/plain": [
       "928"
      ]
     },
     "execution_count": 85,
     "metadata": {},
     "output_type": "execute_result"
    }
   ],
   "source": [
    "len(grid)"
   ]
  },
  {
   "cell_type": "code",
   "execution_count": 86,
   "metadata": {
    "collapsed": false
   },
   "outputs": [
    {
     "data": {
      "text/plain": [
       "928"
      ]
     },
     "execution_count": 86,
     "metadata": {},
     "output_type": "execute_result"
    }
   ],
   "source": [
    "len(H)"
   ]
  },
  {
   "cell_type": "code",
   "execution_count": 88,
   "metadata": {
    "collapsed": false
   },
   "outputs": [
    {
     "data": {
      "text/plain": [
       "array([u'ac1e5d9114c1a40fd2d912052a6b3cfc',\n",
       "       u'ac1e5d9114c1a40fd2d912052a6b3cfc',\n",
       "       u'ac1e5d9114c1a40fd2d912052a6b3cfc',\n",
       "       u'ac1e5d9114c1a40fd2d912052a6b3cfc',\n",
       "       u'ac1e5d9114c1a40fd2d912052a6b3cfc'], dtype=object)"
      ]
     },
     "execution_count": 88,
     "metadata": {},
     "output_type": "execute_result"
    }
   ],
   "source": [
    "travel_ids[np.where(square_ids==u)]"
   ]
  },
  {
   "cell_type": "code",
   "execution_count": null,
   "metadata": {
    "collapsed": true
   },
   "outputs": [],
   "source": []
  }
 ],
 "metadata": {
  "kernelspec": {
   "display_name": "Python 2",
   "language": "python",
   "name": "python2"
  },
  "language_info": {
   "codemirror_mode": {
    "name": "ipython",
    "version": 2
   },
   "file_extension": ".py",
   "mimetype": "text/x-python",
   "name": "python",
   "nbconvert_exporter": "python",
   "pygments_lexer": "ipython2",
   "version": "2.7.10"
  }
 },
 "nbformat": 4,
 "nbformat_minor": 0
}
