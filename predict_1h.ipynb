{
 "cells": [
  {
   "cell_type": "code",
   "execution_count": 1,
   "metadata": {
    "collapsed": false
   },
   "outputs": [],
   "source": [
    "from datetime import datetime, timedelta\n",
    "import numpy as np\n",
    "import matplotlib.pyplot as plt\n",
    "import os\n",
    "from sklearn.ensemble import RandomForestClassifier,AdaBoostClassifier,BaggingClassifier,GradientBoostingClassifier\n",
    "from sklearn.metrics import classification_report,accuracy_score,confusion_matrix\n",
    "from sklearn.cross_validation import train_test_split\n",
    "from sklearn import tree\n",
    "import getfeat\n",
    "%matplotlib inline"
   ]
  },
  {
   "cell_type": "code",
   "execution_count": 2,
   "metadata": {
    "collapsed": true
   },
   "outputs": [],
   "source": [
    "start=datetime(2015,3,1,0)\n",
    "end=datetime(2015,5,1,0)\n",
    "timestep=3600\n",
    "n_timeslots=int((end-start).total_seconds()/timestep+1)"
   ]
  },
  {
   "cell_type": "code",
   "execution_count": 3,
   "metadata": {
    "collapsed": false
   },
   "outputs": [],
   "source": [
    "Q=getfeat.get_composed_feat_1h()\n"
   ]
  },
  {
   "cell_type": "code",
   "execution_count": null,
   "metadata": {
    "collapsed": true
   },
   "outputs": [],
   "source": [
    "clfs=[DecisionTreeClassifier(),DecisionTreeClassifier(min_samples_split=16),DecisionTreeClassifier(max_depth=6)]\n",
    "[RandomForestClassifier(n_estimators=n_est, max_features=i,max_depth=9) for i in range(1,len(X[0]))]+[BaggingClassifier(base_estimator=klf,max_features=i,n_estimators=n_est) for i in range(1,len(X[0]))]+[GradientBoostingClassifier(n_estimators=n_est, learning_rate=1.0,max_depth=9, random_state=0)]+[AdaBoostClassifier(base_estimator=klf)]"
   ]
  },
  {
   "cell_type": "code",
   "execution_count": 4,
   "metadata": {
    "collapsed": false
   },
   "outputs": [],
   "source": [
    "X=Q[0].T\n",
    "Y=Q[1]\n"
   ]
  },
  {
   "cell_type": "code",
   "execution_count": 5,
   "metadata": {
    "collapsed": false
   },
   "outputs": [
    {
     "data": {
      "text/plain": [
       "1322"
      ]
     },
     "execution_count": 5,
     "metadata": {},
     "output_type": "execute_result"
    }
   ],
   "source": [
    "len(X[0])"
   ]
  },
  {
   "cell_type": "code",
   "execution_count": 6,
   "metadata": {
    "collapsed": false
   },
   "outputs": [],
   "source": [
    "Y_q=np.zeros(len(Y))\n",
    "i=0\n",
    "for y in Y:\n",
    "    if y==0:\n",
    "        score=0\n",
    "    elif y in [1]:\n",
    "        score =1\n",
    "    elif y in [2,3]:\n",
    "        score =2\n",
    "    elif y in [4,5]:\n",
    "        score =3\n",
    "    else:\n",
    "        score =4\n",
    "    Y_q[i]=score\n",
    "    i+=1"
   ]
  },
  {
   "cell_type": "code",
   "execution_count": 7,
   "metadata": {
    "collapsed": false
   },
   "outputs": [
    {
     "data": {
      "image/png": "[encoded data removed]",
      "text/plain": [
       "<matplotlib.figure.Figure at 0x7f78526c7c10>"
      ]
     },
     "metadata": {},
     "output_type": "display_data"
    },
    {
     "data": {
      "image/png": "[encoded data removed]",
      "text/plain": [
       "<matplotlib.figure.Figure at 0x7f78517d3810>"
      ]
     },
     "metadata": {},
     "output_type": "display_data"
    }
   ],
   "source": [
    "plt.hist(Y, list(range(int(max(Y)+1))))\n",
    "plt.show()\n",
    "plt.hist(Y_q)\n",
    "plt.show()"
   ]
  },
  {
   "cell_type": "code",
   "execution_count": 9,
   "metadata": {
    "collapsed": false
   },
   "outputs": [],
   "source": [
    "I=np.random.permutation(len(X))\n",
    "clf = tree.DecisionTreeClassifier(min_samples_split=16)\n",
    "AAA=[]\n",
    "choose=0\n",
    "for choose in [[i] for i in range(len(X[0]))]:\n",
    "    m=[]\n",
    "    s=[]\n",
    "    acc=[]\n",
    "    P=[]\n",
    "    R=[]\n",
    "    for i in range(10):\n",
    "        n=100\n",
    "        I_te=list(range(n*i,n*(i+1)))\n",
    "        I_tr=list(range(0,n*i))+list(range(n*(i+1),len(I)))\n",
    "        train=I[I_tr]\n",
    "        test=I[I_te]\n",
    "\n",
    "        XX = np.array([d[choose] for d in X[train]])\n",
    "        y=Y_q[train] \n",
    "        clf = clf.fit(XX, y)\n",
    "        true=np.array([int(Y_q[t]) for t in test])\n",
    "        pred=np.array([int(clf.predict([X[t][choose]])[0]) for t in test])\n",
    "        m.append(np.average(np.abs(true-pred)))\n",
    "        s.append(np.std(true-pred))\n",
    "        acc.append(accuracy_score(true,pred))\n",
    "        conf=confusion_matrix(true,pred) \n",
    "        recall=[0 if not conf[i,i] else float(conf[i,i])/sum(conf[i,:]) for i in range(len(conf[:,0]))]\n",
    "        precision=[0 if not conf[i,i] else float(conf[i,i])/sum(conf[:,i]) for i in range(len(conf[:,0]))]\n",
    "        R.append(recall)\n",
    "        P.append(precision)\n",
    "    R=np.array(R)\n",
    "    P=np.array(P)\n",
    "    #print '***************\\n','features: ',choose,'\\naverage values on crossvalidation run\\n'\n",
    "    #print 'distance from true: '.ljust(25),round(np.average(m),2)\n",
    "    #print 'std from true: '.ljust(25),round(np.average(s),2)\n",
    "    #print 'accuracy: '.ljust(25),round(np.average(acc),2)\n",
    "    AAA.append(np.average(acc))\n",
    "    #PP=np.average(P,0)\n",
    "    #RR=np.average(R,0)\n",
    "    #print '\\nclass'.ljust(6),'precision'.ljust(10),'recall'.ljust(15)\n",
    "    #for i in range(len(PP) ):\n",
    "        #print str(i).ljust(6),str(round(PP[i],2)).ljust(10),str(round(RR[i],2)).ljust(15)\n",
    "    #print 'avg'.ljust(6),str(round(np.average(PP),2)).ljust(10),str(round(np.average(RR),2)).ljust(15)"
   ]
  },
  {
   "cell_type": "code",
   "execution_count": 10,
   "metadata": {
    "collapsed": false
   },
   "outputs": [
    {
     "data": {
      "image/png": "[encoded data removed]",
      "text/plain": [
       "<matplotlib.figure.Figure at 0x7f9dba0e0290>"
      ]
     },
     "metadata": {},
     "output_type": "display_data"
    }
   ],
   "source": [
    "plt.figure(figsize=(18,10))\n",
    "plt.plot(AAA,'o')\n",
    "plt.ylabel('accuracy')\n",
    "plt.xlabel('feature')\n",
    "plt.grid()\n",
    "plt.show()"
   ]
  },
  {
   "cell_type": "code",
   "execution_count": 11,
   "metadata": {
    "collapsed": false
   },
   "outputs": [
    {
     "name": "stdout",
     "output_type": "stream",
     "text": [
      "smsin_q10    0.411\n",
      "[1, 5]+_q20  0.402\n",
      "[2, 3]-_q20  0.404\n",
      "[2, 6]+_q10  0.405\n",
      "[2, 7]+_q20  0.404\n",
      "[3, 6]+_q10  0.405\n",
      "[0, 5, 6]_q10 0.406\n",
      "[1, 3, 5]_q20 0.402\n",
      "[2, 3, 5]_q10 0.417\n",
      "[2, 3, 6]_q10 0.409\n"
     ]
    }
   ],
   "source": [
    "names=np.array(Q[2])\n",
    "Ind=np.where(np.array(AAA)>0.4)[0]\n",
    "for i in range(len(Ind)):\n",
    "    print names[Ind[i]].ljust(12), round(AAA[Ind[i]],3)"
   ]
  },
  {
   "cell_type": "code",
   "execution_count": 159,
   "metadata": {
    "collapsed": false
   },
   "outputs": [],
   "source": [
    "AAA=np.array(AAA)"
   ]
  },
  {
   "cell_type": "code",
   "execution_count": 29,
   "metadata": {
    "collapsed": false
   },
   "outputs": [
    {
     "name": "stdout",
     "output_type": "stream",
     "text": [
      "***************\n",
      "features: all \n",
      "average values on crossvalidation run\n",
      "\n",
      "distance from true:       0.92\n",
      "std from true:            1.24\n",
      "accuracy:                 0.35\n",
      "\n",
      "class precision  recall         \n",
      "0      0.47       0.53           \n",
      "1      0.27       0.27           \n",
      "2      0.36       0.34           \n",
      "3      0.24       0.21           \n",
      "4      0.34       0.35           \n",
      "avg    0.34       0.34           \n"
     ]
    }
   ],
   "source": [
    "clf = tree.DecisionTreeClassifier(min_samples_split=14)\n",
    "I=np.random.permutation(len(X))\n",
    "for choose in [[list(range(len(X[0])))]]:\n",
    "    m=[]\n",
    "    s=[]\n",
    "    acc=[]\n",
    "    P=[]\n",
    "    R=[]\n",
    "    for i in range(12):\n",
    "        n=100\n",
    "        I_te=list(range(n*i,n*(i+1)))\n",
    "        I_tr=list(range(0,n*i))+list(range(n*(i+1),len(I)))\n",
    "        train=I[I_tr]\n",
    "        test=I[I_te]\n",
    "\n",
    "        XX = np.array([d[choose] for d in X[train]])\n",
    "        y=Y_q[train] \n",
    "        clf = clf.fit(XX, y)\n",
    "        true=np.array([int(Y_q[t]) for t in test])\n",
    "        pred=np.array([int(clf.predict([X[t][choose]])[0]) for t in test])\n",
    "        m.append(np.average(np.abs(true-pred)))\n",
    "        s.append(np.std(true-pred))\n",
    "        acc.append(accuracy_score(true,pred))\n",
    "        conf=confusion_matrix(true,pred) \n",
    "        recall=[0 if not conf[i,i] else float(conf[i,i])/sum(conf[i,:]) for i in range(len(conf[:,0]))]\n",
    "        precision=[0 if not conf[i,i] else float(conf[i,i])/sum(conf[:,i]) for i in range(len(conf[:,0]))]\n",
    "        R.append(recall)\n",
    "        P.append(precision)\n",
    "    R=np.array(R)\n",
    "    P=np.array(P)\n",
    "    print '***************\\n','features: all','\\naverage values on crossvalidation run\\n'\n",
    "    print 'distance from true: '.ljust(25),round(np.average(m),2)\n",
    "    print 'std from true: '.ljust(25),round(np.average(s),2)\n",
    "    print 'accuracy: '.ljust(25),round(np.average(acc),2)\n",
    "    PP=np.average(P,0)\n",
    "    RR=np.average(R,0)\n",
    "    print '\\nclass'.ljust(6),'precision'.ljust(10),'recall'.ljust(15)\n",
    "    for i in range(len(PP) ):\n",
    "        print str(i).ljust(6),str(round(PP[i],2)).ljust(10),str(round(RR[i],2)).ljust(15)\n",
    "    print 'avg'.ljust(6),str(round(np.average(PP),2)).ljust(10),str(round(np.average(RR),2)).ljust(15)"
   ]
  },
  {
   "cell_type": "code",
   "execution_count": 179,
   "metadata": {
    "collapsed": false
   },
   "outputs": [
    {
     "data": {
      "text/plain": [
       "[0.40000000000000002,\n",
       " 0.27000000000000002,\n",
       " 0.32000000000000001,\n",
       " 0.32000000000000001,\n",
       " 0.28999999999999998,\n",
       " 0.32000000000000001,\n",
       " 0.32000000000000001,\n",
       " 0.41999999999999998,\n",
       " 0.27000000000000002,\n",
       " 0.27000000000000002,\n",
       " 0.31,\n",
       " 0.41999999999999998,\n",
       " 0.34000000000000002,\n",
       " 0.37]"
      ]
     },
     "execution_count": 179,
     "metadata": {},
     "output_type": "execute_result"
    }
   ],
   "source": [
    "acc"
   ]
  },
  {
   "cell_type": "code",
   "execution_count": 186,
   "metadata": {
    "collapsed": false,
    "scrolled": true
   },
   "outputs": [
    {
     "data": {
      "image/png": "[encoded data removed]",
      "text/plain": [
       "<matplotlib.figure.Figure at 0x7fc32456e850>"
      ]
     },
     "metadata": {},
     "output_type": "display_data"
    }
   ],
   "source": [
    "I=np.random.permutation(len(X))\n",
    "n_est=150\n",
    "klf=tree.DecisionTreeClassifier(max_depth=9)\n",
    "clfs=[RandomForestClassifier(n_estimators=n_est, max_features=i,max_depth=9) for i in range(1,len(X[0]))]+[BaggingClassifier(base_estimator=klf,max_features=i,n_estimators=n_est) for i in range(1,len(X[0]))]+[GradientBoostingClassifier(n_estimators=n_est, learning_rate=1.0,max_depth=9, random_state=0)]+[AdaBoostClassifier(base_estimator=klf)]\n",
    "names=['random forest'+str(i) for i in range(1,len(X[0]))]+['bagging'+str(i) for i in range(1,len(X[0]))]+['GradientBoosting','Adaboost']\n",
    "BBB=[]\n",
    "for clf in clfs:\n",
    "    m=[]\n",
    "    s=[]\n",
    "    acc=[]\n",
    "    P=[]\n",
    "    R=[]\n",
    "    for i in range(14):\n",
    "        I_te=list(range(100*i,100*(i+1)))\n",
    "        I_tr=list(range(0,100*i))+list(range(100*(i+1),len(I)))\n",
    "        train=I[I_tr]\n",
    "        test=I[I_te]\n",
    "        XX =X[train]\n",
    "        y=Y_q[train] \n",
    "        clf = clf.fit(XX, y)\n",
    "        true=np.array([int(Y_q[t]) for t in test])\n",
    "        pred=np.array([int(clf.predict([X[t]])[0]) for t in test])\n",
    "        m.append(np.average(np.abs(true-pred)))\n",
    "        s.append(np.std(true-pred))\n",
    "        acc.append(accuracy_score(true,pred))\n",
    "        conf=confusion_matrix(true,pred) \n",
    "        recall=[0 if not conf[i,i] else float(conf[i,i])/sum(conf[i,:]) for i in range(len(conf[:,0]))]\n",
    "        precision=[0 if not conf[i,i] else float(conf[i,i])/sum(conf[:,i]) for i in range(len(conf[:,0]))]\n",
    "        R.append(recall)\n",
    "        P.append(precision)\n",
    "    R=np.array(R)\n",
    "    P=np.array(P)\n",
    "    #print '\\n*',names[clfs.index(clf)],'*'\n",
    "    #print 'distance from true: '.ljust(25),round(np.average(m),2)\n",
    "    #print 'std from true: '.ljust(25),round(np.average(s),2)\n",
    "    #print 'accuracy: '.ljust(25),round(np.average(acc),2)\n",
    "    BBB.append(np.average(acc))\n",
    "    #PP=np.average(P,0)\n",
    "    #RR=np.average(R,0)\n",
    "    #print '\\nclass'.ljust(6),'precision'.ljust(10),'recall'.ljust(15)\n",
    "    #for i in range(len(PP) ):\n",
    "        #print str(i).ljust(6),str(round(PP[i],2)).ljust(10),str(round(RR[i],2)).ljust(15)\n",
    "    #print 'avg'.ljust(6),str(round(np.average(PP),2)).ljust(10),str(round(np.average(RR),2)).ljust(15)\n",
    "plt.figure(figsize=(18,10))\n",
    "plt.plot(BBB,'o')\n",
    "plt.ylabel('accuracy')\n",
    "plt.xlabel('feature')\n",
    "plt.grid()\n",
    "plt.show()"
   ]
  },
  {
   "cell_type": "code",
   "execution_count": 187,
   "metadata": {
    "collapsed": false
   },
   "outputs": [],
   "source": [
    "N=np.array(names)[np.where(np.array(BBB)>.41)[0]]\n",
    "S=np.array(BBB)[np.where(np.array(BBB)>.41)[0]]\n",
    "for i in range(len(N)):\n",
    "    print N[i].ljust(17),round(S[i],3)"
   ]
  },
  {
   "cell_type": "code",
   "execution_count": 46,
   "metadata": {
    "collapsed": false
   },
   "outputs": [
    {
     "data": {
      "text/plain": [
       "0.42166666666666663"
      ]
     },
     "execution_count": 46,
     "metadata": {},
     "output_type": "execute_result"
    }
   ],
   "source": [
    "max(BBB)"
   ]
  },
  {
   "cell_type": "code",
   "execution_count": 13,
   "metadata": {
    "collapsed": false
   },
   "outputs": [
    {
     "data": {
      "text/plain": [
       "(1465, 1322)"
      ]
     },
     "execution_count": 13,
     "metadata": {},
     "output_type": "execute_result"
    }
   ],
   "source": [
    "X.shape"
   ]
  },
  {
   "cell_type": "code",
   "execution_count": 25,
   "metadata": {
    "collapsed": false
   },
   "outputs": [
    {
     "name": "stdout",
     "output_type": "stream",
     "text": [
      "(1365, 1322) (1365,) (100,)\n",
      "(1365, 1322) (1365,) (100,)\n",
      "(1365, 1322) (1365,) (100,)\n",
      "(1365, 1322) (1365,) (100,)\n",
      "(1365, 1322) (1365,) (100,)\n",
      "(1365, 1322) (1365,) (100,)\n",
      "(1365, 1322) (1365,) (100,)\n",
      "(1365, 1322) (1365,) (100,)\n",
      "(1365, 1322) (1365,) (100,)\n",
      "(1365, 1322) (1365,) (100,)\n"
     ]
    }
   ],
   "source": [
    "I=np.random.permutation(len(X))\n",
    "clf = RandomForestClassifier(n_estimators=400, max_features=100,n_jobs=-1) \n",
    "AAA=[]\n",
    "choose=0\n",
    "for choose in [ list(range(len(X[0])))]:\n",
    "    m=[]\n",
    "    s=[]\n",
    "    acc=[]\n",
    "    P=[]\n",
    "    R=[]\n",
    "    for i in range(10):\n",
    "        n=100\n",
    "        I_te=list(range(n*i,n*(i+1)))\n",
    "        I_tr=list(range(0,n*i))+list(range(n*(i+1),len(I)))\n",
    "        train=I[I_tr]\n",
    "        test=I[I_te]\n",
    "\n",
    "        XX = np.array([d[choose] for d in X[train]])\n",
    "        y=Y_q[train] \n",
    "        print XX.shape, train.shape, test.shape\n",
    "        clf = clf.fit(XX, y)\n",
    "        true=np.array([int(Y_q[t]) for t in test])\n",
    "        pred=np.array([int(clf.predict([X[t][choose]])[0]) for t in test])\n",
    "        m.append(np.average(np.abs(true-pred)))\n",
    "        s.append(np.std(true-pred))\n",
    "        acc.append(accuracy_score(true,pred))\n",
    "        conf=confusion_matrix(true,pred) \n",
    "        recall=[0 if not conf[i,i] else float(conf[i,i])/sum(conf[i,:]) for i in range(len(conf[:,0]))]\n",
    "        precision=[0 if not conf[i,i] else float(conf[i,i])/sum(conf[:,i]) for i in range(len(conf[:,0]))]\n",
    "        R.append(recall)\n",
    "        P.append(precision)\n",
    "    R=np.array(R)\n",
    "    P=np.array(P)\n",
    "    #print '***************\\n','features: ',choose,'\\naverage values on crossvalidation run\\n'\n",
    "    #print 'distance from true: '.ljust(25),round(np.average(m),2)\n",
    "    #print 'std from true: '.ljust(25),round(np.average(s),2)\n",
    "    #print 'accuracy: '.ljust(25),round(np.average(acc),2)\n",
    "    AAA.append(np.average(acc))\n",
    "    #PP=np.average(P,0)\n",
    "    #RR=np.average(R,0)\n",
    "    #print '\\nclass'.ljust(6),'precision'.ljust(10),'recall'.ljust(15)\n",
    "    #for i in range(len(PP) ):\n",
    "        #print str(i).ljust(6),str(round(PP[i],2)).ljust(10),str(round(RR[i],2)).ljust(15)\n",
    "    #print 'avg'.ljust(6),str(round(np.average(PP),2)).ljust(10),str(round(np.average(RR),2)).ljust(15)"
   ]
  },
  {
   "cell_type": "code",
   "execution_count": 26,
   "metadata": {
    "collapsed": false
   },
   "outputs": [
    {
     "data": {
      "text/plain": [
       "[0.41500000000000004]"
      ]
     },
     "execution_count": 26,
     "metadata": {},
     "output_type": "execute_result"
    }
   ],
   "source": [
    "AAA"
   ]
  },
  {
   "cell_type": "code",
   "execution_count": 71,
   "metadata": {
    "collapsed": false
   },
   "outputs": [
    {
     "name": "stdout",
     "output_type": "stream",
     "text": [
      "0\n",
      "200\n",
      "400\n",
      "600\n",
      "800\n",
      "1000\n",
      "1200\n",
      "1400\n"
     ]
    }
   ],
   "source": [
    "\n",
    "clf = tree.DecisionTreeClassifier()\n",
    "delta=[]\n",
    "k=0\n",
    "for i in range(len(X)):\n",
    "    train=np.array(list(range(0,i))+list(range((i+1),len(I))))\n",
    "    XX = X[train]\n",
    "    y=Y_q[train] \n",
    "    clf = clf.fit(XX, y)\n",
    "    true=int(Y_q[I[i]])\n",
    "    pred=clf.predict([X[I[i]]])[0]\n",
    "    delta.append(true-pred)\n",
    "    if k%200==0:\n",
    "        print k\n",
    "    k+=1\n",
    "plt.hist(delta,list(range(-10,10)))\n",
    "plt.show()\n",
    "H=np.histogram(delta,list(range(-10,10)))\n",
    "for i in range(len(H[0])):\n",
    "    print H[1][i],H[0][i]/float(sum(H[0])),H[0][i]"
   ]
  },
  {
   "cell_type": "code",
   "execution_count": 104,
   "metadata": {
    "collapsed": false
   },
   "outputs": [
    {
     "name": "stdout",
     "output_type": "stream",
     "text": [
      "0\n",
      "20\n",
      "40\n",
      "60\n",
      "80\n"
     ]
    },
    {
     "data": {
      "image/png": "[encoded data removed]",
      "text/plain": [
       "<matplotlib.figure.Figure at 0x7f7ae75efd90>"
      ]
     },
     "metadata": {},
     "output_type": "display_data"
    },
    {
     "name": "stdout",
     "output_type": "stream",
     "text": [
      "-10 0.0 0\n",
      "-9 0.0 0\n",
      "-8 0.0 0\n",
      "-7 0.0 0\n",
      "-6 0.0 0\n",
      "-5 0.0 0\n",
      "-4 0.0 0\n",
      "-3 0.0 0\n",
      "-2 0.06 6\n",
      "-1 0.22 22\n",
      "0 0.41 41\n",
      "1 0.22 22\n",
      "2 0.08 8\n",
      "3 0.0 0\n",
      "4 0.01 1\n",
      "5 0.0 0\n",
      "6 0.0 0\n",
      "7 0.0 0\n",
      "8 0.0 0\n"
     ]
    }
   ],
   "source": [
    "clf =RandomForestClassifier(n_estimators=600, max_features=200,max_depth=9,n_jobs=-1) \n",
    "delta1=[]\n",
    "Pred=[]\n",
    "GTrue=[]\n",
    "k=0\n",
    "np.random.permutation(len(X))\n",
    "#for i in range(len(X)):\n",
    "#for i in range(len(X)):\n",
    "for i in I[:100]:\n",
    "    train=np.array(list(range(0,i))+list(range((i+1),len(I))))\n",
    "    XX = X[train]\n",
    "    y=Y_q[train] \n",
    "    clf = clf.fit(XX, y)\n",
    "    true=int(Y_q[i])\n",
    "    pred=clf.predict([X[i]])[0]\n",
    "    delta1.append(true-pred)\n",
    "    Pred.append(pred)\n",
    "    GTrue.append(true)\n",
    "    if k%20==0:\n",
    "        print k\n",
    "    k+=1\n",
    "plt.hist(delta1,list(range(-6,6)))\n",
    "plt.show()\n",
    "H=np.histogram(delta1,list(range(-6,6)))\n",
    "for i in range(len(H[0])):\n",
    "    print H[1][i],H[0][i]/float(sum(H[0])),H[0][i]"
   ]
  },
  {
   "cell_type": "code",
   "execution_count": 105,
   "metadata": {
    "collapsed": false
   },
   "outputs": [
    {
     "data": {
      "text/plain": [
       "array([[16,  4,  3,  0,  0],\n",
       "       [ 6,  3,  9,  1,  0],\n",
       "       [ 5,  5, 12,  3,  2],\n",
       "       [ 0,  1,  7,  7,  6],\n",
       "       [ 1,  0,  2,  4,  3]])"
      ]
     },
     "execution_count": 105,
     "metadata": {},
     "output_type": "execute_result"
    }
   ],
   "source": [
    "confusion_matrix(GTrue,Pred) "
   ]
  },
  {
   "cell_type": "code",
   "execution_count": 106,
   "metadata": {
    "collapsed": false
   },
   "outputs": [
    {
     "name": "stdout",
     "output_type": "stream",
     "text": [
      "0\n",
      "20\n",
      "40\n"
     ]
    },
    {
     "ename": "KeyboardInterrupt",
     "evalue": "",
     "output_type": "error",
     "traceback": [
      "\u001b[1;31m---------------------------------------------------------------------------\u001b[0m",
      "\u001b[1;31mKeyboardInterrupt\u001b[0m                         Traceback (most recent call last)",
      "\u001b[1;32m<ipython-input-106-39d952907e2f>\u001b[0m in \u001b[0;36m<module>\u001b[1;34m()\u001b[0m\n\u001b[0;32m     11\u001b[0m     \u001b[0mXX\u001b[0m \u001b[1;33m=\u001b[0m \u001b[0mX\u001b[0m\u001b[1;33m[\u001b[0m\u001b[0mtrain\u001b[0m\u001b[1;33m]\u001b[0m\u001b[1;33m\u001b[0m\u001b[0m\n\u001b[0;32m     12\u001b[0m     \u001b[0my\u001b[0m\u001b[1;33m=\u001b[0m\u001b[0mY_q\u001b[0m\u001b[1;33m[\u001b[0m\u001b[0mtrain\u001b[0m\u001b[1;33m]\u001b[0m\u001b[1;33m\u001b[0m\u001b[0m\n\u001b[1;32m---> 13\u001b[1;33m     \u001b[0mclf\u001b[0m \u001b[1;33m=\u001b[0m \u001b[0mclf\u001b[0m\u001b[1;33m.\u001b[0m\u001b[0mfit\u001b[0m\u001b[1;33m(\u001b[0m\u001b[0mXX\u001b[0m\u001b[1;33m,\u001b[0m \u001b[0my\u001b[0m\u001b[1;33m)\u001b[0m\u001b[1;33m\u001b[0m\u001b[0m\n\u001b[0m\u001b[0;32m     14\u001b[0m     \u001b[0mtrue\u001b[0m\u001b[1;33m=\u001b[0m\u001b[0mint\u001b[0m\u001b[1;33m(\u001b[0m\u001b[0mY_q\u001b[0m\u001b[1;33m[\u001b[0m\u001b[0mi\u001b[0m\u001b[1;33m]\u001b[0m\u001b[1;33m)\u001b[0m\u001b[1;33m\u001b[0m\u001b[0m\n\u001b[0;32m     15\u001b[0m     \u001b[0mpred\u001b[0m\u001b[1;33m=\u001b[0m\u001b[0mclf\u001b[0m\u001b[1;33m.\u001b[0m\u001b[0mpredict\u001b[0m\u001b[1;33m(\u001b[0m\u001b[1;33m[\u001b[0m\u001b[0mX\u001b[0m\u001b[1;33m[\u001b[0m\u001b[0mi\u001b[0m\u001b[1;33m]\u001b[0m\u001b[1;33m]\u001b[0m\u001b[1;33m)\u001b[0m\u001b[1;33m[\u001b[0m\u001b[1;36m0\u001b[0m\u001b[1;33m]\u001b[0m\u001b[1;33m\u001b[0m\u001b[0m\n",
      "\u001b[1;32m/home/amassaro/anaconda/lib/python2.7/site-packages/sklearn/ensemble/gradient_boosting.pyc\u001b[0m in \u001b[0;36mfit\u001b[1;34m(self, X, y, sample_weight, monitor)\u001b[0m\n\u001b[0;32m    978\u001b[0m         \u001b[1;31m# fit the boosting stages\u001b[0m\u001b[1;33m\u001b[0m\u001b[1;33m\u001b[0m\u001b[0m\n\u001b[0;32m    979\u001b[0m         n_stages = self._fit_stages(X, y, y_pred, sample_weight, random_state,\n\u001b[1;32m--> 980\u001b[1;33m                                     begin_at_stage, monitor)\n\u001b[0m\u001b[0;32m    981\u001b[0m         \u001b[1;31m# change shape of arrays after fit (early-stopping or additional ests)\u001b[0m\u001b[1;33m\u001b[0m\u001b[1;33m\u001b[0m\u001b[0m\n\u001b[0;32m    982\u001b[0m         \u001b[1;32mif\u001b[0m \u001b[0mn_stages\u001b[0m \u001b[1;33m!=\u001b[0m \u001b[0mself\u001b[0m\u001b[1;33m.\u001b[0m\u001b[0mestimators_\u001b[0m\u001b[1;33m.\u001b[0m\u001b[0mshape\u001b[0m\u001b[1;33m[\u001b[0m\u001b[1;36m0\u001b[0m\u001b[1;33m]\u001b[0m\u001b[1;33m:\u001b[0m\u001b[1;33m\u001b[0m\u001b[0m\n",
      "\u001b[1;32m/home/amassaro/anaconda/lib/python2.7/site-packages/sklearn/ensemble/gradient_boosting.pyc\u001b[0m in \u001b[0;36m_fit_stages\u001b[1;34m(self, X, y, y_pred, sample_weight, random_state, begin_at_stage, monitor)\u001b[0m\n\u001b[0;32m   1038\u001b[0m             y_pred = self._fit_stage(i, X, y, y_pred, sample_weight,\n\u001b[0;32m   1039\u001b[0m                                      \u001b[0msample_mask\u001b[0m\u001b[1;33m,\u001b[0m \u001b[0mcriterion\u001b[0m\u001b[1;33m,\u001b[0m \u001b[0msplitter\u001b[0m\u001b[1;33m,\u001b[0m\u001b[1;33m\u001b[0m\u001b[0m\n\u001b[1;32m-> 1040\u001b[1;33m                                      random_state)\n\u001b[0m\u001b[0;32m   1041\u001b[0m \u001b[1;33m\u001b[0m\u001b[0m\n\u001b[0;32m   1042\u001b[0m             \u001b[1;31m# track deviance (= loss)\u001b[0m\u001b[1;33m\u001b[0m\u001b[1;33m\u001b[0m\u001b[0m\n",
      "\u001b[1;32m/home/amassaro/anaconda/lib/python2.7/site-packages/sklearn/ensemble/gradient_boosting.pyc\u001b[0m in \u001b[0;36m_fit_stage\u001b[1;34m(self, i, X, y, y_pred, sample_weight, sample_mask, criterion, splitter, random_state)\u001b[0m\n\u001b[0;32m    764\u001b[0m \u001b[1;33m\u001b[0m\u001b[0m\n\u001b[0;32m    765\u001b[0m             tree.fit(X, residual, sample_weight=sample_weight,\n\u001b[1;32m--> 766\u001b[1;33m                      check_input=False)\n\u001b[0m\u001b[0;32m    767\u001b[0m \u001b[1;33m\u001b[0m\u001b[0m\n\u001b[0;32m    768\u001b[0m             \u001b[1;31m# update tree leaves\u001b[0m\u001b[1;33m\u001b[0m\u001b[1;33m\u001b[0m\u001b[0m\n",
      "\u001b[1;32m/home/amassaro/anaconda/lib/python2.7/site-packages/sklearn/tree/tree.pyc\u001b[0m in \u001b[0;36mfit\u001b[1;34m(self, X, y, sample_weight, check_input)\u001b[0m\n\u001b[0;32m    302\u001b[0m                                            max_leaf_nodes)\n\u001b[0;32m    303\u001b[0m \u001b[1;33m\u001b[0m\u001b[0m\n\u001b[1;32m--> 304\u001b[1;33m         \u001b[0mbuilder\u001b[0m\u001b[1;33m.\u001b[0m\u001b[0mbuild\u001b[0m\u001b[1;33m(\u001b[0m\u001b[0mself\u001b[0m\u001b[1;33m.\u001b[0m\u001b[0mtree_\u001b[0m\u001b[1;33m,\u001b[0m \u001b[0mX\u001b[0m\u001b[1;33m,\u001b[0m \u001b[0my\u001b[0m\u001b[1;33m,\u001b[0m \u001b[0msample_weight\u001b[0m\u001b[1;33m)\u001b[0m\u001b[1;33m\u001b[0m\u001b[0m\n\u001b[0m\u001b[0;32m    305\u001b[0m \u001b[1;33m\u001b[0m\u001b[0m\n\u001b[0;32m    306\u001b[0m         \u001b[1;32mif\u001b[0m \u001b[0mself\u001b[0m\u001b[1;33m.\u001b[0m\u001b[0mn_outputs_\u001b[0m \u001b[1;33m==\u001b[0m \u001b[1;36m1\u001b[0m\u001b[1;33m:\u001b[0m\u001b[1;33m\u001b[0m\u001b[0m\n",
      "\u001b[1;31mKeyboardInterrupt\u001b[0m: "
     ]
    }
   ],
   "source": [
    "clf=GradientBoostingClassifier(n_estimators=600, learning_rate=1.0,max_depth=9, random_state=0)\n",
    "delta2=[]\n",
    "Pred=[]\n",
    "GTrue=[]\n",
    "k=0\n",
    "np.random.permutation(len(X))\n",
    "#for i in range(len(X)):\n",
    "\n",
    "for i in I[:100]:\n",
    "    train=np.array(list(range(0,i))+list(range((i+1),len(I))))\n",
    "    XX = X[train]\n",
    "    y=Y_q[train] \n",
    "    clf = clf.fit(XX, y)\n",
    "    true=int(Y_q[i])\n",
    "    pred=clf.predict([X[i]])[0]\n",
    "    delta2.append(true-pred)\n",
    "    Pred.append(pred)\n",
    "    GTrue.append(true)\n",
    "    if k%20==0:\n",
    "        print k\n",
    "    k+=1\n",
    "plt.hist(delta2,list(range(-6,6)))\n",
    "plt.show()\n",
    "H=np.histogram(delta2,list(range(-6,6)))\n",
    "for i in range(len(H[0])):\n",
    "    print H[1][i],H[0][i]/float(sum(H[0])),H[0][i]"
   ]
  },
  {
   "cell_type": "code",
   "execution_count": 107,
   "metadata": {
    "collapsed": false
   },
   "outputs": [
    {
     "data": {
      "text/plain": [
       "[-1.0,\n",
       " 0.0,\n",
       " 0.0,\n",
       " 0.0,\n",
       " 1.0,\n",
       " 0.0,\n",
       " 0.0,\n",
       " 0.0,\n",
       " -1.0,\n",
       " -2.0,\n",
       " 1.0,\n",
       " 2.0,\n",
       " -2.0,\n",
       " 1.0,\n",
       " 3.0,\n",
       " -1.0,\n",
       " 2.0,\n",
       " 0.0,\n",
       " 1.0,\n",
       " 0.0,\n",
       " 0.0,\n",
       " 0.0,\n",
       " 0.0,\n",
       " -1.0,\n",
       " -1.0,\n",
       " -2.0,\n",
       " 0.0,\n",
       " 0.0,\n",
       " -1.0,\n",
       " -2.0,\n",
       " 1.0,\n",
       " -1.0,\n",
       " 0.0,\n",
       " 1.0,\n",
       " 1.0,\n",
       " -1.0,\n",
       " 0.0,\n",
       " 2.0,\n",
       " 0.0,\n",
       " -3.0,\n",
       " -1.0]"
      ]
     },
     "execution_count": 107,
     "metadata": {},
     "output_type": "execute_result"
    }
   ],
   "source": [
    "delta2"
   ]
  },
  {
   "cell_type": "code",
   "execution_count": 110,
   "metadata": {
    "collapsed": false
   },
   "outputs": [
    {
     "data": {
      "image/png": "[encoded data removed]",
      "text/plain": [
       "<matplotlib.figure.Figure at 0x7f7ad4db28d0>"
      ]
     },
     "metadata": {},
     "output_type": "display_data"
    }
   ],
   "source": [
    "plt.hist(delta2,list(range(-5,5)))\n",
    "plt.show()"
   ]
  },
  {
   "cell_type": "code",
   "execution_count": 123,
   "metadata": {
    "collapsed": true
   },
   "outputs": [],
   "source": [
    "Y_q=np.zeros(len(Y))\n",
    "i=0\n",
    "for y in Y:\n",
    "    if y in [0,1]:\n",
    "        score=0\n",
    "    else:\n",
    "        score =1\n",
    "    Y_q[i]=score\n",
    "    i+=1"
   ]
  },
  {
   "cell_type": "code",
   "execution_count": 124,
   "metadata": {
    "collapsed": false
   },
   "outputs": [
    {
     "name": "stdout",
     "output_type": "stream",
     "text": [
      "[[36 15]\n",
      " [ 9 40]]\n",
      "[[37  7]\n",
      " [13 43]]\n",
      "[[26  7]\n",
      " [16 51]]\n",
      "[[35  7]\n",
      " [16 42]]\n",
      "[[38 11]\n",
      " [10 41]]\n",
      "[[39  8]\n",
      " [11 42]]\n",
      "[[39  8]\n",
      " [11 42]]\n",
      "[[43  9]\n",
      " [ 9 39]]\n",
      "[[34 11]\n",
      " [ 7 48]]\n",
      "[[31  8]\n",
      " [ 9 52]]\n",
      "***************\n",
      "features: all \n",
      "average values on crossvalidation run\n",
      "\n",
      "distance from true:       0.2\n",
      "std from true:            0.45\n",
      "accuracy:                 0.8\n",
      "\n",
      "class precision  recall         \n",
      "0      0.76       0.8            \n",
      "1      0.83       0.8            \n",
      "avg    0.8        0.8            \n"
     ]
    }
   ],
   "source": [
    "clf = tree.DecisionTreeClassifier(max_depth=3)\n",
    "I=np.random.permutation(len(X))\n",
    "for choose in [[list(range(len(X[0])))]]:\n",
    "    m=[]\n",
    "    s=[]\n",
    "    acc=[]\n",
    "    P=[]\n",
    "    R=[]\n",
    "    for i in range(10):\n",
    "        n=100\n",
    "        I_te=list(range(n*i,n*(i+1)))\n",
    "        I_tr=list(range(0,n*i))+list(range(n*(i+1),len(I)))\n",
    "        train=I[I_tr]\n",
    "        test=I[I_te]\n",
    "\n",
    "        XX = np.array([d[choose] for d in X[train]])\n",
    "        y=Y_q[train] \n",
    "        clf = clf.fit(XX, y)\n",
    "        true=np.array([int(Y_q[t]) for t in test])\n",
    "        pred=np.array([int(clf.predict([X[t][choose]])[0]) for t in test])\n",
    "        m.append(np.average(np.abs(true-pred)))\n",
    "        s.append(np.std(true-pred))\n",
    "        acc.append(accuracy_score(true,pred))\n",
    "        conf=confusion_matrix(true,pred) \n",
    "        print conf\n",
    "        recall=[0 if not conf[i,i] else float(conf[i,i])/sum(conf[i,:]) for i in range(len(conf[:,0]))]\n",
    "        precision=[0 if not conf[i,i] else float(conf[i,i])/sum(conf[:,i]) for i in range(len(conf[:,0]))]\n",
    "        R.append(recall)\n",
    "        P.append(precision)\n",
    "    R=np.array(R)\n",
    "    P=np.array(P)\n",
    "    print '***************\\n','features: all','\\naverage values on crossvalidation run\\n'\n",
    "    print 'distance from true: '.ljust(25),round(np.average(m),2)\n",
    "    print 'std from true: '.ljust(25),round(np.average(s),2)\n",
    "    print 'accuracy: '.ljust(25),round(np.average(acc),2)\n",
    "    PP=np.average(P,0)\n",
    "    RR=np.average(R,0)\n",
    "    print '\\nclass'.ljust(6),'precision'.ljust(10),'recall'.ljust(15)\n",
    "    for i in range(len(PP) ):\n",
    "        print str(i).ljust(6),str(round(PP[i],2)).ljust(10),str(round(RR[i],2)).ljust(15)\n",
    "    print 'avg'.ljust(6),str(round(np.average(PP),2)).ljust(10),str(round(np.average(RR),2)).ljust(15)"
   ]
  },
  {
   "cell_type": "code",
   "execution_count": 88,
   "metadata": {
    "collapsed": false
   },
   "outputs": [],
   "source": [
    "I=np.random.permutation(len(X))\n",
    "clf = tree.DecisionTreeClassifier(min_samples_split=16)\n",
    "AAA=[]\n",
    "choose=0\n",
    "Pred=[]\n",
    "for choose in [[i] for i in range(len(X[0]))]:\n",
    "    m=[]\n",
    "    s=[]\n",
    "    acc=[]\n",
    "    P=[]\n",
    "    R=[]\n",
    "    \n",
    "    n=700\n",
    "    I_te=list(range(n))\n",
    "    I_tr=list(range(n,len(I)))\n",
    "    train=I[I_tr]\n",
    "    test=I[I_te]\n",
    "\n",
    "    XX = np.array([d[choose] for d in X[train]])\n",
    "    y=Y_q[train] \n",
    "    clf = clf.fit(XX, y)\n",
    "    true=np.array([int(Y_q[t]) for t in test])\n",
    "    pred=np.array([int(clf.predict([X[t][choose]])[0]) for t in test])\n",
    "    Pred.append(pred)\n",
    "Pred=np.array(Pred)   "
   ]
  },
  {
   "cell_type": "code",
   "execution_count": 89,
   "metadata": {
    "collapsed": false
   },
   "outputs": [],
   "source": [
    "acc=np.array([sum((p-true)==0)/float(len(true)) for p in Pred])"
   ]
  },
  {
   "cell_type": "code",
   "execution_count": 90,
   "metadata": {
    "collapsed": false
   },
   "outputs": [
    {
     "data": {
      "image/png": "[encoded data removed]",
      "text/plain": [
       "<matplotlib.figure.Figure at 0x7f785171bbd0>"
      ]
     },
     "metadata": {},
     "output_type": "display_data"
    }
   ],
   "source": [
    "plt.figure(figsize=(18,10))\n",
    "plt.plot(acc,'o')\n",
    "\n",
    "plt.show()"
   ]
  },
  {
   "cell_type": "code",
   "execution_count": 26,
   "metadata": {
    "collapsed": false
   },
   "outputs": [
    {
     "data": {
      "text/plain": [
       "3"
      ]
     },
     "execution_count": 26,
     "metadata": {},
     "output_type": "execute_result"
    }
   ],
   "source": [
    "len(Q)"
   ]
  },
  {
   "cell_type": "code",
   "execution_count": 33,
   "metadata": {
    "collapsed": false
   },
   "outputs": [
    {
     "data": {
      "text/plain": [
       "1322"
      ]
     },
     "execution_count": 33,
     "metadata": {},
     "output_type": "execute_result"
    }
   ],
   "source": [
    "len(Q[2])"
   ]
  },
  {
   "cell_type": "code",
   "execution_count": 36,
   "metadata": {
    "collapsed": true
   },
   "outputs": [],
   "source": [
    "names=np.array(Q[2])"
   ]
  },
  {
   "cell_type": "code",
   "execution_count": 49,
   "metadata": {
    "collapsed": false
   },
   "outputs": [],
   "source": [
    "good=np.where(acc>.4)[0]"
   ]
  },
  {
   "cell_type": "code",
   "execution_count": 59,
   "metadata": {
    "collapsed": false
   },
   "outputs": [
    {
     "data": {
      "text/plain": [
       "0.2723404255319149"
      ]
     },
     "execution_count": 59,
     "metadata": {},
     "output_type": "execute_result"
    }
   ],
   "source": [
    "sum((Pred[good[1]][np.where((Pred[good[0]]-true)!=0)]-true[np.where((Pred[good[0]]-true)!=0)])==0)/float(len(true[np.where((Pred[good[0]]-true)!=0)]))"
   ]
  },
  {
   "cell_type": "code",
   "execution_count": 77,
   "metadata": {
    "collapsed": false
   },
   "outputs": [],
   "source": [
    "scores=np.zeros((len(good),len(good)))\n",
    "for i in range(len(good)):\n",
    "    for j in range(len(good)):\n",
    "        pred1=Pred[good[i]]\n",
    "        pred2=Pred[good[j]]\n",
    "        wrong=np.where((pred1-true)!=0)[0]\n",
    "        right=np.where((pred1-true)==0)[0]\n",
    "        acc1=len(right)/float(len(pred1))\n",
    "        right2onwrong1=sum((pred2[wrong]-true[wrong])==0)/float(len(wrong))\n",
    "        acc12=acc1+(1-acc1)*right2onwrong1\n",
    "        scores[i,j]=acc12\n",
    "        "
   ]
  },
  {
   "cell_type": "code",
   "execution_count": 91,
   "metadata": {
    "collapsed": false
   },
   "outputs": [],
   "source": [
    "scores=np.zeros((len(good),len(good),len(good)))\n",
    "for i in range(len(good)):\n",
    "    for j in range(len(good)):\n",
    "        for k in range(len(good)):\n",
    "            pred1=Pred[good[i]]\n",
    "            pred2=Pred[good[j]]\n",
    "            pred3=Pred[good[k]]\n",
    "            wrong=np.where((pred1-true)!=0)[0]\n",
    "            right=np.where((pred1-true)==0)[0]\n",
    "            acc1=len(right)/float(len(pred1))\n",
    "            right2onwrong1=sum((pred2[wrong]-true[wrong])==0)/float(len(wrong))\n",
    "            wrong12=np.where(((pred1-true)!=0)&((pred2-true)!=0))[0]\n",
    "            right3onwrong12=sum((pred3[wrong12]-true[wrong12])==0)/float(len(wrong12))\n",
    "            acc123=acc1+(1-acc1)*right2onwrong1+(1-(acc1+(1-acc1)*right2onwrong1))*right3onwrong12\n",
    "            scores[i,j,k]=acc123\n",
    "        "
   ]
  },
  {
   "cell_type": "code",
   "execution_count": 84,
   "metadata": {
    "collapsed": false
   },
   "outputs": [
    {
     "data": {
      "text/plain": [
       "(array([6, 7]), array([7, 6]), array([19, 19]))"
      ]
     },
     "execution_count": 84,
     "metadata": {},
     "output_type": "execute_result"
    }
   ],
   "source": [
    "np.where(scores==np.max(scores))"
   ]
  },
  {
   "cell_type": "code",
   "execution_count": 85,
   "metadata": {
    "collapsed": false
   },
   "outputs": [
    {
     "data": {
      "text/plain": [
       "(20, 20, 20)"
      ]
     },
     "execution_count": 85,
     "metadata": {},
     "output_type": "execute_result"
    }
   ],
   "source": [
    "scores.shape"
   ]
  },
  {
   "cell_type": "code",
   "execution_count": 86,
   "metadata": {
    "collapsed": false
   },
   "outputs": [
    {
     "data": {
      "text/plain": [
       "0.71500000000000008"
      ]
     },
     "execution_count": 86,
     "metadata": {},
     "output_type": "execute_result"
    }
   ],
   "source": [
    "scores[6,7,19]"
   ]
  },
  {
   "cell_type": "code",
   "execution_count": 92,
   "metadata": {
    "collapsed": false
   },
   "outputs": [
    {
     "data": {
      "text/plain": [
       "0.69999999999999996"
      ]
     },
     "execution_count": 92,
     "metadata": {},
     "output_type": "execute_result"
    }
   ],
   "source": [
    "np.max(scores)"
   ]
  },
  {
   "cell_type": "code",
   "execution_count": null,
   "metadata": {
    "collapsed": true
   },
   "outputs": [],
   "source": []
  }
 ],
 "metadata": {
  "kernelspec": {
   "display_name": "Python 2",
   "language": "python",
   "name": "python2"
  },
  "language_info": {
   "codemirror_mode": {
    "name": "ipython",
    "version": 2
   },
   "file_extension": ".py",
   "mimetype": "text/x-python",
   "name": "python",
   "nbconvert_exporter": "python",
   "pygments_lexer": "ipython2",
   "version": "2.7.10"
  }
 },
 "nbformat": 4,
 "nbformat_minor": 0
}
