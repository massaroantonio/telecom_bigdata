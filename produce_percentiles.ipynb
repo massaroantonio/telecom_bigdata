{
 "cells": [
  {
   "cell_type": "code",
   "execution_count": 2,
   "metadata": {
    "collapsed": false
   },
   "outputs": [],
   "source": [
    "from datetime import datetime\n",
    "from datetime import timedelta\n",
    "import shapefile\n",
    "import xml.etree.ElementTree as ET\n",
    "import numpy as np\n",
    "from shapely.geometry import Point\n",
    "from shapely.geometry.polygon import Polygon\n",
    "import matplotlib.pyplot as plt\n",
    "from pyproj import Proj, transform\n",
    "from pymongo import MongoClient\n",
    "%matplotlib inline"
   ]
  },
  {
   "cell_type": "code",
   "execution_count": 3,
   "metadata": {
    "collapsed": false
   },
   "outputs": [],
   "source": [
    "tree = ET.parse('/media/amassaro/external_2T/telecom_bigdata_2015/data/external_data/xml_incidenti_mar-apr_2015.xml')\n",
    "root=tree.getroot()\n",
    "child=list(root)[1]"
   ]
  },
  {
   "cell_type": "code",
   "execution_count": 4,
   "metadata": {
    "collapsed": false
   },
   "outputs": [],
   "source": [
    "acc_times=[]\n",
    "place=[]\n",
    "for j in child:\n",
    "    if 'Latitudine' in j.attrib.keys() and 'Longitudine' in j.attrib.keys():\n",
    "        place.append([float(j.attrib['Longitudine']),float(j.attrib['Latitudine'])])\n",
    "        acc_times.append(j.attrib['DataOraIncidente'])\n",
    "\n",
    "acc_times=np.array([datetime.strptime(t[:10]+' '+t[11:],'%Y-%m-%d %H:%M:%S') for t in acc_times])\n",
    "acc_places=np.array(place)"
   ]
  },
  {
   "cell_type": "code",
   "execution_count": 8,
   "metadata": {
    "collapsed": false
   },
   "outputs": [],
   "source": [
    "shp='/media/amassaro/external_2T/telecom_bigdata_2015/data/tim_grid/roma-grid/intersection_Roma_W_GRIDIT_NEW'\n",
    "crt=shapefile.Reader(shp)\n",
    "geomet=crt.shapeRecords()\n"
   ]
  },
  {
   "cell_type": "code",
   "execution_count": 9,
   "metadata": {
    "collapsed": false
   },
   "outputs": [],
   "source": [
    "inProj = Proj(init='epsg:32632')\n",
    "outProj = Proj(init='epsg:4326')\n",
    "\n",
    "grid=np.array([[transform(inProj,outProj,c[0],c[1]) for c in g.shape.points] for g in geomet])\n",
    "A=np.array([Polygon(g.shape.points).area for g in geomet])\n",
    "A=A/min(A)\n",
    "ids=np.array([g.record[0] for g in geomet])"
   ]
  },
  {
   "cell_type": "code",
   "execution_count": 15,
   "metadata": {
    "collapsed": false
   },
   "outputs": [],
   "source": [
    "acc_cells=np.zeros(len(acc_places))\n",
    "I=np.zeros(len(grid))\n",
    "\n",
    "for k in range(len(acc_places)):\n",
    "    point=Point(acc_places[k])\n",
    "    for i in range(len(grid)):\n",
    "        if Polygon(grid[i]).contains(point):\n",
    "            acc_cells[k]=i\n",
    "            I[i]+=1\n",
    "            break\n",
    "I_n=I/A"
   ]
  },
  {
   "cell_type": "code",
   "execution_count": 26,
   "metadata": {
    "collapsed": false
   },
   "outputs": [],
   "source": [
    "out=open('percentiles_on_call_in_','w')\n",
    "out.close()\n",
    "out=open('percentiles_on_call_in_hourly_','w')\n",
    "out.close()\n",
    "CC=[]\n",
    "db=MongoClient()\n",
    "db=db['call_in_roma']\n",
    "for grid_idx in np.where(I>0)[0]:    \n",
    "    cur=db['callIn'].find({'square_id':ids[grid_idx]})\n",
    "    time=[]\n",
    "    calls_in=[]\n",
    "    time_in=[]\n",
    "    for c in cur:\n",
    "        time.append(datetime.fromtimestamp(c['time_interval']))\n",
    "        calls_in.append(c['n_of_calls'])\n",
    "        time_in.append(c['call_time'])\n",
    "    calls_in=np.array(calls_in)\n",
    "    time=np.array(time)\n",
    "    Idx=np.argsort(time)\n",
    "    time=time[Idx]\n",
    "    calls_in=calls_in[Idx]\n",
    "    C=[]\n",
    "    for t in acc_times[np.where(acc_cells==grid_idx)]:\n",
    "        m=np.sum(time<t)\n",
    "        if time[m]==t or m==0:\n",
    "            C.append(calls_in[m])\n",
    "        else:\n",
    "            C.append(.5*(calls_in[m-1]+calls_in[m]))\n",
    "    L_c=float(len(calls_in))\n",
    "    ttime=np.array([t.replace(minute=0, second=0) for t in time])\n",
    "    Time=np.sort(list(set(ttime)))\n",
    "    Calls_in=np.array([np.sum(calls_in[np.where(ttime==t)]) for t in Time])\n",
    "    \n",
    "    \n",
    "    CC=[]\n",
    "    for t in acc_times[np.where(acc_cells==grid_idx)]:\n",
    "        t=t.replace(minute=0, second=0)\n",
    "        m=np.sum(Time<t)\n",
    "        if Time[m]==t or m==0:\n",
    "            CC.append(Calls_in[m])\n",
    "        else:\n",
    "            CC.append(.5*(Calls_in[m-1]+Calls_in[m]))\n",
    "    L_cc=float(len(Calls_in))\n",
    "    \n",
    "    out=open('percentiles_on_call_in_','a')\n",
    "    out.write(str(grid_idx)+',')\n",
    "    \n",
    "    \n",
    "    for c in C:\n",
    "        out.write(str(np.sum(calls_in<=c)/L_c)+',')\n",
    "    out.write('\\n')\n",
    "    out.close()\n",
    "    \n",
    "    out=open('percentiles_on_call_in_hourly_','a')\n",
    "    out.write(str(grid_idx)+',')\n",
    "    for c in CC:\n",
    "        out.write(str(np.sum(Calls_in<=c)/L_cc)+',')\n",
    "    out.write('\\n')\n",
    "    out.close()\n",
    "    \n",
    "    "
   ]
  },
  {
   "cell_type": "code",
   "execution_count": 8,
   "metadata": {
    "collapsed": false
   },
   "outputs": [],
   "source": [
    "out=open('percentiles_on_call_out','w')\n",
    "out.close()\n",
    "out=open('percentiles_on_call_out_hourly','w')\n",
    "out.close()\n",
    "CC=[]\n",
    "db=MongoClient()\n",
    "db=db['call_out_roma']\n",
    "for grid_idx in np.where(I>0)[0]:    \n",
    "    cur=db['callOut'].find({'square_id':ids[grid_idx]})\n",
    "    time=[]\n",
    "    calls_in=[]\n",
    "    time_in=[]\n",
    "    for c in cur:\n",
    "        time.append(datetime.fromtimestamp(c['time_interval']))\n",
    "        calls_in.append(c['n_of_calls'])\n",
    "        time_in.append(c['call_time'])\n",
    "    calls_in=np.array(calls_in)\n",
    "    time=np.array(time)\n",
    "    Idx=np.argsort(time)\n",
    "    time=time[Idx]\n",
    "    calls_in=calls_in[Idx]\n",
    "    C=[calls_in[np.sum(time<t)] for t in acc_times[np.where(acc_cells==grid_idx)]]\n",
    "    L_c=float(len(calls_in))\n",
    "    ttime=np.array([t.replace(minute=0, second=0) for t in time])\n",
    "    Time=np.sort(list(set(ttime)))\n",
    "    Calls_in=np.array([np.sum(calls_in[np.where(ttime==t)]) for t in Time])\n",
    "    \n",
    "    CC=[Calls_in[np.sum(Time<t.replace(minute=0, second=0))] for t in acc_times[np.where(acc_cells==grid_idx)]]\n",
    "    L_cc=float(len(Calls_in))\n",
    "    \n",
    "    out=open('percentiles_on_call_out','a')\n",
    "    out.write(str(grid_idx)+',')\n",
    "    \n",
    "    \n",
    "    for c in C:\n",
    "        out.write(str(np.sum(calls_in<=c)/L_c)+',')\n",
    "    out.write('\\n')\n",
    "    out.close()\n",
    "    \n",
    "    out=open('percentiles_on_call_out_hourly','a')\n",
    "    out.write(str(grid_idx)+',')\n",
    "    for c in CC:\n",
    "        out.write(str(np.sum(Calls_in<=c)/L_cc)+',')\n",
    "    out.write('\\n')\n",
    "    out.close()\n"
   ]
  },
  {
   "cell_type": "code",
   "execution_count": 9,
   "metadata": {
    "collapsed": false
   },
   "outputs": [],
   "source": [
    "out=open('percentiles_on_sms_in','w')\n",
    "out.close()\n",
    "out=open('percentiles_on_sms_in_hourly','w')\n",
    "out.close()\n",
    "CC=[]\n",
    "db=MongoClient()\n",
    "db=db['sms_in_roma']\n",
    "for grid_idx in np.where(I>0)[0]:    \n",
    "    cur=db['smsIn'].find({'square_id':ids[grid_idx]})\n",
    "    time=[]\n",
    "    calls_in=[]\n",
    "    time_in=[]\n",
    "    for c in cur:\n",
    "        time.append(datetime.fromtimestamp(c['time_interval']))\n",
    "        calls_in.append(c['n_of_sms'])\n",
    "    calls_in=np.array(calls_in)\n",
    "    time=np.array(time)\n",
    "    Idx=np.argsort(time)\n",
    "    time=time[Idx]\n",
    "    calls_in=calls_in[Idx]\n",
    "    C=[calls_in[np.sum(time<t)] for t in acc_times[np.where(acc_cells==grid_idx)]]\n",
    "    L_c=float(len(calls_in))\n",
    "    ttime=np.array([t.replace(minute=0, second=0) for t in time])\n",
    "    Time=np.sort(list(set(ttime)))\n",
    "    Calls_in=np.array([np.sum(calls_in[np.where(ttime==t)]) for t in Time])\n",
    "    \n",
    "    CC=[Calls_in[np.sum(Time<t.replace(minute=0, second=0))] for t in acc_times[np.where(acc_cells==grid_idx)]]\n",
    "    L_cc=float(len(Calls_in))\n",
    "    \n",
    "    out=open('percentiles_on_sms_in','a')\n",
    "    out.write(str(grid_idx)+',')\n",
    "    \n",
    "    \n",
    "    for c in C:\n",
    "        out.write(str(np.sum(calls_in<=c)/L_c)+',')\n",
    "    out.write('\\n')\n",
    "    out.close()\n",
    "    \n",
    "    out=open('percentiles_on_sms_in_hourly','a')\n",
    "    out.write(str(grid_idx)+',')\n",
    "    for c in CC:\n",
    "        out.write(str(np.sum(Calls_in<=c)/L_cc)+',')\n",
    "    out.write('\\n')\n",
    "    out.close()\n"
   ]
  },
  {
   "cell_type": "code",
   "execution_count": 10,
   "metadata": {
    "collapsed": false
   },
   "outputs": [],
   "source": [
    "out=open('percentiles_on_sms_out','w')\n",
    "out.close()\n",
    "out=open('percentiles_on_sms_out_hourly','w')\n",
    "out.close()\n",
    "CC=[]\n",
    "db=MongoClient()\n",
    "db=db['sms_out_roma']\n",
    "for grid_idx in np.where(I>0)[0]:    \n",
    "    cur=db['smsOut'].find({'square_id':ids[grid_idx]})\n",
    "    time=[]\n",
    "    calls_in=[]\n",
    "    time_in=[]\n",
    "    for c in cur:\n",
    "        time.append(datetime.fromtimestamp(c['time_interval']))\n",
    "        calls_in.append(c['n_of_sms'])\n",
    "    calls_in=np.array(calls_in)\n",
    "    time=np.array(time)\n",
    "    Idx=np.argsort(time)\n",
    "    time=time[Idx]\n",
    "    calls_in=calls_in[Idx]\n",
    "    C=[calls_in[np.sum(time<t)] for t in acc_times[np.where(acc_cells==grid_idx)]]\n",
    "    L_c=float(len(calls_in))\n",
    "    ttime=np.array([t.replace(minute=0, second=0) for t in time])\n",
    "    Time=np.sort(list(set(ttime)))\n",
    "    Calls_in=np.array([np.sum(calls_in[np.where(ttime==t)]) for t in Time])\n",
    "    \n",
    "    CC=[Calls_in[np.sum(Time<t.replace(minute=0, second=0))] for t in acc_times[np.where(acc_cells==grid_idx)]]\n",
    "    L_cc=float(len(Calls_in))\n",
    "    \n",
    "    out=open('percentiles_on_sms_out','a')\n",
    "    out.write(str(grid_idx)+',')\n",
    "    \n",
    "    \n",
    "    for c in C:\n",
    "        out.write(str(np.sum(calls_in<=c)/L_c)+',')\n",
    "    out.write('\\n')\n",
    "    out.close()\n",
    "    \n",
    "    out=open('percentiles_on_sms_out_hourly','a')\n",
    "    out.write(str(grid_idx)+',')\n",
    "    for c in CC:\n",
    "        out.write(str(np.sum(Calls_in<=c)/L_cc)+',')\n",
    "    out.write('\\n')\n",
    "    out.close()\n"
   ]
  },
  {
   "cell_type": "code",
   "execution_count": null,
   "metadata": {
    "collapsed": false
   },
   "outputs": [],
   "source": []
  }
 ],
 "metadata": {
  "kernelspec": {
   "display_name": "Python 2",
   "language": "python",
   "name": "python2"
  },
  "language_info": {
   "codemirror_mode": {
    "name": "ipython",
    "version": 2
   },
   "file_extension": ".py",
   "mimetype": "text/x-python",
   "name": "python",
   "nbconvert_exporter": "python",
   "pygments_lexer": "ipython2",
   "version": "2.7.10"
  }
 },
 "nbformat": 4,
 "nbformat_minor": 0
}
