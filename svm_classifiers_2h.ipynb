{
 "cells": [
  {
   "cell_type": "code",
   "execution_count": 1,
   "metadata": {
    "collapsed": true
   },
   "outputs": [],
   "source": [
    "from datetime import datetime\n",
    "from datetime import timedelta\n",
    "import shapefile\n",
    "import xml.etree.ElementTree as ET\n",
    "import numpy as np\n",
    "from shapely.geometry import Point\n",
    "from shapely.geometry.polygon import Polygon\n",
    "import matplotlib.pyplot as plt\n",
    "from pyproj import Proj, transform\n",
    "from pymongo import MongoClient\n",
    "from sklearn import svm\n",
    "from sklearn.ensemble import RandomForestClassifier,AdaBoostClassifier,BaggingClassifier\n",
    "from sklearn.metrics import classification_report,accuracy_score,confusion_matrix\n",
    "%matplotlib inline"
   ]
  },
  {
   "cell_type": "code",
   "execution_count": 2,
   "metadata": {
    "collapsed": false
   },
   "outputs": [],
   "source": [
    "Data=[]\n",
    "count=[]\n",
    "inf=open('accidents_by_cell_2hour_day','r')\n",
    "for line in inf:\n",
    "    line=line.split(',')\n",
    "    line[-1]=line[-1][:-1]\n",
    "    if line[-1]!='accidents':\n",
    "        Data.append([line[1],int(line[2]),int(line[3]),float(line[4])])\n",
    "Data=np.array(Data)"
   ]
  },
  {
   "cell_type": "code",
   "execution_count": 3,
   "metadata": {
    "collapsed": false
   },
   "outputs": [
    {
     "data": {
      "text/plain": [
       "array([['2015-03-01 00:00:00', '0', '6', '0.0'],\n",
       "       ['2015-03-01 02:00:00', '1', '6', '0.0'],\n",
       "       ['2015-03-01 04:00:00', '2', '6', '0.0'],\n",
       "       ..., \n",
       "       ['2015-04-30 18:00:00', '9', '3', '0.0'],\n",
       "       ['2015-04-30 20:00:00', '10', '3', '0.0'],\n",
       "       ['2015-04-30 22:00:00', '11', '3', '0.0']], \n",
       "      dtype='|S19')"
      ]
     },
     "execution_count": 3,
     "metadata": {},
     "output_type": "execute_result"
    }
   ],
   "source": [
    "Data"
   ]
  },
  {
   "cell_type": "code",
   "execution_count": 4,
   "metadata": {
    "collapsed": false
   },
   "outputs": [],
   "source": [
    "dates=list(set(Data[:,0]))\n",
    "datetime_dates=[datetime.strptime( D,'%Y-%m-%d %H:%M:%S') for D in dates]\n",
    "datetime_dates=np.sort(datetime_dates)\n",
    "dates=[str(d) for d in datetime_dates]"
   ]
  },
  {
   "cell_type": "code",
   "execution_count": 5,
   "metadata": {
    "collapsed": false
   },
   "outputs": [],
   "source": [
    "data=np.array([[datetime_dates[i].weekday(),datetime_dates[i].hour/2,sum(map(float,Data[Data[:,0]==dates[i],3])) ]for i in range(len(dates))])"
   ]
  },
  {
   "cell_type": "code",
   "execution_count": 6,
   "metadata": {
    "collapsed": false
   },
   "outputs": [
    {
     "name": "stdout",
     "output_type": "stream",
     "text": [
      "distribution of n-accidents within an hour\n"
     ]
    },
    {
     "data": {
      "image/png": "[encoded data removed]",
      "text/plain": [
       "<matplotlib.figure.Figure at 0x7f957c0f2290>"
      ]
     },
     "metadata": {},
     "output_type": "display_data"
    },
    {
     "name": "stdout",
     "output_type": "stream",
     "text": [
      "n_accidents  frequency    probability  cumprob     \n",
      "0            87           11.95        11.95       \n",
      "1            89           12.23        24.18       \n",
      "2            78           10.71        34.89       \n",
      "3            75           10.3         45.19       \n",
      "4            67           9.2          54.4        \n",
      "5            53           7.28         61.68       \n",
      "6            53           7.28         68.96       \n",
      "7            49           6.73         75.69       \n",
      "8            44           6.04         81.73       \n",
      "9            24           3.3          85.03       \n",
      "10           31           4.26         89.29       \n",
      "11           22           3.02         92.31       \n",
      "12           17           2.34         94.64       \n",
      "13           7            0.96         95.6        \n",
      "14           18           2.47         98.08       \n",
      "15           4            0.55         98.63       \n",
      "16           7            0.96         99.59       \n",
      "17           0            0.0          99.59       \n",
      "18           3            0.41         100.0       \n"
     ]
    }
   ],
   "source": [
    "print('distribution of n-accidents within an hour')\n",
    "plt.hist(data[:,-1],50)\n",
    "plt.show()\n",
    "H=np.histogram(data[:,-1],list(range(20)))\n",
    "print 'n_accidents'.ljust(12),'frequency'.ljust(12),'probability'.ljust(12),'cumprob'.ljust(12)\n",
    "for i in range(len(H[1])-1):\n",
    "    print str(H[1][i]).ljust(12), str(H[0][i]).ljust(12), str(round(100*H[0][i]/float(sum(H[0])),2)).ljust(12),str(round(100*(sum(H[0][:i])+H[0][i])/float(sum(H[0])),2)).ljust(12) "
   ]
  },
  {
   "cell_type": "code",
   "execution_count": 7,
   "metadata": {
    "collapsed": false
   },
   "outputs": [
    {
     "name": "stdout",
     "output_type": "stream",
     "text": [
      "fascia  probability\n",
      "0       11.95  \n",
      "1       12.23  \n",
      "2-3     21.02  \n",
      "4-5     16.48  \n",
      "6-7-8   20.05  \n",
      ">8      18.27  \n"
     ]
    }
   ],
   "source": [
    "print 'fascia'.ljust(7),'probability'.ljust(7)\n",
    "print '0'.ljust(7), str(round(100*H[0][0]/float(sum(H[0])),2)).ljust(7)\n",
    "print '1'.ljust(7), str(round(100*H[0][1]/float(sum(H[0])),2)).ljust(7)\n",
    "print '2-3'.ljust(7), str(round(100*sum(H[0][2:4])/float(sum(H[0])),2)).ljust(7)\n",
    "print '4-5'.ljust(7), str(round(100*sum(H[0][4:6])/float(sum(H[0])),2)).ljust(7)\n",
    "print '6-7-8'.ljust(7), str(round(100*sum(H[0][6:9])/float(sum(H[0])),2)).ljust(7)\n",
    "print '>8'.ljust(7), str(round(100*sum(H[0][9:])/float(sum(H[0])),2)).ljust(7)\n"
   ]
  },
  {
   "cell_type": "code",
   "execution_count": 8,
   "metadata": {
    "collapsed": true
   },
   "outputs": [],
   "source": [
    "Scores=np.zeros(len(data))\n",
    "i=0\n",
    "for d in data:\n",
    "    if d[-1]==0:\n",
    "        score=0\n",
    "    elif d[-1]==1:\n",
    "        score =1\n",
    "    elif d[-1] in [2,3]:\n",
    "        score =2\n",
    "    elif d[-1] in [4,5]:\n",
    "        score =3\n",
    "    elif d[-1] in [6,7,8]:\n",
    "        score =4\n",
    "    else:\n",
    "        score =5\n",
    "    Scores[i]=score\n",
    "    i+=1\n",
    "    "
   ]
  },
  {
   "cell_type": "code",
   "execution_count": 9,
   "metadata": {
    "collapsed": false
   },
   "outputs": [
    {
     "data": {
      "image/png": "[encoded data removed]",
      "text/plain": [
       "<matplotlib.figure.Figure at 0x7f954eb23410>"
      ]
     },
     "metadata": {},
     "output_type": "display_data"
    }
   ],
   "source": [
    "plt.hist(Scores)\n",
    "plt.show()"
   ]
  },
  {
   "cell_type": "code",
   "execution_count": 10,
   "metadata": {
    "collapsed": false
   },
   "outputs": [
    {
     "name": "stdout",
     "output_type": "stream",
     "text": [
      "***************\n",
      "features:  [0] \n",
      "average values on crossvalidation run\n",
      "\n",
      "distance from true:       1.7\n",
      "std from true:            1.99\n",
      "accuracy:                 0.23\n",
      "\n",
      "class precision  recall         \n",
      "0      0.0        0.0            \n",
      "1      0.0        0.0            \n",
      "2      0.31       0.49           \n",
      "3      0.0        0.0            \n",
      "4      0.17       0.26           \n",
      "5      0.21       0.42           \n",
      "avg    0.12       0.19           \n",
      "***************\n",
      "features:  [1] \n",
      "average values on crossvalidation run\n",
      "\n",
      "distance from true:       0.93\n",
      "std from true:            1.29\n",
      "accuracy:                 0.36\n",
      "\n",
      "class precision  recall         \n",
      "0      0.42       0.61           \n",
      "1      0.05       0.03           \n",
      "2      0.38       0.39           \n",
      "3      0.25       0.13           \n",
      "4      0.32       0.51           \n",
      "5      0.45       0.46           \n",
      "avg    0.31       0.36           \n",
      "***************\n",
      "features:  [0, 1] \n",
      "average values on crossvalidation run\n",
      "\n",
      "distance from true:       0.89\n",
      "std from true:            1.21\n",
      "accuracy:                 0.36\n",
      "\n",
      "class precision  recall         \n",
      "0      0.5        0.5            \n",
      "1      0.22       0.07           \n",
      "2      0.36       0.48           \n",
      "3      0.21       0.19           \n",
      "4      0.31       0.27           \n",
      "5      0.49       0.6            \n",
      "avg    0.35       0.35           \n"
     ]
    }
   ],
   "source": [
    "I=np.random.permutation(len(data))\n",
    "\n",
    "choose=0\n",
    "for choose in [[0],[1],[0,1]]:\n",
    "    m=[]\n",
    "    s=[]\n",
    "    acc=[]\n",
    "    P=[]\n",
    "    R=[]\n",
    "    for i in range(3):\n",
    "        I_te=list(range(200*i,200*(i+1)))\n",
    "        I_tr=list(range(0,200*i))+list(range(200*(i+1),len(I)))\n",
    "        train=I[I_tr]\n",
    "        test=I[I_te]\n",
    "\n",
    "        X = np.array([d[choose] for d in data[train]])\n",
    "        y=Scores[train] \n",
    "        clf = svm.SVC()\n",
    "        clf = clf.fit(X, y)\n",
    "        true=np.array([int(Scores[t]) for t in test])\n",
    "        pred=np.array([int(clf.predict([data[t][choose]])[0]) for t in test])\n",
    "        m.append(np.average(np.abs(true-pred)))\n",
    "        s.append(np.std(true-pred))\n",
    "        acc.append(accuracy_score(true,pred))\n",
    "        conf=confusion_matrix(true,pred) \n",
    "        recall=[0 if not conf[i,i] else float(conf[i,i])/sum(conf[i,:]) for i in range(len(conf[:,0]))]\n",
    "        precision=[0 if not conf[i,i] else float(conf[i,i])/sum(conf[:,i]) for i in range(len(conf[:,0]))]\n",
    "        R.append(recall)\n",
    "        P.append(precision)\n",
    "    R=np.array(R)\n",
    "    P=np.array(P)\n",
    "    print '***************\\n','features: ',choose,'\\naverage values on crossvalidation run\\n'\n",
    "    print 'distance from true: '.ljust(25),round(np.average(m),2)\n",
    "    print 'std from true: '.ljust(25),round(np.average(s),2)\n",
    "    print 'accuracy: '.ljust(25),round(np.average(acc),2)\n",
    "    PP=np.average(P,0)\n",
    "    RR=np.average(R,0)\n",
    "    print '\\nclass'.ljust(6),'precision'.ljust(10),'recall'.ljust(15)\n",
    "    for i in range(len(PP) ):\n",
    "        print str(i).ljust(6),str(round(PP[i],2)).ljust(10),str(round(RR[i],2)).ljust(15)\n",
    "    print 'avg'.ljust(6),str(round(np.average(PP),2)).ljust(10),str(round(np.average(RR),2)).ljust(15)"
   ]
  },
  {
   "cell_type": "code",
   "execution_count": 11,
   "metadata": {
    "collapsed": false
   },
   "outputs": [
    {
     "name": "stdout",
     "output_type": "stream",
     "text": [
      "***************\n",
      "features:  [0] \n",
      "average values on crossvalidation run\n",
      "\n",
      "distance from true:       1.78\n",
      "std from true:            2.15\n",
      "accuracy:                 0.18\n",
      "\n",
      "class precision  recall         \n",
      "0      0.0        0.0            \n",
      "1      0.11       0.15           \n",
      "2      0.1        0.14           \n",
      "3      0.13       0.19           \n",
      "4      0.21       0.34           \n",
      "5      0.13       0.17           \n",
      "avg    0.11       0.17           \n",
      "***************\n",
      "features:  [1] \n",
      "average values on crossvalidation run\n",
      "\n",
      "distance from true:       1.12\n",
      "std from true:            1.44\n",
      "accuracy:                 0.29\n",
      "\n",
      "class precision  recall         \n",
      "0      0.2        0.14           \n",
      "1      0.24       0.55           \n",
      "2      0.18       0.16           \n",
      "3      0.22       0.28           \n",
      "4      0.15       0.06           \n",
      "5      0.38       0.64           \n",
      "avg    0.23       0.3            \n",
      "***************\n",
      "features:  [0, 1] \n",
      "average values on crossvalidation run\n",
      "\n",
      "distance from true:       0.97\n",
      "std from true:            1.29\n",
      "accuracy:                 0.32\n",
      "\n",
      "class precision  recall         \n",
      "0      0.48       0.48           \n",
      "1      0.22       0.22           \n",
      "2      0.36       0.39           \n",
      "3      0.19       0.18           \n",
      "4      0.28       0.29           \n",
      "5      0.44       0.35           \n",
      "avg    0.33       0.32           \n"
     ]
    }
   ],
   "source": [
    "I=np.random.permutation(len(data))\n",
    "\n",
    "choose=0\n",
    "for choose in [[0],[1],[0,1]]:\n",
    "    m=[]\n",
    "    s=[]\n",
    "    acc=[]\n",
    "    P=[]\n",
    "    R=[]\n",
    "    for i in range(3):\n",
    "        I_te=list(range(200*i,200*(i+1)))\n",
    "        I_tr=list(range(0,200*i))+list(range(200*(i+1),len(I)))\n",
    "        train=I[I_tr]\n",
    "        test=I[I_te]\n",
    "\n",
    "        X = np.array([d[choose] for d in data[train]])\n",
    "        y=Scores[train] \n",
    "        clf = svm.NuSVC()\n",
    "        clf = clf.fit(X, y)\n",
    "        true=np.array([int(Scores[t]) for t in test])\n",
    "        pred=np.array([int(clf.predict([data[t][choose]])[0]) for t in test])\n",
    "        m.append(np.average(np.abs(true-pred)))\n",
    "        s.append(np.std(true-pred))\n",
    "        acc.append(accuracy_score(true,pred))\n",
    "        conf=confusion_matrix(true,pred) \n",
    "        recall=[0 if not conf[i,i] else float(conf[i,i])/sum(conf[i,:]) for i in range(len(conf[:,0]))]\n",
    "        precision=[0 if not conf[i,i] else float(conf[i,i])/sum(conf[:,i]) for i in range(len(conf[:,0]))]\n",
    "        R.append(recall)\n",
    "        P.append(precision)\n",
    "    R=np.array(R)\n",
    "    P=np.array(P)\n",
    "    print '***************\\n','features: ',choose,'\\naverage values on crossvalidation run\\n'\n",
    "    print 'distance from true: '.ljust(25),round(np.average(m),2)\n",
    "    print 'std from true: '.ljust(25),round(np.average(s),2)\n",
    "    print 'accuracy: '.ljust(25),round(np.average(acc),2)\n",
    "    PP=np.average(P,0)\n",
    "    RR=np.average(R,0)\n",
    "    print '\\nclass'.ljust(6),'precision'.ljust(10),'recall'.ljust(15)\n",
    "    for i in range(len(PP) ):\n",
    "        print str(i).ljust(6),str(round(PP[i],2)).ljust(10),str(round(RR[i],2)).ljust(15)\n",
    "    print 'avg'.ljust(6),str(round(np.average(PP),2)).ljust(10),str(round(np.average(RR),2)).ljust(15)"
   ]
  },
  {
   "cell_type": "code",
   "execution_count": 12,
   "metadata": {
    "collapsed": false
   },
   "outputs": [
    {
     "name": "stdout",
     "output_type": "stream",
     "text": [
      "***************\n",
      "features:  [0] \n",
      "average values on crossvalidation run\n",
      "\n",
      "distance from true:       1.65\n",
      "std from true:            2.1\n",
      "accuracy:                 0.24\n",
      "\n",
      "class precision  recall         \n",
      "0      0.0        0.0            \n",
      "1      0.0        0.0            \n",
      "2      0.24       0.65           \n",
      "3      0.0        0.0            \n",
      "4      0.03       0.03           \n",
      "5      0.25       0.52           \n",
      "avg    0.09       0.2            \n",
      "***************\n",
      "features:  [1] \n",
      "average values on crossvalidation run\n",
      "\n",
      "distance from true:       1.34\n",
      "std from true:            1.7\n",
      "accuracy:                 0.24\n",
      "\n",
      "class precision  recall         \n",
      "0      0.0        0.0            \n",
      "1      0.0        0.0            \n",
      "2      0.24       0.62           \n",
      "3      0.0        0.0            \n",
      "4      0.24       0.62           \n",
      "5      0.0        0.0            \n",
      "avg    0.08       0.21           \n",
      "***************\n",
      "features:  [0, 1] \n",
      "average values on crossvalidation run\n",
      "\n",
      "distance from true:       1.25\n",
      "std from true:            1.67\n",
      "accuracy:                 0.31\n",
      "\n",
      "class precision  recall         \n",
      "0      0.5        0.31           \n",
      "1      0.0        0.0            \n",
      "2      0.28       0.58           \n",
      "3      0.07       0.04           \n",
      "4      0.21       0.27           \n",
      "5      0.4        0.48           \n",
      "avg    0.24       0.28           \n"
     ]
    }
   ],
   "source": [
    "I=np.random.permutation(len(data))\n",
    "\n",
    "choose=0\n",
    "for choose in [[0],[1],[0,1]]:\n",
    "    m=[]\n",
    "    s=[]\n",
    "    acc=[]\n",
    "    P=[]\n",
    "    R=[]\n",
    "    for i in range(3):\n",
    "        I_te=list(range(200*i,200*(i+1)))\n",
    "        I_tr=list(range(0,200*i))+list(range(200*(i+1),len(I)))\n",
    "        train=I[I_tr]\n",
    "        test=I[I_te]\n",
    "\n",
    "        X = np.array([d[choose] for d in data[train]])\n",
    "        y=Scores[train] \n",
    "        clf = svm.LinearSVC()\n",
    "        clf = clf.fit(X, y)\n",
    "        true=np.array([int(Scores[t]) for t in test])\n",
    "        pred=np.array([int(clf.predict([data[t][choose]])[0]) for t in test])\n",
    "        m.append(np.average(np.abs(true-pred)))\n",
    "        s.append(np.std(true-pred))\n",
    "        acc.append(accuracy_score(true,pred))\n",
    "        conf=confusion_matrix(true,pred) \n",
    "        recall=[0 if not conf[i,i] else float(conf[i,i])/sum(conf[i,:]) for i in range(len(conf[:,0]))]\n",
    "        precision=[0 if not conf[i,i] else float(conf[i,i])/sum(conf[:,i]) for i in range(len(conf[:,0]))]\n",
    "        R.append(recall)\n",
    "        P.append(precision)\n",
    "    R=np.array(R)\n",
    "    P=np.array(P)\n",
    "    print '***************\\n','features: ',choose,'\\naverage values on crossvalidation run\\n'\n",
    "    print 'distance from true: '.ljust(25),round(np.average(m),2)\n",
    "    print 'std from true: '.ljust(25),round(np.average(s),2)\n",
    "    print 'accuracy: '.ljust(25),round(np.average(acc),2)\n",
    "    PP=np.average(P,0)\n",
    "    RR=np.average(R,0)\n",
    "    print '\\nclass'.ljust(6),'precision'.ljust(10),'recall'.ljust(15)\n",
    "    for i in range(len(PP) ):\n",
    "        print str(i).ljust(6),str(round(PP[i],2)).ljust(10),str(round(RR[i],2)).ljust(15)\n",
    "    print 'avg'.ljust(6),str(round(np.average(PP),2)).ljust(10),str(round(np.average(RR),2)).ljust(15)"
   ]
  },
  {
   "cell_type": "code",
   "execution_count": 14,
   "metadata": {
    "collapsed": false
   },
   "outputs": [
    {
     "name": "stdout",
     "output_type": "stream",
     "text": [
      "***************\n",
      "features:  [0] \n",
      "average values on crossvalidation run\n",
      "\n",
      "distance from true:       1.68\n",
      "std from true:            1.93\n",
      "accuracy:                 0.22\n",
      "\n",
      "class precision  recall         \n",
      "0      0.0        0.0            \n",
      "1      0.0        0.0            \n",
      "2      0.29       0.41           \n",
      "3      0.0        0.0            \n",
      "4      0.12       0.27           \n",
      "5      0.2        0.49           \n",
      "avg    0.1        0.19           \n",
      "***************\n",
      "features:  [1] \n",
      "average values on crossvalidation run\n",
      "\n",
      "distance from true:       0.99\n",
      "std from true:            1.37\n",
      "accuracy:                 0.36\n",
      "\n",
      "class precision  recall         \n",
      "0      0.46       0.67           \n",
      "1      0.0        0.0            \n",
      "2      0.38       0.42           \n",
      "3      0.22       0.14           \n",
      "4      0.32       0.3            \n",
      "5      0.38       0.59           \n",
      "avg    0.29       0.36           \n",
      "***************\n",
      "features:  [0, 1] \n",
      "average values on crossvalidation run\n",
      "\n",
      "distance from true:       1.21\n",
      "std from true:            1.65\n",
      "accuracy:                 0.32\n",
      "\n",
      "class precision  recall         \n",
      "0      0.42       0.41           \n",
      "1      0.0        0.0            \n",
      "2      0.32       0.58           \n",
      "3      0.02       0.01           \n",
      "4      0.54       0.23           \n",
      "5      0.3        0.57           \n",
      "avg    0.27       0.3            \n"
     ]
    }
   ],
   "source": [
    "I=np.random.permutation(len(data))\n",
    "\n",
    "choose=0\n",
    "for choose in [[0],[1],[0,1]]:\n",
    "    m=[]\n",
    "    s=[]\n",
    "    acc=[]\n",
    "    P=[]\n",
    "    R=[]\n",
    "    for i in range(3):\n",
    "        I_te=list(range(200*i,200*(i+1)))\n",
    "        I_tr=list(range(0,200*i))+list(range(200*(i+1),len(I)))\n",
    "        train=I[I_tr]\n",
    "        test=I[I_te]\n",
    "\n",
    "        X = np.array([d[choose] for d in data[train]])\n",
    "        y=Scores[train] \n",
    "        clf = BaggingClassifier(svm.SVC(), max_features=1)\n",
    "        clf = clf.fit(X, y)\n",
    "        true=np.array([int(Scores[t]) for t in test])\n",
    "        pred=np.array([int(clf.predict([data[t][choose]])[0]) for t in test])\n",
    "        m.append(np.average(np.abs(true-pred)))\n",
    "        s.append(np.std(true-pred))\n",
    "        acc.append(accuracy_score(true,pred))\n",
    "        conf=confusion_matrix(true,pred) \n",
    "        recall=[0 if not conf[i,i] else float(conf[i,i])/sum(conf[i,:]) for i in range(len(conf[:,0]))]\n",
    "        precision=[0 if not conf[i,i] else float(conf[i,i])/sum(conf[:,i]) for i in range(len(conf[:,0]))]\n",
    "        R.append(recall)\n",
    "        P.append(precision)\n",
    "    R=np.array(R)\n",
    "    P=np.array(P)\n",
    "    print '***************\\n','features: ',choose,'\\naverage values on crossvalidation run\\n'\n",
    "    print 'distance from true: '.ljust(25),round(np.average(m),2)\n",
    "    print 'std from true: '.ljust(25),round(np.average(s),2)\n",
    "    print 'accuracy: '.ljust(25),round(np.average(acc),2)\n",
    "    PP=np.average(P,0)\n",
    "    RR=np.average(R,0)\n",
    "    print '\\nclass'.ljust(6),'precision'.ljust(10),'recall'.ljust(15)\n",
    "    for i in range(len(PP) ):\n",
    "        print str(i).ljust(6),str(round(PP[i],2)).ljust(10),str(round(RR[i],2)).ljust(15)\n",
    "    print 'avg'.ljust(6),str(round(np.average(PP),2)).ljust(10),str(round(np.average(RR),2)).ljust(15)"
   ]
  },
  {
   "cell_type": "code",
   "execution_count": null,
   "metadata": {
    "collapsed": true
   },
   "outputs": [],
   "source": []
  }
 ],
 "metadata": {
  "kernelspec": {
   "display_name": "Python 2",
   "language": "python",
   "name": "python2"
  },
  "language_info": {
   "codemirror_mode": {
    "name": "ipython",
    "version": 2
   },
   "file_extension": ".py",
   "mimetype": "text/x-python",
   "name": "python",
   "nbconvert_exporter": "python",
   "pygments_lexer": "ipython2",
   "version": "2.7.10"
  }
 },
 "nbformat": 4,
 "nbformat_minor": 0
}
