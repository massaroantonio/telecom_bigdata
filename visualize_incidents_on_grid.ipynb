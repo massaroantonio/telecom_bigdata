{
 "metadata": {
  "name": "",
  "signature": "sha256:c0edbb74b627397863f231f154e9f24b0625984e3ff027fd39541fd8fba830a8"
 },
 "nbformat": 3,
 "nbformat_minor": 0,
 "worksheets": [
  {
   "cells": [
    {
     "cell_type": "code",
     "collapsed": false,
     "input": [
      "from datetime import datetime\n",
      "from datetime import timedelta\n",
      "import shapefile\n",
      "import xml.etree.ElementTree as ET\n",
      "import numpy as np\n",
      "from shapely.geometry import Point\n",
      "from shapely.geometry.polygon import Polygon\n",
      "import matplotlib.pyplot as plt\n",
      "from pyproj import Proj, transform\n",
      "from pymongo import MongoClient\n",
      "%matplotlib inline"
     ],
     "language": "python",
     "metadata": {},
     "outputs": [],
     "prompt_number": 1
    },
    {
     "cell_type": "code",
     "collapsed": false,
     "input": [
      "shp='/media/amassaro/external_2T/telecom_bigdata_2015/data/tim_grid/roma-grid/intersection_Roma_W_GRIDIT_NEW'\n",
      "crt=shapefile.Reader(shp)\n",
      "geomet=crt.shapeRecords()\n",
      "ids=np.array([g.record[0] for g in geomet])"
     ],
     "language": "python",
     "metadata": {},
     "outputs": [],
     "prompt_number": 2
    },
    {
     "cell_type": "code",
     "collapsed": false,
     "input": [
      "inProj = Proj(init='epsg:32632')\n",
      "outProj = Proj(init='epsg:4326')\n",
      "T=[]\n",
      "for g in geomet:\n",
      "    item=[]\n",
      "    for c in g.shape.points:  \n",
      "        x2,y2 = transform(inProj,outProj,c[0],c[1])\n",
      "        item.append([x2,y2])\n",
      "    T.append(item)   \n",
      "T=np.array(T)"
     ],
     "language": "python",
     "metadata": {},
     "outputs": [],
     "prompt_number": 3
    },
    {
     "cell_type": "code",
     "collapsed": false,
     "input": [
      "s='{\"crs\": {\"type\": \"name\", \"properties\": {\"name\": \"urn:ogc:def:crs:EPSG::4326\",\"time\":\"d\"}}, \"type\": \"FeatureCollection\", \"features\": ['\n",
      "for t in T:\n",
      "    S='{\"geometry\":{\"type\": \"Polygon\", \"coordinates\":['+str(t)+']}, \"type\": \"Feature\", \"id\":\"0\", \"properties\": {\"color\": \"rgba(0,0,0,0)\"}}'\n",
      "    s=s+S+','            \n",
      "s=s[:-1]\n",
      "s=s+']}'\n",
      "out=open('../geoviz/rome-grid.geojson','w')\n",
      "out.write(s)\n",
      "out.close()"
     ],
     "language": "python",
     "metadata": {},
     "outputs": [],
     "prompt_number": 4
    },
    {
     "cell_type": "code",
     "collapsed": false,
     "input": [
      "tree = ET.parse('/media/amassaro/external_2T/telecom_bigdata_2015/data/external_data/xml_incidenti_mar-apr_2015.xml')\n",
      "root=tree.getroot()\n",
      "child=list(root)[1]"
     ],
     "language": "python",
     "metadata": {},
     "outputs": [],
     "prompt_number": 5
    },
    {
     "cell_type": "code",
     "collapsed": false,
     "input": [
      "latlong_acc=[]\n",
      "I=np.zeros(len(T))\n",
      "\n",
      "for j in child:\n",
      "    if 'Latitudine' in j.attrib.keys():\n",
      "        latlong_acc.append([float(j.attrib['Longitudine']),float(j.attrib['Latitudine'])])\n",
      "latlong_acc=np.array(latlong_acc)\n",
      "\n",
      "for i  in range(len(T)):\n",
      "    t=T[i]\n",
      "    polygon=Polygon(t)\n",
      "    for p in latlong_acc:\n",
      "        point=Point(p)\n",
      "        if polygon.contains(point):\n",
      "            I[i]+=1   "
     ],
     "language": "python",
     "metadata": {},
     "outputs": [],
     "prompt_number": 6
    },
    {
     "cell_type": "code",
     "collapsed": false,
     "input": [
      "I[np.where(I==max(I))[0][0]]=0"
     ],
     "language": "python",
     "metadata": {},
     "outputs": [],
     "prompt_number": 7
    },
    {
     "cell_type": "code",
     "collapsed": false,
     "input": [
      "M=max(I)\n",
      "s='{\"crs\": {\"type\": \"name\", \"properties\": {\"name\": \"urn:ogc:def:crs:EPSG::4326\",\"time\":\"d\"}}, \"type\": \"FeatureCollection\", \"features\": ['\n",
      "for i in range(len(T)):\n",
      "    if I[i]:\n",
      "        S='{\"geometry\":{\"type\": \"Polygon\", \"coordinates\":['+str(list(T[i])).replace('array','').replace('(','').replace(')','')+']}, \"type\": \"Feature\", \"id\":\"0\", \"properties\": {\"color\": \"rgba(255,0,0,'+str(I[i]/M)+')\"}}'\n",
      "        s=s+S+','            \n",
      "s=s[:-1]\n",
      "s=s+']}'\n",
      "out=open('../geoviz/rome-grid-accidents.geojson','w')\n",
      "out.write(s)\n",
      "out.close()"
     ],
     "language": "python",
     "metadata": {},
     "outputs": [],
     "prompt_number": 8
    },
    {
     "cell_type": "code",
     "collapsed": false,
     "input": [
      "print('how many accidents in a cell')\n",
      "plt.hist(I[I!=0],list(range(int(max(I)))))\n",
      "plt.gcf().set_size_inches(18, 5)\n",
      "plt.show()\n",
      "print 'avg', np.average(I[I!=0])"
     ],
     "language": "python",
     "metadata": {},
     "outputs": [
      {
       "output_type": "stream",
       "stream": "stdout",
       "text": [
        "how many accidents in a cell\n"
       ]
      },
      {
       "metadata": {},
       "output_type": "display_data",
       "png": "[encoded data removed]",
       "text": [
        "<matplotlib.figure.Figure at 0x7fe4c94f49d0>"
       ]
      },
      {
       "output_type": "stream",
       "stream": "stdout",
       "text": [
        "avg 6.91304347826\n"
       ]
      }
     ],
     "prompt_number": 9
    },
    {
     "cell_type": "code",
     "collapsed": false,
     "input": [
      "acc_ids=ids[I!=0]"
     ],
     "language": "python",
     "metadata": {},
     "outputs": [],
     "prompt_number": 10
    }
   ],
   "metadata": {}
  }
 ]
}