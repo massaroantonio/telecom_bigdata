{
 "cells": [
  {
   "cell_type": "code",
   "execution_count": 1,
   "metadata": {
    "collapsed": false
   },
   "outputs": [],
   "source": [
    "from datetime import datetime\n",
    "from datetime import timedelta\n",
    "import shapefile\n",
    "import xml.etree.ElementTree as ET\n",
    "import numpy as np\n",
    "from shapely.geometry import Point\n",
    "from shapely.geometry.polygon import Polygon\n",
    "import matplotlib.pyplot as plt\n",
    "from pyproj import Proj, transform\n",
    "from pymongo import MongoClient\n",
    "%matplotlib inline"
   ]
  },
  {
   "cell_type": "code",
   "execution_count": 2,
   "metadata": {
    "collapsed": false
   },
   "outputs": [],
   "source": [
    "shp='/media/amassaro/external_2T/telecom_bigdata_2015/data/tim_grid/roma-grid/intersection_Roma_W_GRIDIT_NEW'\n",
    "crt=shapefile.Reader(shp)\n",
    "geomet=crt.shapeRecords()\n",
    "ids=np.array([g.record[0] for g in geomet])"
   ]
  },
  {
   "cell_type": "code",
   "execution_count": 17,
   "metadata": {
    "collapsed": false
   },
   "outputs": [],
   "source": [
    "inProj = Proj(init='epsg:32632')\n",
    "outProj = Proj(init='epsg:4326')\n",
    "T=[]\n",
    "for g in geomet:\n",
    "    item=[]\n",
    "    for c in g.shape.points:  \n",
    "        x2,y2 = transform(inProj,outProj,c[0],c[1])\n",
    "        item.append([x2,y2])\n",
    "    T.append(item)   \n",
    "T=np.array(T)"
   ]
  },
  {
   "cell_type": "code",
   "execution_count": 18,
   "metadata": {
    "collapsed": false
   },
   "outputs": [
    {
     "data": {
      "text/plain": [
       "'[ 12.77133412,41.38039625]'"
      ]
     },
     "execution_count": 18,
     "metadata": {},
     "output_type": "execute_result"
    }
   ],
   "source": [
    "str(T[0][0]).replace('  ',',')"
   ]
  },
  {
   "cell_type": "code",
   "execution_count": 19,
   "metadata": {
    "collapsed": false
   },
   "outputs": [],
   "source": [
    "s='{\"crs\": {\"type\": \"name\", \"properties\": {\"name\": \"urn:ogc:def:crs:EPSG::4326\",\"time\":\"d\"}}, \"type\": \"FeatureCollection\", \"features\": ['\n",
    "for t in T:\n",
    "    S='{\"geometry\":{\"type\": \"Polygon\", \"coordinates\":['+str(list(t)).replace('array','').replace('(','').replace(')','')+']}, \"type\": \"Feature\", \"id\":\"0\", \"properties\": {\"color\": \"rgba(0,0,250,0.1)\"}}'\n",
    "    s=s+S+','            \n",
    "s=s[:-1]\n",
    "s=s+']}'\n",
    "out=open('../../geoviz/rome-grid.geojson','w')\n",
    "out.write(s)\n",
    "out.close()"
   ]
  },
  {
   "cell_type": "code",
   "execution_count": 4,
   "metadata": {
    "collapsed": false
   },
   "outputs": [],
   "source": [
    "tree = ET.parse('/media/amassaro/external_2T/telecom_bigdata_2015/data/external_data/xml_incidenti_mar-apr_2015.xml')\n",
    "root=tree.getroot()\n",
    "child=list(root)[1]"
   ]
  },
  {
   "cell_type": "code",
   "execution_count": 6,
   "metadata": {
    "collapsed": false
   },
   "outputs": [],
   "source": [
    "latlong_acc=[]\n",
    "I=np.zeros(len(T))\n",
    "\n",
    "for j in child:\n",
    "    if 'Latitudine' in j.attrib.keys():\n",
    "        latlong_acc.append([float(j.attrib['Longitudine']),float(j.attrib['Latitudine'])])\n",
    "latlong_acc=np.array(latlong_acc)\n",
    "\n",
    "#for i  in range(len(T)):\n",
    "    #t=T[i]\n",
    "    #polygon=Polygon(t)\n",
    "    #for p in latlong_acc:\n",
    "        #point=Point(p)\n",
    "        #if polygon.contains(point):\n",
    "            #I[i]+=1   "
   ]
  },
  {
   "cell_type": "code",
   "execution_count": 21,
   "metadata": {
    "collapsed": false
   },
   "outputs": [],
   "source": [
    "I[np.where(I==max(I))[0][0]]=0"
   ]
  },
  {
   "cell_type": "code",
   "execution_count": 23,
   "metadata": {
    "collapsed": false
   },
   "outputs": [],
   "source": [
    "M=max(I)\n",
    "s='{\"crs\": {\"type\": \"name\", \"properties\": {\"name\": \"urn:ogc:def:crs:EPSG::4326\",\"time\":\"d\"}}, \"type\": \"FeatureCollection\", \"features\": ['\n",
    "for i in range(len(T)):\n",
    "    if I[i]:\n",
    "        S='{\"geometry\":{\"type\": \"Polygon\", \"coordinates\":['+str(list(T[i])).replace('array','').replace('(','').replace(')','')+']}, \"type\": \"Feature\", \"id\":\"0\", \"properties\": {\"color\": \"rgba(255,0,0,'+str(I[i]/M)+')\"}}'\n",
    "        s=s+S+','            \n",
    "s=s[:-1]\n",
    "s=s+']}'\n",
    "out=open('../../geoviz/rome-grid-accidents_.geojson','w')\n",
    "out.write(s)\n",
    "out.close()"
   ]
  },
  {
   "cell_type": "code",
   "execution_count": 30,
   "metadata": {
    "collapsed": false
   },
   "outputs": [
    {
     "data": {
      "text/plain": [
       "array([ 12.4402 ,  41.85563])"
      ]
     },
     "execution_count": 30,
     "metadata": {},
     "output_type": "execute_result"
    }
   ],
   "source": [
    "latlong_acc[0]"
   ]
  },
  {
   "cell_type": "code",
   "execution_count": 7,
   "metadata": {
    "collapsed": false
   },
   "outputs": [],
   "source": [
    "s='{\"crs\": {\"type\": \"name\", \"properties\": {\"name\": \"urn:ogc:def:crs:EPSG::4326\",\"time\":\"d\"}}, \"type\": \"FeatureCollection\", \"features\": ['\n",
    "for i in range(len(latlong_acc)):\n",
    "        S='{\"geometry\":{\"type\": \"Point\", \"coordinates\":'+str(list(latlong_acc[i])).replace('array','').replace('(','').replace(')','')+'}, \"type\": \"Feature\", \"id\":\"0\"}'\n",
    "        s=s+S+','            \n",
    "s=s[:-1]\n",
    "s=s+']}'\n",
    "out=open('../../geoviz/rome-accidents_.geojson','w')\n",
    "out.write(s)\n",
    "out.close()"
   ]
  },
  {
   "cell_type": "code",
   "execution_count": 13,
   "metadata": {
    "collapsed": false
   },
   "outputs": [],
   "source": [
    "unipolfile=open('/media/amassaro/external_2T/telecom_bigdata_2015/data/unipol/roma/BDC2015_UnipolsaiClaims2014_RM.csv','r')\n",
    "latlong_unipol=[]\n",
    "i=0\n",
    "for line in unipolfile:\n",
    "    #print line\n",
    "    if i>0:\n",
    "        line=line.split(',')\n",
    "        latlong_unipol.append([float(line[0]),float(line[1])])\n",
    "    i+=1"
   ]
  },
  {
   "cell_type": "code",
   "execution_count": 16,
   "metadata": {
    "collapsed": false
   },
   "outputs": [],
   "source": [
    "s='{\"crs\": {\"type\": \"name\", \"properties\": {\"name\": \"urn:ogc:def:crs:EPSG::4326\",\"time\":\"d\"}}, \"type\": \"FeatureCollection\", \"features\": ['\n",
    "for i in range(len(latlong_acc)):\n",
    "        S='{\"geometry\":{\"type\": \"Point\", \"coordinates\":'+str(list(latlong_unipol[i])).replace('array','').replace('(','').replace(')','')+'}, \"type\": \"Feature\", \"id\":\"0\"}'\n",
    "        s=s+S+','            \n",
    "s=s[:-1]\n",
    "s=s+']}'\n",
    "out=open('../../geoviz/rome_unipol-accidents.geojson','w')\n",
    "out.write(s)\n",
    "out.close()"
   ]
  },
  {
   "cell_type": "code",
   "execution_count": 9,
   "metadata": {
    "collapsed": false
   },
   "outputs": [
    {
     "name": "stdout",
     "output_type": "stream",
     "text": [
      "how many accidents in a cell\n"
     ]
    },
    {
     "data": {
      "image/png": "[encoded data removed]",
      "text/plain": [
       "<matplotlib.figure.Figure at 0x7f96801c4a10>"
      ]
     },
     "metadata": {},
     "output_type": "display_data"
    },
    {
     "name": "stdout",
     "output_type": "stream",
     "text": [
      "avg 6.91304347826\n"
     ]
    }
   ],
   "source": [
    "print('how many accidents in a cell')\n",
    "plt.hist(I[I!=0],list(range(int(max(I)))))\n",
    "plt.gcf().set_size_inches(18, 5)\n",
    "plt.show()\n",
    "print 'avg', np.average(I[I!=0])"
   ]
  },
  {
   "cell_type": "code",
   "execution_count": 10,
   "metadata": {
    "collapsed": false
   },
   "outputs": [],
   "source": [
    "acc_ids=ids[I!=0]"
   ]
  }
 ],
 "metadata": {
  "kernelspec": {
   "display_name": "Python 2",
   "language": "python",
   "name": "python2"
  },
  "language_info": {
   "codemirror_mode": {
    "name": "ipython",
    "version": 2
   },
   "file_extension": ".py",
   "mimetype": "text/x-python",
   "name": "python",
   "nbconvert_exporter": "python",
   "pygments_lexer": "ipython2",
   "version": "2.7.10"
  }
 },
 "nbformat": 4,
 "nbformat_minor": 0
}
